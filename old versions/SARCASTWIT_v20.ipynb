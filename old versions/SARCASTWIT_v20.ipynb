{
  "nbformat": 4,
  "nbformat_minor": 0,
  "metadata": {
    "colab": {
      "name": "SARCASTWIT_v20.ipynb",
      "provenance": [],
      "collapsed_sections": [],
      "toc_visible": true
    },
    "kernelspec": {
      "name": "python3",
      "display_name": "Python 3"
    },
    "language_info": {
      "name": "python"
    },
    "widgets": {
      "application/vnd.jupyter.widget-state+json": {
        "62162cd658224f96a90f324b3059ebb4": {
          "model_module": "@jupyter-widgets/controls",
          "model_name": "HBoxModel",
          "model_module_version": "1.5.0",
          "state": {
            "_dom_classes": [],
            "_model_module": "@jupyter-widgets/controls",
            "_model_module_version": "1.5.0",
            "_model_name": "HBoxModel",
            "_view_count": null,
            "_view_module": "@jupyter-widgets/controls",
            "_view_module_version": "1.5.0",
            "_view_name": "HBoxView",
            "box_style": "",
            "children": [
              "IPY_MODEL_5a280d3d56ef4800906ba592cb85a0c7",
              "IPY_MODEL_0d6c0a0dbf904b3d8471d98af1ac2b1b"
            ],
            "layout": "IPY_MODEL_acf269f7b1a54730bdd2487087f8b0bb"
          }
        },
        "5a280d3d56ef4800906ba592cb85a0c7": {
          "model_module": "@jupyter-widgets/controls",
          "model_name": "ButtonModel",
          "model_module_version": "1.5.0",
          "state": {
            "_dom_classes": [],
            "_model_module": "@jupyter-widgets/controls",
            "_model_module_version": "1.5.0",
            "_model_name": "ButtonModel",
            "_view_count": null,
            "_view_module": "@jupyter-widgets/controls",
            "_view_module_version": "1.5.0",
            "_view_name": "ButtonView",
            "button_style": "info",
            "description": "Yes",
            "disabled": false,
            "icon": "",
            "layout": "IPY_MODEL_b5680c928e07492784b2b79222da88d4",
            "style": "IPY_MODEL_38a4e4f3bf9843d6b986ef153113f378",
            "tooltip": ""
          }
        },
        "0d6c0a0dbf904b3d8471d98af1ac2b1b": {
          "model_module": "@jupyter-widgets/controls",
          "model_name": "ButtonModel",
          "model_module_version": "1.5.0",
          "state": {
            "_dom_classes": [],
            "_model_module": "@jupyter-widgets/controls",
            "_model_module_version": "1.5.0",
            "_model_name": "ButtonModel",
            "_view_count": null,
            "_view_module": "@jupyter-widgets/controls",
            "_view_module_version": "1.5.0",
            "_view_name": "ButtonView",
            "button_style": "info",
            "description": "No",
            "disabled": false,
            "icon": "",
            "layout": "IPY_MODEL_29acc096604145a69586f411d55088fa",
            "style": "IPY_MODEL_0921fd0e384749cb890431a350c2c1ea",
            "tooltip": ""
          }
        },
        "acf269f7b1a54730bdd2487087f8b0bb": {
          "model_module": "@jupyter-widgets/base",
          "model_name": "LayoutModel",
          "model_module_version": "1.2.0",
          "state": {
            "_model_module": "@jupyter-widgets/base",
            "_model_module_version": "1.2.0",
            "_model_name": "LayoutModel",
            "_view_count": null,
            "_view_module": "@jupyter-widgets/base",
            "_view_module_version": "1.2.0",
            "_view_name": "LayoutView",
            "align_content": null,
            "align_items": null,
            "align_self": null,
            "border": null,
            "bottom": null,
            "display": null,
            "flex": null,
            "flex_flow": null,
            "grid_area": null,
            "grid_auto_columns": null,
            "grid_auto_flow": null,
            "grid_auto_rows": null,
            "grid_column": null,
            "grid_gap": null,
            "grid_row": null,
            "grid_template_areas": null,
            "grid_template_columns": null,
            "grid_template_rows": null,
            "height": null,
            "justify_content": null,
            "justify_items": null,
            "left": null,
            "margin": null,
            "max_height": null,
            "max_width": null,
            "min_height": null,
            "min_width": null,
            "object_fit": null,
            "object_position": null,
            "order": null,
            "overflow": null,
            "overflow_x": null,
            "overflow_y": null,
            "padding": null,
            "right": null,
            "top": null,
            "visibility": null,
            "width": null
          }
        },
        "b5680c928e07492784b2b79222da88d4": {
          "model_module": "@jupyter-widgets/base",
          "model_name": "LayoutModel",
          "model_module_version": "1.2.0",
          "state": {
            "_model_module": "@jupyter-widgets/base",
            "_model_module_version": "1.2.0",
            "_model_name": "LayoutModel",
            "_view_count": null,
            "_view_module": "@jupyter-widgets/base",
            "_view_module_version": "1.2.0",
            "_view_name": "LayoutView",
            "align_content": null,
            "align_items": null,
            "align_self": null,
            "border": null,
            "bottom": null,
            "display": null,
            "flex": null,
            "flex_flow": null,
            "grid_area": null,
            "grid_auto_columns": null,
            "grid_auto_flow": null,
            "grid_auto_rows": null,
            "grid_column": null,
            "grid_gap": null,
            "grid_row": null,
            "grid_template_areas": null,
            "grid_template_columns": null,
            "grid_template_rows": null,
            "height": "50px",
            "justify_content": null,
            "justify_items": null,
            "left": null,
            "margin": null,
            "max_height": null,
            "max_width": null,
            "min_height": null,
            "min_width": null,
            "object_fit": null,
            "object_position": null,
            "order": null,
            "overflow": null,
            "overflow_x": null,
            "overflow_y": null,
            "padding": null,
            "right": null,
            "top": null,
            "visibility": null,
            "width": "150px"
          }
        },
        "38a4e4f3bf9843d6b986ef153113f378": {
          "model_module": "@jupyter-widgets/controls",
          "model_name": "ButtonStyleModel",
          "model_module_version": "1.5.0",
          "state": {
            "_model_module": "@jupyter-widgets/controls",
            "_model_module_version": "1.5.0",
            "_model_name": "ButtonStyleModel",
            "_view_count": null,
            "_view_module": "@jupyter-widgets/base",
            "_view_module_version": "1.2.0",
            "_view_name": "StyleView",
            "button_color": null,
            "font_weight": ""
          }
        },
        "29acc096604145a69586f411d55088fa": {
          "model_module": "@jupyter-widgets/base",
          "model_name": "LayoutModel",
          "model_module_version": "1.2.0",
          "state": {
            "_model_module": "@jupyter-widgets/base",
            "_model_module_version": "1.2.0",
            "_model_name": "LayoutModel",
            "_view_count": null,
            "_view_module": "@jupyter-widgets/base",
            "_view_module_version": "1.2.0",
            "_view_name": "LayoutView",
            "align_content": null,
            "align_items": null,
            "align_self": null,
            "border": null,
            "bottom": null,
            "display": null,
            "flex": null,
            "flex_flow": null,
            "grid_area": null,
            "grid_auto_columns": null,
            "grid_auto_flow": null,
            "grid_auto_rows": null,
            "grid_column": null,
            "grid_gap": null,
            "grid_row": null,
            "grid_template_areas": null,
            "grid_template_columns": null,
            "grid_template_rows": null,
            "height": "50px",
            "justify_content": null,
            "justify_items": null,
            "left": null,
            "margin": null,
            "max_height": null,
            "max_width": null,
            "min_height": null,
            "min_width": null,
            "object_fit": null,
            "object_position": null,
            "order": null,
            "overflow": null,
            "overflow_x": null,
            "overflow_y": null,
            "padding": null,
            "right": null,
            "top": null,
            "visibility": null,
            "width": "150px"
          }
        },
        "0921fd0e384749cb890431a350c2c1ea": {
          "model_module": "@jupyter-widgets/controls",
          "model_name": "ButtonStyleModel",
          "model_module_version": "1.5.0",
          "state": {
            "_model_module": "@jupyter-widgets/controls",
            "_model_module_version": "1.5.0",
            "_model_name": "ButtonStyleModel",
            "_view_count": null,
            "_view_module": "@jupyter-widgets/base",
            "_view_module_version": "1.2.0",
            "_view_name": "StyleView",
            "button_color": null,
            "font_weight": ""
          }
        }
      }
    }
  },
  "cells": [
    {
      "cell_type": "markdown",
      "source": [
        "# 1. **Define dependencies and constrains**"
      ],
      "metadata": {
        "id": "IfcrKr5Na8A_"
      }
    },
    {
      "cell_type": "markdown",
      "source": [
        "In order to download tweet from Twitter, first one must create an account and apply for **developer priviledges**. The application will grant the developer basic access the the [Twitter API](https://developer.twitter.com/en/docs/twitter-api) which are not enough because it only allows the download of tweet of the last 7 days. Therefore, I've applied to the [Premium plan](https://developer.twitter.com/en/support/twitter-api/premium) which allows the download of 25k of tweets per month along with the use _full archive_ and the _30 days_ search API but with limited amout of request per month."
      ],
      "metadata": {
        "id": "TdELnf08cHP2"
      }
    },
    {
      "cell_type": "code",
      "execution_count": 1,
      "metadata": {
        "id": "ImtN6rXUazit"
      },
      "outputs": [],
      "source": [
        "COLAB_DIR = \"/content/\"\n",
        "\n",
        "RANDOM_SEED = 42\n",
        "\n",
        "# File with Twitter project credentials\n",
        "CREDENTIALS = COLAB_DIR+'credentials.yaml'\n",
        "CREDENTIALS_KEY = 'search_tweets_30_day_dev'\n",
        "\n",
        "# csv file where tweet downloaded will be saved\n",
        "DATASET = COLAB_DIR+'dataset.csv'\n",
        "DATASET_ANNOTATED = COLAB_DIR+'dataset_annotated.csv'\n",
        "SENTIPOLIC = COLAB_DIR+'sentipolic.csv'\n",
        "\n",
        "# result of data processing\n",
        "DATASET_PROCESSED = COLAB_DIR+\"result_processed\"\n",
        "DRIVE_FOLDER = \"/content/drive/MyDrive/BIG_DATA_MODELS/\""
      ]
    },
    {
      "cell_type": "code",
      "source": [
        "!python --version"
      ],
      "metadata": {
        "colab": {
          "base_uri": "https://localhost:8080/"
        },
        "id": "y0sYKlPLLjvx",
        "outputId": "30a97f6c-6402-432f-d61d-dd92b472bb51"
      },
      "execution_count": 2,
      "outputs": [
        {
          "output_type": "stream",
          "name": "stdout",
          "text": [
            "Python 3.7.13\n"
          ]
        }
      ]
    },
    {
      "cell_type": "markdown",
      "source": [
        "### install libraries"
      ],
      "metadata": {
        "id": "bdKPmsLJTYA6"
      }
    },
    {
      "cell_type": "code",
      "source": [
        "!pip install stop-words"
      ],
      "metadata": {
        "colab": {
          "base_uri": "https://localhost:8080/"
        },
        "id": "z0NxpbGi44TS",
        "outputId": "6b897ddc-3dd3-4b8b-e178-d6c2a5e0e379"
      },
      "execution_count": 3,
      "outputs": [
        {
          "output_type": "stream",
          "name": "stdout",
          "text": [
            "Looking in indexes: https://pypi.org/simple, https://us-python.pkg.dev/colab-wheels/public/simple/\n",
            "Collecting stop-words\n",
            "  Downloading stop-words-2018.7.23.tar.gz (31 kB)\n",
            "Building wheels for collected packages: stop-words\n",
            "  Building wheel for stop-words (setup.py) ... \u001b[?25l\u001b[?25hdone\n",
            "  Created wheel for stop-words: filename=stop_words-2018.7.23-py3-none-any.whl size=32911 sha256=f1279043b0c6aa7ad37b07b88b65eee9443e615723d7fdfc8ebc91d2fd7b9b61\n",
            "  Stored in directory: /root/.cache/pip/wheels/fb/86/b2/277b10b1ce9f73ce15059bf6975d4547cc4ec3feeb651978e9\n",
            "Successfully built stop-words\n",
            "Installing collected packages: stop-words\n",
            "Successfully installed stop-words-2018.7.23\n"
          ]
        }
      ]
    },
    {
      "cell_type": "code",
      "source": [
        "!apt-get install libenchant1c2a\n",
        "!pip install pyenchant\n",
        "!apt-get install hunspell-it"
      ],
      "metadata": {
        "colab": {
          "base_uri": "https://localhost:8080/"
        },
        "id": "lRdt8lR_QBTm",
        "outputId": "fce40ff4-f69f-42ef-d97e-6580edc9c097"
      },
      "execution_count": 4,
      "outputs": [
        {
          "output_type": "stream",
          "name": "stdout",
          "text": [
            "Reading package lists... Done\n",
            "Building dependency tree       \n",
            "Reading state information... Done\n",
            "The following package was automatically installed and is no longer required:\n",
            "  libnvidia-common-460\n",
            "Use 'apt autoremove' to remove it.\n",
            "The following additional packages will be installed:\n",
            "  aspell aspell-en dictionaries-common emacsen-common enchant hunspell-en-us\n",
            "  libaspell15 libhunspell-1.6-0 libtext-iconv-perl\n",
            "Suggested packages:\n",
            "  aspell-doc spellutils wordlist hunspell openoffice.org-hunspell\n",
            "  | openoffice.org-core libenchant-voikko\n",
            "The following NEW packages will be installed:\n",
            "  aspell aspell-en dictionaries-common emacsen-common enchant hunspell-en-us\n",
            "  libaspell15 libenchant1c2a libhunspell-1.6-0 libtext-iconv-perl\n",
            "0 upgraded, 10 newly installed, 0 to remove and 42 not upgraded.\n",
            "Need to get 1,312 kB of archives.\n",
            "After this operation, 5,353 kB of additional disk space will be used.\n",
            "Get:1 http://archive.ubuntu.com/ubuntu bionic/main amd64 libtext-iconv-perl amd64 1.7-5build6 [13.0 kB]\n",
            "Get:2 http://archive.ubuntu.com/ubuntu bionic-updates/main amd64 libaspell15 amd64 0.60.7~20110707-4ubuntu0.2 [310 kB]\n",
            "Get:3 http://archive.ubuntu.com/ubuntu bionic/main amd64 emacsen-common all 2.0.8 [17.6 kB]\n",
            "Get:4 http://archive.ubuntu.com/ubuntu bionic/main amd64 dictionaries-common all 1.27.2 [186 kB]\n",
            "Get:5 http://archive.ubuntu.com/ubuntu bionic-updates/main amd64 aspell amd64 0.60.7~20110707-4ubuntu0.2 [87.7 kB]\n",
            "Get:6 http://archive.ubuntu.com/ubuntu bionic/main amd64 aspell-en all 2017.08.24-0-0.1 [298 kB]\n",
            "Get:7 http://archive.ubuntu.com/ubuntu bionic/main amd64 hunspell-en-us all 1:2017.08.24 [168 kB]\n",
            "Get:8 http://archive.ubuntu.com/ubuntu bionic/main amd64 libhunspell-1.6-0 amd64 1.6.2-1 [154 kB]\n",
            "Get:9 http://archive.ubuntu.com/ubuntu bionic/main amd64 libenchant1c2a amd64 1.6.0-11.1 [64.4 kB]\n",
            "Get:10 http://archive.ubuntu.com/ubuntu bionic/main amd64 enchant amd64 1.6.0-11.1 [12.2 kB]\n",
            "Fetched 1,312 kB in 0s (11.1 MB/s)\n",
            "Preconfiguring packages ...\n",
            "Selecting previously unselected package libtext-iconv-perl.\n",
            "(Reading database ... 155629 files and directories currently installed.)\n",
            "Preparing to unpack .../0-libtext-iconv-perl_1.7-5build6_amd64.deb ...\n",
            "Unpacking libtext-iconv-perl (1.7-5build6) ...\n",
            "Selecting previously unselected package libaspell15:amd64.\n",
            "Preparing to unpack .../1-libaspell15_0.60.7~20110707-4ubuntu0.2_amd64.deb ...\n",
            "Unpacking libaspell15:amd64 (0.60.7~20110707-4ubuntu0.2) ...\n",
            "Selecting previously unselected package emacsen-common.\n",
            "Preparing to unpack .../2-emacsen-common_2.0.8_all.deb ...\n",
            "Unpacking emacsen-common (2.0.8) ...\n",
            "Selecting previously unselected package dictionaries-common.\n",
            "Preparing to unpack .../3-dictionaries-common_1.27.2_all.deb ...\n",
            "Adding 'diversion of /usr/share/dict/words to /usr/share/dict/words.pre-dictionaries-common by dictionaries-common'\n",
            "Unpacking dictionaries-common (1.27.2) ...\n",
            "Selecting previously unselected package aspell.\n",
            "Preparing to unpack .../4-aspell_0.60.7~20110707-4ubuntu0.2_amd64.deb ...\n",
            "Unpacking aspell (0.60.7~20110707-4ubuntu0.2) ...\n",
            "Selecting previously unselected package aspell-en.\n",
            "Preparing to unpack .../5-aspell-en_2017.08.24-0-0.1_all.deb ...\n",
            "Unpacking aspell-en (2017.08.24-0-0.1) ...\n",
            "Selecting previously unselected package hunspell-en-us.\n",
            "Preparing to unpack .../6-hunspell-en-us_1%3a2017.08.24_all.deb ...\n",
            "Unpacking hunspell-en-us (1:2017.08.24) ...\n",
            "Selecting previously unselected package libhunspell-1.6-0:amd64.\n",
            "Preparing to unpack .../7-libhunspell-1.6-0_1.6.2-1_amd64.deb ...\n",
            "Unpacking libhunspell-1.6-0:amd64 (1.6.2-1) ...\n",
            "Selecting previously unselected package libenchant1c2a:amd64.\n",
            "Preparing to unpack .../8-libenchant1c2a_1.6.0-11.1_amd64.deb ...\n",
            "Unpacking libenchant1c2a:amd64 (1.6.0-11.1) ...\n",
            "Selecting previously unselected package enchant.\n",
            "Preparing to unpack .../9-enchant_1.6.0-11.1_amd64.deb ...\n",
            "Unpacking enchant (1.6.0-11.1) ...\n",
            "Setting up libhunspell-1.6-0:amd64 (1.6.2-1) ...\n",
            "Setting up libaspell15:amd64 (0.60.7~20110707-4ubuntu0.2) ...\n",
            "Setting up emacsen-common (2.0.8) ...\n",
            "Setting up libtext-iconv-perl (1.7-5build6) ...\n",
            "Setting up dictionaries-common (1.27.2) ...\n",
            "Setting up aspell (0.60.7~20110707-4ubuntu0.2) ...\n",
            "Setting up hunspell-en-us (1:2017.08.24) ...\n",
            "Setting up libenchant1c2a:amd64 (1.6.0-11.1) ...\n",
            "Setting up aspell-en (2017.08.24-0-0.1) ...\n",
            "Setting up enchant (1.6.0-11.1) ...\n",
            "Processing triggers for libc-bin (2.27-3ubuntu1.3) ...\n",
            "/sbin/ldconfig.real: /usr/local/lib/python3.7/dist-packages/ideep4py/lib/libmkldnn.so.0 is not a symbolic link\n",
            "\n",
            "Processing triggers for man-db (2.8.3-2ubuntu0.1) ...\n",
            "Processing triggers for dictionaries-common (1.27.2) ...\n",
            "aspell-autobuildhash: processing: en [en-common].\n",
            "aspell-autobuildhash: processing: en [en-variant_0].\n",
            "aspell-autobuildhash: processing: en [en-variant_1].\n",
            "aspell-autobuildhash: processing: en [en-variant_2].\n",
            "aspell-autobuildhash: processing: en [en-w_accents-only].\n",
            "aspell-autobuildhash: processing: en [en-wo_accents-only].\n",
            "aspell-autobuildhash: processing: en [en_AU-variant_0].\n",
            "aspell-autobuildhash: processing: en [en_AU-variant_1].\n",
            "aspell-autobuildhash: processing: en [en_AU-w_accents-only].\n",
            "aspell-autobuildhash: processing: en [en_AU-wo_accents-only].\n",
            "aspell-autobuildhash: processing: en [en_CA-variant_0].\n",
            "aspell-autobuildhash: processing: en [en_CA-variant_1].\n",
            "aspell-autobuildhash: processing: en [en_CA-w_accents-only].\n",
            "aspell-autobuildhash: processing: en [en_CA-wo_accents-only].\n",
            "aspell-autobuildhash: processing: en [en_GB-ise-w_accents-only].\n",
            "aspell-autobuildhash: processing: en [en_GB-ise-wo_accents-only].\n",
            "aspell-autobuildhash: processing: en [en_GB-ize-w_accents-only].\n",
            "aspell-autobuildhash: processing: en [en_GB-ize-wo_accents-only].\n",
            "aspell-autobuildhash: processing: en [en_GB-variant_0].\n",
            "aspell-autobuildhash: processing: en [en_GB-variant_1].\n",
            "aspell-autobuildhash: processing: en [en_US-w_accents-only].\n",
            "aspell-autobuildhash: processing: en [en_US-wo_accents-only].\n",
            "Looking in indexes: https://pypi.org/simple, https://us-python.pkg.dev/colab-wheels/public/simple/\n",
            "Collecting pyenchant\n",
            "  Downloading pyenchant-3.2.2-py3-none-any.whl (55 kB)\n",
            "\u001b[K     |████████████████████████████████| 55 kB 2.8 MB/s \n",
            "\u001b[?25hInstalling collected packages: pyenchant\n",
            "Successfully installed pyenchant-3.2.2\n",
            "Reading package lists... Done\n",
            "Building dependency tree       \n",
            "Reading state information... Done\n",
            "The following package was automatically installed and is no longer required:\n",
            "  libnvidia-common-460\n",
            "Use 'apt autoremove' to remove it.\n",
            "Suggested packages:\n",
            "  hunspell libreoffice-writer\n",
            "The following NEW packages will be installed:\n",
            "  hunspell-it\n",
            "0 upgraded, 1 newly installed, 0 to remove and 42 not upgraded.\n",
            "Need to get 340 kB of archives.\n",
            "After this operation, 1,752 kB of additional disk space will be used.\n",
            "Get:1 http://archive.ubuntu.com/ubuntu bionic/main amd64 hunspell-it all 1:6.0.3-3 [340 kB]\n",
            "Fetched 340 kB in 0s (4,278 kB/s)\n",
            "Selecting previously unselected package hunspell-it.\n",
            "(Reading database ... 156043 files and directories currently installed.)\n",
            "Preparing to unpack .../hunspell-it_1%3a6.0.3-3_all.deb ...\n",
            "Unpacking hunspell-it (1:6.0.3-3) ...\n",
            "Setting up hunspell-it (1:6.0.3-3) ...\n"
          ]
        }
      ]
    },
    {
      "cell_type": "code",
      "source": [
        "!apt-get install openjdk-8-jdk-headless -qq > /dev/null\n",
        "!wget -q https://downloads.apache.org/spark/spark-2.4.8/spark-2.4.8-bin-hadoop2.7.tgz\n",
        "!tar xf spark-2.4.8-bin-hadoop2.7.tgz\n",
        "!pip install -q findspark"
      ],
      "metadata": {
        "id": "rF7hhURdQB9v"
      },
      "execution_count": 5,
      "outputs": []
    },
    {
      "cell_type": "code",
      "source": [
        "!update-alternatives --set java /usr/lib/jvm/java-8-openjdk-amd64/jre/bin/java\n",
        "!java -version"
      ],
      "metadata": {
        "colab": {
          "base_uri": "https://localhost:8080/"
        },
        "id": "08GbgJr6MgmM",
        "outputId": "f1a3fd39-912a-49f8-d33d-2569057d1c5a"
      },
      "execution_count": 6,
      "outputs": [
        {
          "output_type": "stream",
          "name": "stdout",
          "text": [
            "update-alternatives: using /usr/lib/jvm/java-8-openjdk-amd64/jre/bin/java to provide /usr/bin/java (java) in manual mode\n",
            "openjdk version \"1.8.0_312\"\n",
            "OpenJDK Runtime Environment (build 1.8.0_312-8u312-b07-0ubuntu1~18.04-b07)\n",
            "OpenJDK 64-Bit Server VM (build 25.312-b07, mixed mode)\n"
          ]
        }
      ]
    },
    {
      "cell_type": "code",
      "source": [
        "import os\n",
        "os.environ[\"JAVA_HOME\"] = \"/usr/lib/jvm/java-8-openjdk-amd64\""
      ],
      "metadata": {
        "id": "dVTyQPmzDff1"
      },
      "execution_count": 7,
      "outputs": []
    },
    {
      "cell_type": "code",
      "source": [
        "!pip install pyspark==3.1.2\n",
        "!pip install spark-nlp==3.4.4"
      ],
      "metadata": {
        "colab": {
          "base_uri": "https://localhost:8080/"
        },
        "id": "CvmO7zGx6v_1",
        "outputId": "d4cbf788-a6f3-480f-f264-500a2e3f7c97"
      },
      "execution_count": 8,
      "outputs": [
        {
          "output_type": "stream",
          "name": "stdout",
          "text": [
            "Looking in indexes: https://pypi.org/simple, https://us-python.pkg.dev/colab-wheels/public/simple/\n",
            "Collecting pyspark==3.1.2\n",
            "  Downloading pyspark-3.1.2.tar.gz (212.4 MB)\n",
            "\u001b[K     |████████████████████████████████| 212.4 MB 65 kB/s \n",
            "\u001b[?25hCollecting py4j==0.10.9\n",
            "  Downloading py4j-0.10.9-py2.py3-none-any.whl (198 kB)\n",
            "\u001b[K     |████████████████████████████████| 198 kB 57.4 MB/s \n",
            "\u001b[?25hBuilding wheels for collected packages: pyspark\n",
            "  Building wheel for pyspark (setup.py) ... \u001b[?25l\u001b[?25hdone\n",
            "  Created wheel for pyspark: filename=pyspark-3.1.2-py2.py3-none-any.whl size=212880769 sha256=8706a05cb89640b0c9f4094e4377f7cfa8a0331c44ff895a585df6221efeb70e\n",
            "  Stored in directory: /root/.cache/pip/wheels/a5/0a/c1/9561f6fecb759579a7d863dcd846daaa95f598744e71b02c77\n",
            "Successfully built pyspark\n",
            "Installing collected packages: py4j, pyspark\n",
            "Successfully installed py4j-0.10.9 pyspark-3.1.2\n",
            "Looking in indexes: https://pypi.org/simple, https://us-python.pkg.dev/colab-wheels/public/simple/\n",
            "Collecting spark-nlp==3.4.4\n",
            "  Downloading spark_nlp-3.4.4-py2.py3-none-any.whl (145 kB)\n",
            "\u001b[K     |████████████████████████████████| 145 kB 15.2 MB/s \n",
            "\u001b[?25hInstalling collected packages: spark-nlp\n",
            "Successfully installed spark-nlp-3.4.4\n"
          ]
        }
      ]
    },
    {
      "cell_type": "code",
      "source": [
        "!pip install sparktorch"
      ],
      "metadata": {
        "id": "riiFxATzw3gl",
        "outputId": "fbe06625-57ec-4354-f589-7554b8ab4f1d",
        "colab": {
          "base_uri": "https://localhost:8080/"
        }
      },
      "execution_count": 9,
      "outputs": [
        {
          "output_type": "stream",
          "name": "stdout",
          "text": [
            "Looking in indexes: https://pypi.org/simple, https://us-python.pkg.dev/colab-wheels/public/simple/\n",
            "Collecting sparktorch\n",
            "  Downloading sparktorch-0.1.2.tar.gz (21 kB)\n",
            "Requirement already satisfied: torch in /usr/local/lib/python3.7/dist-packages (from sparktorch) (1.11.0+cu113)\n",
            "Requirement already satisfied: flask in /usr/local/lib/python3.7/dist-packages (from sparktorch) (1.1.4)\n",
            "Requirement already satisfied: requests in /usr/local/lib/python3.7/dist-packages (from sparktorch) (2.23.0)\n",
            "Requirement already satisfied: dill in /usr/local/lib/python3.7/dist-packages (from sparktorch) (0.3.5.1)\n",
            "Requirement already satisfied: itsdangerous<2.0,>=0.24 in /usr/local/lib/python3.7/dist-packages (from flask->sparktorch) (1.1.0)\n",
            "Requirement already satisfied: click<8.0,>=5.1 in /usr/local/lib/python3.7/dist-packages (from flask->sparktorch) (7.1.2)\n",
            "Requirement already satisfied: Jinja2<3.0,>=2.10.1 in /usr/local/lib/python3.7/dist-packages (from flask->sparktorch) (2.11.3)\n",
            "Requirement already satisfied: Werkzeug<2.0,>=0.15 in /usr/local/lib/python3.7/dist-packages (from flask->sparktorch) (1.0.1)\n",
            "Requirement already satisfied: MarkupSafe>=0.23 in /usr/local/lib/python3.7/dist-packages (from Jinja2<3.0,>=2.10.1->flask->sparktorch) (2.0.1)\n",
            "Requirement already satisfied: urllib3!=1.25.0,!=1.25.1,<1.26,>=1.21.1 in /usr/local/lib/python3.7/dist-packages (from requests->sparktorch) (1.24.3)\n",
            "Requirement already satisfied: idna<3,>=2.5 in /usr/local/lib/python3.7/dist-packages (from requests->sparktorch) (2.10)\n",
            "Requirement already satisfied: certifi>=2017.4.17 in /usr/local/lib/python3.7/dist-packages (from requests->sparktorch) (2022.5.18.1)\n",
            "Requirement already satisfied: chardet<4,>=3.0.2 in /usr/local/lib/python3.7/dist-packages (from requests->sparktorch) (3.0.4)\n",
            "Requirement already satisfied: typing-extensions in /usr/local/lib/python3.7/dist-packages (from torch->sparktorch) (4.2.0)\n",
            "Building wheels for collected packages: sparktorch\n",
            "  Building wheel for sparktorch (setup.py) ... \u001b[?25l\u001b[?25hdone\n",
            "  Created wheel for sparktorch: filename=sparktorch-0.1.2-py3-none-any.whl size=24596 sha256=d94b0e6aacf6a461187b5cde2976241f44c2e83e3eed29b4a15b52cc95733764\n",
            "  Stored in directory: /root/.cache/pip/wheels/67/d4/a2/a288b918877e28698fc8ff8cb1d8290713bd84abcb80715d47\n",
            "Successfully built sparktorch\n",
            "Installing collected packages: sparktorch\n",
            "Successfully installed sparktorch-0.1.2\n"
          ]
        }
      ]
    },
    {
      "cell_type": "code",
      "source": [
        "!pip install ekphrasis"
      ],
      "metadata": {
        "colab": {
          "base_uri": "https://localhost:8080/"
        },
        "id": "rcZteKOWjOzv",
        "outputId": "d9017bec-ecf0-425b-ae52-2ad33cdde707"
      },
      "execution_count": 10,
      "outputs": [
        {
          "output_type": "stream",
          "name": "stdout",
          "text": [
            "Looking in indexes: https://pypi.org/simple, https://us-python.pkg.dev/colab-wheels/public/simple/\n",
            "Collecting ekphrasis\n",
            "  Downloading ekphrasis-0.5.4-py3-none-any.whl (83 kB)\n",
            "\u001b[K     |████████████████████████████████| 83 kB 2.2 MB/s \n",
            "\u001b[?25hRequirement already satisfied: tqdm in /usr/local/lib/python3.7/dist-packages (from ekphrasis) (4.64.0)\n",
            "Requirement already satisfied: matplotlib in /usr/local/lib/python3.7/dist-packages (from ekphrasis) (3.2.2)\n",
            "Collecting ftfy\n",
            "  Downloading ftfy-6.1.1-py3-none-any.whl (53 kB)\n",
            "\u001b[K     |████████████████████████████████| 53 kB 1.4 MB/s \n",
            "\u001b[?25hCollecting ujson\n",
            "  Downloading ujson-5.3.0-cp37-cp37m-manylinux_2_17_x86_64.manylinux2014_x86_64.whl (45 kB)\n",
            "\u001b[K     |████████████████████████████████| 45 kB 3.0 MB/s \n",
            "\u001b[?25hRequirement already satisfied: termcolor in /usr/local/lib/python3.7/dist-packages (from ekphrasis) (1.1.0)\n",
            "Requirement already satisfied: numpy in /usr/local/lib/python3.7/dist-packages (from ekphrasis) (1.21.6)\n",
            "Requirement already satisfied: nltk in /usr/local/lib/python3.7/dist-packages (from ekphrasis) (3.2.5)\n",
            "Collecting colorama\n",
            "  Downloading colorama-0.4.4-py2.py3-none-any.whl (16 kB)\n",
            "Requirement already satisfied: wcwidth>=0.2.5 in /usr/local/lib/python3.7/dist-packages (from ftfy->ekphrasis) (0.2.5)\n",
            "Requirement already satisfied: pyparsing!=2.0.4,!=2.1.2,!=2.1.6,>=2.0.1 in /usr/local/lib/python3.7/dist-packages (from matplotlib->ekphrasis) (3.0.9)\n",
            "Requirement already satisfied: python-dateutil>=2.1 in /usr/local/lib/python3.7/dist-packages (from matplotlib->ekphrasis) (2.8.2)\n",
            "Requirement already satisfied: kiwisolver>=1.0.1 in /usr/local/lib/python3.7/dist-packages (from matplotlib->ekphrasis) (1.4.2)\n",
            "Requirement already satisfied: cycler>=0.10 in /usr/local/lib/python3.7/dist-packages (from matplotlib->ekphrasis) (0.11.0)\n",
            "Requirement already satisfied: typing-extensions in /usr/local/lib/python3.7/dist-packages (from kiwisolver>=1.0.1->matplotlib->ekphrasis) (4.2.0)\n",
            "Requirement already satisfied: six>=1.5 in /usr/local/lib/python3.7/dist-packages (from python-dateutil>=2.1->matplotlib->ekphrasis) (1.15.0)\n",
            "Installing collected packages: ujson, ftfy, colorama, ekphrasis\n",
            "Successfully installed colorama-0.4.4 ekphrasis-0.5.4 ftfy-6.1.1 ujson-5.3.0\n"
          ]
        }
      ]
    },
    {
      "cell_type": "markdown",
      "source": [
        "### PySpark configurations"
      ],
      "metadata": {
        "id": "VdfBlXxLTgxU"
      }
    },
    {
      "cell_type": "code",
      "source": [
        "# pyspark packages\n",
        "from pyspark import *\n",
        "from pyspark.sql import *\n",
        "from pyspark.sql.types import *\n",
        "from pyspark.sql.functions import *\n",
        "from pyspark import SparkContext, SparkConf\n",
        "from pyspark.sql import DataFrame\n",
        "from pyspark.ml.feature import VectorAssembler, SQLTransformer, Normalizer\n",
        "from pyspark.sql.functions import udf, col, lower, trim, regexp_replace, transform\n",
        "\n",
        "import sparknlp"
      ],
      "metadata": {
        "id": "V-dnnL8JS90g"
      },
      "execution_count": 11,
      "outputs": []
    },
    {
      "cell_type": "code",
      "source": [
        "import findspark\n",
        "findspark.init()"
      ],
      "metadata": {
        "id": "OJzJeXfRMCPb"
      },
      "execution_count": 12,
      "outputs": []
    },
    {
      "cell_type": "code",
      "source": [
        "spark = SparkSession.builder \\\n",
        "    .appName(\"Spark NLP\")\\\n",
        "    .master(\"local[4]\")\\\n",
        "    .config('spark.executor.memory', '16G')\\\n",
        "    .config(\"spark.driver.memory\",\"50G\")\\\n",
        "    .config(\"spark.driver.cores\", \"10\")\\\n",
        "    .config(\"spark.sql.analyzer.maxIterations\", \"6000\")\\\n",
        "    .config(\"spark.driver.maxResultSize\", \"10G\") \\\n",
        "    .config(\"spark.kryoserializer.buffer.max\", \"2000M\")\\\n",
        "    .config(\"spark.jars.packages\", \"com.johnsnowlabs.nlp:spark-nlp_2.12:3.4.4\")\\\n",
        "    .getOrCreate()\n",
        "\n",
        "print(\"Spark NLP version\", sparknlp.version())\n",
        "print(\"Apache Spark version:\", spark.version)"
      ],
      "metadata": {
        "id": "mkCNpht6bvLp",
        "colab": {
          "base_uri": "https://localhost:8080/"
        },
        "outputId": "55b04aa4-ccb4-4df6-9164-51c24c122f3a"
      },
      "execution_count": 13,
      "outputs": [
        {
          "output_type": "stream",
          "name": "stdout",
          "text": [
            "Spark NLP version 3.4.4\n",
            "Apache Spark version: 3.1.2\n"
          ]
        }
      ]
    },
    {
      "cell_type": "code",
      "source": [
        "sc = spark.sparkContext\n",
        "type(sc)"
      ],
      "metadata": {
        "id": "HYCtzalg-rGm",
        "colab": {
          "base_uri": "https://localhost:8080/"
        },
        "outputId": "615e6273-1626-408e-89f3-0b0aeffff340"
      },
      "execution_count": 14,
      "outputs": [
        {
          "output_type": "execute_result",
          "data": {
            "text/plain": [
              "pyspark.context.SparkContext"
            ]
          },
          "metadata": {},
          "execution_count": 14
        }
      ]
    },
    {
      "cell_type": "code",
      "source": [
        "! cd ~/.ivy2/cache/com.johnsnowlabs.nlp/spark-nlp_2.12/jars && ls -lt"
      ],
      "metadata": {
        "id": "0yAIKiS36-3J",
        "colab": {
          "base_uri": "https://localhost:8080/"
        },
        "outputId": "9f6a060e-a732-4a8f-9ab3-f2473330a3d0"
      },
      "execution_count": 15,
      "outputs": [
        {
          "output_type": "stream",
          "name": "stdout",
          "text": [
            "total 38952\n",
            "-rw-r--r-- 1 root root 39885074 May  5 15:16 spark-nlp_2.12-3.4.4.jar\n"
          ]
        }
      ]
    },
    {
      "cell_type": "markdown",
      "source": [
        "## Download useful files"
      ],
      "metadata": {
        "id": "DokjWUCvcIkQ"
      }
    },
    {
      "cell_type": "code",
      "source": [
        "!wget https://github.com/deborahdore/italian-sarcastic-tweet-classification/raw/main/dataset/dataset.csv\n",
        "!wget https://github.com/deborahdore/italian-sarcastic-tweet-classification/raw/main/dataset/other/sentipolic.csv\n",
        "!wget https://raw.githubusercontent.com/deborahdore/italian-sarcastic-tweet-classification/main/credentials/credentials.yaml\n",
        "!wget https://raw.githubusercontent.com/deborahdore/italian-sarcastic-tweet-classification/main/dataset/dataset_annotated.csv"
      ],
      "metadata": {
        "id": "EENgh8yncNzS",
        "colab": {
          "base_uri": "https://localhost:8080/"
        },
        "outputId": "2b4c7bd0-93f1-4c1e-8735-fdfc79a4e829"
      },
      "execution_count": 16,
      "outputs": [
        {
          "output_type": "stream",
          "name": "stdout",
          "text": [
            "--2022-05-30 21:38:52--  https://github.com/deborahdore/italian-sarcastic-tweet-classification/raw/main/dataset/dataset.csv\n",
            "Resolving github.com (github.com)... 140.82.121.3\n",
            "Connecting to github.com (github.com)|140.82.121.3|:443... connected.\n",
            "HTTP request sent, awaiting response... 302 Found\n",
            "Location: https://raw.githubusercontent.com/deborahdore/italian-sarcastic-tweet-classification/main/dataset/dataset.csv [following]\n",
            "--2022-05-30 21:38:53--  https://raw.githubusercontent.com/deborahdore/italian-sarcastic-tweet-classification/main/dataset/dataset.csv\n",
            "Resolving raw.githubusercontent.com (raw.githubusercontent.com)... 185.199.111.133, 185.199.109.133, 185.199.110.133, ...\n",
            "Connecting to raw.githubusercontent.com (raw.githubusercontent.com)|185.199.111.133|:443... connected.\n",
            "HTTP request sent, awaiting response... 200 OK\n",
            "Length: 1797205 (1.7M) [text/plain]\n",
            "Saving to: ‘dataset.csv’\n",
            "\n",
            "dataset.csv         100%[===================>]   1.71M  --.-KB/s    in 0.02s   \n",
            "\n",
            "2022-05-30 21:38:53 (81.1 MB/s) - ‘dataset.csv’ saved [1797205/1797205]\n",
            "\n",
            "--2022-05-30 21:38:53--  https://github.com/deborahdore/italian-sarcastic-tweet-classification/raw/main/dataset/other/sentipolic.csv\n",
            "Resolving github.com (github.com)... 140.82.121.3\n",
            "Connecting to github.com (github.com)|140.82.121.3|:443... connected.\n",
            "HTTP request sent, awaiting response... 302 Found\n",
            "Location: https://raw.githubusercontent.com/deborahdore/italian-sarcastic-tweet-classification/main/dataset/other/sentipolic.csv [following]\n",
            "--2022-05-30 21:38:53--  https://raw.githubusercontent.com/deborahdore/italian-sarcastic-tweet-classification/main/dataset/other/sentipolic.csv\n",
            "Resolving raw.githubusercontent.com (raw.githubusercontent.com)... 185.199.109.133, 185.199.108.133, 185.199.110.133, ...\n",
            "Connecting to raw.githubusercontent.com (raw.githubusercontent.com)|185.199.109.133|:443... connected.\n",
            "HTTP request sent, awaiting response... 200 OK\n",
            "Length: 1356686 (1.3M) [text/plain]\n",
            "Saving to: ‘sentipolic.csv’\n",
            "\n",
            "sentipolic.csv      100%[===================>]   1.29M  --.-KB/s    in 0.02s   \n",
            "\n",
            "2022-05-30 21:38:54 (63.7 MB/s) - ‘sentipolic.csv’ saved [1356686/1356686]\n",
            "\n",
            "--2022-05-30 21:38:54--  https://raw.githubusercontent.com/deborahdore/italian-sarcastic-tweet-classification/main/credentials/credentials.yaml\n",
            "Resolving raw.githubusercontent.com (raw.githubusercontent.com)... 185.199.111.133, 185.199.110.133, 185.199.109.133, ...\n",
            "Connecting to raw.githubusercontent.com (raw.githubusercontent.com)|185.199.111.133|:443... connected.\n",
            "HTTP request sent, awaiting response... 200 OK\n",
            "Length: 237 [text/plain]\n",
            "Saving to: ‘credentials.yaml’\n",
            "\n",
            "credentials.yaml    100%[===================>]     237  --.-KB/s    in 0s      \n",
            "\n",
            "2022-05-30 21:38:54 (14.2 MB/s) - ‘credentials.yaml’ saved [237/237]\n",
            "\n",
            "--2022-05-30 21:38:54--  https://raw.githubusercontent.com/deborahdore/italian-sarcastic-tweet-classification/main/dataset/dataset_annotated.csv\n",
            "Resolving raw.githubusercontent.com (raw.githubusercontent.com)... 185.199.111.133, 185.199.110.133, 185.199.109.133, ...\n",
            "Connecting to raw.githubusercontent.com (raw.githubusercontent.com)|185.199.111.133|:443... connected.\n",
            "HTTP request sent, awaiting response... 200 OK\n",
            "Length: 931783 (910K) [text/plain]\n",
            "Saving to: ‘dataset_annotated.csv’\n",
            "\n",
            "dataset_annotated.c 100%[===================>] 909.94K  --.-KB/s    in 0.02s   \n",
            "\n",
            "2022-05-30 21:38:55 (47.2 MB/s) - ‘dataset_annotated.csv’ saved [931783/931783]\n",
            "\n"
          ]
        }
      ]
    },
    {
      "cell_type": "code",
      "source": [
        "# italian dictionary for lemmatization\n",
        "!wget https://raw.githubusercontent.com/michmech/lemmatization-lists/master/lemmatization-it.txt"
      ],
      "metadata": {
        "id": "5v7zGUIlnl4Q",
        "colab": {
          "base_uri": "https://localhost:8080/"
        },
        "outputId": "82e58cf7-6986-4582-cdb0-9c569dab6537"
      },
      "execution_count": 17,
      "outputs": [
        {
          "output_type": "stream",
          "name": "stdout",
          "text": [
            "--2022-05-30 21:38:55--  https://raw.githubusercontent.com/michmech/lemmatization-lists/master/lemmatization-it.txt\n",
            "Resolving raw.githubusercontent.com (raw.githubusercontent.com)... 185.199.108.133, 185.199.109.133, 185.199.110.133, ...\n",
            "Connecting to raw.githubusercontent.com (raw.githubusercontent.com)|185.199.108.133|:443... connected.\n",
            "HTTP request sent, awaiting response... 200 OK\n",
            "Length: 7917510 (7.5M) [text/plain]\n",
            "Saving to: ‘lemmatization-it.txt’\n",
            "\n",
            "lemmatization-it.tx 100%[===================>]   7.55M  --.-KB/s    in 0.04s   \n",
            "\n",
            "2022-05-30 21:38:55 (204 MB/s) - ‘lemmatization-it.txt’ saved [7917510/7917510]\n",
            "\n"
          ]
        }
      ]
    },
    {
      "cell_type": "code",
      "source": [
        "from google.colab import drive\n",
        "drive.mount('/content/drive')"
      ],
      "metadata": {
        "colab": {
          "base_uri": "https://localhost:8080/"
        },
        "id": "R3ujpuPDQvbH",
        "outputId": "95a0c16a-6a57-4763-8bca-23a49e22ad1f"
      },
      "execution_count": 18,
      "outputs": [
        {
          "output_type": "stream",
          "name": "stdout",
          "text": [
            "Mounted at /content/drive\n"
          ]
        }
      ]
    },
    {
      "cell_type": "markdown",
      "source": [
        "# 2. **Retrieve Tweet**\n",
        "\n",
        "\n",
        "> Following, some code cell will be annotated with *%% script false* in order to avoid their execution. Those cell concern the download of the tweets from Twitter. Even if this may not sound dangerous, I've finished the request at my disposal. Therefore, calling the Twitter API will produce an error. Also, please don't run them otherwise the output of the cell will be lost.\n",
        "\n"
      ],
      "metadata": {
        "id": "5wh23uCQcxfP"
      }
    },
    {
      "cell_type": "code",
      "source": [
        "# useful imports\n",
        "import numpy as np\n",
        "import matplotlib.pyplot as plt\n",
        "import seaborn as sns\n",
        "%matplotlib inline\n",
        "import requests\n",
        "import json\n",
        "import yaml\n",
        "import csv\n",
        "import pdb\n",
        "import pandas as pd"
      ],
      "metadata": {
        "id": "cynI3DutEnEP"
      },
      "execution_count": null,
      "outputs": []
    },
    {
      "cell_type": "markdown",
      "source": [
        "- First we must retrieve and validate the credentials that we will need to access the Twitter API. I've store the bearer token in a yaml file: *credentials.yaml*\n",
        "\n",
        "\n",
        "\n"
      ],
      "metadata": {
        "id": "gt6JZtFie0Py"
      }
    },
    {
      "cell_type": "code",
      "source": [
        "def handle_credentials(credentials, key):\n",
        "  with open(credentials, \"r\") as stream:\n",
        "    try:\n",
        "        credentials = yaml.safe_load(stream)\n",
        "        return credentials[key]\n",
        "    except yaml.YAMLError as exc:\n",
        "        print(exc)"
      ],
      "metadata": {
        "id": "qOoIg7uZc2bM"
      },
      "execution_count": null,
      "outputs": []
    },
    {
      "cell_type": "code",
      "source": [
        "credentials = handle_credentials(CREDENTIALS, CREDENTIALS_KEY)\n",
        "endpoint = credentials['endpoint'] # we will use this endpoint to search for the tweet\n",
        "print(endpoint)"
      ],
      "metadata": {
        "id": "i_UEONFUfOt2",
        "colab": {
          "base_uri": "https://localhost:8080/"
        },
        "outputId": "5cfb98fe-5adf-48dd-e402-4c8b826d5ef0"
      },
      "execution_count": null,
      "outputs": [
        {
          "output_type": "stream",
          "name": "stdout",
          "text": [
            "https://api.twitter.com/1.1/tweets/search/30day/dev1.json\n"
          ]
        }
      ]
    },
    {
      "cell_type": "markdown",
      "source": [
        "- Second we must create the header for the request"
      ],
      "metadata": {
        "id": "J-RByZFOf9iQ"
      }
    },
    {
      "cell_type": "code",
      "source": [
        "def handle_headers(credentials:dict):\n",
        "  headers = {\n",
        "    'Content-Type': 'application/json',\n",
        "    'Authorization': f'Bearer {credentials[\"bearer_token\"]}'\n",
        "  }\n",
        "  return headers"
      ],
      "metadata": {
        "id": "5OYEqkb2fW7U"
      },
      "execution_count": null,
      "outputs": []
    },
    {
      "cell_type": "code",
      "source": [
        "headers = handle_headers(credentials)\n",
        "headers"
      ],
      "metadata": {
        "id": "vfRm7V29gCJq",
        "colab": {
          "base_uri": "https://localhost:8080/"
        },
        "outputId": "822febdd-9dc3-49ce-9ab1-541940019074"
      },
      "execution_count": null,
      "outputs": [
        {
          "output_type": "execute_result",
          "data": {
            "text/plain": [
              "{'Authorization': 'Bearer None', 'Content-Type': 'application/json'}"
            ]
          },
          "metadata": {},
          "execution_count": 23
        }
      ]
    },
    {
      "cell_type": "markdown",
      "source": [
        "- Another parameter of the request is the query. The query determines which tweet will be returned in the response. In our case, we have 2 types of queries: the one that searches for sarcastic tweets and the one that returns non-sarcastic tweets"
      ],
      "metadata": {
        "id": "9yp2tFf9gOsg"
      }
    },
    {
      "cell_type": "markdown",
      "source": [
        "For the query about sarcastic tweet I've chosen some keyword that, in my opion, are used to express sarcasm and/or irony (sarcasm is a sub-type of irony):\n",
        "\n",
        "\n",
        "1. sarcasmo (with or without #)\n",
        "2. ironia (with or without #)\n",
        "3. \"*ridiamo per non piangere*\"\n",
        "4. #coincidenze (.. io non credo) is mostly used to express sarcasm\n",
        "5. \"*qualquadra non cosa*\"\n",
        "\n",
        "Many studies also suggest that sarcasm can be found in tweet related to politics. Therefore, these seems very good starting point:\n",
        "1. monti, draghi, berlusconi (known italian prime minister)\n",
        "2. governo\n",
        "3. premier\n",
        "\n",
        "\n",
        "For non-sarcastic tweet, I've excluded all the possibile word that may refer to sarcasm.\n",
        "\n",
        "The list of operator used can be found in the [Twitter API documentation](https://developer.twitter.com/en/docs/twitter-api/enterprise/rules-and-filtering/operators-by-product)."
      ],
      "metadata": {
        "id": "jL_QG_G5Ew4o"
      }
    },
    {
      "cell_type": "code",
      "source": [
        "sarcasm_query = '(#sarcasmo OR sarcasmo OR #ironia OR ironia OR \"ridiamo per non piangere\" \\\n",
        "                  OR #coincidenze OR \"qualquadra non cosa\" OR draghi OR monti OR berlusconi \\\n",
        "                  OR governo OR premier) lang:it -has:media'\n",
        "\n",
        "non_sarcasm_query = '-\"ridiamo per non piangere\" -sarcasmo -ironia -\"qualquadra non cosa\" lang:it -has:media'"
      ],
      "metadata": {
        "id": "B4Qan_sigKsq"
      },
      "execution_count": null,
      "outputs": []
    },
    {
      "cell_type": "markdown",
      "source": [
        "- Now we can define the function that will handle the request and the dataframe where tweet will be stored.\n",
        "\n",
        "\n",
        "> Other parameters that we need in order to process the request are:\n",
        "- *max_result_per_page* : the maximum number of tweets per call \n",
        "- *next_token* : a token that if passed to the request will return the next page of results\n",
        "- I've defined a parameter *max_num_of_request* that will stop the call once that we've reached the desidered amount of calls. This must be done because the request at our disposal are not illimited. So we must be careful to the number of the request that we do\n",
        "\n",
        "\n"
      ],
      "metadata": {
        "id": "1AItsWZphAXa"
      }
    },
    {
      "cell_type": "code",
      "source": [
        "def handle_request(endpoint, headers, query, max_result_per_page, next_token = None):\n",
        "  \n",
        "  if next_token is not None:\n",
        "    payload = json.dumps({\n",
        "      \"maxResults\": max_result_per_page,\n",
        "      \"query\": query,\n",
        "      \"next\": next_token\n",
        "    })\n",
        "  else:\n",
        "    payload = json.dumps({\n",
        "      \"maxResults\": max_result_per_page,\n",
        "      \"query\": query,\n",
        "    })\n",
        "  \n",
        "  response = requests.post(endpoint, headers=headers, data=payload)\n",
        "\n",
        "  return response.text"
      ],
      "metadata": {
        "id": "OVmgNDDch8Se"
      },
      "execution_count": null,
      "outputs": []
    },
    {
      "cell_type": "code",
      "source": [
        "def extract_tweet(response, label):\n",
        "  tweets = []\n",
        "  json_response = json.loads(response)\n",
        "  \n",
        "  if 'results' in response:\n",
        "    results = json_response[\"results\"]\n",
        "\n",
        "    for tweet in results:\n",
        "      # is tweet a retweet?\n",
        "      if 'retweeted_status' in tweet:\n",
        "        if tweet['retweeted_status']['truncated']:\n",
        "          text = tweet['retweeted_status']['extended_tweet']['full_text']\n",
        "        else:\n",
        "          text = tweet['retweeted_status']['text']\n",
        "      else:\n",
        "        if tweet['truncated']:\n",
        "          text = tweet['extended_tweet']['full_text']\n",
        "        else:\n",
        "          text = tweet['text']\n",
        "        \n",
        "      text = text.replace('\"', \"'\")\n",
        "      data = Tweet(tweet[\"id\"], f\"{text}\", label)\n",
        "      \n",
        "      tweets.append(data)\n",
        "\n",
        "  else:\n",
        "    print(\"Request went wrong\")\n",
        "    print(response)\n",
        "\n",
        "  return tweets"
      ],
      "metadata": {
        "id": "1gNdo7Bnijtz"
      },
      "execution_count": null,
      "outputs": []
    },
    {
      "cell_type": "code",
      "source": [
        "def download_tweet(endpoint, \n",
        "                   headers, \n",
        "                   query, \n",
        "                   label,\n",
        "                   max_result_per_page,\n",
        "                   tweet_list,\n",
        "                   next_token = None, \n",
        "                   max_num_of_request = 20):\n",
        "\n",
        "  if max_num_of_request <= 0:\n",
        "    return tweet_list\n",
        "\n",
        "  response = handle_request(endpoint, headers, query, max_result_per_page, next_token)\n",
        "\n",
        "  tweet_list.extend(extract_tweet(response, label))\n",
        "\n",
        "  try:\n",
        "      next_token = json.loads(response)['next']\n",
        "  except:\n",
        "      next_token = None\n",
        "\n",
        "  if next_token is not None:\n",
        "      return download_tweet(endpoint, headers, query, label, max_result_per_page,\n",
        "                   tweet_list, next_token, max_num_of_request - 1)\n",
        "  else:\n",
        "      return tweet_list"
      ],
      "metadata": {
        "id": "oHbiTTbNg7x4"
      },
      "execution_count": null,
      "outputs": []
    },
    {
      "cell_type": "code",
      "source": [
        "# define tweet\n",
        "Tweet = Row(\"id\", \"text\", \"sarcastic\")"
      ],
      "metadata": {
        "id": "yUW4eUSoyq08"
      },
      "execution_count": null,
      "outputs": []
    },
    {
      "cell_type": "code",
      "source": [
        "tweets = []"
      ],
      "metadata": {
        "id": "nnd9wSFdmzTs"
      },
      "execution_count": null,
      "outputs": []
    },
    {
      "cell_type": "code",
      "source": [
        "%%script false\n",
        "\n",
        "# download sarcastic tweet\n",
        "tweets = download_tweet(endpoint, \n",
        "                   headers, \n",
        "                   sarcasm_query, \n",
        "                   \"Yes\",\n",
        "                   100,\n",
        "                   [],\n",
        "                   next_token = None, \n",
        "                   max_num_of_request = 40)"
      ],
      "metadata": {
        "id": "wqphEQDcwHHr"
      },
      "execution_count": null,
      "outputs": []
    },
    {
      "cell_type": "code",
      "source": [
        "%%script false\n",
        "\n",
        "# download non-sarcastic tweet\n",
        "tweets.extend(\n",
        "    download_tweet(endpoint, \n",
        "                   headers, \n",
        "                   non_sarcasm_query, \n",
        "                   \"No\",\n",
        "                   100,\n",
        "                   [],\n",
        "                   next_token = None, \n",
        "                   max_num_of_request = 40))"
      ],
      "metadata": {
        "id": "rLUvtri88LyI"
      },
      "execution_count": null,
      "outputs": []
    },
    {
      "cell_type": "code",
      "source": [
        "%%script false\n",
        "# create DataFrame\n",
        "df = spark.createDataFrame(tweets)"
      ],
      "metadata": {
        "id": "RZeSJmGt5FOG"
      },
      "execution_count": null,
      "outputs": []
    },
    {
      "cell_type": "code",
      "source": [
        "%%script false\n",
        "df.show(10, truncate=False)"
      ],
      "metadata": {
        "id": "nmS3eNL075po"
      },
      "execution_count": null,
      "outputs": []
    },
    {
      "cell_type": "code",
      "source": [
        "%%script false\n",
        "\n",
        "# create file\n",
        "if not os.path.exists(DATASET):\n",
        "  os.mknod(DATASET)\n",
        "\n",
        "# save tweets\n",
        "df.toPandas().to_csv(DATASET, header=True, index=False) "
      ],
      "metadata": {
        "id": "PgAKUhbDmrmU"
      },
      "execution_count": null,
      "outputs": []
    },
    {
      "cell_type": "code",
      "source": [
        "%%script false\n",
        "del df"
      ],
      "metadata": {
        "id": "ScVj8BVQgljy"
      },
      "execution_count": null,
      "outputs": []
    },
    {
      "cell_type": "markdown",
      "source": [
        "# 3. **Annotate Tweet**"
      ],
      "metadata": {
        "id": "29_DCW9URUjb"
      }
    },
    {
      "cell_type": "code",
      "source": [
        "# python widgets\n",
        "from ipywidgets import Button\n",
        "import asyncio\n",
        "from IPython.display import display, clear_output\n",
        "import ipywidgets as widgets\n",
        "from ipywidgets import HBox, Layout\n",
        "import time as t"
      ],
      "metadata": {
        "id": "SXY6DWppEFJP"
      },
      "execution_count": null,
      "outputs": []
    },
    {
      "cell_type": "markdown",
      "source": [
        "When we download tweet using an hashtag, we are not 100% sure of what we downloaded is correct. We must analyze - at least - the majority of the tweet to understand if what we have labelled is correct. There here's a little tool to help us with that."
      ],
      "metadata": {
        "id": "xrDr46suRbeP"
      }
    },
    {
      "cell_type": "code",
      "source": [
        "Tweet = Row(\"id\", \"text\", \"sarcastic\")\n",
        "\n",
        "schema = StructType([StructField(\"id\", StringType(), True)\\\n",
        "                   ,StructField(\"text\", StringType(), True)\\\n",
        "                   ,StructField(\"sarcastic\", StringType(), True)])\n",
        "\n",
        "df = spark.createDataFrame(pd.read_csv(DATASET), schema=schema)\n",
        "df.show(10)"
      ],
      "metadata": {
        "id": "8hS8XFLNRa2q",
        "colab": {
          "base_uri": "https://localhost:8080/"
        },
        "outputId": "a3a991bf-cd8e-4ec3-de72-78c53e855523"
      },
      "execution_count": null,
      "outputs": [
        {
          "output_type": "stream",
          "name": "stdout",
          "text": [
            "+-------------------+--------------------+---------+\n",
            "|                 id|                text|sarcastic|\n",
            "+-------------------+--------------------+---------+\n",
            "|1524034279151489025|@AlienoGentile C’...|       No|\n",
            "|1524034279122034690|@NaremFox @RickyT...|       No|\n",
            "|1524034278983704581|Sempre al fine di...|       No|\n",
            "|1524034278870372354|E Comunque quest'...|       No|\n",
            "|1524034278828425218|Comunque a me Alb...|       No|\n",
            "|1524034278719475712|che bella persona...|       No|\n",
            "|1524034278589411328|oddio io quando h...|       No|\n",
            "|1524034278559993857|@carlopitocchi La...|       No|\n",
            "|1524034278140616708|Oh nooo solo 400 ...|       No|\n",
            "|1524034278031609856|@WillSorareSmith ...|       No|\n",
            "+-------------------+--------------------+---------+\n",
            "only showing top 10 rows\n",
            "\n"
          ]
        }
      ]
    },
    {
      "cell_type": "code",
      "source": [
        "def count_label(df, numeric=False):\n",
        "  label_yes = 1 if numeric else \"Yes\"\n",
        "  label_no = 0 if numeric else \"No\"\n",
        "  return df.groupBy(\"sarcastic\").agg(\n",
        "      count(when(col(\"sarcastic\") == label_yes, 1)),\n",
        "      count(when(col(\"sarcastic\") == label_no, 1)))"
      ],
      "metadata": {
        "id": "g-2CxhPEb59B"
      },
      "execution_count": null,
      "outputs": []
    },
    {
      "cell_type": "code",
      "source": [
        "# count tweet\n",
        "print(f'Total number of tweet retrieved {df.count()}')"
      ],
      "metadata": {
        "id": "UWC7f6AHbzKA",
        "colab": {
          "base_uri": "https://localhost:8080/"
        },
        "outputId": "d97dd678-b48c-4b0f-b43c-13f86ddeace8"
      },
      "execution_count": null,
      "outputs": [
        {
          "output_type": "stream",
          "name": "stdout",
          "text": [
            "Total number of tweet retrieved 11800\n"
          ]
        }
      ]
    },
    {
      "cell_type": "code",
      "source": [
        "# we want first to drop duplicates\n",
        "\n",
        "print(\"Count before drop:\")\n",
        "count_label(df).show()\n",
        "\n",
        "count_before_drop = df.count()\n",
        "df = df.dropDuplicates([\"text\"])\n",
        "print(f\"Distinct count: {str(df.count())} \\n\")\n",
        "\n",
        "print(\"Count after drop:\")\n",
        "count_label(df).show()"
      ],
      "metadata": {
        "id": "gciiYKT7R148",
        "colab": {
          "base_uri": "https://localhost:8080/"
        },
        "outputId": "18c29912-de12-4297-cf99-9e284befb88e"
      },
      "execution_count": null,
      "outputs": [
        {
          "output_type": "stream",
          "name": "stdout",
          "text": [
            "Count before drop:\n",
            "+---------+---------------------------------------------+--------------------------------------------+\n",
            "|sarcastic|count(CASE WHEN (sarcastic = Yes) THEN 1 END)|count(CASE WHEN (sarcastic = No) THEN 1 END)|\n",
            "+---------+---------------------------------------------+--------------------------------------------+\n",
            "|       No|                                            0|                                        7800|\n",
            "|      Yes|                                         4000|                                           0|\n",
            "+---------+---------------------------------------------+--------------------------------------------+\n",
            "\n",
            "Distinct count: 9290 \n",
            "\n",
            "Count after drop:\n",
            "+---------+---------------------------------------------+--------------------------------------------+\n",
            "|sarcastic|count(CASE WHEN (sarcastic = Yes) THEN 1 END)|count(CASE WHEN (sarcastic = No) THEN 1 END)|\n",
            "+---------+---------------------------------------------+--------------------------------------------+\n",
            "|       No|                                            0|                                        7304|\n",
            "|      Yes|                                         1986|                                           0|\n",
            "+---------+---------------------------------------------+--------------------------------------------+\n",
            "\n"
          ]
        }
      ]
    },
    {
      "cell_type": "code",
      "source": [
        "print(f'dropped {count_before_drop-df.count()} columns')\n",
        "print(f'total count: {df.count()}')"
      ],
      "metadata": {
        "id": "q3WedH78qpMX",
        "colab": {
          "base_uri": "https://localhost:8080/"
        },
        "outputId": "8de26cad-25f4-4c3c-f253-e81fe408f790"
      },
      "execution_count": null,
      "outputs": [
        {
          "output_type": "stream",
          "name": "stdout",
          "text": [
            "dropped 2510 columns\n",
            "total count: 9290\n"
          ]
        }
      ]
    },
    {
      "cell_type": "code",
      "source": [
        "# visually \n",
        "data = count_label(df).collect()\n",
        "\n",
        "labels = ['sarcastic', 'non sarcastic']\n",
        "colors = sns.color_palette('pastel')[0:5]\n",
        "\n",
        "plt.pie([int(data[1][1]), int(data[0][2])], labels = labels, colors = colors, autopct='%.0f%%')\n",
        "plt.show()"
      ],
      "metadata": {
        "id": "idZSd7XIVbXS",
        "colab": {
          "base_uri": "https://localhost:8080/",
          "height": 248
        },
        "outputId": "69e47e0f-6f59-4c49-a5b7-cfde3c3d431c"
      },
      "execution_count": null,
      "outputs": [
        {
          "output_type": "display_data",
          "data": {
            "text/plain": [
              "<Figure size 432x288 with 1 Axes>"
            ],
            "image/png": "[encoded data removed]"
          },
          "metadata": {}
        }
      ]
    },
    {
      "cell_type": "code",
      "source": [
        "tweets_annotated = []"
      ],
      "metadata": {
        "id": "t4hgqk7qs9mZ"
      },
      "execution_count": null,
      "outputs": []
    },
    {
      "cell_type": "code",
      "source": [
        "def wait_for_change(widget1, widget2): \n",
        "    future = asyncio.Future()\n",
        "    def getvalue(change):\n",
        "        future.set_result(change.description)\n",
        "        widget1.on_click(getvalue, remove=True)\n",
        "        widget2.on_click(getvalue, remove=True) \n",
        "    widget1.on_click(getvalue)\n",
        "    widget2.on_click(getvalue)\n",
        "    return future\n",
        "\n",
        "async def f(df):\n",
        "  df_pandas = df.toPandas()\n",
        "  for index, row in df_pandas.iterrows():\n",
        "    print(f'Is this tweet sarcastic? \\n {row.text} \\n', flush=True)\n",
        "\n",
        "    x = await wait_for_change(sarcastic,non_sarcastic)\n",
        "    \n",
        "    if x == \"Yes\":\n",
        "      print(\"Tagged \", row.id, \"with sarcastic \\n\")\n",
        "      data = Tweet(row.id, row.text, \"Yes\")\n",
        "      tweets_annotated.append(data)\n",
        "    else:\n",
        "      print(\"Tagged \", row.id, \"with non-sarcastic \\n\")\n",
        "      data = Tweet(row.id, row.text, \"No\")      \n",
        "      tweets_annotated.append(data)\n",
        "\n",
        "    clear_output()\n",
        "    display(HBox([sarcastic,non_sarcastic]))"
      ],
      "metadata": {
        "id": "T3QQC7zoSvmO"
      },
      "execution_count": null,
      "outputs": []
    },
    {
      "cell_type": "markdown",
      "source": [
        "Before going forward, we want to ask ourselves *How can know if a tweet is sarcastic or not?*\n",
        "\n",
        "*In Harry Potter and the Half Blood Prince, there is a scene where Harry is leaving the Weasley house and Mrs. Weasley says: “Promise me you will look after yourself…stay out of trouble….” Harry responds: “I always do Mrs. Weasley. I like a quiet life, you know me.” Anyone familiar with Harry Potter knows that his life is far from quiet, and so he must not really mean what he is saying. In fact, Harry is being sarcastic.*\n",
        "\n",
        "[source](https://kids.frontiersin.org/articles/10.3389/frym.2018.00056)\n",
        "\n",
        "Sarcasm is the use of words that say the opposite of what you really mean, often as a joke and with a tone of voice that shows this. It is often used to mock or critize someone, express disapproval or as a defence mechanism.\n",
        "\n",
        "For example:\n",
        "> *Noi invece ce la caviamo con un grado in meno ai termosifoni d'inverno e spegnendo i condizionatori d'estate. Non è fantastico? (#Draghi è un cialtrone sesquipedale, nel caso aveste ancora qualche dubbio)*\n",
        "\n",
        "Here we can imagine the sarcastic tone of the writer. He's obviously criticising the Italian prime minister, Mario Draghi, when, during an interview, he said that we must make sacrifices like lowering the grade of the radiator in order to cope with the possibility of not having the gas from Russia anymore. Obviously, this won't be enough. *Isn't this great?*\n",
        "\n",
        "Sometimes it's difficult also for a human person to understand sarcasm therefore I don't expect the following dataset to be 100% free from bias."
      ],
      "metadata": {
        "id": "8Kyh9cjvkoZN"
      }
    },
    {
      "cell_type": "code",
      "source": [
        "# tool used for annotation: it displays each tweet and the user has to click \"Yes\" \n",
        "# if the tweet was sarcastic, \"No\" otherwise\n",
        "\n",
        "sarcastic=Button(description=\"Yes\", button_style='info', layout=Layout(width='150px', height='50px'))\n",
        "non_sarcastic=Button(description=\"No\", button_style='info', layout=Layout(width='150px', height='50px'))\n",
        "\n",
        "asyncio.create_task(f(df))\n",
        "t.sleep(2)\n",
        "display(HBox([sarcastic,non_sarcastic]))"
      ],
      "metadata": {
        "id": "NJM-MObHrwWp",
        "colab": {
          "base_uri": "https://localhost:8080/",
          "height": 71,
          "referenced_widgets": [
            "62162cd658224f96a90f324b3059ebb4",
            "5a280d3d56ef4800906ba592cb85a0c7",
            "0d6c0a0dbf904b3d8471d98af1ac2b1b",
            "acf269f7b1a54730bdd2487087f8b0bb",
            "b5680c928e07492784b2b79222da88d4",
            "38a4e4f3bf9843d6b986ef153113f378",
            "29acc096604145a69586f411d55088fa",
            "0921fd0e384749cb890431a350c2c1ea"
          ]
        },
        "outputId": "7f030b1e-f997-4853-a06f-2d9edd98bbdf"
      },
      "execution_count": null,
      "outputs": [
        {
          "output_type": "display_data",
          "data": {
            "text/plain": [
              "HBox(children=(Button(button_style='info', description='Yes', layout=Layout(height='50px', width='150px'), sty…"
            ],
            "application/vnd.jupyter.widget-view+json": {
              "version_major": 2,
              "version_minor": 0,
              "model_id": "62162cd658224f96a90f324b3059ebb4"
            }
          },
          "metadata": {}
        }
      ]
    },
    {
      "cell_type": "code",
      "source": [
        "%%script false\n",
        "print(tweets_annotated)"
      ],
      "metadata": {
        "id": "XvlYa09uXPRs"
      },
      "execution_count": null,
      "outputs": []
    },
    {
      "cell_type": "code",
      "source": [
        "%%script false\n",
        "df_annotated = spark.createDataFrame(tweets_annotated)\n",
        "df_annotated.tail(5)"
      ],
      "metadata": {
        "id": "5oOAAGZFsYKo"
      },
      "execution_count": null,
      "outputs": []
    },
    {
      "cell_type": "code",
      "source": [
        "%%script false\n",
        "if not os.path.exists(DATASET_ANNOTATED):\n",
        "  os.mknod(DATASET_ANNOTATED)\n",
        "\n",
        "# save tweets\n",
        "df_annotated.toPandas().to_csv(DATASET_ANNOTATED, header=True, index=False)\n",
        "del df_annotated"
      ],
      "metadata": {
        "id": "ClMe-OHFXrDf"
      },
      "execution_count": null,
      "outputs": []
    },
    {
      "cell_type": "code",
      "source": [
        "del df"
      ],
      "metadata": {
        "id": "e3AyKHHqgxE-"
      },
      "execution_count": null,
      "outputs": []
    },
    {
      "cell_type": "markdown",
      "source": [
        "# 4. **Extend Dataset**"
      ],
      "metadata": {
        "id": "daSEOScGUKJo"
      }
    },
    {
      "cell_type": "code",
      "source": [
        "schema = StructType([StructField(\"id\", StringType(), True)\\\n",
        "                   ,StructField(\"text\", StringType(), True)\\\n",
        "                   ,StructField(\"sarcastic\", StringType(), True)])\n",
        "\n",
        "df_annotated = spark.createDataFrame(pd.read_csv(DATASET_ANNOTATED), schema=schema)"
      ],
      "metadata": {
        "id": "W4g8iOQTxneE"
      },
      "execution_count": null,
      "outputs": []
    },
    {
      "cell_type": "code",
      "source": [
        "print(f\"Annotated tweets: {df_annotated.count()}\")"
      ],
      "metadata": {
        "id": "K421QQz1sfyt",
        "colab": {
          "base_uri": "https://localhost:8080/"
        },
        "outputId": "994fb656-fbad-4f3d-867b-076df8f886bb"
      },
      "execution_count": null,
      "outputs": [
        {
          "output_type": "stream",
          "name": "stdout",
          "text": [
            "Annotated tweets: 5480\n"
          ]
        }
      ]
    },
    {
      "cell_type": "markdown",
      "source": [
        "As we can see from the code below, we lost multiple *tweet*.\n",
        "First of all, multiple tweets classified as sarcastic were not sarcastic. Also, I've dropped every tweet that contained only one word, that wasn't actually in italian or \n",
        "that had no sense."
      ],
      "metadata": {
        "id": "M_awlh0kq3nB"
      }
    },
    {
      "cell_type": "code",
      "source": [
        "count_label(df_annotated).show()"
      ],
      "metadata": {
        "id": "k6k_llNRpKCE",
        "colab": {
          "base_uri": "https://localhost:8080/"
        },
        "outputId": "14d2a863-176f-4151-9ac7-228862087bfb"
      },
      "execution_count": null,
      "outputs": [
        {
          "output_type": "stream",
          "name": "stdout",
          "text": [
            "+---------+---------------------------------------------+--------------------------------------------+\n",
            "|sarcastic|count(CASE WHEN (sarcastic = Yes) THEN 1 END)|count(CASE WHEN (sarcastic = No) THEN 1 END)|\n",
            "+---------+---------------------------------------------+--------------------------------------------+\n",
            "|       No|                                            0|                                        4629|\n",
            "|      Yes|                                          830|                                           0|\n",
            "|      NaN|                                            0|                                           0|\n",
            "+---------+---------------------------------------------+--------------------------------------------+\n",
            "\n"
          ]
        }
      ]
    },
    {
      "cell_type": "markdown",
      "source": [
        "However, we can integrate we some external Dataset such as: [SENTIPOLIC](http://www.di.unito.it/~tutreeb/sentipolc-evalita16/index.html) from the challenge EVALITA2016 which contains several italian tweet already classified."
      ],
      "metadata": {
        "id": "UeH_4XijrNc3"
      }
    },
    {
      "cell_type": "code",
      "source": [
        "df_sentipolic = spark.createDataFrame(pd.read_csv(SENTIPOLIC))"
      ],
      "metadata": {
        "id": "B2eVp6uIw9kO"
      },
      "execution_count": null,
      "outputs": []
    },
    {
      "cell_type": "code",
      "source": [
        "df_sentipolic.show(10)"
      ],
      "metadata": {
        "id": "qld5kvU0yDBS",
        "colab": {
          "base_uri": "https://localhost:8080/"
        },
        "outputId": "da7ac589-c51f-46d2-ffc3-57648caa5bda"
      },
      "execution_count": null,
      "outputs": [
        {
          "output_type": "stream",
          "name": "stdout",
          "text": [
            "+------------------+----+----+----+---+----+----+---+--------------------+\n",
            "|         idtwitter|subj|opos|oneg|iro|lpos|lneg|top|                text|\n",
            "+------------------+----+----+----+---+----+----+---+--------------------+\n",
            "|122449983151669248|   1|   0|   1|  0|   0|   1|  1|Intanto la partit...|\n",
            "|125485104863780865|   1|   0|   1|  0|   0|   1|  1|False illusioni, ...|\n",
            "|125513454315507712|   1|   0|   1|  0|   0|   1|  1|False illusioni, ...|\n",
            "|125524238290522113|   1|   0|   1|  0|   0|   1|  1|Mario Monti: Berl...|\n",
            "|125527933224886272|   1|   0|   1|  0|   0|   1|  1|Mario Monti: Berl...|\n",
            "|125530285164072961|   1|   1|   1|  0|   1|   1|  1|False illusioni, ...|\n",
            "|125533343482789889|   1|   0|   1|  0|   0|   1|  1|L'attacco di Mari...|\n",
            "|125633929217708032|   1|   1|   0|  0|   1|   0|  1|Mario Monti sul C...|\n",
            "|125642756147265536|   1|   0|   1|  0|   0|   1|  1|Le 5 sgradevoli r...|\n",
            "|125692702145785856|   1|   0|   1|  0|   0|   1|  1|False illusioni, ...|\n",
            "+------------------+----+----+----+---+----+----+---+--------------------+\n",
            "only showing top 10 rows\n",
            "\n"
          ]
        }
      ]
    },
    {
      "cell_type": "code",
      "source": [
        "# we will extract only the tweets which are ironic since we have plenty non-ironic\n",
        "df_sentipolic = df_sentipolic.filter(col(\"iro\")==1)"
      ],
      "metadata": {
        "id": "0LMvvrxNyFlS"
      },
      "execution_count": null,
      "outputs": []
    },
    {
      "cell_type": "code",
      "source": [
        "print(f\"Ironic tweet retrieved: {df_sentipolic.count()}\")"
      ],
      "metadata": {
        "id": "lN-MoSRiyQ37",
        "colab": {
          "base_uri": "https://localhost:8080/"
        },
        "outputId": "556bcee7-6994-4098-a120-ec893bfee491"
      },
      "execution_count": null,
      "outputs": [
        {
          "output_type": "stream",
          "name": "stdout",
          "text": [
            "Ironic tweet retrieved: 1103\n"
          ]
        }
      ]
    },
    {
      "cell_type": "code",
      "source": [
        "df_sentipolic = df_sentipolic.withColumnRenamed(\"idTwitter\", \"id\")\\\n",
        "                              .withColumnRenamed(\"iro\", \"sarcastic\")\\\n",
        "                              .select(\"id\", \"text\", \"sarcastic\")"
      ],
      "metadata": {
        "id": "CmzhGiatyZxd"
      },
      "execution_count": null,
      "outputs": []
    },
    {
      "cell_type": "code",
      "source": [
        "df_sentipolic.show(10)"
      ],
      "metadata": {
        "id": "PrDm7Oz_zbDx",
        "colab": {
          "base_uri": "https://localhost:8080/"
        },
        "outputId": "8781a267-6192-49d0-dcca-d841d5f37858"
      },
      "execution_count": null,
      "outputs": [
        {
          "output_type": "stream",
          "name": "stdout",
          "text": [
            "+------------------+--------------------+---------+\n",
            "|                id|                text|sarcastic|\n",
            "+------------------+--------------------+---------+\n",
            "|125695266887184384|Mario Monti: c'è ...|        1|\n",
            "|125838624670490624|Ma a quanta gente...|        1|\n",
            "|127137847491821568|#la7 ma perche' M...|        1|\n",
            "|129143970163990528|Mario Monti è con...|        1|\n",
            "|131426878245437440|Ma quanto ce vuol...|        1|\n",
            "|133822129773879297|Mario Monti a cap...|        1|\n",
            "|133831591234502656| Mario Monti for ...|        1|\n",
            "|133849038243110912|[News] Mario Mont...|        1|\n",
            "|133954931982991360|cmq Mario Monti è...|        1|\n",
            "|134335814531416064| Napolitano: \"Bis...|        1|\n",
            "+------------------+--------------------+---------+\n",
            "only showing top 10 rows\n",
            "\n"
          ]
        }
      ]
    },
    {
      "cell_type": "code",
      "source": [
        "# now we want to join the two dataset. However we must use the same label for both.\n",
        "# Therefore if the tweet is sarcastic, the label will be 1, 0 otherwise.\n",
        "\n",
        "\n",
        "df_annotated = df_annotated.withColumn(\"sarcastic\", \n",
        "                                         when(df_annotated.sarcastic == \"Yes\", 1)\n",
        "                                         .when(df_annotated.sarcastic == \"No\", 0)                                    \n",
        "                                         .otherwise(df_annotated.sarcastic))"
      ],
      "metadata": {
        "id": "9J2Ekp4317OU"
      },
      "execution_count": null,
      "outputs": []
    },
    {
      "cell_type": "code",
      "source": [
        "df_annotated.show()"
      ],
      "metadata": {
        "id": "MEk2bAHu2XwA",
        "colab": {
          "base_uri": "https://localhost:8080/"
        },
        "outputId": "5602700c-d4c1-4ab7-f9b2-c4994eb19bb0"
      },
      "execution_count": null,
      "outputs": [
        {
          "output_type": "stream",
          "name": "stdout",
          "text": [
            "+-------------------+--------------------+---------+\n",
            "|                 id|                text|sarcastic|\n",
            "+-------------------+--------------------+---------+\n",
            "|1524033834416754689|#'Tu sei un gioca...|        0|\n",
            "|1524034020417294337|#10maggio In occa...|        0|\n",
            "|1524034242963034112|#9maggio Zelensky...|        0|\n",
            "|1524034526908981250|#A SCUOLA DI GIUS...|        1|\n",
            "|1524034207923814401|#A1 - Ginevra -&g...|        0|\n",
            "|1524034530579030018|#A1 - Zurigo -&gt...|        0|\n",
            "|1524034404850581504|#APRILIA: TENTATO...|        0|\n",
            "|1524034635012968448|#Agricoltura, Ocm...|        0|\n",
            "|1524034097424777216|#Algeria: colloqu...|        0|\n",
            "|1524034794635603972|#Alpini pensate c...|        1|\n",
            "|1524034897383505921|#Amici21\n",
            "Il mondo...|        0|\n",
            "|1524034689366953984|#Amici21\n",
            "Riassunt...|        0|\n",
            "|1524034761940946952|#Amici21 che tene...|        0|\n",
            "|1523988570867961856|#Armi #Ucraina Fr...|        1|\n",
            "|1524001659290017794|#Armi, #gas e nuo...|        1|\n",
            "|1524033774102720512|#Aron è una creat...|        0|\n",
            "|1524033888124874752|#Bergamo L'Ammini...|        0|\n",
            "|1524033892935733248|#Bergamo Tutto su...|        0|\n",
            "|1524034781201190915|#Bergamo potrebbe...|        0|\n",
            "|1523993624861626368|#Biden e #Draghi ...|        1|\n",
            "+-------------------+--------------------+---------+\n",
            "only showing top 20 rows\n",
            "\n"
          ]
        }
      ]
    },
    {
      "cell_type": "code",
      "source": [
        "# concatenate DataFrames\n",
        "df_complete = df_annotated.union(df_sentipolic)"
      ],
      "metadata": {
        "id": "m5YwEtQkj-ry"
      },
      "execution_count": null,
      "outputs": []
    },
    {
      "cell_type": "code",
      "source": [
        "df_complete.cache()\n",
        "print(f'Now we have a total of {df_complete.count()} tweets')"
      ],
      "metadata": {
        "id": "DGDmh6_d3Csy",
        "colab": {
          "base_uri": "https://localhost:8080/"
        },
        "outputId": "a73b163c-421f-4b99-e46f-bd2eaea56762"
      },
      "execution_count": null,
      "outputs": [
        {
          "output_type": "stream",
          "name": "stdout",
          "text": [
            "Now we have a total of 6583 tweets\n"
          ]
        }
      ]
    },
    {
      "cell_type": "code",
      "source": [
        "df_complete.show(5)"
      ],
      "metadata": {
        "id": "vRXyeqRH2nUU",
        "colab": {
          "base_uri": "https://localhost:8080/"
        },
        "outputId": "6d295808-5b88-4ebb-f820-3a0a0a08da3c"
      },
      "execution_count": null,
      "outputs": [
        {
          "output_type": "stream",
          "name": "stdout",
          "text": [
            "+-------------------+--------------------+---------+\n",
            "|                 id|                text|sarcastic|\n",
            "+-------------------+--------------------+---------+\n",
            "|1524033834416754689|#'Tu sei un gioca...|        0|\n",
            "|1524034020417294337|#10maggio In occa...|        0|\n",
            "|1524034242963034112|#9maggio Zelensky...|        0|\n",
            "|1524034526908981250|#A SCUOLA DI GIUS...|        1|\n",
            "|1524034207923814401|#A1 - Ginevra -&g...|        0|\n",
            "+-------------------+--------------------+---------+\n",
            "only showing top 5 rows\n",
            "\n"
          ]
        }
      ]
    },
    {
      "cell_type": "code",
      "source": [
        "count_label(df_complete, numeric=True).show()"
      ],
      "metadata": {
        "id": "e89JUhcA3IkL",
        "colab": {
          "base_uri": "https://localhost:8080/"
        },
        "outputId": "e819b9bd-b587-4032-d8ed-fa5b8c5b8e2f"
      },
      "execution_count": null,
      "outputs": [
        {
          "output_type": "stream",
          "name": "stdout",
          "text": [
            "+---------+-------------------------------------------+-------------------------------------------+\n",
            "|sarcastic|count(CASE WHEN (sarcastic = 1) THEN 1 END)|count(CASE WHEN (sarcastic = 0) THEN 1 END)|\n",
            "+---------+-------------------------------------------+-------------------------------------------+\n",
            "|        0|                                          0|                                       4629|\n",
            "|      NaN|                                          0|                                          0|\n",
            "|        1|                                       1933|                                          0|\n",
            "+---------+-------------------------------------------+-------------------------------------------+\n",
            "\n"
          ]
        }
      ]
    },
    {
      "cell_type": "code",
      "source": [
        "del df_annotated\n",
        "del df_sentipolic"
      ],
      "metadata": {
        "id": "Tay9-2mmha8X"
      },
      "execution_count": null,
      "outputs": []
    },
    {
      "cell_type": "code",
      "source": [
        "import gc\n",
        "gc.collect()"
      ],
      "metadata": {
        "colab": {
          "base_uri": "https://localhost:8080/"
        },
        "id": "E35Bg2RFqSG8",
        "outputId": "120bf0e3-1512-45b2-c2f7-70ad724ec77a"
      },
      "execution_count": null,
      "outputs": [
        {
          "output_type": "execute_result",
          "data": {
            "text/plain": [
              "2253"
            ]
          },
          "metadata": {},
          "execution_count": 66
        }
      ]
    },
    {
      "cell_type": "markdown",
      "source": [
        "The dataset is still unbalanced, but better than before."
      ],
      "metadata": {
        "id": "Ap6Pm9b13WEL"
      }
    },
    {
      "cell_type": "markdown",
      "source": [
        "# 5. **Data Processing**"
      ],
      "metadata": {
        "id": "pDQJOzR4-Ncl"
      }
    },
    {
      "cell_type": "code",
      "source": [
        "import enchant\n",
        "from enchant.checker import SpellChecker"
      ],
      "metadata": {
        "id": "v95f3Q1LiqWP"
      },
      "execution_count": null,
      "outputs": []
    },
    {
      "cell_type": "code",
      "source": [
        "from ekphrasis.classes.preprocessor import TextPreProcessor\n",
        "from ekphrasis.classes.tokenizer import SocialTokenizer\n",
        "from ekphrasis.dicts.emoticons import emoticons"
      ],
      "metadata": {
        "id": "AFs_VT0XjKF9"
      },
      "execution_count": null,
      "outputs": []
    },
    {
      "cell_type": "markdown",
      "source": [
        "First we want to clean tweet: remove hashtag, links, emoji, whitespaces, mentions. When annotating the tweets, I've also noticed that many of them contained spelling errors. It is recommended to adjust those tweets before the model training."
      ],
      "metadata": {
        "id": "lGGkaFhE360S"
      }
    },
    {
      "cell_type": "code",
      "source": [
        "broker = enchant.Broker()\n",
        "broker.describe()\n",
        "broker.list_languages()"
      ],
      "metadata": {
        "colab": {
          "base_uri": "https://localhost:8080/"
        },
        "id": "fMZk9zDMiwQq",
        "outputId": "275690dd-eb2b-404e-bec3-4bb2c0e6fb58"
      },
      "execution_count": null,
      "outputs": [
        {
          "output_type": "execute_result",
          "data": {
            "text/plain": [
              "['it_IT', 'it_CH', 'en_US', 'en', 'en_AU', 'en_CA', 'en_GB']"
            ]
          },
          "metadata": {},
          "execution_count": 69
        }
      ]
    },
    {
      "cell_type": "code",
      "source": [
        "@udf(\"string\")\n",
        "def spell_checker(text):\n",
        "  checker = SpellChecker(\"it_IT\", text)\n",
        "  for err in checker:\n",
        "    if len(err.suggest())>0:\n",
        "      sug = err.suggest()[0]\n",
        "      err.replace(sug)\n",
        "  return checker.get_text()"
      ],
      "metadata": {
        "id": "xf6fnqpqixZd"
      },
      "execution_count": null,
      "outputs": []
    },
    {
      "cell_type": "code",
      "source": [
        "@udf(\"string\")\n",
        "def remove_unwanted_symbols(text):\n",
        "  punctuation = \"!$%&'()*+, -./:;<=>?[\\]^_`{|}~«»\"\n",
        "  for p in punctuation:\n",
        "    text = text.replace(p, \" \")\n",
        "  return text"
      ],
      "metadata": {
        "id": "XtmPo4dZ6HVT"
      },
      "execution_count": null,
      "outputs": []
    },
    {
      "cell_type": "code",
      "source": [
        "def clean_text(dataframe):\n",
        "  print(\"Clean Text steps:\")\n",
        "\n",
        "  print(\"1. To lowercase\")\n",
        "  df_lowercase = dataframe.withColumn('text', lower(col('text')))\n",
        "\n",
        "  print(\"2. Remove links\")\n",
        "  df_links = df_lowercase.withColumn('text', regexp_replace('text', r'http\\S+', ''))\n",
        "  \n",
        "  print(\"3. Remove unwanted symbols\")\n",
        "  df_symbol = df_links.withColumn('text', regexp_replace('text', '\\n', ' '))\n",
        "  df_punct = df_symbol.withColumn('text', remove_unwanted_symbols(col('text')))\n",
        "\n",
        "  print(\"4. Remove digits\")\n",
        "  df_digit = df_punct.withColumn('text', regexp_replace('text', r'[0-9]{5,}', ''))\n",
        "\n",
        "  print(\"5. Remove whitespaces\")\n",
        "  df_whitespaces = df_digit.withColumn('text', trim(col('text')))\\\n",
        "                            .withColumn('text', regexp_replace(col(\"text\"), \" +\", \" \"))\n",
        "  \n",
        "\n",
        "  return df_whitespaces"
      ],
      "metadata": {
        "id": "7qqKq2qYiOMS"
      },
      "execution_count": null,
      "outputs": []
    },
    {
      "cell_type": "code",
      "source": [
        "# exclude columns with NaN\n",
        "df_nan = df_complete.filter(~col('sarcastic').contains('NaN'))\\\n",
        "                    .filter(~col('text').contains('NaN'))"
      ],
      "metadata": {
        "id": "74wXNywLjv3i"
      },
      "execution_count": null,
      "outputs": []
    },
    {
      "cell_type": "code",
      "source": [
        "df_clean_text = clean_text(df_nan)"
      ],
      "metadata": {
        "colab": {
          "base_uri": "https://localhost:8080/"
        },
        "id": "AqhO4Z-_kKP7",
        "outputId": "3cb3a927-ac35-4136-83c3-7840012995dd"
      },
      "execution_count": null,
      "outputs": [
        {
          "output_type": "stream",
          "name": "stdout",
          "text": [
            "Clean Text steps:\n",
            "1. To lowercase\n",
            "2. Remove links\n",
            "3. Remove unwanted symbols\n",
            "4. Remove digits\n",
            "5. Remove whitespaces\n"
          ]
        }
      ]
    },
    {
      "cell_type": "code",
      "source": [
        "df_clean_text.show(15, truncate=False)"
      ],
      "metadata": {
        "colab": {
          "base_uri": "https://localhost:8080/"
        },
        "id": "TsWyHIXBtN_R",
        "outputId": "06784da4-82bd-4708-a9d1-59f588b36c65"
      },
      "execution_count": null,
      "outputs": [
        {
          "output_type": "stream",
          "name": "stdout",
          "text": [
            "+-------------------+-----------------------------------------------------------------------------------------------------------------------------------------------------------------------------------------------------------------------------------------------------------+---------+\n",
            "|id                 |text                                                                                                                                                                                                                                                       |sarcastic|\n",
            "+-------------------+-----------------------------------------------------------------------------------------------------------------------------------------------------------------------------------------------------------------------------------------------------------+---------+\n",
            "|1524033834416754689|# tu sei un giocatore incredibile abbracciami l emozionante discorso di un bambino al compagno #dibattito #attualità e società #la7 #politica                                                                                                              |0        |\n",
            "|1524034020417294337|#10maggio in occasione della ix giornata dell’amicizia tra copti e cattolici messaggio inviato oggi da #papafrancesco a tawadros ii leggi 👇                                                                                                               |0        |\n",
            "|1524034242963034112|#9maggio zelensky nato crimea pace ha detto no ha risposto no grazie a @valigiablu per il servizio reso alla chiarezza dei fatti                                                                                                                           |0        |\n",
            "|1524034526908981250|#a scuola di giuseppe conte devi venire                                                                                                                                                                                                                    |1        |\n",
            "|1524034207923814401|#a1 ginevra gt losanna tra raccordo di ecublens e losanna crissier problemi di traffico veicolo in avaria                                                                                                                                                  |0        |\n",
            "|1524034530579030018|#a1 zurigo gt berna tra raccordo di luterbach e kriegstetten colonna lavori di costruzione                                                                                                                                                                 |0        |\n",
            "|1524034404850581504|#aprilia tentato furto al tabacchi                                                                                                                                                                                                                         |0        |\n",
            "|1524034635012968448|#agricoltura ocm #vino @toniscilla «bando da 13 milioni per la qualità dei vigneti» #sicilia                                                                                                                                                               |0        |\n",
            "|1524034097424777216|#algeria colloqui tra #lavrov il presidente e il ministro degli esteri algerino                                                                                                                                                                            |0        |\n",
            "|1524034794635603972|#alpini pensate che si puo essere molesti anche senza essere ubriachi in molti lo sappiamo chi dice il contrario mi pare propio di no                                                                                                                      |1        |\n",
            "|1524034897383505921|#amici21 il mondo ha bisogno di più persone come albe                                                                                                                                                                                                      |0        |\n",
            "|1524034689366953984|#amici21 riassunto serena incontra la nonna la nonna di serena è un po bimba della cele michele incontra i genitori albe incontra finalmente teddy                                                                                                         |0        |\n",
            "|1524034761940946952|#amici21 che tenerezza i genitori di michele si vede che hanno sofferto tanto la lontananza da lui fin da bambino i sacrifici di una famiglia umile il rapporto sempre a distanza ma nei loro occhi c è così tanto orgoglio nel vederlo felice e realizzato|0        |\n",
            "|1523988570867961856|#armi #ucraina fratoianni a @skytg24 grave che #draghi non sia tornato in parlamento #stopwar                                                                                                                                                              |1        |\n",
            "|1524001659290017794|#armi #gas e nuove #sanzioni alla #russia questi i temi sul tavolo nell’incontro con #biden di oggi di #draghi #10maggio                                                                                                                                   |1        |\n",
            "+-------------------+-----------------------------------------------------------------------------------------------------------------------------------------------------------------------------------------------------------------------------------------------------------+---------+\n",
            "only showing top 15 rows\n",
            "\n"
          ]
        }
      ]
    },
    {
      "cell_type": "code",
      "source": [
        "# Check the spelling\n",
        "df_spell = df_clean_text.withColumn('text', spell_checker(col('text')))"
      ],
      "metadata": {
        "id": "z4teocLszWNr"
      },
      "execution_count": null,
      "outputs": []
    },
    {
      "cell_type": "code",
      "source": [
        "df_spell.cache()\n",
        "df_spell.show(5)"
      ],
      "metadata": {
        "colab": {
          "base_uri": "https://localhost:8080/"
        },
        "id": "5rmfhYjLzdXg",
        "outputId": "0880044c-d7ac-4c78-aab9-afbf55915591"
      },
      "execution_count": null,
      "outputs": [
        {
          "output_type": "stream",
          "name": "stdout",
          "text": [
            "+-------------------+--------------------+---------+\n",
            "|                 id|                text|sarcastic|\n",
            "+-------------------+--------------------+---------+\n",
            "|1524033834416754689|# tu sei un gioca...|        0|\n",
            "|1524034020417294337|#10maggio in occa...|        0|\n",
            "|1524034242963034112|#9maggio melenso ...|        0|\n",
            "|1524034526908981250|#a scuola di Gius...|        1|\n",
            "|1524034207923814401|#a1 Ginevra g Los...|        0|\n",
            "+-------------------+--------------------+---------+\n",
            "only showing top 5 rows\n",
            "\n"
          ]
        }
      ]
    },
    {
      "cell_type": "code",
      "source": [
        "text_processor = TextPreProcessor(\n",
        "    normalize=['url', 'email', 'percent', 'money', 'phone', 'user',\n",
        "        'time', 'date', 'number'],\n",
        "    annotate={\"hashtag\", \"allcaps\", \"elongated\", \"repeated\",\n",
        "        'emphasis', 'censored'},\n",
        "    fix_html=True,\n",
        "    segmenter=\"twitter\", \n",
        "    corrector=\"twitter\", \n",
        "    unpack_hashtags=True,\n",
        "    unpack_contractions=True,\n",
        "    spell_correct_elong=False,\n",
        "    tokenizer=SocialTokenizer(lowercase=True).tokenize,\n",
        "    dicts=[emoticons]\n",
        ")"
      ],
      "metadata": {
        "colab": {
          "base_uri": "https://localhost:8080/"
        },
        "id": "FYDKyqJYjTEU",
        "outputId": "fef69179-5ac6-49da-9eda-b0ff602370fe"
      },
      "execution_count": null,
      "outputs": [
        {
          "output_type": "stream",
          "name": "stderr",
          "text": [
            "/usr/local/lib/python3.7/dist-packages/ekphrasis/classes/tokenizer.py:225: FutureWarning: Possible nested set at position 2190\n",
            "  self.tok = re.compile(r\"({})\".format(\"|\".join(pipeline)))\n"
          ]
        },
        {
          "output_type": "stream",
          "name": "stdout",
          "text": [
            "Word statistics files not found!\n",
            "Downloading... done!\n",
            "Unpacking... done!\n",
            "Reading twitter - 1grams ...\n",
            "generating cache file for faster loading...\n",
            "reading ngrams /root/.ekphrasis/stats/twitter/counts_1grams.txt\n",
            "Reading twitter - 2grams ...\n",
            "generating cache file for faster loading...\n",
            "reading ngrams /root/.ekphrasis/stats/twitter/counts_2grams.txt\n",
            "Reading twitter - 1grams ...\n"
          ]
        },
        {
          "output_type": "stream",
          "name": "stderr",
          "text": [
            "/usr/local/lib/python3.7/dist-packages/ekphrasis/classes/exmanager.py:14: FutureWarning: Possible nested set at position 42\n",
            "  regexes = {k.lower(): re.compile(self.expressions[k]) for k, v in\n"
          ]
        }
      ]
    },
    {
      "cell_type": "code",
      "source": [
        "@udf(\"string\")\n",
        "def tweet_processor(s):\n",
        "  return \" \".join(text_processor.pre_process_doc(s))"
      ],
      "metadata": {
        "id": "Ya68_fsyjV6r"
      },
      "execution_count": null,
      "outputs": []
    },
    {
      "cell_type": "code",
      "source": [
        "# using ekphrasis to annotate text\n",
        "df_process = df_spell.withColumn('text', tweet_processor(col('text')))"
      ],
      "metadata": {
        "id": "TYA176YKzo30"
      },
      "execution_count": null,
      "outputs": []
    },
    {
      "cell_type": "code",
      "source": [
        "df_process.cache()\n",
        "df_process.show(5)"
      ],
      "metadata": {
        "colab": {
          "base_uri": "https://localhost:8080/"
        },
        "id": "Z-YJ4PCCz2SZ",
        "outputId": "4d8a7bcb-3ade-4b67-b3d7-eac216c438be"
      },
      "execution_count": null,
      "outputs": [
        {
          "output_type": "stream",
          "name": "stdout",
          "text": [
            "+-------------------+--------------------+---------+\n",
            "|                 id|                text|sarcastic|\n",
            "+-------------------+--------------------+---------+\n",
            "|1524033834416754689|# tu sei un gioca...|        0|\n",
            "|1524034020417294337|<hashtag> 1 0 mag...|        0|\n",
            "|1524034242963034112|<hashtag> 9 maggi...|        0|\n",
            "|1524034526908981250|<hashtag> a </has...|        1|\n",
            "|1524034207923814401|<hashtag> a1 </ha...|        0|\n",
            "+-------------------+--------------------+---------+\n",
            "only showing top 5 rows\n",
            "\n"
          ]
        }
      ]
    },
    {
      "cell_type": "markdown",
      "source": [
        "# 6. **Feature Engineering**"
      ],
      "metadata": {
        "id": "p-cnH0NX7Xup"
      }
    },
    {
      "cell_type": "code",
      "source": [
        "# libraries for feature engineering\n",
        "from sparknlp.base import *\n",
        "from sparknlp.annotator import *\n",
        "from sparknlp.common import *\n",
        "from sparknlp.annotator import Tokenizer\n",
        "from pyspark.ml.functions import vector_to_array\n",
        "from stop_words import get_stop_words"
      ],
      "metadata": {
        "id": "WNmH5S8BD-m_"
      },
      "execution_count": 19,
      "outputs": []
    },
    {
      "cell_type": "markdown",
      "source": [
        "First of all, we start the pipeline with the document assembler that is essetial for the next steps. Then we tokenize the text: we transform the phase into tokens. The lemmatizer will convert words (now tokens) into their base form. Then stop-words will be removed. The finisher will transform everything into a readable form."
      ],
      "metadata": {
        "id": "g2K2uUGUkefo"
      }
    },
    {
      "cell_type": "code",
      "source": [
        "stop_words = get_stop_words('it')"
      ],
      "metadata": {
        "id": "JgyZwFsm49f9"
      },
      "execution_count": null,
      "outputs": []
    },
    {
      "cell_type": "code",
      "source": [
        "document_assembler = DocumentAssembler()\\\n",
        "                        .setInputCol('text')\\\n",
        "                        .setOutputCol('document')\\\n",
        "                        .setCleanupMode(\"shrink\")\n",
        "\n",
        "tokenizer = sparknlp.annotator.Tokenizer()\\\n",
        "                    .setInputCols([\"document\"])\\\n",
        "                    .setOutputCol(\"token\")\n",
        "\n",
        "lemmatizer = Lemmatizer()\\\n",
        "     .setInputCols(['token'])\\\n",
        "     .setOutputCol('lemma')\\\n",
        "     .setDictionary(\"lemmatization-it.txt\", \"->\", \"\\t\")\n",
        "\n",
        "stopwords_cleaner = StopWordsCleaner() \\\n",
        "                .setInputCols([\"lemma\"]) \\\n",
        "                .setOutputCol(\"clean_lemma\") \\\n",
        "                .setCaseSensitive(False)\\\n",
        "                .setStopWords(stop_words)\n",
        "\n",
        "finisher = Finisher()\\\n",
        "                  .setInputCols(\"clean_lemma\")\\\n",
        "                  .setOutputCols(\"pipeline_result\")\\\n",
        "                  .setCleanAnnotations(False)\\\n",
        "                  .setOutputAsArray(True)"
      ],
      "metadata": {
        "id": "WGJ6c4YZjhi4"
      },
      "execution_count": null,
      "outputs": []
    },
    {
      "cell_type": "code",
      "source": [
        "# assemble pipeline\n",
        "nlpPipeline = Pipeline(stages=[document_assembler,\n",
        "                               tokenizer,\n",
        "                               lemmatizer,\n",
        "                               stopwords_cleaner,\n",
        "                               finisher\n",
        "                               ])"
      ],
      "metadata": {
        "id": "nc557jkAZc0W"
      },
      "execution_count": null,
      "outputs": []
    },
    {
      "cell_type": "code",
      "source": [
        "df_fitted = nlpPipeline.fit(df_process).transform(df_process)\\\n",
        "                      .select(['text', 'sarcastic', 'document', 'clean_lemma', 'pipeline_result'])"
      ],
      "metadata": {
        "id": "yFO3xWIiE42O",
        "colab": {
          "base_uri": "https://localhost:8080/"
        },
        "outputId": "c8871302-e3b2-42da-8772-441e9abe7d36"
      },
      "execution_count": null,
      "outputs": [
        {
          "output_type": "stream",
          "name": "stdout",
          "text": [
            "CPU times: user 132 ms, sys: 23.7 ms, total: 156 ms\n",
            "Wall time: 2.33 s\n"
          ]
        }
      ]
    },
    {
      "cell_type": "code",
      "source": [
        "%%time\n",
        "df_fitted.cache()\n",
        "df_fitted.show()"
      ],
      "metadata": {
        "id": "xbO31EzPE-mx",
        "colab": {
          "base_uri": "https://localhost:8080/"
        },
        "outputId": "a96aa6bb-6531-4b67-e088-93628035d2e2"
      },
      "execution_count": null,
      "outputs": [
        {
          "output_type": "stream",
          "name": "stdout",
          "text": [
            "+--------------------+---------+--------------------+--------------------+--------------------+\n",
            "|                text|sarcastic|            document|         clean_lemma|     pipeline_result|\n",
            "+--------------------+---------+--------------------+--------------------+--------------------+\n",
            "|# tu sei un gioca...|        0|[{document, 0, 22...|[{token, 0, 0, #,...|[#, giocatore, in...|\n",
            "|<hashtag> 1 0 mag...|        0|[{document, 0, 18...|[{token, 0, 8, <h...|[<hashtag>, 1, 0,...|\n",
            "|<hashtag> 9 maggi...|        0|[{document, 0, 14...|[{token, 0, 8, <h...|[<hashtag>, 9, ma...|\n",
            "|<hashtag> a </has...|        1|[{document, 0, 58...|[{token, 0, 8, <h...|[<hashtag>, </has...|\n",
            "|<hashtag> a1 </ha...|        0|[{document, 0, 12...|[{token, 0, 8, <h...|[<hashtag>, a1, <...|\n",
            "|<hashtag> a1 </ha...|        0|[{document, 0, 10...|[{token, 0, 8, <h...|[<hashtag>, a1, <...|\n",
            "|<hashtag> aprilia...|        0|[{document, 0, 53...|[{token, 0, 8, <h...|[<hashtag>, april...|\n",
            "|<hashtag> agri co...|        0|[{document, 0, 15...|[{token, 0, 8, <h...|[<hashtag>, agri,...|\n",
            "|<hashtag> algeria...|        0|[{document, 0, 12...|[{token, 0, 8, <h...|[<hashtag>, alger...|\n",
            "|<hashtag> alpin i...|        1|[{document, 0, 15...|[{token, 0, 8, <h...|[<hashtag>, alpin...|\n",
            "|<hashtag> amici21...|        0|[{document, 0, 72...|[{token, 0, 8, <h...|[<hashtag>, amici...|\n",
            "|<hashtag> amici21...|        0|[{document, 0, 16...|[{token, 0, 8, <h...|[<hashtag>, amici...|\n",
            "|<hashtag> amici21...|        0|[{document, 0, 27...|[{token, 0, 8, <h...|[<hashtag>, amici...|\n",
            "|<hashtag> arm i <...|        1|[{document, 0, 17...|[{token, 0, 8, <h...|[<hashtag>, arm, ...|\n",
            "|<hashtag> arm i <...|        1|[{document, 0, 26...|[{token, 0, 8, <h...|[<hashtag>, arm, ...|\n",
            "|<hashtag> aro </h...|        0|[{document, 0, 23...|[{token, 0, 8, <h...|[<hashtag>, aro, ...|\n",
            "|<hashtag> bergamo...|        0|[{document, 0, 11...|[{token, 0, 8, <h...|[<hashtag>, berga...|\n",
            "|<hashtag> bergamo...|        0|[{document, 0, 11...|[{token, 0, 8, <h...|[<hashtag>, berga...|\n",
            "|<hashtag> bergamo...|        0|[{document, 0, 27...|[{token, 0, 8, <h...|[<hashtag>, berga...|\n",
            "|<hashtag> bin de ...|        1|[{document, 0, 10...|[{token, 0, 8, <h...|[<hashtag>, bin, ...|\n",
            "+--------------------+---------+--------------------+--------------------+--------------------+\n",
            "only showing top 20 rows\n",
            "\n"
          ]
        }
      ]
    },
    {
      "cell_type": "code",
      "source": [
        "# let's write the data into a file so that we don't have to repeat these steps \n",
        "df_fitted.write.parquet(DRIVE_FOLDER + \"result_processed\")"
      ],
      "metadata": {
        "id": "g2XBbOnhETPT"
      },
      "execution_count": null,
      "outputs": []
    },
    {
      "cell_type": "code",
      "source": [
        "df_fitted.unpersist()\n",
        "df_process.unpersist()\n",
        "df_spell.unpersist()\n",
        "\n",
        "\n",
        "del df_embeddings\n",
        "del df_process\n",
        "del df_fitted\n",
        "\n",
        "gc.collect()"
      ],
      "metadata": {
        "colab": {
          "base_uri": "https://localhost:8080/"
        },
        "id": "DEuq1iJDH6cR",
        "outputId": "350211d5-cd7f-4d7a-dab3-3c3a266fd39d"
      },
      "execution_count": null,
      "outputs": [
        {
          "output_type": "execute_result",
          "data": {
            "text/plain": [
              "848"
            ]
          },
          "metadata": {},
          "execution_count": 110
        }
      ]
    },
    {
      "cell_type": "markdown",
      "source": [
        "# Choosing the best model"
      ],
      "metadata": {
        "id": "z9_kRE1T7MUj"
      }
    },
    {
      "cell_type": "code",
      "source": [
        "import torch\n",
        "import torch.nn as nn\n",
        "import torch.nn.functional as F\n",
        "import torch.optim as optim\n",
        "\n",
        "import numpy as np\n",
        "\n",
        "from sparktorch import serialize_torch_obj, SparkTorch\n",
        "\n",
        "from pyspark.ml.classification import LogisticRegression\n",
        "\n",
        "from pyspark.ml.feature import VectorAssembler\n",
        "from pyspark.sql.functions import udf\n",
        "from pyspark.ml.feature import Word2Vec\n",
        "from pyspark.ml.pipeline import Pipeline\n",
        "\n",
        "from sklearn.metrics import classification_report\n",
        "from sklearn.utils.class_weight import compute_class_weight\n",
        "\n",
        "import pandas as pd\n",
        "import numpy as np\n",
        "\n",
        "import torch\n",
        "import torch.nn as nn\n",
        "import torch.optim as optim\n",
        "\n",
        "import re\n",
        "from pyspark.ml.linalg import Vectors, VectorUDT\n",
        "\n",
        "\n",
        "from pyspark.ml.classification import LogisticRegression\n",
        "from pyspark.ml.tuning import ParamGridBuilder, CrossValidator\n",
        "from pyspark.ml.evaluation import BinaryClassificationEvaluator\n",
        "from pyspark.mllib.evaluation import BinaryClassificationMetrics"
      ],
      "metadata": {
        "id": "n3enicPJ7ZLl"
      },
      "execution_count": 20,
      "outputs": []
    },
    {
      "cell_type": "code",
      "source": [
        "df = spark.read.parquet(DRIVE_FOLDER + \"result_processed\")"
      ],
      "metadata": {
        "id": "j-L_UA4-HLp_"
      },
      "execution_count": 21,
      "outputs": []
    },
    {
      "cell_type": "code",
      "source": [
        "y = df.select(col('sarcastic').cast(FloatType())).toPandas().values.reshape(-1)\n",
        "y"
      ],
      "metadata": {
        "colab": {
          "base_uri": "https://localhost:8080/"
        },
        "id": "CfJS-Dr7aGoS",
        "outputId": "479f1632-343d-467e-db71-dc384d35d5a3"
      },
      "execution_count": 22,
      "outputs": [
        {
          "output_type": "execute_result",
          "data": {
            "text/plain": [
              "array([0., 0., 1., ..., 1., 1., 1.], dtype=float32)"
            ]
          },
          "metadata": {},
          "execution_count": 22
        }
      ]
    },
    {
      "cell_type": "code",
      "source": [
        "class_weights = compute_class_weight('balanced',\n",
        "                                     classes=[1.0,0.0],\n",
        "                                     y=y)\n",
        "class_weights=torch.tensor(class_weights,dtype=torch.float)\n",
        "\n",
        "class_weights"
      ],
      "metadata": {
        "colab": {
          "base_uri": "https://localhost:8080/"
        },
        "id": "Rud7tTtuZJE_",
        "outputId": "820b16ca-c602-4691-f049-fc56f0cee977"
      },
      "execution_count": 23,
      "outputs": [
        {
          "output_type": "execute_result",
          "data": {
            "text/plain": [
              "tensor([1.6974, 0.7088])"
            ]
          },
          "metadata": {},
          "execution_count": 23
        }
      ]
    },
    {
      "cell_type": "markdown",
      "source": [
        "## Neural Network\n"
      ],
      "metadata": {
        "id": "TpDV9JswWCwT"
      }
    },
    {
      "cell_type": "markdown",
      "source": [
        "### Word embedding"
      ],
      "metadata": {
        "id": "KUJPIdPx7bc3"
      }
    },
    {
      "cell_type": "markdown",
      "source": [
        "In order to feed the tokens to a neural network, we have to transform them into numbers. To accomplish this task, the Word2Vec approach has been used."
      ],
      "metadata": {
        "id": "o6egjshMlJ20"
      }
    },
    {
      "cell_type": "code",
      "source": [
        "embeddings = Word2VecApproach() \\\n",
        "    .setInputCols([\"clean_lemma\"]) \\\n",
        "    .setOutputCol(\"embeddings\")\\\n",
        "    .setVectorSize(100)\n",
        "\n",
        "embeddingsSentence = SentenceEmbeddings() \\\n",
        "    .setInputCols([\"document\", \"embeddings\"]) \\\n",
        "    .setOutputCol(\"sentence_embeddings\") \\\n",
        "    .setPoolingStrategy(\"AVERAGE\")\n",
        "\n",
        "embeddingsFinisher = EmbeddingsFinisher() \\\n",
        "   .setInputCols(\"sentence_embeddings\") \\\n",
        "   .setOutputCols(\"finished_sentence_embeddings\") \\\n",
        "   .setOutputAsVector(True) \\\n",
        "   .setCleanAnnotations(False)"
      ],
      "metadata": {
        "id": "oZe8_74sCM0J"
      },
      "execution_count": 29,
      "outputs": []
    },
    {
      "cell_type": "code",
      "source": [
        "pipeline = Pipeline(stages=[embeddings, embeddingsSentence, embeddingsFinisher])"
      ],
      "metadata": {
        "id": "OU3-thn_7OBb"
      },
      "execution_count": 30,
      "outputs": []
    },
    {
      "cell_type": "code",
      "source": [
        "df_embeddings = pipeline.fit(df).transform(df)"
      ],
      "metadata": {
        "id": "5YAyhcC_7qmn"
      },
      "execution_count": 31,
      "outputs": []
    },
    {
      "cell_type": "code",
      "source": [
        "df_embeddings.cache()\n",
        "df_embeddings.select('finished_sentence_embeddings').show(15, truncate=False)"
      ],
      "metadata": {
        "colab": {
          "base_uri": "https://localhost:8080/"
        },
        "id": "rgvZO5UMMrzF",
        "outputId": "e283bca4-81ff-4be9-98f8-61b3904b4da5"
      },
      "execution_count": 32,
      "outputs": [
        {
          "output_type": "stream",
          "name": "stdout",
          "text": [
            "+---------------------------------------------------------------------------------------------------------------------------------------------------------------------------------------------------------------------------------------------------------------------------------------------------------------------------------------------------------------------------------------------------------------------------------------------------------------------------------------------------------------------------------------------------------------------------------------------------------------------------------------------------------------------------------------------------------------------------------------------------------------------------------------------------------------------------------------------------------------------------------------------------------------------------------------------------------------------------------------------------------------------------------------------------------------------------------------------------------------------------------------------------------------------------------------------------------------------------------------------------------------------------------------------------------------------------------------------------------------------------------------------------------------------------------------------------------------------------------------------------------------------------------------------------------------------------------------------------------------------------------------------------------------------------------------------------------------------------------------------------------------------------------------------------------------------------------------------------------------------------------------------------------------------------------------------------------------------------------------------------------------------------------------------------------------------------------------------------------------------------------------------------------------------------------------------------------------------------------------------+\n",
            "|finished_sentence_embeddings                                                                                                                                                                                                                                                                                                                                                                                                                                                                                                                                                                                                                                                                                                                                                                                                                                                                                                                                                                                                                                                                                                                                                                                                                                                                                                                                                                                                                                                                                                                                                                                                                                                                                                                                                                                                                                                                                                                                                                                                                                                                                                                                                                                                                 |\n",
            "+---------------------------------------------------------------------------------------------------------------------------------------------------------------------------------------------------------------------------------------------------------------------------------------------------------------------------------------------------------------------------------------------------------------------------------------------------------------------------------------------------------------------------------------------------------------------------------------------------------------------------------------------------------------------------------------------------------------------------------------------------------------------------------------------------------------------------------------------------------------------------------------------------------------------------------------------------------------------------------------------------------------------------------------------------------------------------------------------------------------------------------------------------------------------------------------------------------------------------------------------------------------------------------------------------------------------------------------------------------------------------------------------------------------------------------------------------------------------------------------------------------------------------------------------------------------------------------------------------------------------------------------------------------------------------------------------------------------------------------------------------------------------------------------------------------------------------------------------------------------------------------------------------------------------------------------------------------------------------------------------------------------------------------------------------------------------------------------------------------------------------------------------------------------------------------------------------------------------------------------------+\n",
            "|[[-0.025423988699913025,0.009470736607909203,0.005137912463396788,-0.0035136316437274218,-0.037948984652757645,0.015587643720209599,-0.0473012700676918,0.021750489249825478,-0.003691966412588954,-0.04947682097554207,-0.03305191174149513,0.03620591759681702,-0.003036932088434696,0.007895741611719131,-0.007915015332400799,-0.01117664948105812,-0.0035557234659790993,0.01832418330013752,0.02849573642015457,0.007954251952469349,0.014168589375913143,-0.017030660063028336,-0.001069311867468059,-0.009325259365141392,-0.022962065413594246,-0.0021629254333674908,0.011585361324250698,-0.027098892256617546,-0.0331214964389801,0.017744140699505806,-0.005327790509909391,-0.028097515925765038,-0.010815238580107689,-0.0031020452734082937,-0.03306630998849869,0.0035849944688379765,-0.012497251853346825,-0.0267027597874403,-0.01576865278184414,-0.009303195402026176,0.025882987305521965,0.013128508813679218,0.004462534561753273,0.0037962167989462614,0.006859034299850464,-0.0021878541447222233,-0.01478959433734417,-0.02647942304611206,0.0024075249675661325,-0.013298127800226212,0.01643352583050728,-0.011173093691468239,0.021443994715809822,0.013992861844599247,-0.01323818787932396,-0.02792682871222496,-0.0076065161265432835,0.0051385797560215,-0.0026497573126107454,0.013838939368724823,0.011402172967791557,-0.006904171779751778,-0.021250110119581223,-0.009306135587394238,0.026774585247039795,0.0035717999562621117,7.398598245345056E-4,-5.021425895392895E-4,-0.012300518341362476,-0.029331134632229805,-0.01766788400709629,-0.014194571413099766,0.016059979796409607,0.010428404435515404,-0.01016427855938673,-0.013104597106575966,0.0030539955478161573,-0.005079417023807764,0.028709376230835915,-0.0030577415600419044,0.018289070576429367,-0.017166955396533012,-0.01802903600037098,0.014862715266644955,-0.01691289246082306,-0.00718421395868063,-0.006079224869608879,-0.024454720318317413,0.005661380477249622,0.008091789670288563,-0.00791633129119873,0.021418944001197815,0.012477811425924301,0.0251704640686512,0.005367986857891083,-0.00931058544665575,-0.017675133422017097,0.008770938962697983,-0.01761908456683159,0.00704982690513134]]               |\n",
            "|[[0.01708064414560795,0.014206066727638245,0.029749209061264992,-0.004296376369893551,-0.03052658587694168,0.018801912665367126,-0.010287357494235039,0.009226358495652676,0.008807494305074215,-0.021006740629673004,-0.023455319926142693,0.0064537920989096165,-0.02629614621400833,-0.02739410474896431,-0.016138704493641853,-0.04400443658232689,0.012572766281664371,0.0017684906488284469,0.04174619913101196,-8.398322388529778E-4,0.028157422319054604,0.024590885266661644,0.008505136705935001,-0.026152152568101883,-0.009037631563842297,0.025803618133068085,-0.00597174558788538,0.0025569309946149588,0.01657864823937416,0.04388829693198204,-0.0055872537195682526,-0.015566414222121239,-0.005855648312717676,-0.0013419744791463017,0.0051129842177033424,0.0034920615144073963,-0.002231607912108302,-0.025159768760204315,-0.008321049623191357,-2.535551320761442E-4,-0.0047687082551419735,8.728490793146193E-4,-0.01688118278980255,0.0249074287712574,0.00470349658280611,0.010943465866148472,-0.017638519406318665,-0.024773353710770607,-0.012827062048017979,1.0548054706305265E-4,0.024071432650089264,-0.031871624290943146,0.0417817048728466,-0.008533811196684837,0.016295399516820908,-0.018656020984053612,0.020864326506853104,0.029468577355146408,-0.007354378700256348,-0.05158591270446777,-0.005202133674174547,0.010635482147336006,0.00782795250415802,-0.03485901653766632,-0.0025927757378667593,0.03192541003227234,0.02148476429283619,-0.02318263053894043,0.012930203229188919,-0.025504345074295998,0.012069505639374256,-0.022170377895236015,-0.002028687624260783,-0.021489765495061874,-0.01647311821579933,-0.03274351730942726,0.013148127123713493,0.013281027786433697,-0.02104034833610058,0.005738272797316313,0.03206782415509224,-0.003222760045900941,-0.007443965878337622,0.0018287659622728825,-0.005680822767317295,-0.03886869177222252,0.00782687496393919,0.03322911635041237,0.003859894350171089,-0.025357533246278763,-0.034817878156900406,-0.018258148804306984,0.03933516889810562,0.009620471857488155,-0.017935601994395256,0.0065814051777124405,0.014785386621952057,-0.0026492755860090256,-0.010108490474522114,-0.0032640418503433466]]                |\n",
            "|[[-0.04204521328210831,0.011024787090718746,0.00845038890838623,-0.007401636335998774,-0.05592026188969612,0.011522707529366016,-0.055300015956163406,0.03191670775413513,-0.0042608994990587234,-0.050460729748010635,-0.05267751216888428,0.028784099966287613,0.001528050284832716,-0.02324824407696724,-0.01602635346353054,-0.03638245165348053,0.003057508496567607,0.013669351115822792,0.05224304646253586,0.01657070219516754,0.027405887842178345,-0.019958332180976868,0.010237550362944603,-0.01420065388083458,-0.042985428124666214,-0.006810203194618225,0.0244801864027977,-0.03569038584828377,-0.03802857920527458,0.05093635618686676,-0.001348751364275813,-0.02403648942708969,-0.02710605226457119,-0.0016314300009980798,-0.045886676758527756,0.005605172831565142,-0.01597164012491703,-0.032651592046022415,-0.03378286957740784,-0.015836594626307487,0.027206923812627792,0.018942857161164284,0.005394039675593376,0.001105193980038166,0.009883887134492397,-0.002871690085157752,-0.01312636211514473,-0.03071986883878708,-0.011435532942414284,-0.02383330464363098,0.02004014328122139,-0.026166439056396484,0.04305296763777733,0.005915173329412937,-0.01890760287642479,-0.057054921984672546,-8.099679835140705E-4,0.005097059532999992,0.0015074012335389853,0.003260314930230379,-0.01124897412955761,0.00904424861073494,-0.009318345226347446,-0.020017031580209732,0.027964383363723755,0.006362750194966793,0.02954857423901558,0.006969080306589603,0.014156747609376907,-0.03898143023252487,-0.021182775497436523,-0.016770316287875175,0.02276831679046154,0.010749703273177147,-0.004649320151656866,-0.018673699349164963,-0.008687281981110573,-0.006104240193963051,0.0358390174806118,-0.001240103505551815,0.022756371647119522,-0.03534648194909096,-0.028141595423221588,0.008051129058003426,-0.016483163461089134,-0.010893329046666622,-0.013258185237646103,-0.03540926054120064,0.010875366628170013,-0.006897637154906988,-0.017583543434739113,0.030078787356615067,0.021577665582299232,0.01749844290316105,0.00820137932896614,-0.013506115414202213,-0.025304265320301056,0.004973471164703369,-0.028564980253577232,0.02309395931661129]]                                 |\n",
            "|[[-0.031958386301994324,0.009085196070373058,0.013885668478906155,-0.013897399418056011,-0.041623882949352264,0.012329819612205029,-0.05576954409480095,0.022440442815423012,-0.005551316309720278,-0.04578797519207001,-0.04522811993956566,0.030400089919567108,-0.0021834124345332384,0.006648262497037649,-0.0115028852596879,-0.01346262264996767,-0.0034992431756109,0.015352848917245865,0.04782600700855255,0.006523722317069769,0.013972935266792774,-0.01377031672745943,0.005291072651743889,0.009860356338322163,-0.019033491611480713,-0.01750878058373928,0.010519415140151978,-0.035124655812978745,-0.03288209065794945,0.03151160851120949,-0.007262056693434715,-0.01980333961546421,-0.01087641716003418,-0.0034926000516861677,-0.040216680616140366,-0.011059767566621304,-0.016047656536102295,-0.032236192375421524,-0.015430388040840626,-0.004050987306982279,0.022357450798153877,0.022447459399700165,0.0062408894300460815,0.004214756656438112,-0.00251152366399765,-0.014712546952068806,-0.023772776126861572,-0.028573153540492058,0.00908359419554472,-0.021008091047406197,0.0040750689804553986,-0.018969057127833366,0.030987737700343132,0.02385818026959896,-0.012500609271228313,-0.038137342780828476,-0.012414886616170406,0.007494504097849131,0.015163195319473743,0.017404597252607346,0.021392904222011566,-0.0023825280368328094,-0.027574000880122185,0.004434279631823301,0.017032595351338387,-0.0047002010978758335,-0.001348903402686119,-0.00590086355805397,0.0024107748176902533,-0.022457996383309364,-0.020811082795262337,-0.025243202224373817,0.015108407475054264,0.019999012351036072,-0.007564007770270109,-0.014351894147694111,0.004931750241667032,-0.005839969962835312,0.02900238148868084,-0.001704456633888185,0.007275795564055443,-0.03438493236899376,-0.02716999314725399,0.0054536121897399426,-0.00990337785333395,6.48949237074703E-4,0.007934718392789364,-0.021314874291419983,0.00631573935970664,0.014980143867433071,-0.00590197229757905,0.04461272433400154,0.0011770062847062945,0.029503995552659035,0.01841401867568493,-0.01444800291210413,-0.013255171477794647,0.0012803681893274188,-0.013924072496592999,0.018341274932026863]]                  |\n",
            "|[[-0.01378736924380064,0.00713732372969389,0.006271126214414835,-0.00623265141621232,-0.026227489113807678,0.0014381047803908587,-0.019379030913114548,0.00994428712874651,0.00264269532635808,-0.029062515124678612,-0.02160540036857128,0.014490860514342785,-0.0047247521579265594,-0.008230236358940601,-0.007941358722746372,-0.015976140275597572,9.25292435567826E-4,0.00860561989247799,0.024137932807207108,0.004041346721351147,0.01883048005402088,-0.00532658863812685,0.0016025496879592538,-0.012602497823536396,-0.008110277354717255,0.0010987239656969905,0.003883959027007222,-0.012789425440132618,-0.008543447591364384,0.023706089705228806,-0.004113770090043545,-0.015206614509224892,-0.00557610671967268,-0.0031686846632510424,-0.022663898766040802,0.0033150925301015377,-0.006033687386661768,-0.013820551335811615,-0.014112429693341255,-0.010219382122159004,0.011305167339742184,0.012209273874759674,-0.002396645490080118,0.005738550331443548,0.006356913596391678,0.0035658651031553745,-0.006721113808453083,-0.013756620697677135,-0.0017406049882993102,-0.007460550405085087,0.00831218995153904,-0.012639738619327545,0.016371257603168488,0.00518811447545886,-0.0035049165599048138,-0.020900916308164597,0.002931516384705901,0.008529731072485447,0.0011776582105085254,-0.008485553786158562,0.001974130980670452,-0.0020683309994637966,-0.010545678436756134,-0.009901177138090134,0.009033777751028538,0.006012294441461563,0.006609581410884857,-0.00493280217051506,0.007728769443929195,-0.022311966866254807,-0.009464271366596222,-0.0061924876645207405,0.005636558867990971,0.006729389540851116,-0.002751297550275922,-0.01523521263152361,-3.4204794792458415E-4,-0.0018089875811710954,0.011739932000637054,0.0025715120136737823,0.013237659819424152,-0.015338311903178692,-0.012188635766506195,0.00864667259156704,-9.585227817296982E-4,-0.013004343025386333,0.004363876301795244,-0.007923504337668419,0.006623761262744665,4.7328550135716796E-4,-0.00811595469713211,0.012086011469364166,0.017315026372671127,0.010074399411678314,0.006288859993219376,-0.007587780244648457,-0.007982978597283363,0.002266144612804055,-0.009132476523518562,0.006439292337745428]]  |\n",
            "|[[-0.01508787740021944,0.01360334362834692,0.025092944502830505,-0.007677879650145769,-0.048749636858701706,0.008091297931969166,-0.031609904021024704,0.02009667083621025,0.0036882113199681044,-0.03810523822903633,-0.04451971501111984,0.020844757556915283,-0.011343196965754032,-0.023483021184802055,-0.018627868965268135,-0.036351919174194336,-0.0010412875562906265,0.010336077772080898,0.05666765198111534,0.005023132544010878,0.03128156438469887,-0.011322593316435814,0.006135200150310993,-0.017376959323883057,-0.018885154277086258,-0.008474591188132763,1.4483237464446574E-4,-0.01783675327897072,-0.01113111525774002,0.04962438344955444,-0.00817075278609991,-0.012598824687302113,-0.015154161490499973,-0.006190694402903318,-0.030506204813718796,-5.519467522390187E-4,-0.0128277987241745,-0.024962399154901505,-0.016593487933278084,-0.018493780866265297,0.011090697720646858,0.027799418196082115,-0.013397914357483387,0.018439901992678642,0.002227633725851774,-8.132319198921323E-4,-0.02171216532588005,-0.029941771179437637,-8.815095643512905E-4,-0.008900928311049938,0.010634436272084713,-0.03335195779800415,0.037750668823719025,0.006714281626045704,0.011777008883655071,-0.04502921923995018,0.005952987354248762,0.017381073907017708,9.875340620055795E-4,-0.015379860997200012,0.008612836711108685,0.010104773566126823,-0.018022408708930016,-0.01631598360836506,0.006715047173202038,0.013916424475610256,0.008625312708318233,-0.018391834571957588,0.015300409868359566,-0.03276710957288742,-0.011355777271091938,-0.025606179609894753,0.0131398169323802,0.0031324210576713085,-2.184760378440842E-4,-0.0291884895414114,0.009675062261521816,0.012246327474713326,0.015268811024725437,9.643174707889557E-4,0.02159305475652218,-0.02709829993546009,-0.02210136130452156,-0.002204358112066984,-0.0026840977370738983,-0.02522018551826477,0.004592030309140682,-0.00626325560733676,0.013567334972321987,-0.00183124840259552,-0.015802612528204918,0.025183824822306633,0.028117427602410316,0.023357700556516647,0.0018473155796527863,-0.007287559099495411,-0.0031456619035452604,-0.002860378473997116,-0.015074575319886208,0.012470267713069916]]                   |\n",
            "|[[0.006862292997539043,0.0065201520919799805,0.025473782792687416,-0.0036397231742739677,-0.01617840863764286,0.018242934718728065,-0.029546331614255905,0.011017026379704475,1.1006592831108719E-4,-0.022591466084122658,-0.022231316193938255,0.016766320914030075,-0.012646505609154701,0.0015276405028998852,-0.014782489277422428,-0.025122951716184616,0.00314696435816586,7.455330342054367E-4,0.04137587174773216,0.0010645197471603751,0.01850738562643528,0.008945527486503124,0.005338289774954319,0.006488719489425421,-0.006773820146918297,-0.0017914501950144768,-0.009036651812493801,-0.016512053087353706,-0.011028003878891468,0.025609908625483513,-0.007915698923170567,-0.013845425099134445,-4.1499407961964607E-4,-0.0033800587989389896,-0.006182907614856958,-0.0018289611907675862,-0.014893130399286747,-0.026460787281394005,0.006762850563973188,8.378793718293309E-4,0.002298101084306836,0.012238427065312862,-0.008076085709035397,0.010224616155028343,-0.004078010097146034,-0.007020915392786264,-0.019533755257725716,-0.029108542948961258,0.011310231871902943,-0.0039037910755723715,0.00589656550437212,-0.021806281059980392,0.031864143908023834,0.014188447967171669,-8.269711397588253E-4,-0.02175857126712799,-0.008298013359308243,0.023119069635868073,3.2619069679640234E-4,-0.009495814330875874,0.02406548522412777,0.002140754833817482,-0.005259216297417879,-0.00661805085837841,7.006538799032569E-4,0.01477980799973011,-0.002869483083486557,-0.013275232166051865,0.001017178874462843,-0.014309395104646683,6.877395207993686E-5,-0.026685606688261032,0.0032268101349473,0.0030622498597949743,-0.013505741022527218,-0.014398216269910336,0.012681594118475914,0.008786718361079693,-0.003921301104128361,5.594462854787707E-4,0.019314710050821304,-0.005283539183437824,-0.008902554400265217,-6.678476347588003E-5,-0.007165735587477684,-0.012554097920656204,0.01384795643389225,0.016064153984189034,-0.0048089358024299145,-4.819503228645772E-4,-0.020052233710885048,0.013400274328887463,0.00701545225456357,0.027192648500204086,-0.00557459332048893,-0.0011633771937340498,0.010581879876554012,-0.006267154589295387,-0.01132423896342516,0.0012563266791403294]] |\n",
            "|[[-0.04365136846899986,0.02279176376760006,0.01479332149028778,0.008015013299882412,-0.0619480200111866,0.018926842138171196,-0.09350120276212692,0.019639261066913605,-0.017516151070594788,-0.09807797521352768,-0.0952233299612999,0.08731742948293686,0.02287731133401394,0.018120544031262398,-0.021861610934138298,-0.041500117629766464,-0.02174588479101658,0.04475132003426552,0.07777569442987442,0.034932367503643036,-0.004744248930364847,-0.03248890861868858,-0.025045784190297127,-0.0043718707747757435,-0.044233936816453934,-0.04805929958820343,-0.026740534231066704,-0.07971345633268356,-0.09100144356489182,0.055335234850645065,-0.02031577378511429,-0.047328054904937744,-0.01020603533834219,-0.03142816573381424,-0.08527963608503342,0.0027848510071635246,-0.04289182648062706,-0.06602591276168823,-0.021852953359484673,-0.0251294057816267,0.040104303508996964,0.059391383081674576,-3.304524871055037E-4,-0.018601320683956146,0.010503130964934826,-0.015339699573814869,-0.04307226464152336,-0.05843820050358772,0.0540061891078949,-0.020197292789816856,-0.022088484838604927,-0.048489704728126526,0.03670448064804077,0.05795903876423836,-0.01512156706303358,-0.088090680539608,-0.042032938450574875,0.025948986411094666,0.0027670192066580057,0.0550772063434124,0.06011224165558815,-0.011382448486983776,-0.05970146879553795,-0.0020631104707717896,0.05724240466952324,-0.019217422232031822,-0.02270633541047573,-0.010261614806950092,-0.024227803573012352,-0.06513351947069168,-0.045641448348760605,-0.02925485372543335,0.045519690960645676,0.03908408805727959,-0.01385211106389761,-0.011837645433843136,0.04138373211026192,3.2393759465776384E-4,0.06466221809387207,-0.006086475681513548,0.004532589111477137,-0.032000843435525894,-0.027872296050190926,0.025157727301120758,-0.03402906283736229,0.0048818644136190414,0.02413642592728138,-0.03403536230325699,0.02382984757423401,0.018131323158740997,0.0268304031342268,0.07409346103668213,0.011736016720533371,0.08527874201536179,0.017376763746142387,-0.024096980690956116,-0.017889270558953285,-0.008894682861864567,-0.0691463053226471,-0.006752459332346916]]                                              |\n",
            "|[[0.025087259709835052,0.019540786743164062,0.03865920379757881,0.013494082726538181,-0.023396629840135574,0.023600708693265915,-0.029790636152029037,0.0020487532019615173,-0.0035479941871017218,-0.036133091896772385,-0.0475432313978672,0.034643448889255524,-0.008672189898788929,-0.006362988613545895,-0.02150685526430607,-0.049794986844062805,-0.010520443320274353,0.018102847039699554,0.0689232125878334,0.011246138252317905,0.011703019961714745,0.01639612391591072,-0.013367678038775921,-0.011201073415577412,-0.005450015887618065,-0.014489333145320415,-0.04528455436229706,-0.02597828395664692,-0.01811404339969158,0.05015546828508377,-0.018819520249962807,-0.012404652312397957,0.006562575697898865,-0.020874477922916412,-0.016068467870354652,-0.003309159306809306,-0.026245739310979843,-0.041499264538288116,0.013347196392714977,-0.011130371131002903,-0.003975993487983942,0.03271770849823952,-0.025533314794301987,0.012231191620230675,-7.907519466243684E-4,-0.0049511222168803215,-0.03706665709614754,-0.042856574058532715,0.04134992137551308,0.0024263658560812473,-0.010025103576481342,-0.05184904485940933,0.042039018124341965,0.030439067631959915,0.028007863089442253,-0.0458882600069046,-0.012716648168861866,0.04740121588110924,-0.005736249033361673,-0.01571422442793846,0.0561857707798481,0.0025490340776741505,-0.02030571922659874,-0.01980743743479252,0.0024799974635243416,0.02115853875875473,-0.015621762722730637,-0.03793667256832123,-0.008945053443312645,-0.03148471936583519,0.002778389258310199,-0.04130881652235985,0.012373048812150955,-0.002306872745975852,-0.01839510165154934,-0.028405029326677322,0.04822411388158798,0.028502177447080612,-0.002453734166920185,-4.221729759592563E-4,0.020811626687645912,6.12210831604898E-4,-0.0031280231196433306,4.949753638356924E-4,-0.013063237071037292,-0.02282514050602913,0.036235831677913666,0.0389862060546875,0.006619215942919254,-0.005558934062719345,-0.005634240340441465,0.01814570464193821,0.024655790999531746,0.05642728507518768,-0.01702691800892353,0.005424967035651207,0.02793317474424839,-0.017277410253882408,-0.035858940333127975,-0.01944907009601593]]                           |\n",
            "|[[-0.01741163060069084,0.007693518418818712,0.005249429494142532,-0.010091371834278107,-0.03616007789969444,0.01252355519682169,-0.031334564089775085,0.018766537308692932,0.002407348481938243,-0.03600257635116577,-0.024790246039628983,0.01941411755979061,-0.007452679798007011,-0.007326184771955013,-0.007865618914365768,-0.018493900075554848,0.008793535642325878,0.005463034845888615,0.02081308886408806,0.0035336692817509174,0.019665958359837532,-0.0036079352721571922,0.006613868288695812,-0.017137741670012474,-0.021663011983036995,0.014788124710321426,0.016322113573551178,-0.010857438668608665,-0.013081647455692291,0.024179967120289803,0.0011845446424558759,-0.024425083771348,-0.010137764737010002,0.004178731236606836,-0.0176713690161705,0.0039488025940954685,-0.005848976317793131,-0.021149612963199615,-0.021571040153503418,-0.0020107540767639875,0.017129801213741302,0.002657444914802909,0.004967453423887491,0.008060057647526264,0.008731361478567123,0.00453269574791193,-0.008302212692797184,-0.021923493593931198,-0.016854990273714066,-0.011867411434650421,0.02361898124217987,-0.012582117691636086,0.02359185367822647,-0.0021536170970648527,-0.013172189705073833,-0.017573172226548195,0.007156606297940016,0.009015687741339207,-7.675377128180116E-5,-0.010611342266201973,-0.010746341198682785,0.0018665461102500558,-0.004651552997529507,-0.019885296002030373,0.016336720436811447,0.009306642226874828,0.01660182885825634,0.005198407452553511,0.007658738177269697,-0.02525346726179123,-0.006111910566687584,-0.007463082671165466,0.006478003226220608,-8.878108928911388E-4,-0.009243037551641464,-0.01190309040248394,-0.0065711550414562225,-0.006961528677493334,0.007725400384515524,0.0027120495215058327,0.020335091277956963,-0.016437659040093422,-0.015139145776629448,0.01383781898766756,-0.010922124609351158,-0.014883388765156269,-0.004898763727396727,-0.011007343418896198,0.0036387285217642784,-0.010300352238118649,-0.019023355096578598,0.0021394838113337755,0.021709948778152466,0.005387299694120884,0.002778159687295556,-0.007530251517891884,-0.016445718705654144,0.007956563495099545,-0.009591903537511826,0.006999334320425987]]       |\n",
            "|[[-0.012260980904102325,0.007014045026153326,0.015350468456745148,-0.03853112459182739,-0.019605372101068497,0.047999486327171326,-0.04955616220831871,0.0430697426199913,0.025388741865754128,-0.037713874131441116,0.006380405277013779,0.040376435965299606,-0.02761559933423996,0.05073981732130051,0.004033019300550222,0.026609240099787712,0.03484324738383293,-0.03199880197644234,0.014892651699483395,-0.0456894226372242,0.04630798473954201,-0.010487627238035202,0.027020525187253952,0.01731684058904648,-0.00797862559556961,0.049893952906131744,0.02900041453540325,-0.005853330250829458,-0.022658970206975937,-0.01782567799091339,0.02207738161087036,-0.047099336981773376,0.022076403722167015,0.0352659747004509,-0.006680172402411699,-0.027086040005087852,-0.008490742184221745,-0.013569670729339123,-0.004185204394161701,0.014413281343877316,0.03372880071401596,0.002448511542752385,0.014683224260807037,0.029567426070570946,-0.019901618361473083,-0.006749589927494526,0.0017505622236058116,-0.05988333001732826,-0.031403400003910065,-0.01122756116092205,0.04356829449534416,0.02191891334950924,0.016560224816203117,-0.001126043382100761,-0.040040213614702225,0.028443152084946632,-0.0070595345459878445,0.015320043079555035,0.015964755788445473,0.009291896596550941,0.02159014157950878,-0.020333493128418922,-0.01819959469139576,-0.004281578119844198,4.059683997184038E-4,0.0023415356408804655,-0.008262792602181435,0.022153763100504875,0.006885102484375238,0.002990598324686289,0.006468925159424543,-0.02867179922759533,-0.019281620159745216,0.011469348333775997,-0.006522044073790312,-0.0015789426397532225,-0.034649766981601715,-0.029903804883360863,-0.022204017266631126,0.013820708729326725,0.05286017805337906,-0.01561862975358963,-0.02514202706515789,0.035980816930532455,0.0060865911655128,-0.0051545025780797005,0.015862509608268738,0.00450777867808938,-0.02486676722764969,0.023072203621268272,-0.06854183971881866,-0.01749216392636299,-0.004854429513216019,0.01179727166891098,0.011883345432579517,-0.02300427481532097,-0.02508964017033577,0.03197759762406349,0.04865078255534172,0.003286234801635146]]                                          |\n",
            "|[[-0.013957151211798191,0.008490536361932755,0.02404138632118702,0.00828858558088541,-0.032897207885980606,0.01541904266923666,-0.04878188297152519,0.019200725480914116,-0.011335670948028564,-0.04522320628166199,-0.03738570958375931,0.03460067883133888,-0.007022716570645571,0.011160559952259064,-0.016111792996525764,-0.008808616548776627,-0.019006451591849327,0.026662545278668404,0.039467953145504,0.00554601801559329,0.00989880133420229,-0.01848190650343895,-0.004514138214290142,-0.003074065549299121,-0.014020338654518127,-0.01693444512784481,-0.007978156208992004,-0.034275420010089874,-0.029401540756225586,0.017005229368805885,-0.0189975593239069,-0.017667138949036598,-0.006116707343608141,-0.007957189343869686,-0.031244643032550812,-0.003160220803692937,-0.019096920266747475,-0.02676289714872837,-2.4565242347307503E-4,-0.01647254452109337,0.025495702400803566,0.02491804026067257,-0.013161261565983295,0.008725294843316078,-0.0029237261041998863,-0.0070716142654418945,-0.02570982277393341,-0.02734292298555374,0.02336285077035427,-8.101382409222424E-4,-1.4283519703894854E-4,-0.01926412247121334,0.02489534765481949,0.032615888863801956,0.0037615171167999506,-0.036788735538721085,-0.021079132333397865,0.0049273367039859295,-0.007731861900538206,0.021568767726421356,0.036950428038835526,-0.0037456636782735586,-0.026650646701455116,8.021891117095947E-4,0.01956581138074398,0.0033793447073549032,-0.019147289916872978,-0.022708812728524208,-0.02123570442199707,-0.021659081801772118,-0.014885206706821918,-0.026447787880897522,0.023658709600567818,0.01608753763139248,-0.005202135536819696,-0.019914060831069946,0.025415785610675812,0.015240608714520931,0.034615449607372284,-0.013332572765648365,0.013452235609292984,-0.011941791512072086,-0.0158526748418808,0.004224447533488274,-0.017739849165081978,-0.010548216290771961,-0.002399015473201871,-0.010694765485823154,5.415105842985213E-4,0.023147350177168846,0.002786630764603615,0.039261531084775925,0.008154583163559437,0.04076278582215309,-0.0028759967535734177,-0.0034581900108605623,-0.0019009477691724896,0.0034616661723703146,-0.017397867515683174,0.0023613034281879663]]           |\n",
            "|[[-0.05106782913208008,0.030931081622838974,0.02937937155365944,0.0034531541168689728,-0.06427762657403946,0.018559139221906662,-0.12316347658634186,0.012117601931095123,-0.02574945241212845,-0.12402793765068054,-0.134189635515213,0.11507869511842728,0.01899157278239727,0.04466249793767929,-0.03282740339636803,-0.03970879316329956,-0.03888143226504326,0.06819573044776917,0.11025688052177429,0.0387733057141304,-0.026107508689165115,-0.034007683396339417,-0.03798384219408035,0.01875126361846924,-0.03604009002447128,-0.07904104143381119,-0.05598893761634827,-0.10660351812839508,-0.10673190653324127,0.06785356998443604,-0.04386409372091293,-0.0460861399769783,0.005453236401081085,-0.04364709183573723,-0.11702311038970947,-0.01946376822888851,-0.05919359624385834,-0.08605101704597473,-0.013312624767422676,-0.029299113899469376,0.0493057556450367,0.08645393699407578,-0.015397319570183754,-0.010186411440372467,0.005907320883125067,-0.023513810709118843,-0.08126386255025864,-0.07092597335577011,0.09749554097652435,-0.020455386489629745,-0.05637113377451897,-0.06574929505586624,0.04313249886035919,0.10317160189151764,0.0063520148396492004,-0.11215870082378387,-0.05894443020224571,0.03393489867448807,0.017514416947960854,0.08611290156841278,0.11852076649665833,-0.023132698610424995,-0.10133258253335953,0.027339452877640724,0.06033914163708687,-0.03631586581468582,-0.06178474798798561,-0.04971090331673622,-0.042926125228405,-0.07632602751255035,-0.05830623209476471,-0.057571496814489365,0.06130508333444595,0.06586527824401855,-0.016359597444534302,-0.02377363294363022,0.07702278345823288,0.014182481914758682,0.0828126072883606,-0.00851424876600504,-0.019979367032647133,-0.04860372841358185,-0.03232748433947563,0.023445118218660355,-0.04235319048166275,0.013747746124863625,0.05238214135169983,-0.021989990025758743,0.03252263739705086,0.052358776330947876,0.052974723279476166,0.11963382363319397,0.001286100596189499,0.12675702571868896,0.031064201146364212,-0.030398791655898094,-0.004372713156044483,-0.015467251650989056,-0.07844199240207672,-0.010081523098051548]]                                                                     |\n",
            "|[[-0.010229256004095078,0.007384082768112421,0.005491168238222599,-0.005139114800840616,-0.029254266992211342,0.008394268341362476,-0.022382594645023346,0.01474362425506115,0.0018008813494816422,-0.022241827100515366,-0.018121466040611267,0.009111321531236172,-0.0069168321788311005,-0.015619821846485138,-0.008602562360465527,-0.02053724229335785,7.643122225999832E-4,0.007075057365000248,0.029189888387918472,0.007037139963358641,0.02441747672855854,-0.006718885153532028,0.006911626551300287,-0.009915170259773731,-0.016221169382333755,0.0015496554551646113,0.0149845527485013,-0.011660064570605755,-0.008123818784952164,0.02568083442747593,0.0010144340340048075,-0.0046072714030742645,-0.013310746289789677,0.0015217072796076536,-0.01432416308671236,0.005493584554642439,-0.005361682269722223,-0.015157616697251797,-0.013233744539320469,-0.008306663483381271,0.006421864498406649,0.004065818153321743,0.0018418732797726989,0.008869859389960766,7.313096430152655E-4,-0.003733475459739566,-0.005436682607978582,-0.015070009976625443,-0.008184450678527355,-0.01309968065470457,0.020113689824938774,-0.011182833462953568,0.026317810639739037,-0.002507503144443035,-0.002320950385183096,-0.022214921191334724,0.0033867578022181988,0.006092981435358524,8.860583329806104E-5,-0.010678330436348915,-0.0071433247067034245,0.004876977298408747,-0.001670084078796208,-0.013584083877503872,0.006749559193849564,0.016762426123023033,0.017119308933615685,-0.0019623569678515196,0.005982363596558571,-0.016395162791013718,-0.0055718934163451195,-0.010242014192044735,0.00830292422324419,-7.83280935138464E-4,-0.004816605243831873,-0.017910057678818703,-0.0038299765437841415,0.0014097725506871939,0.015047772787511349,-0.003404313698410988,0.016930444166064262,-0.0180777870118618,-0.012823861092329025,-0.0011300648329779506,-0.006293189246207476,-0.012197472155094147,-0.00850218627601862,-0.014865848235785961,0.003768590046092868,-0.00476802745833993,-0.01923111267387867,0.010322000831365585,0.015562821179628372,0.008765733800828457,4.50649531558156E-4,-0.002324335975572467,-0.007271911948919296,0.002481623087078333,-0.008999472483992577,0.014224052429199219]]|\n",
            "|[[-0.0011510386830195785,0.011750021949410439,0.0023320571053773165,0.002253949409350753,-0.03172028437256813,0.028442902490496635,-0.04621721804141998,0.014944421127438545,-0.01549345999956131,-0.04763074964284897,-0.015909582376480103,0.032500866800546646,-0.015443249605596066,0.025985825806856155,-0.0015827043680474162,0.0015420254785567522,-0.015318064950406551,0.03498882055282593,0.01575610041618347,0.007773259188979864,-0.001554624643176794,-0.004448144230991602,-0.01182528119534254,-0.013124284334480762,-0.011295473203063011,0.006835979409515858,0.005061656702309847,-0.023223308846354485,-0.023551182821393013,-0.006544958800077438,-0.013112331740558147,-0.02099710702896118,-0.0015375363873317838,-0.0039917826652526855,-0.016649750992655754,0.0015443748561665416,-0.0073833889327943325,-0.02957972325384617,-0.003490051254630089,0.0036837481893599033,0.02133464813232422,-0.006446288898587227,0.011344442144036293,0.00887676328420639,0.0027511538937687874,-0.009410041384398937,-0.02542366459965706,-0.014271685853600502,0.015097216702997684,-0.014389097690582275,0.022336415946483612,-0.0047475979663431644,0.01956983283162117,0.02429269626736641,0.0028733161743730307,-0.006838294677436352,-0.01582001894712448,0.004168176557868719,-0.0023874191101640463,0.015174906700849533,0.026335986331105232,-0.010128924623131752,-0.025124160572886467,7.032771245576441E-4,0.0211282130330801,0.013722915202379227,-0.01159979123622179,-0.02241595834493637,-0.046921804547309875,-0.015470100566744804,-0.0026929008308798075,-0.02073602005839348,0.014183968305587769,0.0049377623945474625,-0.021541323512792587,-0.02329735830426216,0.021407946944236755,0.0019628172740340233,0.03068525530397892,-0.01711629517376423,0.01290541049093008,-0.012604568153619766,-0.013772211968898773,0.015266201458871365,-0.026324691250920296,-0.007620928809046745,-0.01151239313185215,-0.015188595280051231,-4.176846123300493E-4,0.015242519788444042,-0.006680952850729227,0.018007101491093636,0.00549653172492981,0.03324434161186218,-0.0026667993515729904,0.005971768405288458,-0.005703540984541178,0.01348626147955656,-0.010318880900740623,4.988375585526228E-4]]         |\n",
            "+---------------------------------------------------------------------------------------------------------------------------------------------------------------------------------------------------------------------------------------------------------------------------------------------------------------------------------------------------------------------------------------------------------------------------------------------------------------------------------------------------------------------------------------------------------------------------------------------------------------------------------------------------------------------------------------------------------------------------------------------------------------------------------------------------------------------------------------------------------------------------------------------------------------------------------------------------------------------------------------------------------------------------------------------------------------------------------------------------------------------------------------------------------------------------------------------------------------------------------------------------------------------------------------------------------------------------------------------------------------------------------------------------------------------------------------------------------------------------------------------------------------------------------------------------------------------------------------------------------------------------------------------------------------------------------------------------------------------------------------------------------------------------------------------------------------------------------------------------------------------------------------------------------------------------------------------------------------------------------------------------------------------------------------------------------------------------------------------------------------------------------------------------------------------------------------------------------------------------------------------+\n",
            "only showing top 15 rows\n",
            "\n"
          ]
        }
      ]
    },
    {
      "cell_type": "code",
      "source": [
        "vector_length = embeddings.getVectorSize()\n",
        "\n",
        "print(f'Embeddings dimension is set to {vector_length}')"
      ],
      "metadata": {
        "colab": {
          "base_uri": "https://localhost:8080/"
        },
        "id": "UHR7Hbf28XO_",
        "outputId": "d319799e-47d3-49c0-982c-856c9509cc8b"
      },
      "execution_count": 33,
      "outputs": [
        {
          "output_type": "stream",
          "name": "stdout",
          "text": [
            "Embeddings dimension is set to 100\n"
          ]
        }
      ]
    },
    {
      "cell_type": "code",
      "source": [
        "# explode the resulting column and transform to a vector\n",
        "result_df = df_embeddings.select(col('sarcastic').alias('label'),\n",
        "                                 explode(df_embeddings.finished_sentence_embeddings).alias('features'))\\\n",
        "                          .withColumn(\"features\", vector_to_array(\"features\"))"
      ],
      "metadata": {
        "id": "kUjg6Ke6DtAx"
      },
      "execution_count": 34,
      "outputs": []
    },
    {
      "cell_type": "code",
      "source": [
        "result_df.show(5)"
      ],
      "metadata": {
        "colab": {
          "base_uri": "https://localhost:8080/"
        },
        "id": "RtpJg38tD64I",
        "outputId": "5d322756-92c1-46ab-8758-85b679c5094f"
      },
      "execution_count": 35,
      "outputs": [
        {
          "output_type": "stream",
          "name": "stdout",
          "text": [
            "+-----+--------------------+\n",
            "|label|            features|\n",
            "+-----+--------------------+\n",
            "|    0|[-0.0254239886999...|\n",
            "|    0|[0.01708064414560...|\n",
            "|    1|[-0.0420452132821...|\n",
            "|    0|[-0.0319583863019...|\n",
            "|    1|[-0.0137873692438...|\n",
            "+-----+--------------------+\n",
            "only showing top 5 rows\n",
            "\n"
          ]
        }
      ]
    },
    {
      "cell_type": "code",
      "source": [
        "# split the vector \n",
        "df_expr = result_df.select(['label']+[expr('features[' + str(x) + ']') for x in range(vector_length)])"
      ],
      "metadata": {
        "id": "Hu4FQolGEyVE"
      },
      "execution_count": 36,
      "outputs": []
    },
    {
      "cell_type": "code",
      "source": [
        "df_expr.cache()\n",
        "df_expr.show(5)"
      ],
      "metadata": {
        "colab": {
          "base_uri": "https://localhost:8080/"
        },
        "id": "l3icjC9rH2Q6",
        "outputId": "2ff00be3-c05b-4dc9-9bc6-42925a4a88f1"
      },
      "execution_count": 37,
      "outputs": [
        {
          "output_type": "stream",
          "name": "stdout",
          "text": [
            "+-----+--------------------+--------------------+--------------------+--------------------+--------------------+--------------------+--------------------+--------------------+--------------------+--------------------+--------------------+--------------------+--------------------+--------------------+--------------------+--------------------+--------------------+--------------------+--------------------+--------------------+--------------------+--------------------+--------------------+--------------------+--------------------+--------------------+--------------------+--------------------+--------------------+--------------------+--------------------+--------------------+--------------------+--------------------+--------------------+--------------------+--------------------+--------------------+--------------------+--------------------+--------------------+--------------------+--------------------+--------------------+--------------------+--------------------+--------------------+--------------------+--------------------+--------------------+--------------------+--------------------+--------------------+--------------------+--------------------+--------------------+--------------------+--------------------+--------------------+--------------------+--------------------+--------------------+--------------------+--------------------+--------------------+--------------------+--------------------+--------------------+--------------------+--------------------+--------------------+--------------------+--------------------+--------------------+--------------------+--------------------+--------------------+--------------------+--------------------+--------------------+--------------------+--------------------+--------------------+--------------------+--------------------+--------------------+--------------------+--------------------+--------------------+--------------------+--------------------+--------------------+--------------------+--------------------+--------------------+--------------------+--------------------+--------------------+--------------------+--------------------+\n",
            "|label|         features[0]|         features[1]|         features[2]|         features[3]|         features[4]|         features[5]|         features[6]|         features[7]|         features[8]|         features[9]|        features[10]|        features[11]|        features[12]|        features[13]|        features[14]|        features[15]|        features[16]|        features[17]|        features[18]|        features[19]|        features[20]|        features[21]|        features[22]|        features[23]|        features[24]|        features[25]|        features[26]|        features[27]|        features[28]|        features[29]|        features[30]|        features[31]|        features[32]|        features[33]|        features[34]|        features[35]|        features[36]|        features[37]|        features[38]|        features[39]|        features[40]|        features[41]|        features[42]|        features[43]|        features[44]|        features[45]|        features[46]|        features[47]|        features[48]|        features[49]|        features[50]|        features[51]|        features[52]|        features[53]|        features[54]|        features[55]|        features[56]|        features[57]|        features[58]|        features[59]|        features[60]|        features[61]|        features[62]|        features[63]|        features[64]|        features[65]|        features[66]|        features[67]|        features[68]|        features[69]|        features[70]|        features[71]|        features[72]|        features[73]|        features[74]|        features[75]|        features[76]|        features[77]|        features[78]|        features[79]|        features[80]|        features[81]|        features[82]|        features[83]|        features[84]|        features[85]|        features[86]|        features[87]|        features[88]|        features[89]|        features[90]|        features[91]|        features[92]|        features[93]|        features[94]|        features[95]|        features[96]|        features[97]|        features[98]|        features[99]|\n",
            "+-----+--------------------+--------------------+--------------------+--------------------+--------------------+--------------------+--------------------+--------------------+--------------------+--------------------+--------------------+--------------------+--------------------+--------------------+--------------------+--------------------+--------------------+--------------------+--------------------+--------------------+--------------------+--------------------+--------------------+--------------------+--------------------+--------------------+--------------------+--------------------+--------------------+--------------------+--------------------+--------------------+--------------------+--------------------+--------------------+--------------------+--------------------+--------------------+--------------------+--------------------+--------------------+--------------------+--------------------+--------------------+--------------------+--------------------+--------------------+--------------------+--------------------+--------------------+--------------------+--------------------+--------------------+--------------------+--------------------+--------------------+--------------------+--------------------+--------------------+--------------------+--------------------+--------------------+--------------------+--------------------+--------------------+--------------------+--------------------+--------------------+--------------------+--------------------+--------------------+--------------------+--------------------+--------------------+--------------------+--------------------+--------------------+--------------------+--------------------+--------------------+--------------------+--------------------+--------------------+--------------------+--------------------+--------------------+--------------------+--------------------+--------------------+--------------------+--------------------+--------------------+--------------------+--------------------+--------------------+--------------------+--------------------+--------------------+--------------------+--------------------+\n",
            "|    0|-0.02542398869991...|0.009470736607909203|0.005137912463396788|-0.00351363164372...|-0.03794898465275...|0.015587643720209599| -0.0473012700676918|0.021750489249825478|-0.00369196641258...|-0.04947682097554207|-0.03305191174149513| 0.03620591759681702|-0.00303693208843...|0.007895741611719131|-0.00791501533240...|-0.01117664948105812|-0.00355572346597...| 0.01832418330013752| 0.02849573642015457|0.007954251952469349|0.014168589375913143|-0.01703066006302...|-0.00106931186746...|-0.00932525936514...|-0.02296206541359...|-0.00216292543336...|0.011585361324250698|-0.02709889225661...| -0.0331214964389801|0.017744140699505806|-0.00532779050990...|-0.02809751592576...|-0.01081523858010...|-0.00310204527340...|-0.03306630998849869|0.003584994468837...|-0.01249725185334...| -0.0267027597874403|-0.01576865278184414|-0.00930319540202...|0.025882987305521965|0.013128508813679218|0.004462534561753273|0.003796216798946...|0.006859034299850464|-0.00218785414472...|-0.01478959433734417|-0.02647942304611206|0.002407524967566...|-0.01329812780022...| 0.01643352583050728|-0.01117309369146...|0.021443994715809822|0.013992861844599247|-0.01323818787932396|-0.02792682871222496|-0.00760651612654...|  0.0051385797560215|-0.00264975731261...|0.013838939368724823|0.011402172967791557|-0.00690417177975...|-0.02125011011958...|-0.00930613558739...|0.026774585247039795|0.003571799956262...|7.398598245345056E-4|-5.02142589539289...|-0.01230051834136...|-0.02933113463222...|-0.01766788400709629|-0.01419457141309...|0.016059979796409607|0.010428404435515404|-0.01016427855938673|-0.01310459710657...|0.003053995547816...|-0.00507941702380...|0.028709376230835915|-0.00305774156004...|0.018289070576429367|-0.01716695539653...|-0.01802903600037098|0.014862715266644955|-0.01691289246082306|-0.00718421395868063|-0.00607922486960...|-0.02445472031831...|0.005661380477249622|0.008091789670288563|-0.00791633129119873|0.021418944001197815|0.012477811425924301|  0.0251704640686512|0.005367986857891083|-0.00931058544665575|-0.01767513342201...|0.008770938962697983|-0.01761908456683159| 0.00704982690513134|\n",
            "|    0| 0.01708064414560795|0.014206066727638245|0.029749209061264992|-0.00429637636989...|-0.03052658587694168|0.018801912665367126|-0.01028735749423...|0.009226358495652676|0.008807494305074215|-0.02100674062967...|-0.02345531992614...|0.006453792098909...|-0.02629614621400833|-0.02739410474896431|-0.01613870449364...|-0.04400443658232689|0.012572766281664371|0.001768490648828...| 0.04174619913101196|-8.39832238852977...|0.028157422319054604|0.024590885266661644|0.008505136705935001|-0.02615215256810...|-0.00903763156384...|0.025803618133068085|-0.00597174558788538|0.002556930994614...| 0.01657864823937416| 0.04388829693198204|-0.00558725371956...|-0.01556641422212...|-0.00585564831271...|-0.00134197447914...|0.005112984217703...|0.003492061514407...|-0.00223160791210...|-0.02515976876020...|-0.00832104962319...|-2.53555132076144...|-0.00476870825514...|8.728490793146193E-4|-0.01688118278980255|  0.0249074287712574| 0.00470349658280611|0.010943465866148472|-0.01763851940631...|-0.02477335371077...|-0.01282706204801...|1.054805470630526...|0.024071432650089264|-0.03187162429094...|  0.0417817048728466|-0.00853381119668...|0.016295399516820908|-0.01865602098405...|0.020864326506853104|0.029468577355146408|-0.00735437870025...|-0.05158591270446777|-0.00520213367417...|0.010635482147336006| 0.00782795250415802|-0.03485901653766632|-0.00259277573786...| 0.03192541003227234| 0.02148476429283619|-0.02318263053894043|0.012930203229188919|-0.02550434507429...|0.012069505639374256|-0.02217037789523...|-0.00202868762426...|-0.02148976549506...|-0.01647311821579933|-0.03274351730942726|0.013148127123713493|0.013281027786433697|-0.02104034833610058|0.005738272797316313| 0.03206782415509224|-0.00322276004590...|-0.00744396587833...|0.001828765962272...|-0.00568082276731...|-0.03886869177222252| 0.00782687496393919| 0.03322911635041237|0.003859894350171089|-0.02535753324627...|-0.03481787815690...|-0.01825814880430...| 0.03933516889810562|0.009620471857488155|-0.01793560199439...|0.006581405177712...|0.014785386621952057|-0.00264927558600...|-0.01010849047452...|-0.00326404185034...|\n",
            "|    1|-0.04204521328210831|0.011024787090718746| 0.00845038890838623|-0.00740163633599...|-0.05592026188969612|0.011522707529366016|-0.05530001595616...| 0.03191670775413513|-0.00426089949905...|-0.05046072974801...|-0.05267751216888428|0.028784099966287613|0.001528050284832716|-0.02324824407696724|-0.01602635346353054|-0.03638245165348053|0.003057508496567607|0.013669351115822792| 0.05224304646253586| 0.01657070219516754|0.027405887842178345|-0.01995833218097...|0.010237550362944603|-0.01420065388083458|-0.04298542812466...|-0.00681020319461...|  0.0244801864027977|-0.03569038584828377|-0.03802857920527458| 0.05093635618686676|-0.00134875136427...|-0.02403648942708969|-0.02710605226457119|-0.00163143000099...|-0.04588667675852...|0.005605172831565142|-0.01597164012491703|-0.03265159204602...|-0.03378286957740784|-0.01583659462630...|0.027206923812627792|0.018942857161164284|0.005394039675593376|0.001105193980038166|0.009883887134492397|-0.00287169008515...|-0.01312636211514473|-0.03071986883878708|-0.01143553294241...|-0.02383330464363098| 0.02004014328122139|-0.02616643905639...| 0.04305296763777733|0.005915173329412937|-0.01890760287642479|-0.05705492198467...|-8.09967983514070...|0.005097059532999992|0.001507401233538...|0.003260314930230379|-0.01124897412955761| 0.00904424861073494|-0.00931834522634...|-0.02001703158020...|0.027964383363723755|0.006362750194966793| 0.02954857423901558|0.006969080306589603|0.014156747609376907|-0.03898143023252487|-0.02118277549743...|-0.01677031628787...| 0.02276831679046154|0.010749703273177147|-0.00464932015165...|-0.01867369934916...|-0.00868728198111...|-0.00610424019396...|  0.0358390174806118|-0.00124010350555...|0.022756371647119522|-0.03534648194909096|-0.02814159542322...|0.008051129058003426|-0.01648316346108...|-0.01089332904666...|-0.01325818523764...|-0.03540926054120064|0.010875366628170013|-0.00689763715490...|-0.01758354343473...|0.030078787356615067|0.021577665582299232| 0.01749844290316105| 0.00820137932896614|-0.01350611541420...|-0.02530426532030...|0.004973471164703369|-0.02856498025357...| 0.02309395931661129|\n",
            "|    0|-0.03195838630199...|0.009085196070373058|0.013885668478906155|-0.01389739941805...|-0.04162388294935...|0.012329819612205029|-0.05576954409480095|0.022440442815423012|-0.00555131630972...|-0.04578797519207001|-0.04522811993956566|0.030400089919567108|-0.00218341243453...|0.006648262497037649| -0.0115028852596879|-0.01346262264996767| -0.0034992431756109|0.015352848917245865| 0.04782600700855255|0.006523722317069769|0.013972935266792774|-0.01377031672745943|0.005291072651743889|0.009860356338322163|-0.01903349161148...|-0.01750878058373928|0.010519415140151978|-0.03512465581297...|-0.03288209065794945| 0.03151160851120949|-0.00726205669343...|-0.01980333961546421|-0.01087641716003418|-0.00349260005168...|-0.04021668061614...|-0.01105976756662...|-0.01604765653610...|-0.03223619237542...|-0.01543038804084...|-0.00405098730698...|0.022357450798153877|0.022447459399700165|0.006240889430046...|0.004214756656438112|-0.00251152366399765|-0.01471254695206...|-0.02377277612686...|-0.02857315354049...| 0.00908359419554472|-0.02100809104740...|0.004075068980455...|-0.01896905712783...|0.030987737700343132| 0.02385818026959896|-0.01250060927122...|-0.03813734278082...|-0.01241488661617...|0.007494504097849131|0.015163195319473743|0.017404597252607346|0.021392904222011566|-0.00238252803683...|-0.02757400088012...|0.004434279631823301|0.017032595351338387|-0.00470020109787...|-0.00134890340268...|-0.00590086355805397|0.002410774817690...|-0.02245799638330...|-0.02081108279526...|-0.02524320222437...|0.015108407475054264|0.019999012351036072|-0.00756400777027...|-0.01435189414769...|0.004931750241667032|-0.00583996996283...| 0.02900238148868084|-0.00170445663388...|0.007275795564055443|-0.03438493236899376|-0.02716999314725399|0.005453612189739...|-0.00990337785333395| 6.48949237074703E-4|0.007934718392789364|-0.02131487429141...| 0.00631573935970664|0.014980143867433071|-0.00590197229757905| 0.04461272433400154|0.001177006284706...|0.029503995552659035| 0.01841401867568493|-0.01444800291210413|-0.01325517147779...|0.001280368189327...|-0.01392407249659...|0.018341274932026863|\n",
            "|    1|-0.01378736924380064| 0.00713732372969389|0.006271126214414835|-0.00623265141621232|-0.02622748911380...|0.001438104780390...|-0.01937903091311...| 0.00994428712874651| 0.00264269532635808|-0.02906251512467...|-0.02160540036857128|0.014490860514342785|-0.00472475215792...|-0.00823023635894...|-0.00794135872274...|-0.01597614027559...| 9.25292435567826E-4| 0.00860561989247799|0.024137932807207108|0.004041346721351147| 0.01883048005402088|-0.00532658863812685|0.001602549687959...|-0.01260249782353...|-0.00811027735471...|0.001098723965696...|0.003883959027007222|-0.01278942544013...|-0.00854344759136...|0.023706089705228806|-0.00411377009004...|-0.01520661450922...|-0.00557610671967268|-0.00316868466325...|-0.02266389876604...|0.003315092530101...|-0.00603368738666...|-0.01382055133581...|-0.01411242969334...|-0.01021938212215...|0.011305167339742184|0.012209273874759674|-0.00239664549008...|0.005738550331443548|0.006356913596391678|0.003565865103155...|-0.00672111380845...|-0.01375662069767...|-0.00174060498829...|-0.00746055040508...| 0.00831218995153904|-0.01263973861932...|0.016371257603168488| 0.00518811447545886|-0.00350491655990...|-0.02090091630816...|0.002931516384705901|0.008529731072485447|0.001177658210508...|-0.00848555378615...|0.001974130980670452|-0.00206833099946...|-0.01054567843675...|-0.00990117713809...|0.009033777751028538|0.006012294441461563|0.006609581410884857|-0.00493280217051506|0.007728769443929195|-0.02231196686625...|-0.00946427136659...|-0.00619248766452...|0.005636558867990971|0.006729389540851116|-0.00275129755027...|-0.01523521263152361|-3.42047947924584...|-0.00180898758117...|0.011739932000637054|0.002571512013673...|0.013237659819424152|-0.01533831190317...|-0.01218863576650...| 0.00864667259156704|-9.58522781729698...|-0.01300434302538...|0.004363876301795244|-0.00792350433766...|0.006623761262744665|4.732855013571679...|-0.00811595469713211|0.012086011469364166|0.017315026372671127|0.010074399411678314|0.006288859993219376|-0.00758778024464...|-0.00798297859728...|0.002266144612804055|-0.00913247652351...|0.006439292337745428|\n",
            "+-----+--------------------+--------------------+--------------------+--------------------+--------------------+--------------------+--------------------+--------------------+--------------------+--------------------+--------------------+--------------------+--------------------+--------------------+--------------------+--------------------+--------------------+--------------------+--------------------+--------------------+--------------------+--------------------+--------------------+--------------------+--------------------+--------------------+--------------------+--------------------+--------------------+--------------------+--------------------+--------------------+--------------------+--------------------+--------------------+--------------------+--------------------+--------------------+--------------------+--------------------+--------------------+--------------------+--------------------+--------------------+--------------------+--------------------+--------------------+--------------------+--------------------+--------------------+--------------------+--------------------+--------------------+--------------------+--------------------+--------------------+--------------------+--------------------+--------------------+--------------------+--------------------+--------------------+--------------------+--------------------+--------------------+--------------------+--------------------+--------------------+--------------------+--------------------+--------------------+--------------------+--------------------+--------------------+--------------------+--------------------+--------------------+--------------------+--------------------+--------------------+--------------------+--------------------+--------------------+--------------------+--------------------+--------------------+--------------------+--------------------+--------------------+--------------------+--------------------+--------------------+--------------------+--------------------+--------------------+--------------------+--------------------+--------------------+--------------------+--------------------+\n",
            "only showing top 5 rows\n",
            "\n"
          ]
        }
      ]
    },
    {
      "cell_type": "code",
      "source": [
        "# cast each column to float\n",
        "for col_name in df_expr.columns:\n",
        "  df_expr = df_expr.withColumn(col_name, col(col_name).cast(FloatType()))"
      ],
      "metadata": {
        "id": "sTgRdVmrNFcg"
      },
      "execution_count": 38,
      "outputs": []
    },
    {
      "cell_type": "code",
      "source": [
        "df_expr.printSchema()"
      ],
      "metadata": {
        "colab": {
          "base_uri": "https://localhost:8080/"
        },
        "id": "AtvuCAthLnOz",
        "outputId": "9db10205-05a1-4746-982f-485af5dd8671"
      },
      "execution_count": 39,
      "outputs": [
        {
          "output_type": "stream",
          "name": "stdout",
          "text": [
            "root\n",
            " |-- label: float (nullable = true)\n",
            " |-- features[0]: float (nullable = true)\n",
            " |-- features[1]: float (nullable = true)\n",
            " |-- features[2]: float (nullable = true)\n",
            " |-- features[3]: float (nullable = true)\n",
            " |-- features[4]: float (nullable = true)\n",
            " |-- features[5]: float (nullable = true)\n",
            " |-- features[6]: float (nullable = true)\n",
            " |-- features[7]: float (nullable = true)\n",
            " |-- features[8]: float (nullable = true)\n",
            " |-- features[9]: float (nullable = true)\n",
            " |-- features[10]: float (nullable = true)\n",
            " |-- features[11]: float (nullable = true)\n",
            " |-- features[12]: float (nullable = true)\n",
            " |-- features[13]: float (nullable = true)\n",
            " |-- features[14]: float (nullable = true)\n",
            " |-- features[15]: float (nullable = true)\n",
            " |-- features[16]: float (nullable = true)\n",
            " |-- features[17]: float (nullable = true)\n",
            " |-- features[18]: float (nullable = true)\n",
            " |-- features[19]: float (nullable = true)\n",
            " |-- features[20]: float (nullable = true)\n",
            " |-- features[21]: float (nullable = true)\n",
            " |-- features[22]: float (nullable = true)\n",
            " |-- features[23]: float (nullable = true)\n",
            " |-- features[24]: float (nullable = true)\n",
            " |-- features[25]: float (nullable = true)\n",
            " |-- features[26]: float (nullable = true)\n",
            " |-- features[27]: float (nullable = true)\n",
            " |-- features[28]: float (nullable = true)\n",
            " |-- features[29]: float (nullable = true)\n",
            " |-- features[30]: float (nullable = true)\n",
            " |-- features[31]: float (nullable = true)\n",
            " |-- features[32]: float (nullable = true)\n",
            " |-- features[33]: float (nullable = true)\n",
            " |-- features[34]: float (nullable = true)\n",
            " |-- features[35]: float (nullable = true)\n",
            " |-- features[36]: float (nullable = true)\n",
            " |-- features[37]: float (nullable = true)\n",
            " |-- features[38]: float (nullable = true)\n",
            " |-- features[39]: float (nullable = true)\n",
            " |-- features[40]: float (nullable = true)\n",
            " |-- features[41]: float (nullable = true)\n",
            " |-- features[42]: float (nullable = true)\n",
            " |-- features[43]: float (nullable = true)\n",
            " |-- features[44]: float (nullable = true)\n",
            " |-- features[45]: float (nullable = true)\n",
            " |-- features[46]: float (nullable = true)\n",
            " |-- features[47]: float (nullable = true)\n",
            " |-- features[48]: float (nullable = true)\n",
            " |-- features[49]: float (nullable = true)\n",
            " |-- features[50]: float (nullable = true)\n",
            " |-- features[51]: float (nullable = true)\n",
            " |-- features[52]: float (nullable = true)\n",
            " |-- features[53]: float (nullable = true)\n",
            " |-- features[54]: float (nullable = true)\n",
            " |-- features[55]: float (nullable = true)\n",
            " |-- features[56]: float (nullable = true)\n",
            " |-- features[57]: float (nullable = true)\n",
            " |-- features[58]: float (nullable = true)\n",
            " |-- features[59]: float (nullable = true)\n",
            " |-- features[60]: float (nullable = true)\n",
            " |-- features[61]: float (nullable = true)\n",
            " |-- features[62]: float (nullable = true)\n",
            " |-- features[63]: float (nullable = true)\n",
            " |-- features[64]: float (nullable = true)\n",
            " |-- features[65]: float (nullable = true)\n",
            " |-- features[66]: float (nullable = true)\n",
            " |-- features[67]: float (nullable = true)\n",
            " |-- features[68]: float (nullable = true)\n",
            " |-- features[69]: float (nullable = true)\n",
            " |-- features[70]: float (nullable = true)\n",
            " |-- features[71]: float (nullable = true)\n",
            " |-- features[72]: float (nullable = true)\n",
            " |-- features[73]: float (nullable = true)\n",
            " |-- features[74]: float (nullable = true)\n",
            " |-- features[75]: float (nullable = true)\n",
            " |-- features[76]: float (nullable = true)\n",
            " |-- features[77]: float (nullable = true)\n",
            " |-- features[78]: float (nullable = true)\n",
            " |-- features[79]: float (nullable = true)\n",
            " |-- features[80]: float (nullable = true)\n",
            " |-- features[81]: float (nullable = true)\n",
            " |-- features[82]: float (nullable = true)\n",
            " |-- features[83]: float (nullable = true)\n",
            " |-- features[84]: float (nullable = true)\n",
            " |-- features[85]: float (nullable = true)\n",
            " |-- features[86]: float (nullable = true)\n",
            " |-- features[87]: float (nullable = true)\n",
            " |-- features[88]: float (nullable = true)\n",
            " |-- features[89]: float (nullable = true)\n",
            " |-- features[90]: float (nullable = true)\n",
            " |-- features[91]: float (nullable = true)\n",
            " |-- features[92]: float (nullable = true)\n",
            " |-- features[93]: float (nullable = true)\n",
            " |-- features[94]: float (nullable = true)\n",
            " |-- features[95]: float (nullable = true)\n",
            " |-- features[96]: float (nullable = true)\n",
            " |-- features[97]: float (nullable = true)\n",
            " |-- features[98]: float (nullable = true)\n",
            " |-- features[99]: float (nullable = true)\n",
            "\n"
          ]
        }
      ]
    },
    {
      "cell_type": "markdown",
      "source": [
        "We know that our dataset is heavily unbalanced. Our network could be tempted to predict always the majority class. To avoid this we could apply a weigth to each class the discourages the network into predicting always 'non-sarcastic'."
      ],
      "metadata": {
        "id": "lKsbhjuPlmuG"
      }
    },
    {
      "cell_type": "markdown",
      "source": [
        "### Training a simple NN"
      ],
      "metadata": {
        "id": "TLWnDjOLqTvE"
      }
    },
    {
      "cell_type": "code",
      "source": [
        "train, test = df_expr.randomSplit([0.7,0.3], seed=1234)"
      ],
      "metadata": {
        "id": "UuV1Qgs3qYtI"
      },
      "execution_count": 37,
      "outputs": []
    },
    {
      "cell_type": "code",
      "source": [
        "network = nn.Sequential(\n",
        "    nn.Linear(100, 75),\n",
        "    nn.ReLU(),\n",
        "    nn.Linear(75, 50),\n",
        "    nn.ReLU(),\n",
        "    nn.Linear(50, 25),\n",
        "    nn.ReLU(),\n",
        "    nn.Linear(25, 2),\n",
        "    nn.Softmax(dim=1)\n",
        ")\n",
        "\n",
        "print(network)"
      ],
      "metadata": {
        "colab": {
          "base_uri": "https://localhost:8080/"
        },
        "id": "TU4GQrVp1V4G",
        "outputId": "5c011287-cd7e-42a3-a3e8-e5098642fc49"
      },
      "execution_count": 38,
      "outputs": [
        {
          "output_type": "stream",
          "name": "stdout",
          "text": [
            "Sequential(\n",
            "  (0): Linear(in_features=100, out_features=75, bias=True)\n",
            "  (1): ReLU()\n",
            "  (2): Linear(in_features=75, out_features=50, bias=True)\n",
            "  (3): ReLU()\n",
            "  (4): Linear(in_features=50, out_features=25, bias=True)\n",
            "  (5): ReLU()\n",
            "  (6): Linear(in_features=25, out_features=2, bias=True)\n",
            "  (7): Softmax(dim=1)\n",
            ")\n"
          ]
        }
      ]
    },
    {
      "cell_type": "code",
      "source": [
        "# Build the pytorch object\n",
        "torch_obj = serialize_torch_obj(\n",
        "    model=network,\n",
        "    criterion=nn.CrossEntropyLoss(weight=class_weights,reduction='mean'),\n",
        "    optimizer=torch.optim.Adam,\n",
        "    lr=0.001\n",
        ")\n",
        "\n",
        "# Setup features\n",
        "vector_assembler = VectorAssembler(inputCols=train.columns[1:], outputCol='features') \\\n",
        "                          .setHandleInvalid(\"skip\")\n",
        "\n",
        "# Create a SparkTorch Model with torch distributed. Barrier execution is on by default for this mode.\n",
        "spark_model = SparkTorch(\n",
        "    inputCol='features',\n",
        "    labelCol='label',\n",
        "    predictionCol='predictions',\n",
        "    torchObj=torch_obj,\n",
        "    iters=150,\n",
        "    verbose=2\n",
        ")\n",
        "\n",
        "# Can be used in a pipeline and saved.\n",
        "nn_pipeline = Pipeline(stages=[vector_assembler, spark_model]).fit(train)\n",
        "nn_pipeline.save(DRIVE_FOLDER+\"nn_model\")\n",
        "nn_predictions = nn_pipeline.transform(test).select(['label','predictions'])"
      ],
      "metadata": {
        "id": "YMHNm_XvQHky"
      },
      "execution_count": 40,
      "outputs": []
    },
    {
      "cell_type": "code",
      "source": [
        "nn_predictions.show(10)"
      ],
      "metadata": {
        "colab": {
          "base_uri": "https://localhost:8080/"
        },
        "id": "dN63YvcHv9Q8",
        "outputId": "666d0e10-65fe-456d-eef8-c34637c13d84"
      },
      "execution_count": 41,
      "outputs": [
        {
          "output_type": "stream",
          "name": "stdout",
          "text": [
            "+-----+-----------+\n",
            "|label|predictions|\n",
            "+-----+-----------+\n",
            "|  0.0|        1.0|\n",
            "|  0.0|        0.0|\n",
            "|  0.0|        0.0|\n",
            "|  0.0|        0.0|\n",
            "|  0.0|        0.0|\n",
            "|  0.0|        1.0|\n",
            "|  0.0|        0.0|\n",
            "|  0.0|        0.0|\n",
            "|  0.0|        0.0|\n",
            "|  0.0|        0.0|\n",
            "+-----+-----------+\n",
            "only showing top 10 rows\n",
            "\n"
          ]
        }
      ]
    },
    {
      "cell_type": "code",
      "source": [
        "y_pred = nn_predictions.select('predictions').toPandas()\n",
        "y_true = test.select('label').toPandas()\n",
        "clf_nn = classification_report(y_true=y_true, y_pred=y_pred, zero_division=0)\n",
        "print(clf_nn)"
      ],
      "metadata": {
        "colab": {
          "base_uri": "https://localhost:8080/"
        },
        "id": "0vUBCymj9DDh",
        "outputId": "683cdc83-881c-4ef3-c3eb-ecf79a096a7d"
      },
      "execution_count": 42,
      "outputs": [
        {
          "output_type": "stream",
          "name": "stdout",
          "text": [
            "              precision    recall  f1-score   support\n",
            "\n",
            "         0.0       0.82      0.78      0.80      1321\n",
            "         1.0       0.55      0.61      0.58       580\n",
            "\n",
            "    accuracy                           0.73      1901\n",
            "   macro avg       0.69      0.70      0.69      1901\n",
            "weighted avg       0.74      0.73      0.73      1901\n",
            "\n"
          ]
        }
      ]
    },
    {
      "cell_type": "markdown",
      "source": [
        "### Training a CNN"
      ],
      "metadata": {
        "id": "O5gt7wjcG1yN"
      }
    },
    {
      "cell_type": "code",
      "source": [
        "# try a different approach to our imbalanced dataset: splitting the dataset \n",
        "train = df_expr.sampleBy('label', fractions={0.0: 0.5, 1.0:0.6})\n",
        "test = df_expr.subtract(train)"
      ],
      "metadata": {
        "id": "qJhXviaSm1pk"
      },
      "execution_count": 35,
      "outputs": []
    },
    {
      "cell_type": "code",
      "source": [
        "print(\"Train balancement:\")\n",
        "train.groupBy('label').count().show()\n",
        "\n",
        "print(\"Test balancement:\")\n",
        "test.groupBy('label').count().show()"
      ],
      "metadata": {
        "colab": {
          "base_uri": "https://localhost:8080/"
        },
        "id": "9y0A_fU-sTYp",
        "outputId": "7c0d270a-640a-4277-b759-e861b1ee975c"
      },
      "execution_count": 36,
      "outputs": [
        {
          "output_type": "stream",
          "name": "stdout",
          "text": [
            "Train balancement:\n",
            "+-----+-----+\n",
            "|label|count|\n",
            "+-----+-----+\n",
            "|  1.0| 1171|\n",
            "|  0.0| 2368|\n",
            "+-----+-----+\n",
            "\n",
            "Test balancement:\n",
            "+-----+-----+\n",
            "|label|count|\n",
            "+-----+-----+\n",
            "|  1.0|  762|\n",
            "|  0.0| 2236|\n",
            "+-----+-----+\n",
            "\n"
          ]
        }
      ]
    },
    {
      "cell_type": "code",
      "source": [
        "cnn = nn.Sequential(\n",
        "    nn.Conv1d(1, 1, kernel_size=4, stride=2),\n",
        "    nn.MaxPool1d(4),\n",
        "    nn.Conv1d(1, 1, kernel_size=4, stride=2),\n",
        "    nn.ReLU(),\n",
        "    nn.MaxPool1d(2),\n",
        "    nn.Sigmoid()\n",
        ")\n",
        "print(cnn)"
      ],
      "metadata": {
        "colab": {
          "base_uri": "https://localhost:8080/"
        },
        "id": "or893SbCG71d",
        "outputId": "a5889209-6156-4d83-c93b-b46e05fd6a9f"
      },
      "execution_count": 70,
      "outputs": [
        {
          "output_type": "stream",
          "name": "stdout",
          "text": [
            "Sequential(\n",
            "  (0): Conv1d(32, 100, kernel_size=(4,), stride=(2,))\n",
            "  (1): MaxPool1d(kernel_size=4, stride=4, padding=0, dilation=1, ceil_mode=False)\n",
            "  (2): Conv1d(8, 100, kernel_size=(4,), stride=(2,))\n",
            "  (3): ReLU()\n",
            "  (4): MaxPool1d(kernel_size=2, stride=2, padding=0, dilation=1, ceil_mode=False)\n",
            "  (5): Sigmoid()\n",
            ")\n"
          ]
        }
      ]
    },
    {
      "cell_type": "code",
      "source": [
        "torch_obj = serialize_torch_obj(\n",
        "    model=cnn,\n",
        "    criterion=nn.CrossEntropyLoss(weight=class_weights,reduction='mean'),\n",
        "    optimizer=torch.optim.Adam,\n",
        "    lr=0.001\n",
        ")\n",
        "\n",
        "vector_assembler = VectorAssembler(inputCols=train.columns[1:], outputCol='features') \\\n",
        "                          .setHandleInvalid(\"skip\")\n",
        "\n",
        "spark_model = SparkTorch(\n",
        "    inputCol='features',\n",
        "    labelCol='label',\n",
        "    predictionCol='predictions',\n",
        "    torchObj=torch_obj,\n",
        "    miniBatch=1,\n",
        "    iters=100,\n",
        "    verbose=2\n",
        ")\n",
        "\n",
        "cnn_pipeline = Pipeline(stages=[vector_assembler, spark_model]).fit(train)\n",
        "cnn_pipeline.save(DRIVE+'cnn_model')\n",
        "cnn_predictions = cnn_pipeline.transform(test).select(['label','predictions'])"
      ],
      "metadata": {
        "colab": {
          "base_uri": "https://localhost:8080/",
          "height": 1000
        },
        "id": "ZXLlJWNkHZro",
        "outputId": "8f4a470f-4d72-4b96-b51a-4f85397151be"
      },
      "execution_count": 71,
      "outputs": [
        {
          "output_type": "error",
          "ename": "Py4JJavaError",
          "evalue": "ignored",
          "traceback": [
            "\u001b[0;31m---------------------------------------------------------------------------\u001b[0m",
            "\u001b[0;31mPy4JJavaError\u001b[0m                             Traceback (most recent call last)",
            "\u001b[0;32m<ipython-input-71-b2a68f7e7f9f>\u001b[0m in \u001b[0;36m<module>\u001b[0;34m()\u001b[0m\n\u001b[1;32m     18\u001b[0m )\n\u001b[1;32m     19\u001b[0m \u001b[0;34m\u001b[0m\u001b[0m\n\u001b[0;32m---> 20\u001b[0;31m \u001b[0mcnn_pipeline\u001b[0m \u001b[0;34m=\u001b[0m \u001b[0mPipeline\u001b[0m\u001b[0;34m(\u001b[0m\u001b[0mstages\u001b[0m\u001b[0;34m=\u001b[0m\u001b[0;34m[\u001b[0m\u001b[0mvector_assembler\u001b[0m\u001b[0;34m,\u001b[0m \u001b[0mspark_model\u001b[0m\u001b[0;34m]\u001b[0m\u001b[0;34m)\u001b[0m\u001b[0;34m.\u001b[0m\u001b[0mfit\u001b[0m\u001b[0;34m(\u001b[0m\u001b[0mtrain\u001b[0m\u001b[0;34m)\u001b[0m\u001b[0;34m\u001b[0m\u001b[0;34m\u001b[0m\u001b[0m\n\u001b[0m\u001b[1;32m     21\u001b[0m \u001b[0mcnn_pipeline\u001b[0m\u001b[0;34m.\u001b[0m\u001b[0msave\u001b[0m\u001b[0;34m(\u001b[0m\u001b[0mDRIVE_FOLDER\u001b[0m\u001b[0;34m+\u001b[0m\u001b[0;34m'cnn_model'\u001b[0m\u001b[0;34m)\u001b[0m\u001b[0;34m\u001b[0m\u001b[0;34m\u001b[0m\u001b[0m\n\u001b[1;32m     22\u001b[0m \u001b[0mcnn_predictions\u001b[0m \u001b[0;34m=\u001b[0m \u001b[0mcnn_pipeline\u001b[0m\u001b[0;34m.\u001b[0m\u001b[0mtransform\u001b[0m\u001b[0;34m(\u001b[0m\u001b[0mtest\u001b[0m\u001b[0;34m)\u001b[0m\u001b[0;34m.\u001b[0m\u001b[0mselect\u001b[0m\u001b[0;34m(\u001b[0m\u001b[0;34m[\u001b[0m\u001b[0;34m'label'\u001b[0m\u001b[0;34m,\u001b[0m\u001b[0;34m'predictions'\u001b[0m\u001b[0;34m]\u001b[0m\u001b[0;34m)\u001b[0m\u001b[0;34m\u001b[0m\u001b[0;34m\u001b[0m\u001b[0m\n",
            "\u001b[0;32m/usr/local/lib/python3.7/dist-packages/pyspark/ml/base.py\u001b[0m in \u001b[0;36mfit\u001b[0;34m(self, dataset, params)\u001b[0m\n\u001b[1;32m    159\u001b[0m                 \u001b[0;32mreturn\u001b[0m \u001b[0mself\u001b[0m\u001b[0;34m.\u001b[0m\u001b[0mcopy\u001b[0m\u001b[0;34m(\u001b[0m\u001b[0mparams\u001b[0m\u001b[0;34m)\u001b[0m\u001b[0;34m.\u001b[0m\u001b[0m_fit\u001b[0m\u001b[0;34m(\u001b[0m\u001b[0mdataset\u001b[0m\u001b[0;34m)\u001b[0m\u001b[0;34m\u001b[0m\u001b[0;34m\u001b[0m\u001b[0m\n\u001b[1;32m    160\u001b[0m             \u001b[0;32melse\u001b[0m\u001b[0;34m:\u001b[0m\u001b[0;34m\u001b[0m\u001b[0;34m\u001b[0m\u001b[0m\n\u001b[0;32m--> 161\u001b[0;31m                 \u001b[0;32mreturn\u001b[0m \u001b[0mself\u001b[0m\u001b[0;34m.\u001b[0m\u001b[0m_fit\u001b[0m\u001b[0;34m(\u001b[0m\u001b[0mdataset\u001b[0m\u001b[0;34m)\u001b[0m\u001b[0;34m\u001b[0m\u001b[0;34m\u001b[0m\u001b[0m\n\u001b[0m\u001b[1;32m    162\u001b[0m         \u001b[0;32melse\u001b[0m\u001b[0;34m:\u001b[0m\u001b[0;34m\u001b[0m\u001b[0;34m\u001b[0m\u001b[0m\n\u001b[1;32m    163\u001b[0m             raise ValueError(\"Params must be either a param map or a list/tuple of param maps, \"\n",
            "\u001b[0;32m/usr/local/lib/python3.7/dist-packages/pyspark/ml/pipeline.py\u001b[0m in \u001b[0;36m_fit\u001b[0;34m(self, dataset)\u001b[0m\n\u001b[1;32m    112\u001b[0m                     \u001b[0mdataset\u001b[0m \u001b[0;34m=\u001b[0m \u001b[0mstage\u001b[0m\u001b[0;34m.\u001b[0m\u001b[0mtransform\u001b[0m\u001b[0;34m(\u001b[0m\u001b[0mdataset\u001b[0m\u001b[0;34m)\u001b[0m\u001b[0;34m\u001b[0m\u001b[0;34m\u001b[0m\u001b[0m\n\u001b[1;32m    113\u001b[0m                 \u001b[0;32melse\u001b[0m\u001b[0;34m:\u001b[0m  \u001b[0;31m# must be an Estimator\u001b[0m\u001b[0;34m\u001b[0m\u001b[0;34m\u001b[0m\u001b[0m\n\u001b[0;32m--> 114\u001b[0;31m                     \u001b[0mmodel\u001b[0m \u001b[0;34m=\u001b[0m \u001b[0mstage\u001b[0m\u001b[0;34m.\u001b[0m\u001b[0mfit\u001b[0m\u001b[0;34m(\u001b[0m\u001b[0mdataset\u001b[0m\u001b[0;34m)\u001b[0m\u001b[0;34m\u001b[0m\u001b[0;34m\u001b[0m\u001b[0m\n\u001b[0m\u001b[1;32m    115\u001b[0m                     \u001b[0mtransformers\u001b[0m\u001b[0;34m.\u001b[0m\u001b[0mappend\u001b[0m\u001b[0;34m(\u001b[0m\u001b[0mmodel\u001b[0m\u001b[0;34m)\u001b[0m\u001b[0;34m\u001b[0m\u001b[0;34m\u001b[0m\u001b[0m\n\u001b[1;32m    116\u001b[0m                     \u001b[0;32mif\u001b[0m \u001b[0mi\u001b[0m \u001b[0;34m<\u001b[0m \u001b[0mindexOfLastEstimator\u001b[0m\u001b[0;34m:\u001b[0m\u001b[0;34m\u001b[0m\u001b[0;34m\u001b[0m\u001b[0m\n",
            "\u001b[0;32m/usr/local/lib/python3.7/dist-packages/pyspark/ml/base.py\u001b[0m in \u001b[0;36mfit\u001b[0;34m(self, dataset, params)\u001b[0m\n\u001b[1;32m    159\u001b[0m                 \u001b[0;32mreturn\u001b[0m \u001b[0mself\u001b[0m\u001b[0;34m.\u001b[0m\u001b[0mcopy\u001b[0m\u001b[0;34m(\u001b[0m\u001b[0mparams\u001b[0m\u001b[0;34m)\u001b[0m\u001b[0;34m.\u001b[0m\u001b[0m_fit\u001b[0m\u001b[0;34m(\u001b[0m\u001b[0mdataset\u001b[0m\u001b[0;34m)\u001b[0m\u001b[0;34m\u001b[0m\u001b[0;34m\u001b[0m\u001b[0m\n\u001b[1;32m    160\u001b[0m             \u001b[0;32melse\u001b[0m\u001b[0;34m:\u001b[0m\u001b[0;34m\u001b[0m\u001b[0;34m\u001b[0m\u001b[0m\n\u001b[0;32m--> 161\u001b[0;31m                 \u001b[0;32mreturn\u001b[0m \u001b[0mself\u001b[0m\u001b[0;34m.\u001b[0m\u001b[0m_fit\u001b[0m\u001b[0;34m(\u001b[0m\u001b[0mdataset\u001b[0m\u001b[0;34m)\u001b[0m\u001b[0;34m\u001b[0m\u001b[0;34m\u001b[0m\u001b[0m\n\u001b[0m\u001b[1;32m    162\u001b[0m         \u001b[0;32melse\u001b[0m\u001b[0;34m:\u001b[0m\u001b[0;34m\u001b[0m\u001b[0;34m\u001b[0m\u001b[0m\n\u001b[1;32m    163\u001b[0m             raise ValueError(\"Params must be either a param map or a list/tuple of param maps, \"\n",
            "\u001b[0;32m/usr/local/lib/python3.7/dist-packages/sparktorch/torch_distributed.py\u001b[0m in \u001b[0;36m_fit\u001b[0;34m(self, dataset)\u001b[0m\n\u001b[1;32m    305\u001b[0m                 \u001b[0mworld_size\u001b[0m\u001b[0;34m=\u001b[0m\u001b[0mpartitions\u001b[0m\u001b[0;34m+\u001b[0m\u001b[0;36m1\u001b[0m\u001b[0;34m,\u001b[0m\u001b[0;34m\u001b[0m\u001b[0;34m\u001b[0m\u001b[0m\n\u001b[1;32m    306\u001b[0m                 \u001b[0mdevice\u001b[0m\u001b[0;34m=\u001b[0m\u001b[0mdevice\u001b[0m\u001b[0;34m,\u001b[0m\u001b[0;34m\u001b[0m\u001b[0;34m\u001b[0m\u001b[0m\n\u001b[0;32m--> 307\u001b[0;31m                 \u001b[0mearly_stop_patience\u001b[0m\u001b[0;34m=\u001b[0m\u001b[0mearly_stop_patience\u001b[0m\u001b[0;34m\u001b[0m\u001b[0;34m\u001b[0m\u001b[0m\n\u001b[0m\u001b[1;32m    308\u001b[0m             )\n\u001b[1;32m    309\u001b[0m \u001b[0;34m\u001b[0m\u001b[0m\n",
            "\u001b[0;32m/usr/local/lib/python3.7/dist-packages/sparktorch/distributed.py\u001b[0m in \u001b[0;36mtrain_distributed\u001b[0;34m(rdd, torch_obj, iters, partition_shuffles, verbose, mini_batch, validation_pct, world_size, device, early_stop_patience)\u001b[0m\n\u001b[1;32m    252\u001b[0m             \u001b[0;31m# Run model with barrier execution mode.\u001b[0m\u001b[0;34m\u001b[0m\u001b[0;34m\u001b[0m\u001b[0;34m\u001b[0m\u001b[0m\n\u001b[1;32m    253\u001b[0m             state_dict = mapPartitionsWithIndex(\n\u001b[0;32m--> 254\u001b[0;31m                 rdd, lambda i, x: handle_model(\n\u001b[0m\u001b[1;32m    255\u001b[0m                     \u001b[0mi\u001b[0m\u001b[0;34m,\u001b[0m\u001b[0;34m\u001b[0m\u001b[0;34m\u001b[0m\u001b[0m\n\u001b[1;32m    256\u001b[0m                     \u001b[0mx\u001b[0m\u001b[0;34m,\u001b[0m\u001b[0;34m\u001b[0m\u001b[0;34m\u001b[0m\u001b[0m\n",
            "\u001b[0;32m/usr/local/lib/python3.7/dist-packages/pyspark/rdd.py\u001b[0m in \u001b[0;36mcollect\u001b[0;34m(self)\u001b[0m\n\u001b[1;32m    947\u001b[0m         \"\"\"\n\u001b[1;32m    948\u001b[0m         \u001b[0;32mwith\u001b[0m \u001b[0mSCCallSiteSync\u001b[0m\u001b[0;34m(\u001b[0m\u001b[0mself\u001b[0m\u001b[0;34m.\u001b[0m\u001b[0mcontext\u001b[0m\u001b[0;34m)\u001b[0m \u001b[0;32mas\u001b[0m \u001b[0mcss\u001b[0m\u001b[0;34m:\u001b[0m\u001b[0;34m\u001b[0m\u001b[0;34m\u001b[0m\u001b[0m\n\u001b[0;32m--> 949\u001b[0;31m             \u001b[0msock_info\u001b[0m \u001b[0;34m=\u001b[0m \u001b[0mself\u001b[0m\u001b[0;34m.\u001b[0m\u001b[0mctx\u001b[0m\u001b[0;34m.\u001b[0m\u001b[0m_jvm\u001b[0m\u001b[0;34m.\u001b[0m\u001b[0mPythonRDD\u001b[0m\u001b[0;34m.\u001b[0m\u001b[0mcollectAndServe\u001b[0m\u001b[0;34m(\u001b[0m\u001b[0mself\u001b[0m\u001b[0;34m.\u001b[0m\u001b[0m_jrdd\u001b[0m\u001b[0;34m.\u001b[0m\u001b[0mrdd\u001b[0m\u001b[0;34m(\u001b[0m\u001b[0;34m)\u001b[0m\u001b[0;34m)\u001b[0m\u001b[0;34m\u001b[0m\u001b[0;34m\u001b[0m\u001b[0m\n\u001b[0m\u001b[1;32m    950\u001b[0m         \u001b[0;32mreturn\u001b[0m \u001b[0mlist\u001b[0m\u001b[0;34m(\u001b[0m\u001b[0m_load_from_socket\u001b[0m\u001b[0;34m(\u001b[0m\u001b[0msock_info\u001b[0m\u001b[0;34m,\u001b[0m \u001b[0mself\u001b[0m\u001b[0;34m.\u001b[0m\u001b[0m_jrdd_deserializer\u001b[0m\u001b[0;34m)\u001b[0m\u001b[0;34m)\u001b[0m\u001b[0;34m\u001b[0m\u001b[0;34m\u001b[0m\u001b[0m\n\u001b[1;32m    951\u001b[0m \u001b[0;34m\u001b[0m\u001b[0m\n",
            "\u001b[0;32m/usr/local/lib/python3.7/dist-packages/py4j/java_gateway.py\u001b[0m in \u001b[0;36m__call__\u001b[0;34m(self, *args)\u001b[0m\n\u001b[1;32m   1303\u001b[0m         \u001b[0manswer\u001b[0m \u001b[0;34m=\u001b[0m \u001b[0mself\u001b[0m\u001b[0;34m.\u001b[0m\u001b[0mgateway_client\u001b[0m\u001b[0;34m.\u001b[0m\u001b[0msend_command\u001b[0m\u001b[0;34m(\u001b[0m\u001b[0mcommand\u001b[0m\u001b[0;34m)\u001b[0m\u001b[0;34m\u001b[0m\u001b[0;34m\u001b[0m\u001b[0m\n\u001b[1;32m   1304\u001b[0m         return_value = get_return_value(\n\u001b[0;32m-> 1305\u001b[0;31m             answer, self.gateway_client, self.target_id, self.name)\n\u001b[0m\u001b[1;32m   1306\u001b[0m \u001b[0;34m\u001b[0m\u001b[0m\n\u001b[1;32m   1307\u001b[0m         \u001b[0;32mfor\u001b[0m \u001b[0mtemp_arg\u001b[0m \u001b[0;32min\u001b[0m \u001b[0mtemp_args\u001b[0m\u001b[0;34m:\u001b[0m\u001b[0;34m\u001b[0m\u001b[0;34m\u001b[0m\u001b[0m\n",
            "\u001b[0;32m/usr/local/lib/python3.7/dist-packages/pyspark/sql/utils.py\u001b[0m in \u001b[0;36mdeco\u001b[0;34m(*a, **kw)\u001b[0m\n\u001b[1;32m    109\u001b[0m     \u001b[0;32mdef\u001b[0m \u001b[0mdeco\u001b[0m\u001b[0;34m(\u001b[0m\u001b[0;34m*\u001b[0m\u001b[0ma\u001b[0m\u001b[0;34m,\u001b[0m \u001b[0;34m**\u001b[0m\u001b[0mkw\u001b[0m\u001b[0;34m)\u001b[0m\u001b[0;34m:\u001b[0m\u001b[0;34m\u001b[0m\u001b[0;34m\u001b[0m\u001b[0m\n\u001b[1;32m    110\u001b[0m         \u001b[0;32mtry\u001b[0m\u001b[0;34m:\u001b[0m\u001b[0;34m\u001b[0m\u001b[0;34m\u001b[0m\u001b[0m\n\u001b[0;32m--> 111\u001b[0;31m             \u001b[0;32mreturn\u001b[0m \u001b[0mf\u001b[0m\u001b[0;34m(\u001b[0m\u001b[0;34m*\u001b[0m\u001b[0ma\u001b[0m\u001b[0;34m,\u001b[0m \u001b[0;34m**\u001b[0m\u001b[0mkw\u001b[0m\u001b[0;34m)\u001b[0m\u001b[0;34m\u001b[0m\u001b[0;34m\u001b[0m\u001b[0m\n\u001b[0m\u001b[1;32m    112\u001b[0m         \u001b[0;32mexcept\u001b[0m \u001b[0mpy4j\u001b[0m\u001b[0;34m.\u001b[0m\u001b[0mprotocol\u001b[0m\u001b[0;34m.\u001b[0m\u001b[0mPy4JJavaError\u001b[0m \u001b[0;32mas\u001b[0m \u001b[0me\u001b[0m\u001b[0;34m:\u001b[0m\u001b[0;34m\u001b[0m\u001b[0;34m\u001b[0m\u001b[0m\n\u001b[1;32m    113\u001b[0m             \u001b[0mconverted\u001b[0m \u001b[0;34m=\u001b[0m \u001b[0mconvert_exception\u001b[0m\u001b[0;34m(\u001b[0m\u001b[0me\u001b[0m\u001b[0;34m.\u001b[0m\u001b[0mjava_exception\u001b[0m\u001b[0;34m)\u001b[0m\u001b[0;34m\u001b[0m\u001b[0;34m\u001b[0m\u001b[0m\n",
            "\u001b[0;32m/usr/local/lib/python3.7/dist-packages/py4j/protocol.py\u001b[0m in \u001b[0;36mget_return_value\u001b[0;34m(answer, gateway_client, target_id, name)\u001b[0m\n\u001b[1;32m    326\u001b[0m                 raise Py4JJavaError(\n\u001b[1;32m    327\u001b[0m                     \u001b[0;34m\"An error occurred while calling {0}{1}{2}.\\n\"\u001b[0m\u001b[0;34m.\u001b[0m\u001b[0;34m\u001b[0m\u001b[0;34m\u001b[0m\u001b[0m\n\u001b[0;32m--> 328\u001b[0;31m                     format(target_id, \".\", name), value)\n\u001b[0m\u001b[1;32m    329\u001b[0m             \u001b[0;32melse\u001b[0m\u001b[0;34m:\u001b[0m\u001b[0;34m\u001b[0m\u001b[0;34m\u001b[0m\u001b[0m\n\u001b[1;32m    330\u001b[0m                 raise Py4JError(\n",
            "\u001b[0;31mPy4JJavaError\u001b[0m: An error occurred while calling z:org.apache.spark.api.python.PythonRDD.collectAndServe.\n: org.apache.spark.SparkException: Job aborted due to stage failure: Could not recover from a failed barrier ResultStage. Most recent failure reason: Stage failed because barrier task ResultTask(55, 3) finished unsuccessfully.\norg.apache.spark.api.python.PythonException: Traceback (most recent call last):\n  File \"/usr/local/lib/python3.7/dist-packages/pyspark/python/lib/pyspark.zip/pyspark/worker.py\", line 604, in main\n    process()\n  File \"/usr/local/lib/python3.7/dist-packages/pyspark/python/lib/pyspark.zip/pyspark/worker.py\", line 594, in process\n    out_iter = func(split_index, iterator)\n  File \"/usr/local/lib/python3.7/dist-packages/pyspark/rdd.py\", line 2916, in pipeline_func\n    return func(split, prev_func(split, iterator))\n  File \"/usr/local/lib/python3.7/dist-packages/sparktorch/distributed.py\", line 265, in <lambda>\n    early_stop_patience=int(early_stop_patience+0)\n  File \"/usr/local/lib/python3.7/dist-packages/sparktorch/distributed.py\", line 151, in handle_model\n    y_pred = model(x_train)\n  File \"/usr/local/lib/python3.7/dist-packages/torch/nn/modules/module.py\", line 1110, in _call_impl\n    return forward_call(*input, **kwargs)\n  File \"/usr/local/lib/python3.7/dist-packages/torch/nn/modules/container.py\", line 141, in forward\n    input = module(input)\n  File \"/usr/local/lib/python3.7/dist-packages/torch/nn/modules/module.py\", line 1110, in _call_impl\n    return forward_call(*input, **kwargs)\n  File \"/usr/local/lib/python3.7/dist-packages/torch/nn/modules/conv.py\", line 302, in forward\n    return self._conv_forward(input, self.weight, self.bias)\n  File \"/usr/local/lib/python3.7/dist-packages/torch/nn/modules/conv.py\", line 299, in _conv_forward\n    self.padding, self.dilation, self.groups)\nRuntimeError: Given groups=1, weight of size [100, 8, 4], expected input[1, 100, 12] to have 8 channels, but got 100 channels instead\n\n\tat org.apache.spark.api.python.BasePythonRunner$ReaderIterator.handlePythonException(PythonRunner.scala:517)\n\tat org.apache.spark.api.python.PythonRunner$$anon$3.read(PythonRunner.scala:652)\n\tat org.apache.spark.api.python.PythonRunner$$anon$3.read(PythonRunner.scala:635)\n\tat org.apache.spark.api.python.BasePythonRunner$ReaderIterator.hasNext(PythonRunner.scala:470)\n\tat org.apache.spark.InterruptibleIterator.hasNext(InterruptibleIterator.scala:37)\n\tat scala.collection.Iterator.foreach(Iterator.scala:941)\n\tat scala.collection.Iterator.foreach$(Iterator.scala:941)\n\tat org.apache.spark.InterruptibleIterator.foreach(InterruptibleIterator.scala:28)\n\tat scala.collection.generic.Growable.$plus$plus$eq(Growable.scala:62)\n\tat scala.collection.generic.Growable.$plus$plus$eq$(Growable.scala:53)\n\tat scala.collection.mutable.ArrayBuffer.$plus$plus$eq(ArrayBuffer.scala:105)\n\tat scala.collection.mutable.ArrayBuffer.$plus$plus$eq(ArrayBuffer.scala:49)\n\tat scala.collection.TraversableOnce.to(TraversableOnce.scala:315)\n\tat scala.collection.TraversableOnce.to$(TraversableOnce.scala:313)\n\tat org.apache.spark.InterruptibleIterator.to(InterruptibleIterator.scala:28)\n\tat scala.collection.TraversableOnce.toBuffer(TraversableOnce.scala:307)\n\tat scala.collection.TraversableOnce.toBuffer$(TraversableOnce.scala:307)\n\tat org.apache.spark.InterruptibleIterator.toBuffer(InterruptibleIterator.scala:28)\n\tat scala.collection.TraversableOnce.toArray(TraversableOnce.scala:294)\n\tat scala.collection.TraversableOnce.toArray$(TraversableOnce.scala:288)\n\tat org.apache.spark.InterruptibleIterator.toArray(InterruptibleIterator.scala:28)\n\tat org.apache.spark.rdd.RDD.$anonfun$collect$2(RDD.scala:1030)\n\tat org.apache.spark.SparkContext.$anonfun$runJob$5(SparkContext.scala:2236)\n\tat org.apache.spark.scheduler.ResultTask.runTask(ResultTask.scala:90)\n\tat org.apache.spark.scheduler.Task.run(Task.scala:131)\n\tat org.apache.spark.executor.Executor$TaskRunner.$anonfun$run$3(Executor.scala:497)\n\tat org.apache.spark.util.Utils$.tryWithSafeFinally(Utils.scala:1439)\n\tat org.apache.spark.executor.Executor$TaskRunner.run(Executor.scala:500)\n\tat java.util.concurrent.ThreadPoolExecutor.runWorker(ThreadPoolExecutor.java:1149)\n\tat java.util.concurrent.ThreadPoolExecutor$Worker.run(ThreadPoolExecutor.java:624)\n\tat java.lang.Thread.run(Thread.java:748)\n\n\tat org.apache.spark.scheduler.DAGScheduler.failJobAndIndependentStages(DAGScheduler.scala:2258)\n\tat org.apache.spark.scheduler.DAGScheduler.$anonfun$abortStage$2(DAGScheduler.scala:2207)\n\tat org.apache.spark.scheduler.DAGScheduler.$anonfun$abortStage$2$adapted(DAGScheduler.scala:2206)\n\tat scala.collection.mutable.ResizableArray.foreach(ResizableArray.scala:62)\n\tat scala.collection.mutable.ResizableArray.foreach$(ResizableArray.scala:55)\n\tat scala.collection.mutable.ArrayBuffer.foreach(ArrayBuffer.scala:49)\n\tat org.apache.spark.scheduler.DAGScheduler.abortStage(DAGScheduler.scala:2206)\n\tat org.apache.spark.scheduler.DAGScheduler.handleTaskCompletion(DAGScheduler.scala:1968)\n\tat org.apache.spark.scheduler.DAGSchedulerEventProcessLoop.doOnReceive(DAGScheduler.scala:2442)\n\tat org.apache.spark.scheduler.DAGSchedulerEventProcessLoop.onReceive(DAGScheduler.scala:2387)\n\tat org.apache.spark.scheduler.DAGSchedulerEventProcessLoop.onReceive(DAGScheduler.scala:2376)\n\tat org.apache.spark.util.EventLoop$$anon$1.run(EventLoop.scala:49)\n\tat org.apache.spark.scheduler.DAGScheduler.runJob(DAGScheduler.scala:868)\n\tat org.apache.spark.SparkContext.runJob(SparkContext.scala:2196)\n\tat org.apache.spark.SparkContext.runJob(SparkContext.scala:2217)\n\tat org.apache.spark.SparkContext.runJob(SparkContext.scala:2236)\n\tat org.apache.spark.SparkContext.runJob(SparkContext.scala:2261)\n\tat org.apache.spark.rdd.RDD.$anonfun$collect$1(RDD.scala:1030)\n\tat org.apache.spark.rdd.RDDOperationScope$.withScope(RDDOperationScope.scala:151)\n\tat org.apache.spark.rdd.RDDOperationScope$.withScope(RDDOperationScope.scala:112)\n\tat org.apache.spark.rdd.RDD.withScope(RDD.scala:414)\n\tat org.apache.spark.rdd.RDD.collect(RDD.scala:1029)\n\tat org.apache.spark.api.python.PythonRDD$.collectAndServe(PythonRDD.scala:180)\n\tat org.apache.spark.api.python.PythonRDD.collectAndServe(PythonRDD.scala)\n\tat sun.reflect.NativeMethodAccessorImpl.invoke0(Native Method)\n\tat sun.reflect.NativeMethodAccessorImpl.invoke(NativeMethodAccessorImpl.java:62)\n\tat sun.reflect.DelegatingMethodAccessorImpl.invoke(DelegatingMethodAccessorImpl.java:43)\n\tat java.lang.reflect.Method.invoke(Method.java:498)\n\tat py4j.reflection.MethodInvoker.invoke(MethodInvoker.java:244)\n\tat py4j.reflection.ReflectionEngine.invoke(ReflectionEngine.java:357)\n\tat py4j.Gateway.invoke(Gateway.java:282)\n\tat py4j.commands.AbstractCommand.invokeMethod(AbstractCommand.java:132)\n\tat py4j.commands.CallCommand.execute(CallCommand.java:79)\n\tat py4j.GatewayConnection.run(GatewayConnection.java:238)\n\tat java.lang.Thread.run(Thread.java:748)\n"
          ]
        }
      ]
    },
    {
      "cell_type": "code",
      "source": [
        "cnn_predictions.show(10)"
      ],
      "metadata": {
        "colab": {
          "base_uri": "https://localhost:8080/"
        },
        "id": "IMsIgaoUuO8W",
        "outputId": "84758880-c542-4f92-b1e0-5b7e8d2356af"
      },
      "execution_count": 40,
      "outputs": [
        {
          "output_type": "stream",
          "name": "stdout",
          "text": [
            "+-----+-----------+\n",
            "|label|predictions|\n",
            "+-----+-----------+\n",
            "|  0.0|        0.0|\n",
            "|  0.0|        0.0|\n",
            "|  0.0|        1.0|\n",
            "|  0.0|        0.0|\n",
            "|  0.0|        0.0|\n",
            "|  0.0|        0.0|\n",
            "|  0.0|        0.0|\n",
            "|  0.0|        0.0|\n",
            "|  0.0|        0.0|\n",
            "|  0.0|        0.0|\n",
            "+-----+-----------+\n",
            "only showing top 10 rows\n",
            "\n"
          ]
        }
      ]
    },
    {
      "cell_type": "code",
      "source": [
        "y_pred = cnn_predictions.select('predictions').toPandas()\n",
        "y_true = test.select('label').toPandas()\n",
        "clf_cnn = classification_report(y_true=y_true, y_pred=y_pred, zero_division=0)\n",
        "print(clf_cnn)"
      ],
      "metadata": {
        "colab": {
          "base_uri": "https://localhost:8080/"
        },
        "id": "uK_ScWWLMPNF",
        "outputId": "5b1dd9c9-a197-4801-e518-4ffb29a13aee"
      },
      "execution_count": 41,
      "outputs": [
        {
          "output_type": "stream",
          "name": "stdout",
          "text": [
            "              precision    recall  f1-score   support\n",
            "\n",
            "         0.0       0.74      0.84      0.78      2236\n",
            "         1.0       0.20      0.12      0.15       762\n",
            "\n",
            "    accuracy                           0.65      2998\n",
            "   macro avg       0.47      0.48      0.46      2998\n",
            "weighted avg       0.60      0.65      0.62      2998\n",
            "\n"
          ]
        }
      ]
    },
    {
      "cell_type": "markdown",
      "source": [
        "## Bert"
      ],
      "metadata": {
        "id": "1RrWqgF8AuXU"
      }
    },
    {
      "cell_type": "markdown",
      "source": [
        "Now we will try to change the embedding methodology"
      ],
      "metadata": {
        "id": "_ADqn99Ixz40"
      }
    },
    {
      "cell_type": "code",
      "source": [
        "df_bert = df.select('document','clean_lemma', col('sarcastic').alias('label'))"
      ],
      "metadata": {
        "id": "bFmBlf4ePNfO"
      },
      "execution_count": 24,
      "outputs": []
    },
    {
      "cell_type": "code",
      "source": [
        "embeddings = BertEmbeddings.pretrained()\\\n",
        "              .setInputCols(\"document\", \"clean_lemma\")\\\n",
        "              .setOutputCol(\"embeddings\")\\\n",
        "              .setDimension(100)\n",
        "\n",
        "finisher = EmbeddingsFinisher()\\\n",
        "            .setInputCols(\"embeddings\")\\\n",
        "            .setOutputCols(\"embeddings_result\")"
      ],
      "metadata": {
        "colab": {
          "base_uri": "https://localhost:8080/"
        },
        "id": "ZrXQbBUgsUP4",
        "outputId": "4c72dc36-25a0-4136-a3fb-b1c205e64a2b"
      },
      "execution_count": 25,
      "outputs": [
        {
          "output_type": "stream",
          "name": "stdout",
          "text": [
            "small_bert_L2_768 download started this may take some time.\n",
            "Approximate size to download 139.6 MB\n",
            "[OK!]\n"
          ]
        }
      ]
    },
    {
      "cell_type": "code",
      "source": [
        "em_pipeline = Pipeline(stages=[embeddings, finisher])"
      ],
      "metadata": {
        "id": "27rkGJaQ23cq"
      },
      "execution_count": 26,
      "outputs": []
    },
    {
      "cell_type": "code",
      "source": [
        "df_embedded = em_pipeline.fit(df_bert).transform(df_bert)\\\n",
        "                          .select(col('label').cast(FloatType()), explode(\"embeddings_result\").alias('features'))\\\n",
        "                          .select(['label']+[expr('features[' + str(x) + ']') for x in range(100)])"
      ],
      "metadata": {
        "id": "N2t1hQaPsxgO"
      },
      "execution_count": 27,
      "outputs": []
    },
    {
      "cell_type": "code",
      "source": [
        "df_embedded.show()"
      ],
      "metadata": {
        "colab": {
          "base_uri": "https://localhost:8080/"
        },
        "id": "x4MtQo9z21go",
        "outputId": "c4b27fdb-f6e4-4189-a30e-5972c57bf75f"
      },
      "execution_count": 28,
      "outputs": [
        {
          "output_type": "stream",
          "name": "stdout",
          "text": [
            "+-----+-------------+------------+------------+------------+------------+------------+------------+------------+------------+------------+------------+------------+-------------+------------+------------+------------+------------+------------+------------+------------+------------+------------+------------+------------+------------+------------+------------+------------+------------+------------+------------+------------+------------+------------+------------+------------+------------+------------+------------+------------+------------+------------+------------+------------+-------------+------------+------------+------------+------------+------------+------------+------------+------------+------------+------------+------------+-------------+------------+-------------+------------+------------+------------+-------------+------------+-------------+------------+-------------+------------+------------+------------+------------+------------+------------+------------+------------+------------+------------+------------+------------+------------+------------+------------+------------+------------+------------+------------+------------+------------+------------+------------+------------+------------+------------+------------+------------+------------+------------+------------+------------+------------+\n",
            "|label|  features[0]| features[1]| features[2]| features[3]| features[4]| features[5]| features[6]| features[7]| features[8]| features[9]|features[10]|features[11]| features[12]|features[13]|features[14]|features[15]|features[16]|features[17]|features[18]|features[19]|features[20]|features[21]|features[22]|features[23]|features[24]|features[25]|features[26]|features[27]|features[28]|features[29]|features[30]|features[31]|features[32]|features[33]|features[34]|features[35]|features[36]|features[37]|features[38]|features[39]|features[40]|features[41]|features[42]|features[43]| features[44]|features[45]|features[46]|features[47]|features[48]|features[49]|features[50]|features[51]|features[52]|features[53]|features[54]|features[55]| features[56]|features[57]| features[58]|features[59]|features[60]|features[61]| features[62]|features[63]| features[64]|features[65]| features[66]|features[67]|features[68]|features[69]|features[70]|features[71]|features[72]|features[73]|features[74]|features[75]|features[76]|features[77]|features[78]|features[79]|features[80]|features[81]|features[82]|features[83]|features[84]|features[85]|features[86]|features[87]|features[88]|features[89]|features[90]|features[91]|features[92]|features[93]|features[94]|features[95]|features[96]|features[97]|features[98]|features[99]|\n",
            "+-----+-------------+------------+------------+------------+------------+------------+------------+------------+------------+------------+------------+------------+-------------+------------+------------+------------+------------+------------+------------+------------+------------+------------+------------+------------+------------+------------+------------+------------+------------+------------+------------+------------+------------+------------+------------+------------+------------+------------+------------+------------+------------+------------+------------+------------+-------------+------------+------------+------------+------------+------------+------------+------------+------------+------------+------------+------------+-------------+------------+-------------+------------+------------+------------+-------------+------------+-------------+------------+-------------+------------+------------+------------+------------+------------+------------+------------+------------+------------+------------+------------+------------+------------+------------+------------+------------+------------+------------+------------+------------+------------+------------+------------+------------+------------+------------+------------+------------+------------+------------+------------+------------+------------+\n",
            "|  0.0|   0.68516356|  0.65359175| -0.16659732|  -0.5123639|  0.11725945| -0.13833793|  0.55697244|   -0.417637|  0.42306092|-0.004744254|  0.21560529|  0.20579876|   -0.1030538| 0.028658148| -0.31773055|  0.01642907| -0.27830228|  0.32623336|  0.38864768|  0.83240443|   0.4098857| -0.10511899| -0.26629522|  0.09515423|  -0.5406191|   0.5073166| -0.16925637|  0.09282653|  0.11753602| 0.055182453|  0.24183173|  0.38661855|  -0.2828054|   0.4239307| -0.89949036|  0.13302341|  0.06525423|  -1.0478283|  0.05269835|  -0.3738911|  -0.0647385| -0.01812575| -0.23756173|  -0.8073495| -0.090744436|  0.27427402|-0.016951805|   0.8746222| -0.32551154| -0.51549274|    0.311191|  0.31635347|  0.03230945|  0.21591684| 0.078963056|   0.6343422| -0.054746464|   0.3857947| -0.032604087|   0.4064806|-0.019046828|   0.3940819|   -1.0275009|  -0.2494612|  -0.28205162| -0.48408312|   0.19329892|  0.08233628|    1.253162|-0.102160156|  0.30258125|   0.9873462| -0.15486541| -0.23649721|  0.17271756| -0.46105257|  -0.9004643| -0.19591346|  0.01892737| -0.64046556|-0.045495816|-0.075888924|-0.112738155|  0.09877897|  0.37130842|  0.33265504|  0.56947756| -0.34641334|  -0.3516361| -0.27517828|   0.3190593| -0.27093458| -0.13334964|  -0.6248171|  0.57939166|  0.12166232|   0.8098581|   0.6176701|  0.19737688| -0.13484325|\n",
            "|  0.0|  -0.01668149|   0.6490631|  0.40277547| -0.32115892|   0.5653469|-0.076567195|-0.105798975|-0.027440254|  -0.2474031| 0.047958832|  0.24233432|  0.47772592|   0.12080353| -0.40354383| -0.42204696|-0.010096621|  0.15406288|  0.17357618| -0.30629003|  0.26782513|   1.1448325|  0.17318445| -0.25670907|  0.13053425|  -0.0709439|   0.3215233|  0.25621194|  0.31206203|  0.29754704|  0.34503594|  0.11874672|  0.28741682|  -0.2293055|   0.6307612|  -0.4088396|   0.6240698|  0.16193083|    -0.67529| -0.14453831| -0.07477911|  0.23526451|  0.44532877| -0.42753005|  0.13827094|  -0.06933695| 0.100418635|  -0.3874698|  0.51872253|  -0.3230831| -0.14434831|  -0.4514031|   1.1224173|  0.35590675|  0.36342698|  0.27183378|  0.64936095|  -0.09255465|  0.15509216|   -0.0693091| -0.13869406| -0.12556322| 0.014893997|  -0.72730094|  -1.0744399|  0.026089286|    0.139272|   0.59481484|  0.34416926|  0.42277655|  0.37941524| -0.15395461| -0.04514189|  0.18553895| -0.44553342|  0.49443442| -0.26918602| -0.17060176| -0.23187524|  -0.4097905|  -0.3360353|  0.17701624|  0.08240264| 0.025910802| -0.47770163|   0.5141665|   0.6322708| -0.03274533|   0.2062575| -0.42572644|  0.13833016|  0.34426776|  0.32901466|  0.03827323|  -0.9356423|   0.8421819|  0.30513328|  0.69373095|  0.20306571| -0.59852445| -0.41679794|\n",
            "|  0.0|   0.24140738|  0.30199033| -0.31032836| -0.31405967| 0.064932935|  0.09535125|-0.037730448|  0.18773751| 0.039917946|-0.015703911| 0.015311842|   0.7254849|-0.0011643944| 0.010023344|  0.28886327|  0.21314669| -0.13386723|  0.06023005| -0.16608274|  0.50070286|   0.7067724| -0.27766868|-0.113209285|  -0.1723276| -0.10570052|  0.55935913| -0.25750235|  0.31256458| -0.19645546| 0.011760626| -0.10557092|  0.54162246| -0.25204715| 0.112785354|  -0.5744646|-0.061598137| -0.20194115|  -1.1108221|  0.32548764| -0.21940665|  0.28118694|  0.36367393| -0.63024396|  -0.7601343|  -0.12047529| 0.054577094|-0.018005257|   0.3243246| -0.55290526|  -0.5830682|  0.18137595|   0.1146837|-0.009104621|  0.09932614| -0.26872864|  0.39784443|   0.27397445|   0.2554612|  -0.14700148|   0.7108742|  -0.3020138|  0.42495698|  -0.25528955| -0.11758457| -0.037850462| -0.35062605|   0.49166748| -0.09777333|  0.46685413| -0.39544246| -0.04302012|  0.67202854|   0.1952821|-0.050365403|  0.14287652| -0.45034337|  -1.0187207| -0.02133929|-0.118235275|  -0.3363596|-0.014596963|  0.09076835| -0.44264925|-0.103410885|   0.2417107|  0.29776013|   1.1109335| -0.05285611|   0.1586027|  0.17084393|  0.15532143| -0.19633657|   0.2088747| -0.55312884|   1.2552434| -0.18166149|  0.19792172|  0.22612852|   0.4043308|-0.025828753|\n",
            "|  0.0|-0.0030357633| 0.011215705|  0.10670869|     0.09184| -0.12347858|   0.5581398| 0.111519456|  0.31269845|-0.007515357| -0.32909203| -0.04234823|   0.3499933|   0.25532964| -0.59406483|  0.52048945| -0.32484376|  0.14380457| 0.058675945|  -0.1119983|   0.5526196|  0.70564747| -0.25648233|   -0.392098| -0.37354767| -0.39451152| -0.26597282|  -0.7418777| 0.057124108| -0.14496197|   0.5808671|   0.5867506| -0.38480526|  0.29371125|  0.55852765| -0.36462462|  0.16543931|  0.19342303| -0.93877226| -0.24167916| 0.034453668|  0.11366281| -0.01831685|   -0.296207|-0.057548158| -0.059035897|  0.16449022|  0.21324378|   0.9401623|  -0.6553118|  0.07605899|  0.03516218| -0.20656452|  0.24017306|  0.25910604| -0.42564625|  0.06631086|  -0.06361792| -0.10812038|   0.31316414|-0.017220184|  0.29711428|  -0.1937008|    0.3048142|  -0.5262988|-0.0074300244|  0.08652708|  -0.14487058|  -0.6695128|   0.8027621|  0.02809524|   0.2815688| -0.64134496| -0.55465335|  -1.0501925| 0.095465854|  0.09920812|  0.33930594|-0.019026652| -0.24901225|    0.157359|  0.38701308|  0.47422343| -0.22140966|   0.4017622|  -0.3238447|  0.25873974|  0.53639257|  0.13556376| -0.10153351|  -0.3876687|  0.13280188| 0.012199753| -0.15391028|  -0.8573032|   0.6187692|-0.013626244|  0.22368708|-0.018741507|  0.16520885| -0.14808975|\n",
            "|  0.0|    0.5179754|  0.30500078|    0.334438|   0.1461737| -0.34340104|  0.28122914|  0.14274953| -0.47570825|  0.31452408|  -0.4097497| -0.39765525|  0.29358006|   0.29928863|  -0.5579298| -0.16628684|  -0.2883185| -0.14471045|  0.17070518|  0.07729456|  0.33540267|   0.2239191| -0.20315214|   0.0690649|  0.16302694|  0.04054168|-0.092488706|   -0.973367| -0.11481208|  0.24530564|  0.29101542| 0.121937625| -0.11721829|   0.1777801|   0.3489871|-0.086375535|  0.08368223| -0.57674986|  -0.5037939| -0.35049537| -0.20630705|  0.36812618|   0.1952008| -0.13811354| -0.12778525| -0.098606944|  0.24149668|  0.06649363|  0.27446002|  0.07513363| -0.46173912| -0.07522754|  0.18174076| -0.21406998| -0.21961457| -0.40919217|  0.03044222|   0.79874367| -0.20693624|  -0.23846206| 0.056584194|   0.3781132| -0.18737331| -0.054984763|   -0.969707|   0.57953763| -0.28207737|   0.11276275|  -0.4865773|  0.75461537| -0.49250436|-0.039861783|  -0.3802778| -0.48826173| -0.35668346|   0.5246969| -0.11789225|   0.1007323| -0.37902626|   0.0539413| -0.26049328|-0.068323925|   0.9727148|0.0069323666| -0.05595541| 0.073770344|   0.1300968|   0.4400547|   0.1847983|-0.015791077| -0.48759064| -0.31322524| -0.33643937|  0.49860743| -0.80718225|  0.11285599| -0.08520705|  0.47987136|  0.22035289|-0.032639794|  0.21466243|\n",
            "|  0.0| -0.050061367| 0.048716296|   0.2430371|  -0.9829752|  0.19925994|  0.67112017|  0.33497506|  0.55271196|   0.1484454|-0.119718775|  0.21343876|  0.14481497|   0.44235256| -0.25202292|   0.5414968| -0.12725607| -0.06722342| -0.24717449| -0.19649452|   1.0782126|  0.07482499|  -0.1457778|  0.04769176|   -0.210015|  -0.5099208|  -0.6420237|  -0.7433331|  0.08310498| 0.016848255|   0.6007283| 0.028062435|  -0.5440019| -0.22598958|  0.70704687|  -0.3509606|  0.14715362|  0.46113873|   0.2010903| -0.35908428|  0.22023344| -0.20997147|   0.8701554| -0.66260034| -0.26436937| -0.016987383|   0.9092716| -0.24530552| -0.20481081|  0.05303263|  -0.3578021| 0.045611806| -0.18064936|  0.13851918|   1.0075352|   0.2044443|  0.19511762|   0.16440341| -0.66684926|  0.035345007|  0.79665965|   0.4545724| -0.10439324|  -0.43917602| -0.72781134|  -0.48864424|  -0.5824079|  -0.44955957| -0.08308369|  0.21732159|  0.19878224|  0.67679375| -0.48454913|  0.31385022|  -0.8053967| -0.13667718|  -0.6299829| -0.21069962|  0.20008607|  0.27009237| -0.41838425|  0.68921334|  0.29731667| -0.54219145|  0.37188062| -0.14503981|  -0.9284207|  0.07709806| -0.48899966|  0.18222985| -0.20629787|  0.34343714|-0.012619186| -0.23049998|   0.3494727|  0.16698664| -0.68298805|  0.44753212| -0.24922502| -0.15047015|  0.23752591|\n",
            "|  0.0| -0.020956447| -0.26678026| -0.11537471|  -0.8188299|  0.42597523|   0.4626714|   0.5175004| 0.021181311|  0.36459506|  0.14567973|  0.03819132|  -0.2743617|   -0.4696574| 0.064949185|-0.117208116| -0.30105668| 0.027406035|  -0.0555688| -0.34892607|  0.19924681|  0.14786687|  -0.2686183|  0.09520194|  0.15695116| -0.28326926|  0.07856168| -0.20094731| -0.19446932|  0.28701597|   0.3696953|  0.11404784| -0.08728282| -0.31538677|  0.60633105| -0.28525752|-0.113112375| -0.44068736|-0.024016988|  -0.5280038| -0.70658994|  0.13752587| -0.06961621|  -0.2689038|  -0.9353432| -0.047875583| -0.11250998|  0.15302733|   1.0725263|  0.27604714|  -1.0678738|  0.12643903|  0.22505948| -0.53666455|  0.06355153|  0.07474582|   0.5571693|  -0.18648002| -0.01639683|    0.1848973|   0.9645255|   0.3263776| 0.084238395| -0.016865253|   -0.676887|   0.30487657| -0.65579087|    0.6338954|  -0.7958603| -0.25096846|  0.17691427|   0.6988588|-0.124182746|  0.08866766|  -0.4734592| -0.25640792| -0.07090908|  -0.6292481| -0.65091443|  -0.2501414|  0.12637538| -0.08164303|  0.81568855|  -0.3022824|   0.3111547|  0.27578145|   -0.567513|  0.37761885|  0.21814202| 0.121110745|  -0.2860407| 0.070979826|   0.3315172|  0.13890123|  -0.1297618|  0.14669563|-0.037395142|  0.14618056|  0.25852102|  0.71827394|  0.08837253|\n",
            "|  0.0|   0.54913086|   -0.161352|  0.56253177| -0.46458665|  -0.4343229|  0.34302592|  0.22508791| -0.43068212|  0.09279823| -0.19485927| -0.28591105|  0.42353615|   -0.3959504|  -0.5565031|  0.38852024|   0.1720878|  0.07172707| -0.08346198|-0.014469082|   0.9382366| 0.113857985|  0.21248738| -0.39669266|  -0.4938819| -0.87753034|   0.2964452| -0.40754306|-0.019373074|  0.07849428|  0.07642032|  0.54182106|  -0.5030248|-0.053756587|   0.9152999| -0.36284733|  0.33690655| 0.113544166| -0.16252035| -0.36824262|  0.36435735| 0.118691355|-0.031884976|  0.36157224|  -0.4924919|   -0.0345816|-0.051174387| 0.026943322|   0.6331193|  0.16666974|  -0.5609864| 0.091854915|   0.4831293|  -0.2968083|  -0.1441989|   -0.605161|   0.2930388|   0.07362967|   -0.905072|   0.28791913| 0.025016442|   0.6047653|-0.047380067|  0.018935233| -0.65785855|  0.067294136| -0.26959908|  -0.17142127|  -0.5117158|  0.06427904|  -0.4115886|  0.20437908| 0.051255405| -0.14997163| -0.36949587|  0.11349978| -0.21942101| -0.38198254| -0.39937773|  0.18255463|  -0.5620681|  0.10479437|  0.96862704| -0.46282414|  0.46252114|   0.6581778| 0.071826495|  0.43429387| 0.008010351| 0.030287903|  -0.1257402| -0.19282174|   0.0256099|  0.91290224| -0.44044435|    1.330201| -0.31036648|  0.54095197|  0.63634515|    0.577237|-0.114094764|\n",
            "|  0.0|   0.12730475|  -0.3491418|  0.90352726|  0.20351647|  0.08268206| -0.10096896|  0.22938901|  -0.5067307|   0.1937409| -0.36094716|   0.5013841| 0.018984146|  -0.13363703|  -0.4994471| -0.31647763| 0.042228933| -0.18854262| -0.30293185| -0.04558249|   0.9462108|-0.034854695|  0.21643661|  0.05884233|  0.37860397| -0.04860328|-0.105510786| -0.62002516|  -0.1697422|  0.10961303|   0.5659429| -0.21973118|  -1.1295017| -0.38747478|    0.571557| -0.28987098|  0.17624396|  0.47285742| -0.07632362|-0.028168408|  0.21695217| -0.18160307|  0.07052126|  0.03664927| -0.61309457|  -0.03613043|   0.3737091|  0.14742357|   0.5180384|  0.04634291| -0.52400666| 0.066274315| -0.03445583| -0.06738876|-0.057673015|  0.15514486|  0.24059594|    0.6058158|  -0.6320071|   0.20176284|-0.038591772|  0.11364689|  0.35731173| -0.078971304|  -0.9903548|   0.15721577| 0.061643608|  -0.06443064|  -0.1375551|   0.4322239| -0.19834024|  0.49488813|  -0.3890732|  0.23143731|  -0.6716857|  0.22752157| -0.33732933|  0.28743434| -0.46344236|-0.022058973|  -0.5229445|  0.21855515|   0.8550515|  0.39648828|    0.307086|  0.10924405| -0.42238855|  0.41648048| -0.17978573|   0.7512144|  0.24992733|  -0.5104587| -0.06755032|  0.17844051|  0.45042926|  0.20086336| -0.28369412|  0.26331335|-0.044522725|  0.17948557| -0.12120439|\n",
            "|  0.0|    0.9392738| 0.095582455|  0.45225173|  -0.6102149| 0.034642793|-0.010251682|  0.08261418|  -0.5851499|  -0.1676625|   0.2818131| -0.10709734|  0.41842216|  -0.72145164|   -0.526004|  0.21941814|  0.08910567| -0.46478143| -0.13984653|-0.003711285|   0.5828115|  0.17842233| -0.03250184| -0.14743504| -0.08247228| -0.60332656| -0.18164751|  -0.3542638|  0.42163825|  0.37744266|  0.48498178|  0.52110654| -0.67051256|  0.23670991|   0.8723473|  0.06428689|   0.3805428|  0.19934034|  -0.7290117| -0.41031754|7.8238966E-4|  0.19475995|    0.251741|   0.4017596| -0.37932342| -0.012506306|  0.08367898| 3.734231E-5|  0.42477703| 0.052108034| -0.29069558|  0.32932028|  0.16935392| -0.20915091| -0.07162949| -0.41235477|   0.4701894|   0.19004823| -0.87841827|     0.323259|-0.037271865|   0.8406836| 0.026203692|    0.1856024|  -0.8635881|   0.40210003| -0.34968147|  0.058484454| -0.74414444| -0.11023179| -0.93373936|  -0.1394413| -0.34700292| -0.12985618|  -0.5117957|  0.07147243|  0.40346324|  -0.4201414| -0.53604203| 0.036424104| -0.43477404|  0.34770256|   0.8754077| -0.43091202|   0.5289948|  0.63633484|   0.1720852|  0.34686553| -0.23166142|  0.16806075|-0.011369911| -0.33184597|  0.09711371|  0.68883175| -0.29878852|   0.9338296|  -0.4255937|  0.20705682|  0.42477432|  0.17783806| -0.42005378|\n",
            "|  0.0|   0.15921333| 0.011948818| -0.25050408|  -0.5996001|  0.28048748|  0.64365214|   0.2106618|  0.25690386| -0.11828855| -0.13599442|  0.05473802| -0.07892632| -0.093711495| -0.35696238|  0.29267985| 0.084894724| -0.29056734|  -0.2019102| -0.23093778| 0.020829085|  0.42475387|   0.2142534|  0.06329985| -0.48053783|  -0.7479836| -0.08443232|   -0.671318|  0.30706054|  0.61145556|   0.5942594|-0.073240384| -0.44099453| -0.22294642|    0.468188|  -0.5252675| -0.38734627| -0.06377216|-0.103403166|   -0.294609|-0.010432531|-0.079889774|  0.20569648| -0.06610108| -0.66924924|  -0.06890637|   0.5929283|0.0049692225|   0.7330784|  0.29429448| -0.29012233|-0.078183934|  0.34515232| -0.52455235|   0.5234629|  0.09343022|  -0.1723643| -0.049722992|  0.06952694|  0.102743536|  0.16405112|   -0.263175|  0.28560615|  -0.28597277| -0.47269085|    0.5555871| -0.12008273|  -0.06199116|  -0.0833162|  0.23878664| -0.09596304|   0.5486525|  0.23259127|-0.114393316| -0.24926099|  0.04829584| -0.11242177| -0.39587116| -0.30167553| -0.20431946|  0.07183999| -0.21869105|  0.44752988|  0.14997989|  0.22641477|-0.111061335|-0.123442866|  0.17454101| -0.11379148|  0.39931908| -0.15614943|  0.45402688| -0.13346647|-0.031580046| -0.46593088|  0.35628194|  0.30271795|  0.17930163|  0.12566184|    0.549994|  0.20515561|\n",
            "|  0.0|  0.034423612|-0.103341445|0.0034909546|  -0.9158626|  0.29345435|  0.20450942|  0.29475185| -0.13592419| -0.14555895|  -0.5750829| -0.38627392|  0.50065637|   0.02266199|  -0.5723741| -0.07136229|   0.3767075|   0.2879504|  0.18724684|-0.116519295|    0.998333|  0.25577953|-0.061740838| -0.22026855|   0.1656743|  0.69143724|   0.1413487| -0.45532873| -0.26804116|  0.33014968|  0.25205326| -0.27539742|  0.04577075|  -0.6405394|  0.03221934| -0.48360932| -0.19481349|  0.39822784|9.1151684E-4|  -0.3930375|   0.5272338|  -0.3685588|   0.5465367|   0.0887108| -0.27907535| -0.041648924| -0.06416789|  0.25489008|   0.3982462|  0.27012444| -0.08090991|  -0.2000115|   0.3043901| -0.45116132|  0.39645618| -0.21659112|  0.19275403|   -0.1017757|   0.5037548|    -0.186147|  0.28408882|   0.5143187| -0.02566642| -0.114436105| -0.26153445|  -0.16794978| -0.17194417|  -0.43206477|-0.080724984| -0.51535594|  0.07097539| -0.16514477| -0.22697031|  0.34154037| -0.44314253|  0.09555864|  0.22277513|   0.4940816| -0.38076204| -0.30084947|-0.082635775|-0.028502706|  0.47135952|  -0.5607004|  0.09831585|  0.28968596| -0.23445578|    0.563971|  0.32812753|-0.009564061|  0.17772846|  0.18535402| -0.21290256|  0.13950257|  0.14060229|  0.12695304|   0.5691849|-0.025568873| -0.19365577|  0.37697458| -0.41324311|\n",
            "|  0.0| -0.045403365| -0.09493951|  -0.2608409| -0.48752257|  0.47038275|  0.42955863|  0.38688588|   0.1315128|-0.055169024| -0.15136257|  0.17800528|  0.19138476| -0.040884204|  -0.5337732|   0.3123475|-0.015486889|  -0.2859028| -0.19774008| -0.28190985| 0.044330303|  0.61576414|   0.1452184| -0.05123774|  -0.6272473| -0.68922037| -0.09850273|  -0.7467682|-0.001317814|  0.55749094|   0.3918991|  0.00855298|  -0.5374529|  -0.4067855|  0.49675867|  -0.5666872| -0.40052718| -0.04878059| -0.27764842|  -0.4904399|  -0.2144258| -0.23490308|   0.3119287| -0.14310697| -0.69151825|  -0.06862128|  0.39796364|  0.18762761|   0.8163794|  0.27506274| -0.32108405| 0.110265896|  0.29356605|  -0.4913219|   0.3732955| -0.03636705| -0.04401078|  -0.17274007| 0.041187532|   0.06167052| -0.12236848| -0.44674945|  0.14082825|  -0.27449372| -0.45783782|   0.40466633| -0.27367648|-0.0020841025| -0.20733988|  0.16036706|  0.15437353|  0.36368352|  0.23156746| -0.11720454|   -0.387626|-0.004838176|-0.036781833|  -0.2410253| -0.31838423| -0.24943107|  0.16462043| 0.020386856|   0.6575924|  0.23916674|  0.15117286| -0.19091201|  -0.2511635|  0.11439591|  0.22729225|   0.6260822| -0.22545551|  0.51603264|  0.02792861|  0.20621553| -0.16538228|  0.28713092|  0.24356963|  0.13086545|-0.044044103|   0.4532531|  0.11621277|\n",
            "|  0.0|   0.49238524|  -0.3126525|  0.19482991|  -0.4712504|  0.16983387|   0.3379111|  -0.3363996| -0.82109976| -0.12403697| -0.25273907|   0.4766578| 0.004471235|  -0.12062131| -0.12962475|  -0.4074096|   0.2189529|  0.06400571|-0.110134564| -0.10863805|   0.3160227|  0.08805513| -0.18709055|-0.011310648|  0.17755195| -0.22260094|  0.05342964| -0.44425678|  0.38992834|  0.12225184|   0.1994814|  0.09324383| -0.21408018| -0.12784643|  0.33029193|  0.04579696|  -0.0662178|  0.07620518|  -0.5970469| -0.61260295|  0.22623166| 0.036925968|  0.37144184| -0.13283204| -0.25830716|  -0.10744727|   0.1943694|   0.4521369|  0.26900434|  0.42425674| -0.15134686|  0.07110748|   0.3283662| -0.03202862| -0.05836717| -0.27406684|  0.14350569|  -0.13135757| -0.61488086|  -0.04455351|   0.2813831|   0.8633357|  0.34243226|  -0.29336905|  -0.8219193| -0.004343467| -0.32927412|  0.016556304| -0.54350555|  0.60872567|  -0.2843121|-0.028943837| -0.08451417| -0.24709034| -0.17843586|  0.03808388| -0.38407382|   0.2629425|-0.037300207|  0.16476545| 0.039142594|  0.09311392|  0.67369336|-0.024742104|  0.34662366| 0.100884765|-0.045563743|  0.60242736|  0.43129382|   0.7622047| 0.064342275|  -0.6944827|  -0.1609318|   0.7357505| -0.05840894|   0.7699899| -0.48475012|   0.5091613|  0.49473095|  0.12790114| -0.39303154|\n",
            "|  0.0|   0.66098213|  -0.2259814|  0.20785399|  -0.1301664|  0.05982434|  0.34001368| -0.25148302| -0.60805815|  0.18134452|  -0.1752032|  0.09715702|  0.10489561|   -0.5170622|  -0.4533197| -0.12132774|  0.20320673|  -0.1801644|  0.07077725|  0.17732772|  0.81520236|  0.13642052| -0.07138333| -0.34371394| -0.12218974| -0.39055908|-0.048884246|  -0.5009393| 0.049461357|  0.11744092|  0.17699823|  0.57541776| -0.36345312|   0.1033191|   0.5484826| -0.22100562|  0.26306817| -0.13575518| -0.24905095| -0.46887156|  0.60406315|  0.27868256|  0.20377296|  0.09624357| 0.036201075| -0.106840014|  0.21938023|   0.1823186|  0.26623335|  0.11586553| -0.43932638|  0.07851981| 0.117038354| -0.19954908| -0.24821697| -0.31934908|  0.40768075|-0.0031161865|  -0.7079033|   0.15920079|  0.05849253|  0.88770264|  0.23849124|   0.19405276|  -0.5897846|  -0.14564638| -0.17266932| -0.024784204|  -0.1300531| -0.17493136|  -0.5084887|  0.53934824|  -0.5114984| -0.18295321|  -0.1637271|  0.19570692|0.0092780795| 0.087460056| -0.42173293|  0.36755693| -0.41248804|  0.46116602|   1.0683842| -0.23281273|   0.6159208|  0.23589747| -0.02853714|  0.37656364|-0.028259369|   0.1419411|-0.035391018| -0.42213666|-0.064322576|  0.57050437| -0.23776692|    0.580838|  -0.6124349|  0.23412216|  0.41355893|   0.3305516| -0.23463255|\n",
            "|  0.0|   0.61893094|  0.21817712|   0.6068521| -0.13941535|   0.3470064|  0.22629458|  0.45029247|  -0.3296082|  -0.2545467| 0.028932288| -0.18750271|  0.26768494|  -0.07028355|  -0.8346913|  -0.3457181| -0.07887857|-0.031033888| -0.79044235| -0.04893611|   0.3907358|   0.4436062|  0.01797939|-0.028961487|  0.19276908|  0.09729163| -0.22509277|  0.09845971| -0.24209464|  0.16170353|  0.27373075|  0.21850029| -0.24124226|  -0.6465265|  0.22790356|  -0.5411413| -0.22853176| -0.12291816|-0.017358296| -0.42486733|  0.17076918| -0.68953407|  0.72643167| -0.20582423| -0.18558702|  -0.06363881|  0.65971303|  0.73907006| 0.093198575| -0.30561757| -0.09934817| -0.46014622|    0.493361|  0.38685232| -0.15987992|  0.40805176|  -0.5620811|   0.23585615| -0.71028185|-0.0131011885|-0.123809285|  0.39102885|-0.011211332|  -0.35427988| -0.78734046|   -0.2669984| -0.22955862|   -0.5378592|  0.19191378|  0.55725056|  -0.6360831|   -0.075032| 0.050970122|   0.2630736| -0.15964842|  0.34149274|  -0.7521933| -0.22065042|   -0.023065|  0.31958884| -0.49665934|  0.42608082|   0.5477181| -0.10463428|   0.2530402|  0.36658323|  0.11302225|  0.11704761|  0.12061748| -0.26949593|-0.058630574|  0.21045807| -0.25154388|  0.40423447| -0.10941793|  0.17081848|-0.046624266|   0.9112736|   0.4866497|   0.6986006| -0.43310124|\n",
            "|  0.0|    0.3463533|0.0066012163|  0.49015397| 0.026082397|-0.045465104| -0.39084774| -0.26576987|-0.017732631|  -0.5226584|  -0.9230447| -0.67980665|  0.67802995|   0.54662627| -0.07568361|  -0.5018784|   0.3649608|  -0.3564597|  -0.4300746|   0.3179466|  0.46278772|   0.6061635|  0.25592142|-0.110794336|   -0.687641|-0.073479414| -0.09923342| -0.40946966|  0.09127088| -0.36012208|   0.7265401| -0.08609752|  -0.1708928| -0.20404442|  0.08772759|   -0.771646|  -0.9461803| -0.04207884|  -0.6510964|  -0.3488825| -0.65407735| -0.39518514| -0.36537325|   0.5004128|   -1.260253|-0.0029848814|   0.1894019|  0.17356245| 0.019715957| -0.28116494| -0.69738793| -0.20312636|   0.2413208|  0.11385061|   0.3342728|  0.59458905|  0.10342359|    0.3339202|  0.12917897| -0.103010945|  0.45171708|  0.08484541|  0.15089628|  0.017227195|  -0.4635068|   0.14637373|  -0.5700541|    0.6629738|  -0.6219238| -0.24359187|   -0.852654|    0.882366|  0.06977714| -0.20439568|   -0.664061| -0.01158677| -0.36946946| -0.16104361| -0.46709698| -0.34488437|  0.27682072|  0.50880086|   0.8841664|   -0.722316| 0.018147774|-0.013844412|  0.14182635| -0.13661781|  0.20520966|  0.13594815|  0.08261057|  0.22522227|  0.27545714|  0.24928793|  0.36699623|    0.472596|  0.02220343|  0.49321494|  0.62791026| -0.24225646| -0.77636784|\n",
            "|  0.0|    0.8509186| -0.46518883|  0.85844266|-0.099054046|  0.36287063|   0.6966213|  0.24377884|  -0.3209679|  0.02012262| -0.33272985| -0.13472654| 0.058289476|  -0.17522117| -0.27031255| -0.23102842|  0.37179643| -0.19759259|-0.032913998| 0.057960615|  0.75897336| 0.030126277|  0.39359713|-0.058958903|   0.3112719|   -0.418148|  0.07579134|  -0.2614529|-0.029989861| -0.13282257|  0.36186978|   0.2716942|  -0.2493972| -0.44029757|   0.2778562| -0.10542227| -0.04892806|  0.17726783| -0.71205276| -0.20920774|  0.20033231|  0.17503928|   0.4654268| -0.23879454|  -0.4871201| -0.093232214|  0.17941585|   0.1381021|   0.0541534| -0.13601227| -0.15157028|-0.066962406|  0.35303527| -0.07955449| -0.37554258|  0.03070079|  0.34523544|   0.39262918|  -0.7820578|   0.09304763|  0.00268244|  0.29719493|  0.23880385|   0.19081363|   -0.600587|   0.44540715|   0.1567215|   -0.1717111|  0.11177099|  0.73792523|  -0.9552376|   0.6646727| -0.18754996| -0.07830654| -0.28222156|  0.39006487|  -0.5266403|  0.24104328|  0.18838838|  0.28776368|  -0.4256522|-0.012298439|  0.91444814| 0.059113763| 0.003147062|  0.23838955|  -0.3523258|   0.3111681| -0.17334516|  0.16071656|  -0.7613636| -0.36870018| -0.36297444|  0.35028383| -0.06810343|  0.68056166| -0.46079162|  0.83733886|  0.39910305|  0.31474617|  -0.3601794|\n",
            "|  0.0|  -0.23155987|  -0.2455965|  0.24772456| -0.78026843| -0.05419282|   0.8447124| -0.27844775|  0.13138245| -0.20084606|  -0.5515711| -0.08443199|  0.88854563|   0.23042972| 0.061030217| -0.15007755|  0.27074584| -0.45741785| -0.06873278| 0.121187404|  0.56735736|  0.26821533|  0.04885831|  -0.4793358| -0.46262413| -0.59561247| -0.14300555|-0.015948085| -0.10928936| -0.15149066|    0.338467| -0.17680493| -0.57074094|  0.40017623|   0.8715151| -0.79448324|  -0.7477337|    0.184257|  0.03190688|  -1.1639779| -0.29298082|  0.33345452| -0.22672668| -0.05830252| -0.87277293|  0.012666106|  0.31299257|   0.3479122|-0.011788428|  0.20761622| -0.63952374|  0.41942337|   0.5266764|-0.010213513|  0.42733216|  0.15633866|   0.5887489|  0.029533608|  0.29028815|  -0.24892615|   0.5415285|    0.571585|  0.41466546|  0.063828334| -0.16696061|   0.51809204| -0.15949926|     0.750273|  -0.4386788| -0.23200461| -0.38428003|  0.30452433| -0.21711382|-0.063430205|  -1.1487032|   0.1762021| -0.72839504|  -0.1030671|  -0.4058125| -0.31333578|  0.06272133|  0.35748076|  0.92578304|   -0.976827|   0.2742843| -0.12790096|  -0.0140763|   0.2294382|-0.031327218|   0.1934004| 0.032568567|  0.02805198| -0.13131249|  0.25941053| -0.32646957|    0.808771|-0.055393867|  0.30477238|  0.45557225|  0.34970087| -0.24593343|\n",
            "|  0.0|   0.28817457|  -0.2996941|  0.43040955|  -0.5421194| -0.10441786|  0.44739765| -0.19879988|   -0.757854|-0.023799058| -0.35724604|  0.05718766|  0.12271258|  0.119989775| 0.024367163| -0.44859397|  0.06693067|  0.11051844|  0.08201036| 0.032525063|   0.5029916| 0.081704915| -0.16271262| 0.108999476|  0.15164998| -0.25426716|  0.21045767|  -0.3500097|  0.33725506| -0.08322317|   0.1230496|  0.14422327| -0.31165233|-0.006978348|  0.33270752|  0.06747931|-0.123893686| 0.014381677| -0.26093277|   -0.390269| -0.13241974|  0.19347581|-0.032104507| -0.07189576|  -0.4684099|  -0.13349324|-0.077669434|  0.19562769|  0.24070449|  0.18897745|-0.049217675|  -0.3961645|  0.46132818| -0.09031969| 0.086346656|  -0.5738866| 0.061222225| -0.036098946| -0.52555275|  -0.30877924| -0.04745531|   0.6230252|  0.16503796|-3.2809377E-4| -0.81867737|   0.17502017|  0.06791867|  0.002699588|   -0.404568|   0.5295485| -0.32184294| -0.08698824| -0.04149579| -0.32503924| -0.06833774|   0.3942012| -0.32680687|   0.4969572|  0.03166215|  0.08817001|  0.13861385| 0.031298004|  0.91066456| 0.014166776|  0.21416649|  0.11649803| -0.14906989|  0.64854276|    0.399513|  0.24999546| -0.06919226| -0.48093212| -0.14008681|   0.7583343| -0.17114586|   0.6095481| -0.08649738|  0.44405013|   0.4433493|   0.2769971| -0.04648049|\n",
            "+-----+-------------+------------+------------+------------+------------+------------+------------+------------+------------+------------+------------+------------+-------------+------------+------------+------------+------------+------------+------------+------------+------------+------------+------------+------------+------------+------------+------------+------------+------------+------------+------------+------------+------------+------------+------------+------------+------------+------------+------------+------------+------------+------------+------------+------------+-------------+------------+------------+------------+------------+------------+------------+------------+------------+------------+------------+------------+-------------+------------+-------------+------------+------------+------------+-------------+------------+-------------+------------+-------------+------------+------------+------------+------------+------------+------------+------------+------------+------------+------------+------------+------------+------------+------------+------------+------------+------------+------------+------------+------------+------------+------------+------------+------------+------------+------------+------------+------------+------------+------------+------------+------------+------------+\n",
            "only showing top 20 rows\n",
            "\n"
          ]
        }
      ]
    },
    {
      "cell_type": "code",
      "source": [
        "sarcastic_weight = class_weights[0].item()\n",
        "non_sarcastic_weight = class_weights[1].item()"
      ],
      "metadata": {
        "id": "7TtrzH4f533G"
      },
      "execution_count": 29,
      "outputs": []
    },
    {
      "cell_type": "code",
      "source": [
        "df_weigthed = df_embedded.withColumn(\"weigth\",\n",
        "                                     when(col('label') == 1.0, sarcastic_weight)\n",
        "                                     .otherwise(non_sarcastic_weight))\\\n",
        "                          .select(['label', col('weigth').cast(FloatType())]+df_embedded.columns[1:])"
      ],
      "metadata": {
        "id": "MsWwVnMZ6vAK"
      },
      "execution_count": 30,
      "outputs": []
    },
    {
      "cell_type": "code",
      "source": [
        "df_weigthed.printSchema()"
      ],
      "metadata": {
        "colab": {
          "base_uri": "https://localhost:8080/"
        },
        "id": "fjFFLZOp7nHG",
        "outputId": "0d3db9eb-8af1-4728-fb37-671ed59289e8"
      },
      "execution_count": 31,
      "outputs": [
        {
          "output_type": "stream",
          "name": "stdout",
          "text": [
            "root\n",
            " |-- label: float (nullable = true)\n",
            " |-- weigth: float (nullable = false)\n",
            " |-- features[0]: float (nullable = true)\n",
            " |-- features[1]: float (nullable = true)\n",
            " |-- features[2]: float (nullable = true)\n",
            " |-- features[3]: float (nullable = true)\n",
            " |-- features[4]: float (nullable = true)\n",
            " |-- features[5]: float (nullable = true)\n",
            " |-- features[6]: float (nullable = true)\n",
            " |-- features[7]: float (nullable = true)\n",
            " |-- features[8]: float (nullable = true)\n",
            " |-- features[9]: float (nullable = true)\n",
            " |-- features[10]: float (nullable = true)\n",
            " |-- features[11]: float (nullable = true)\n",
            " |-- features[12]: float (nullable = true)\n",
            " |-- features[13]: float (nullable = true)\n",
            " |-- features[14]: float (nullable = true)\n",
            " |-- features[15]: float (nullable = true)\n",
            " |-- features[16]: float (nullable = true)\n",
            " |-- features[17]: float (nullable = true)\n",
            " |-- features[18]: float (nullable = true)\n",
            " |-- features[19]: float (nullable = true)\n",
            " |-- features[20]: float (nullable = true)\n",
            " |-- features[21]: float (nullable = true)\n",
            " |-- features[22]: float (nullable = true)\n",
            " |-- features[23]: float (nullable = true)\n",
            " |-- features[24]: float (nullable = true)\n",
            " |-- features[25]: float (nullable = true)\n",
            " |-- features[26]: float (nullable = true)\n",
            " |-- features[27]: float (nullable = true)\n",
            " |-- features[28]: float (nullable = true)\n",
            " |-- features[29]: float (nullable = true)\n",
            " |-- features[30]: float (nullable = true)\n",
            " |-- features[31]: float (nullable = true)\n",
            " |-- features[32]: float (nullable = true)\n",
            " |-- features[33]: float (nullable = true)\n",
            " |-- features[34]: float (nullable = true)\n",
            " |-- features[35]: float (nullable = true)\n",
            " |-- features[36]: float (nullable = true)\n",
            " |-- features[37]: float (nullable = true)\n",
            " |-- features[38]: float (nullable = true)\n",
            " |-- features[39]: float (nullable = true)\n",
            " |-- features[40]: float (nullable = true)\n",
            " |-- features[41]: float (nullable = true)\n",
            " |-- features[42]: float (nullable = true)\n",
            " |-- features[43]: float (nullable = true)\n",
            " |-- features[44]: float (nullable = true)\n",
            " |-- features[45]: float (nullable = true)\n",
            " |-- features[46]: float (nullable = true)\n",
            " |-- features[47]: float (nullable = true)\n",
            " |-- features[48]: float (nullable = true)\n",
            " |-- features[49]: float (nullable = true)\n",
            " |-- features[50]: float (nullable = true)\n",
            " |-- features[51]: float (nullable = true)\n",
            " |-- features[52]: float (nullable = true)\n",
            " |-- features[53]: float (nullable = true)\n",
            " |-- features[54]: float (nullable = true)\n",
            " |-- features[55]: float (nullable = true)\n",
            " |-- features[56]: float (nullable = true)\n",
            " |-- features[57]: float (nullable = true)\n",
            " |-- features[58]: float (nullable = true)\n",
            " |-- features[59]: float (nullable = true)\n",
            " |-- features[60]: float (nullable = true)\n",
            " |-- features[61]: float (nullable = true)\n",
            " |-- features[62]: float (nullable = true)\n",
            " |-- features[63]: float (nullable = true)\n",
            " |-- features[64]: float (nullable = true)\n",
            " |-- features[65]: float (nullable = true)\n",
            " |-- features[66]: float (nullable = true)\n",
            " |-- features[67]: float (nullable = true)\n",
            " |-- features[68]: float (nullable = true)\n",
            " |-- features[69]: float (nullable = true)\n",
            " |-- features[70]: float (nullable = true)\n",
            " |-- features[71]: float (nullable = true)\n",
            " |-- features[72]: float (nullable = true)\n",
            " |-- features[73]: float (nullable = true)\n",
            " |-- features[74]: float (nullable = true)\n",
            " |-- features[75]: float (nullable = true)\n",
            " |-- features[76]: float (nullable = true)\n",
            " |-- features[77]: float (nullable = true)\n",
            " |-- features[78]: float (nullable = true)\n",
            " |-- features[79]: float (nullable = true)\n",
            " |-- features[80]: float (nullable = true)\n",
            " |-- features[81]: float (nullable = true)\n",
            " |-- features[82]: float (nullable = true)\n",
            " |-- features[83]: float (nullable = true)\n",
            " |-- features[84]: float (nullable = true)\n",
            " |-- features[85]: float (nullable = true)\n",
            " |-- features[86]: float (nullable = true)\n",
            " |-- features[87]: float (nullable = true)\n",
            " |-- features[88]: float (nullable = true)\n",
            " |-- features[89]: float (nullable = true)\n",
            " |-- features[90]: float (nullable = true)\n",
            " |-- features[91]: float (nullable = true)\n",
            " |-- features[92]: float (nullable = true)\n",
            " |-- features[93]: float (nullable = true)\n",
            " |-- features[94]: float (nullable = true)\n",
            " |-- features[95]: float (nullable = true)\n",
            " |-- features[96]: float (nullable = true)\n",
            " |-- features[97]: float (nullable = true)\n",
            " |-- features[98]: float (nullable = true)\n",
            " |-- features[99]: float (nullable = true)\n",
            "\n"
          ]
        }
      ]
    },
    {
      "cell_type": "code",
      "source": [
        "train = df_weigthed.sampleBy('label', fractions={0.0: 0.5, 1.0:0.6})\n",
        "test = df_weigthed.subtract(train)"
      ],
      "metadata": {
        "id": "PzB6UKAbs7OZ"
      },
      "execution_count": 32,
      "outputs": []
    },
    {
      "cell_type": "code",
      "source": [
        "train.show()"
      ],
      "metadata": {
        "colab": {
          "base_uri": "https://localhost:8080/"
        },
        "id": "V0jwm7aS9hjP",
        "outputId": "41130b13-3bea-4b2b-a5b6-52a9149c049d"
      },
      "execution_count": 33,
      "outputs": [
        {
          "output_type": "stream",
          "name": "stdout",
          "text": [
            "+-----+---------+-------------+------------+------------+-----------+-----------+-----------+------------+------------+------------+-------------+------------+------------+-------------+-------------+------------+-------------+------------+-------------+-------------+------------+------------+------------+-------------+------------+------------+------------+------------+------------+------------+------------+------------+------------+------------+------------+------------+------------+------------+------------+------------+------------+------------+------------+------------+------------+------------+------------+------------+------------+------------+------------+------------+------------+------------+------------+------------+------------+-------------+------------+-------------+------------+------------+------------+------------+------------+-------------+------------+------------+------------+------------+------------+-------------+------------+------------+------------+------------+------------+------------+------------+------------+------------+-------------+------------+------------+------------+------------+------------+------------+------------+------------+------------+------------+------------+------------+------------+------------+------------+------------+------------+------------+------------+\n",
            "|label|   weigth|  features[0]| features[1]| features[2]|features[3]|features[4]|features[5]| features[6]| features[7]| features[8]|  features[9]|features[10]|features[11]| features[12]| features[13]|features[14]| features[15]|features[16]| features[17]| features[18]|features[19]|features[20]|features[21]| features[22]|features[23]|features[24]|features[25]|features[26]|features[27]|features[28]|features[29]|features[30]|features[31]|features[32]|features[33]|features[34]|features[35]|features[36]|features[37]|features[38]|features[39]|features[40]|features[41]|features[42]|features[43]|features[44]|features[45]|features[46]|features[47]|features[48]|features[49]|features[50]|features[51]|features[52]|features[53]|features[54]|features[55]| features[56]|features[57]| features[58]|features[59]|features[60]|features[61]|features[62]|features[63]| features[64]|features[65]|features[66]|features[67]|features[68]|features[69]| features[70]|features[71]|features[72]|features[73]|features[74]|features[75]|features[76]|features[77]|features[78]|features[79]| features[80]|features[81]|features[82]|features[83]|features[84]|features[85]|features[86]|features[87]|features[88]|features[89]|features[90]|features[91]|features[92]|features[93]|features[94]|features[95]|features[96]|features[97]|features[98]|features[99]|\n",
            "+-----+---------+-------------+------------+------------+-----------+-----------+-----------+------------+------------+------------+-------------+------------+------------+-------------+-------------+------------+-------------+------------+-------------+-------------+------------+------------+------------+-------------+------------+------------+------------+------------+------------+------------+------------+------------+------------+------------+------------+------------+------------+------------+------------+------------+------------+------------+------------+------------+------------+------------+------------+------------+------------+------------+------------+------------+------------+------------+------------+------------+------------+-------------+------------+-------------+------------+------------+------------+------------+------------+-------------+------------+------------+------------+------------+------------+-------------+------------+------------+------------+------------+------------+------------+------------+------------+------------+-------------+------------+------------+------------+------------+------------+------------+------------+------------+------------+------------+------------+------------+------------+------------+------------+------------+------------+------------+------------+\n",
            "|  0.0|0.7087924|   0.24140738|  0.30199033| -0.31032836|-0.31405967|0.064932935| 0.09535125|-0.037730448|  0.18773751| 0.039917946| -0.015703911| 0.015311842|   0.7254849|-0.0011643944|  0.010023344|  0.28886327|   0.21314669| -0.13386723|   0.06023005|  -0.16608274|  0.50070286|   0.7067724| -0.27766868| -0.113209285|  -0.1723276| -0.10570052|  0.55935913| -0.25750235|  0.31256458| -0.19645546| 0.011760626| -0.10557092|  0.54162246| -0.25204715| 0.112785354|  -0.5744646|-0.061598137| -0.20194115|  -1.1108221|  0.32548764| -0.21940665|  0.28118694|  0.36367393| -0.63024396|  -0.7601343| -0.12047529| 0.054577094|-0.018005257|   0.3243246| -0.55290526|  -0.5830682|  0.18137595|   0.1146837|-0.009104621|  0.09932614| -0.26872864|  0.39784443|   0.27397445|   0.2554612|  -0.14700148|   0.7108742|  -0.3020138|  0.42495698| -0.25528955| -0.11758457| -0.037850462| -0.35062605|  0.49166748| -0.09777333|  0.46685413| -0.39544246|  -0.04302012|  0.67202854|   0.1952821|-0.050365403|  0.14287652| -0.45034337|  -1.0187207| -0.02133929|-0.118235275|  -0.3363596| -0.014596963|  0.09076835| -0.44264925|-0.103410885|   0.2417107|  0.29776013|   1.1109335| -0.05285611|   0.1586027|  0.17084393|  0.15532143| -0.19633657|   0.2088747| -0.55312884|   1.2552434| -0.18166149|  0.19792172|  0.22612852|   0.4043308|-0.025828753|\n",
            "|  0.0|0.7087924|-0.0030357633| 0.011215705|  0.10670869|    0.09184|-0.12347858|  0.5581398| 0.111519456|  0.31269845|-0.007515357|  -0.32909203| -0.04234823|   0.3499933|   0.25532964|  -0.59406483|  0.52048945|  -0.32484376|  0.14380457|  0.058675945|   -0.1119983|   0.5526196|  0.70564747| -0.25648233|    -0.392098| -0.37354767| -0.39451152| -0.26597282|  -0.7418777| 0.057124108| -0.14496197|   0.5808671|   0.5867506| -0.38480526|  0.29371125|  0.55852765| -0.36462462|  0.16543931|  0.19342303| -0.93877226| -0.24167916| 0.034453668|  0.11366281| -0.01831685|   -0.296207|-0.057548158|-0.059035897|  0.16449022|  0.21324378|   0.9401623|  -0.6553118|  0.07605899|  0.03516218| -0.20656452|  0.24017306|  0.25910604| -0.42564625|  0.06631086|  -0.06361792| -0.10812038|   0.31316414|-0.017220184|  0.29711428|  -0.1937008|   0.3048142|  -0.5262988|-0.0074300244|  0.08652708| -0.14487058|  -0.6695128|   0.8027621|  0.02809524|    0.2815688| -0.64134496| -0.55465335|  -1.0501925| 0.095465854|  0.09920812|  0.33930594|-0.019026652| -0.24901225|    0.157359|   0.38701308|  0.47422343| -0.22140966|   0.4017622|  -0.3238447|  0.25873974|  0.53639257|  0.13556376| -0.10153351|  -0.3876687|  0.13280188| 0.012199753| -0.15391028|  -0.8573032|   0.6187692|-0.013626244|  0.22368708|-0.018741507|  0.16520885| -0.14808975|\n",
            "|  0.0|0.7087924| -0.020956447| -0.26678026| -0.11537471| -0.8188299| 0.42597523|  0.4626714|   0.5175004| 0.021181311|  0.36459506|   0.14567973|  0.03819132|  -0.2743617|   -0.4696574|  0.064949185|-0.117208116|  -0.30105668| 0.027406035|   -0.0555688|  -0.34892607|  0.19924681|  0.14786687|  -0.2686183|   0.09520194|  0.15695116| -0.28326926|  0.07856168| -0.20094731| -0.19446932|  0.28701597|   0.3696953|  0.11404784| -0.08728282| -0.31538677|  0.60633105| -0.28525752|-0.113112375| -0.44068736|-0.024016988|  -0.5280038| -0.70658994|  0.13752587| -0.06961621|  -0.2689038|  -0.9353432|-0.047875583| -0.11250998|  0.15302733|   1.0725263|  0.27604714|  -1.0678738|  0.12643903|  0.22505948| -0.53666455|  0.06355153|  0.07474582|   0.5571693|  -0.18648002| -0.01639683|    0.1848973|   0.9645255|   0.3263776| 0.084238395|-0.016865253|   -0.676887|   0.30487657| -0.65579087|   0.6338954|  -0.7958603| -0.25096846|  0.17691427|    0.6988588|-0.124182746|  0.08866766|  -0.4734592| -0.25640792| -0.07090908|  -0.6292481| -0.65091443|  -0.2501414|  0.12637538|  -0.08164303|  0.81568855|  -0.3022824|   0.3111547|  0.27578145|   -0.567513|  0.37761885|  0.21814202| 0.121110745|  -0.2860407| 0.070979826|   0.3315172|  0.13890123|  -0.1297618|  0.14669563|-0.037395142|  0.14618056|  0.25852102|  0.71827394|  0.08837253|\n",
            "|  0.0|0.7087924|   0.54913086|   -0.161352|  0.56253177|-0.46458665| -0.4343229| 0.34302592|  0.22508791| -0.43068212|  0.09279823|  -0.19485927| -0.28591105|  0.42353615|   -0.3959504|   -0.5565031|  0.38852024|    0.1720878|  0.07172707|  -0.08346198| -0.014469082|   0.9382366| 0.113857985|  0.21248738|  -0.39669266|  -0.4938819| -0.87753034|   0.2964452| -0.40754306|-0.019373074|  0.07849428|  0.07642032|  0.54182106|  -0.5030248|-0.053756587|   0.9152999| -0.36284733|  0.33690655| 0.113544166| -0.16252035| -0.36824262|  0.36435735| 0.118691355|-0.031884976|  0.36157224|  -0.4924919|  -0.0345816|-0.051174387| 0.026943322|   0.6331193|  0.16666974|  -0.5609864| 0.091854915|   0.4831293|  -0.2968083|  -0.1441989|   -0.605161|   0.2930388|   0.07362967|   -0.905072|   0.28791913| 0.025016442|   0.6047653|-0.047380067| 0.018935233| -0.65785855|  0.067294136| -0.26959908| -0.17142127|  -0.5117158|  0.06427904|  -0.4115886|   0.20437908| 0.051255405| -0.14997163| -0.36949587|  0.11349978| -0.21942101| -0.38198254| -0.39937773|  0.18255463|  -0.5620681|   0.10479437|  0.96862704| -0.46282414|  0.46252114|   0.6581778| 0.071826495|  0.43429387| 0.008010351| 0.030287903|  -0.1257402| -0.19282174|   0.0256099|  0.91290224| -0.44044435|    1.330201| -0.31036648|  0.54095197|  0.63634515|    0.577237|-0.114094764|\n",
            "|  0.0|0.7087924|   0.12730475|  -0.3491418|  0.90352726| 0.20351647| 0.08268206|-0.10096896|  0.22938901|  -0.5067307|   0.1937409|  -0.36094716|   0.5013841| 0.018984146|  -0.13363703|   -0.4994471| -0.31647763|  0.042228933| -0.18854262|  -0.30293185|  -0.04558249|   0.9462108|-0.034854695|  0.21643661|   0.05884233|  0.37860397| -0.04860328|-0.105510786| -0.62002516|  -0.1697422|  0.10961303|   0.5659429| -0.21973118|  -1.1295017| -0.38747478|    0.571557| -0.28987098|  0.17624396|  0.47285742| -0.07632362|-0.028168408|  0.21695217| -0.18160307|  0.07052126|  0.03664927| -0.61309457| -0.03613043|   0.3737091|  0.14742357|   0.5180384|  0.04634291| -0.52400666| 0.066274315| -0.03445583| -0.06738876|-0.057673015|  0.15514486|  0.24059594|    0.6058158|  -0.6320071|   0.20176284|-0.038591772|  0.11364689|  0.35731173|-0.078971304|  -0.9903548|   0.15721577| 0.061643608| -0.06443064|  -0.1375551|   0.4322239| -0.19834024|   0.49488813|  -0.3890732|  0.23143731|  -0.6716857|  0.22752157| -0.33732933|  0.28743434| -0.46344236|-0.022058973|  -0.5229445|   0.21855515|   0.8550515|  0.39648828|    0.307086|  0.10924405| -0.42238855|  0.41648048| -0.17978573|   0.7512144|  0.24992733|  -0.5104587| -0.06755032|  0.17844051|  0.45042926|  0.20086336| -0.28369412|  0.26331335|-0.044522725|  0.17948557| -0.12120439|\n",
            "|  0.0|0.7087924|   0.15921333| 0.011948818| -0.25050408| -0.5996001| 0.28048748| 0.64365214|   0.2106618|  0.25690386| -0.11828855|  -0.13599442|  0.05473802| -0.07892632| -0.093711495|  -0.35696238|  0.29267985|  0.084894724| -0.29056734|   -0.2019102|  -0.23093778| 0.020829085|  0.42475387|   0.2142534|   0.06329985| -0.48053783|  -0.7479836| -0.08443232|   -0.671318|  0.30706054|  0.61145556|   0.5942594|-0.073240384| -0.44099453| -0.22294642|    0.468188|  -0.5252675| -0.38734627| -0.06377216|-0.103403166|   -0.294609|-0.010432531|-0.079889774|  0.20569648| -0.06610108| -0.66924924| -0.06890637|   0.5929283|0.0049692225|   0.7330784|  0.29429448| -0.29012233|-0.078183934|  0.34515232| -0.52455235|   0.5234629|  0.09343022|  -0.1723643| -0.049722992|  0.06952694|  0.102743536|  0.16405112|   -0.263175|  0.28560615| -0.28597277| -0.47269085|    0.5555871| -0.12008273| -0.06199116|  -0.0833162|  0.23878664| -0.09596304|    0.5486525|  0.23259127|-0.114393316| -0.24926099|  0.04829584| -0.11242177| -0.39587116| -0.30167553| -0.20431946|  0.07183999|  -0.21869105|  0.44752988|  0.14997989|  0.22641477|-0.111061335|-0.123442866|  0.17454101| -0.11379148|  0.39931908| -0.15614943|  0.45402688| -0.13346647|-0.031580046| -0.46593088|  0.35628194|  0.30271795|  0.17930163|  0.12566184|    0.549994|  0.20515561|\n",
            "|  0.0|0.7087924|   0.66098213|  -0.2259814|  0.20785399| -0.1301664| 0.05982434| 0.34001368| -0.25148302| -0.60805815|  0.18134452|   -0.1752032|  0.09715702|  0.10489561|   -0.5170622|   -0.4533197| -0.12132774|   0.20320673|  -0.1801644|   0.07077725|   0.17732772|  0.81520236|  0.13642052| -0.07138333|  -0.34371394| -0.12218974| -0.39055908|-0.048884246|  -0.5009393| 0.049461357|  0.11744092|  0.17699823|  0.57541776| -0.36345312|   0.1033191|   0.5484826| -0.22100562|  0.26306817| -0.13575518| -0.24905095| -0.46887156|  0.60406315|  0.27868256|  0.20377296|  0.09624357| 0.036201075|-0.106840014|  0.21938023|   0.1823186|  0.26623335|  0.11586553| -0.43932638|  0.07851981| 0.117038354| -0.19954908| -0.24821697| -0.31934908|  0.40768075|-0.0031161865|  -0.7079033|   0.15920079|  0.05849253|  0.88770264|  0.23849124|  0.19405276|  -0.5897846|  -0.14564638| -0.17266932|-0.024784204|  -0.1300531| -0.17493136|  -0.5084887|   0.53934824|  -0.5114984| -0.18295321|  -0.1637271|  0.19570692|0.0092780795| 0.087460056| -0.42173293|  0.36755693| -0.41248804|   0.46116602|   1.0683842| -0.23281273|   0.6159208|  0.23589747| -0.02853714|  0.37656364|-0.028259369|   0.1419411|-0.035391018| -0.42213666|-0.064322576|  0.57050437| -0.23776692|    0.580838|  -0.6124349|  0.23412216|  0.41355893|   0.3305516| -0.23463255|\n",
            "|  0.0|0.7087924|   0.61893094|  0.21817712|   0.6068521|-0.13941535|  0.3470064| 0.22629458|  0.45029247|  -0.3296082|  -0.2545467|  0.028932288| -0.18750271|  0.26768494|  -0.07028355|   -0.8346913|  -0.3457181|  -0.07887857|-0.031033888|  -0.79044235|  -0.04893611|   0.3907358|   0.4436062|  0.01797939| -0.028961487|  0.19276908|  0.09729163| -0.22509277|  0.09845971| -0.24209464|  0.16170353|  0.27373075|  0.21850029| -0.24124226|  -0.6465265|  0.22790356|  -0.5411413| -0.22853176| -0.12291816|-0.017358296| -0.42486733|  0.17076918| -0.68953407|  0.72643167| -0.20582423| -0.18558702| -0.06363881|  0.65971303|  0.73907006| 0.093198575| -0.30561757| -0.09934817| -0.46014622|    0.493361|  0.38685232| -0.15987992|  0.40805176|  -0.5620811|   0.23585615| -0.71028185|-0.0131011885|-0.123809285|  0.39102885|-0.011211332| -0.35427988| -0.78734046|   -0.2669984| -0.22955862|  -0.5378592|  0.19191378|  0.55725056|  -0.6360831|    -0.075032| 0.050970122|   0.2630736| -0.15964842|  0.34149274|  -0.7521933| -0.22065042|   -0.023065|  0.31958884| -0.49665934|   0.42608082|   0.5477181| -0.10463428|   0.2530402|  0.36658323|  0.11302225|  0.11704761|  0.12061748| -0.26949593|-0.058630574|  0.21045807| -0.25154388|  0.40423447| -0.10941793|  0.17081848|-0.046624266|   0.9112736|   0.4866497|   0.6986006| -0.43310124|\n",
            "|  0.0|0.7087924|  -0.23155987|  -0.2455965|  0.24772456|-0.78026843|-0.05419282|  0.8447124| -0.27844775|  0.13138245| -0.20084606|   -0.5515711| -0.08443199|  0.88854563|   0.23042972|  0.061030217| -0.15007755|   0.27074584| -0.45741785|  -0.06873278|  0.121187404|  0.56735736|  0.26821533|  0.04885831|   -0.4793358| -0.46262413| -0.59561247| -0.14300555|-0.015948085| -0.10928936| -0.15149066|    0.338467| -0.17680493| -0.57074094|  0.40017623|   0.8715151| -0.79448324|  -0.7477337|    0.184257|  0.03190688|  -1.1639779| -0.29298082|  0.33345452| -0.22672668| -0.05830252| -0.87277293| 0.012666106|  0.31299257|   0.3479122|-0.011788428|  0.20761622| -0.63952374|  0.41942337|   0.5266764|-0.010213513|  0.42733216|  0.15633866|   0.5887489|  0.029533608|  0.29028815|  -0.24892615|   0.5415285|    0.571585|  0.41466546| 0.063828334| -0.16696061|   0.51809204| -0.15949926|    0.750273|  -0.4386788| -0.23200461| -0.38428003|   0.30452433| -0.21711382|-0.063430205|  -1.1487032|   0.1762021| -0.72839504|  -0.1030671|  -0.4058125| -0.31333578|  0.06272133|   0.35748076|  0.92578304|   -0.976827|   0.2742843| -0.12790096|  -0.0140763|   0.2294382|-0.031327218|   0.1934004| 0.032568567|  0.02805198| -0.13131249|  0.25941053| -0.32646957|    0.808771|-0.055393867|  0.30477238|  0.45557225|  0.34970087| -0.24593343|\n",
            "|  0.0|0.7087924|  0.124984846|  0.43894345|-0.109236754| -0.7367927|  0.7160846|  0.7075763|  0.36349663|   0.2562163|  -0.6492907|  -0.33775592|  -0.8460724| -0.06170494|  -0.10267537|  0.026857225|  -0.8274307|   0.23369126| -0.26632762| -0.044983014|-0.0041399617|   1.0056266|  0.62162596| -0.08793016|-0.0058857687|  0.02504575|   0.5149949| -0.07948631| -0.36350042|  0.52588147|  0.64399415|   0.3026098| -0.98765403|  -0.8718301|-0.032624803|  0.71795714| -0.95711875| -0.65774256|  0.17168787|-0.015759498| -0.18142635|  0.44730732|  0.39337623|   0.3481929|0.0023292731| -0.70965844| -0.00267303|   0.5369539|  0.23638302|   0.5090616| 0.006890245| -0.31194654|  -0.3360967|   0.4796564| 0.015158469|  0.75545937|-0.091552526|  0.21959484|  -0.34487578|   0.4380508|   -0.7108005|  0.29504213|   0.8063884| -0.37263253| -0.23032486|  0.33454102|  -0.17240654|  0.23773989|  0.35523212| -0.28420466|  0.09339979|   0.7219052|   0.20259023| -0.33264464|0.0049038175| -0.28201726|-0.087172106|  0.49681187| -0.28891793| 0.007764131| -0.39998257|  0.28603333|   -0.9446106|  0.20334607| 0.028325118| -0.20876251|   0.9185454|   0.4102299|  0.22172186|   0.5082193|  0.74369544|   0.3509185|  0.07581688| -0.32004297|  -0.5987372| -0.16848381|  0.33012578|  0.15926227| -0.28881702|   0.5512107|  0.22270061| -0.21822271|\n",
            "|  0.0|0.7087924| -0.072437406| -0.10786426|  0.30222842|-0.43671212| 0.49508387|0.012848169|  0.39633217| -0.22231549|  0.33177733|  -0.49944797|  0.03973476|  0.08357057|  0.082021885|  -0.10378714| -0.24318142|  -0.74485177| -0.16367894|   0.15571553|   0.52886945|   1.3582766|   0.7377874|  -0.5475937|  0.048322313|  -0.6721581| -0.23577997|  0.17759362|  -0.3821807| -0.40016344|   0.4601123| -0.23440632|  0.40154845|  -1.0186185| -0.58762044|    0.682187|  -0.3564971| -0.45081934|   0.6018127|  0.50840354|-0.031316057|    0.520985| -0.36942172|  0.50805646|-0.020581592|  -0.7915968|  -0.0230546|  0.18141696| -0.11209909|  0.57933575|-0.004123822|  -0.7615164|-0.091784984|  0.53153634|-0.040994253|  0.58930194|  0.30271313|  0.39462233|    0.5413293| -0.37941453|  -0.12935652| -0.13720298| -0.21800594|  0.47313404|  0.17805801| -0.55265903|   0.40679476| -0.23032446|-0.022807874|  -0.2636417|  0.38612437|   0.1544454|   0.18847206|  -0.3626517|  -0.1697546| -0.67934096|  0.82510906|  -0.5799647| -0.25495186| -0.28651798| 0.023812616|   -0.532117|  -0.16142744|  0.69155186|    0.320017|  0.06531783|  0.32610607|  -0.0405832| 0.013412476| -0.21271288|   0.3837381|  0.13672504|  0.13687553|  0.14341865| 0.031944327| -0.16295403|  0.39906842|  -0.5344214|  0.87714857|  -0.5073221|   0.3297621|  -0.1799311|\n",
            "|  0.0|0.7087924|   0.22093326| -0.12906718| -0.42158043|-0.53081006| 0.63102376|0.119372144|-0.041062362| 0.011033394| -0.41325262|   0.08996523| 0.020726815|  0.25902703|   -0.2713843|  0.042135227|  -0.2375804|  -0.25734526|  0.24770682| -0.056697033|   -0.2092469|   0.5097971|   0.5360027| 0.065405615|   0.20873001|  0.28658292|  0.47267115|  -0.1171764| -0.33962452|-0.079299085|  0.10465144|  0.31048226|     0.03891| -0.69472444|  -0.8168171|   0.5032162| -0.25218955|   0.1426922| -0.23438503|  -0.4578174| -0.25410116|   0.8754883| 0.030596992|   0.5642191| -0.16514605| -0.06144552|-0.044083297|  0.62766033|  0.19213614| 0.010148123|   0.2570253|-0.048531923|    -0.09448|   0.5281611|  0.32722634|  0.15492257| -0.24552059|   0.6041689|   0.10039515|  0.06854234|   0.56723917| -0.16307066|   0.3214079| 0.005757101| -0.87766695|  -0.6046917|   -0.6221345|-0.057230636|  0.42124668|   0.1078721|   -0.130638| -0.29961935|  -0.19950612|   -0.934574|  0.24973884|  0.17450778| -0.08335674| -0.31586468| -0.71507037|   -0.181305| -0.30973032| -0.12910137|    0.9923991|  0.12911668|  -0.3180983|  0.37381515|   0.6092256|  0.32003632|  -0.5669174|  -0.8270697|   0.5141993|  0.11304602|  0.15186432|-0.015710019|  0.29637975| -0.32529658| -0.14073005|  0.13562155|  0.35387948|-0.031440575|    0.349384|  0.12735617|\n",
            "|  0.0|0.7087924|    0.7856226|-0.056707036| 0.022016458| -0.5570321| 0.31599256| 0.08035684| -0.13081531| -0.17785051|   0.1660919|   0.07251747|  0.42131084|  0.46972093|   0.21909805|  -0.16586477| -0.57979095|-0.0029738024|  0.01310165|   0.14160709| -0.011203067|  0.52213603|   0.5730055| -0.05032015|    0.5393897| -0.57609075| -0.69203395|  0.71329254| -0.41876468|   0.1863973|  0.27455667| -0.26357228| 0.010139439| -0.29112658|-0.013096859|   0.7120382| -0.36993435| -0.21599767|  -0.4864847|  -0.6285837|  0.31861064| -0.28714517|-0.074324235|  -0.2036318|   0.4868711| -0.63249284|-0.036278367| 0.049837884|  0.35844064|  0.45575666|    0.399879|   -0.817439|   0.4612524|  0.21033132|-0.073413916|  0.31367818| -0.58078843|  0.16482988|    0.5858066| -0.12464799|  0.012461038|   1.0046492| -0.08526785|  0.05310326|  -0.6503819| -0.48337263|  -0.67158705| -0.73205185|  0.19225654|  -0.3498208|  0.29100487|  -0.5761873|   -0.5590398|   0.9668369|  0.29879433| -0.18359494|   0.4249322|  -0.5692086|  -0.8962233| -0.11414271|  -0.1797311|  -0.7092496|    0.3453779|   1.0171366|-0.024504319| -0.07931149|  0.19381694|  0.13991946|   0.3465968| -0.37325957| -0.08293407|  0.17877495|  0.33261177| -0.32610863|  0.51218295| -0.24764408|  0.36769524| -0.22600067|  0.47976187| -0.12545794|   0.9469315|  0.11222136|\n",
            "|  0.0|0.7087924|  0.103379145| -0.25208497|  0.15802506|-0.77384746| 0.18404809| 0.08769733| -0.37153795| -0.48645213| -0.21118449|   -0.1952669|   0.1809877|  0.19800168|   0.07889278| -0.043704566|  0.08651271|  -0.19529162| -0.08836461|  -0.20994137|  -0.27148026|  0.69490606|    0.307251| -0.45621568|   0.42822105|-0.028720383|  -0.4766417|  0.06986067| -0.21382344| -0.21323153|-0.015521519|  0.65727806|   0.3552631| -0.21142022|-0.020740125|   0.2802785|  0.32352376| 0.029264275|  0.03568971| -0.70648205| -0.27559817|  0.22325401| -0.25942263|  0.47574782|  0.13406138| -0.23652963| -0.08912736|  0.40164787| 0.015857875|  0.27645087| 0.030007105| -0.51959115|-0.006194845|  0.19779629| -0.29833513|-0.013040617|  -0.6590782|  0.20881504|   0.19958402| -0.41053128| 0.0041683484|  0.20815173|  0.20069689|   0.7275188|  0.21572503| -0.53401315|  -0.25402075| -0.16893378|-0.087685585| -0.12104474|  0.27777585| -0.26611295|-0.0031879768| -0.13043825|   0.4420604| -0.15338692|   0.5275536| -0.72096956| -0.23666063|  -0.7030698| -0.15714727|  0.07728335| -0.082140185|  0.37270814| -0.08074269|  0.18027292| 0.039111473|  -0.3240009|   0.6411016| -0.40256253|   0.6283542| 0.005746021|  -0.5264996| -0.35297802|   0.7122879| -0.17420316|  0.43835565| -0.29802364|    0.587973|  0.12708184|  0.38381043|  0.20321499|\n",
            "|  0.0|0.7087924|   0.21013063|  0.23332061| -0.04674814| -0.7377354|-0.18435538| -0.1368016| -0.47326362| -0.12295311|  -0.3180843|  -0.60607713|-0.107796565|  0.31410012|   0.31446996|   0.31936216| -0.26854584|  -0.34822088|-0.014217759|  -0.21267726|    0.1251507|  0.45237398|  0.26140594|  -0.2549276|   0.82161975| -0.49327248| -0.31773555|  -0.6569241| -0.92096883|  0.16192746| -0.37143365|   0.7123012| -0.52338374| 0.028077906|  0.15465991|  0.06636378|  0.09805365|0.0147486515| -0.52558035|  -0.7887758|  0.21847928| -0.21589106| -0.26319888| -0.15180817| -0.31878406|  -0.7546492| -0.06828469| -0.16084681| 0.075291105|   0.8101947|   0.2012033| -0.89527345| -0.31287748|  0.07596628| -0.45650354|   0.6787356|  -0.6005627| 0.041505687|  0.039143927| -0.32708374|  -0.33835337|   0.9968545|  6.38986E-4|   0.3555691|  0.18529001|-0.039954007|  -0.21798581| -0.67371994|  0.37167078| 0.056091875|  0.24588192|  0.16561224|  -0.30924627| -0.26846656| 0.039804056|  0.08030825|   0.9388832| -0.35429645| -0.07595848|   0.5133145| 0.017814606| -0.14384812|   -0.4474775|  0.57603204|  0.18571422|  0.18335265| -0.14090022|   0.8120081|   0.7934973| -0.18203689|  0.26429862| -0.10623597|    0.491012|  0.12305678|  0.43513948| -0.25972775| 0.016822817|  0.75501776|  -0.4300898|  -0.5535513| -0.17680566| 0.115467295|\n",
            "|  0.0|0.7087924|   0.98727787| -0.12006229| 0.031126358|-0.45402515|0.025310703|  0.3014568| -0.37910664| -0.38519523| 0.036324896|-0.0040656254|  0.01825158|  0.21746664|   -0.4293076|   -0.4236505| -0.20519668|   -0.3590762|  0.54569685|   -0.2440621|  -0.05011574|   0.7300074|  0.27899703| -0.22748774|  -0.35180277| 0.025944643| -0.26679018| -0.21350886| -0.47113007| -0.06352022|    0.814636| -0.13530633|  0.32805362|  -0.4148633| -0.17499313|    0.906045|  0.08108634|  0.41786098| -0.26074892|  -0.3807658| -0.35237247|    0.390897|  0.40542802|   0.3160195|   0.3744289|  0.15104088| -0.04169005|  0.17157498| -0.06049142|   0.5795515| 0.050060708|  -0.3543759|  0.16138259|  0.08118293|-0.015968286|  0.12190843|  -0.4835127|   0.4962062|   0.06695854| -0.25727987|   0.11239816|  0.34677392|   0.6048308|   0.0994298|  0.19242007|   -0.704928|  -0.23499008| -0.30322638|   -0.545618| -0.24087302|    0.275214| -0.36009458|   0.83811855|  -0.3780454|  -0.4520831|  0.13838603|   0.0354603|  -0.4514483|   0.2969244| -0.25064224|  0.20200114| -0.51679087|    0.3751723|  0.74638385|  0.15335932|  0.42865488| -0.05642349| 0.013135474|  0.43261296|   0.1402869|  0.24154946| -0.55474144| -0.95888144| -0.20314355|   0.6704949|-0.043418594|  0.68105924|  -0.6784928|  0.62874496|   0.6904662|   0.2940534| -0.30485415|\n",
            "|  0.0|0.7087924|   0.29501128| -0.28757912|  0.19272938| -0.7337586|  0.2197033| 0.07239767|  -0.4103895|  -0.5616509| -0.19832605|  -0.27503622|  0.11883526|  0.30402744|   0.05694828|  -0.08528997|  0.07118728|   -0.0873325|0.0077559203|   -0.2646017|  -0.33959523|  0.66037405|   0.4329302|  -0.3053643|   0.38246754| 0.017422697| -0.31355378|0.0088802315| -0.28133458| -0.25604552|-0.023361318|  0.61874986|   0.2838281| -0.13853039| -0.06041556|  0.29129687|  0.23839656|-0.018740386|  0.11367512|   -0.848188| -0.24678893|  0.22600521| -0.23910277|   0.4732812| 0.026299529|-0.080915846|-0.072140455|   0.4267548| -0.04460929|  0.35569707| 0.030280553| -0.52961916| -0.03213045|  0.20153508| -0.20682155|  0.07437673|  -0.5854849|  0.21027346|   0.24328358|  -0.5118131| -0.079409644|  0.42112225|  0.06456688|   0.8081657|  0.26292565|  -0.6654838|  -0.32697636|   -0.261585|0.0066534323| -0.14926548|  0.34076238| -0.32375297| -0.106032714| -0.17944807|  0.35338694|  -0.3006567|  0.47966993|  -0.8336952| -0.26030767| -0.49932152| -0.06926492|-0.060010534|-0.0035207756|   0.5621414| -0.13412446|  0.21892002|-0.012357917| -0.16775464|  0.65445215| -0.32302335|  0.47193918|-0.062367175|  -0.7731854| -0.47900638|    0.816239|  -0.3637626|  0.38235095|  -0.3828006|   0.6724674|  0.25316307|   0.3265429| 0.049144447|\n",
            "|  0.0|0.7087924|  -0.21615249|    -1.01611| -0.17606513| -0.7287917|  0.8109801| 0.34438032| -0.21482879| -0.45097837| -0.13077341|   0.02083182| 0.094290026|   0.7498883|  -0.27601075|   0.18446395|-0.010556813|    0.3250063| -0.10412582|  0.065652125|  -0.47099206|   0.6891115|   1.0133666|  -0.9266247|   0.37109286| -0.06519173| -0.16262673| -0.30814987| -0.33168277| -0.11778839|-0.030873746|  0.19469784|   0.0401622|   0.5548445| -0.39197642|  0.34333825|  0.26163125| -0.22536564| -0.11942069| -0.51374143| -0.50443584|-0.011372244|   0.3140694|   0.1944732|-0.028763238| -0.36199573| 0.009194255|   0.6320454|    0.348351| 0.047615018|-0.019633822|  -0.8270042|  0.41594636|  0.60328025|  -0.9493015|   0.4219707| -0.03774243|   0.6649904|   0.56632143|  -0.3667655|   -0.1667209|  0.62267673| 0.016559493|   0.6552463|  0.18802643|  -0.7528696|  -0.92543447| -0.19552024|  0.12645535|  0.09341659| -0.27808288|  0.45296845|   0.26134422| -0.01334355|  0.23905398| -0.37998107|   0.1619972|   0.6300324|  0.07938876|  0.27886295| -0.70104164|  -0.4521026|   -0.3912259|   0.3861601|  0.27464572|   0.5188967|-0.121998586| -0.31011847|  0.39894307| -0.09448866|  0.29600245|   0.6110081|-0.093807004|-0.048589855| -0.06588158| -0.08718548|  0.24939643|  -0.6267672| 0.116825335|  0.25143245|   0.4650614| -0.55526376|\n",
            "|  0.0|0.7087924|    0.3562196| -0.32542628|  0.21550287| -0.9598754| 0.91774726| 0.63104033| -0.17173813|-0.035542153|  -0.7775146|   0.25325966| -0.43021476|   0.3098611|   0.16391155|    0.5102482| -0.37489656|   0.12155719|  -0.2003638| 0.0039725415|  -0.42904705|   0.7566354|   0.5417494| -0.55629724|    0.6277701| -0.44309622|    0.146122| -0.60233986|   0.3173552|  0.09016858|  -0.2090577|  0.13248536|  0.35929364| -0.09543195|  0.06294563|  0.63118124|  -0.5718452| -0.17674206| 0.048643544|  -0.6763548|  0.19194944|    0.060131|-0.056227595|  -0.2504864| -0.11702896|   0.1613383| -0.07396597|  0.11107356| 0.037626304|   1.2020746|  0.41114423|  -0.9208964| -0.39296815|  0.26157987|  0.14715938|  0.08928804| -0.07849887|   0.9417621|  0.016260838|  0.03965483|  0.040304154|   0.6433194|  0.28741837|  0.49908364|-0.108729504|   0.1816974|  -0.31605524|  -0.4201185| 0.028398257|  -0.5429582|  0.27533102|  0.19685285|   0.13806024|  0.07234157|  0.46821094| 0.008471878|  0.49997765|  -0.5671912|  -0.7687541|   0.1951132| -0.37591878|-0.045238383|   -0.4785067|  0.68780416| -0.21411979|  -0.1261318|  0.16238615|-0.023584366|  0.04028721|  -0.5264541| 0.014659071|  0.49754038|  0.15416309| -0.45367983| -0.23769443| -0.46190846|  0.41720322| 0.074256316|   0.3501619| -0.60016584|  0.41314575| -0.35025367|\n",
            "|  0.0|0.7087924|  -0.13825123| 0.068769336|-0.105134085| -0.9231964|0.004342722|  0.8948471|  0.08225712|  0.82030886|  -0.3952033|  -0.41469648| -0.16473952|  0.61844885|    0.3718636|-0.0045565628| -0.51285195|    0.6683475| -0.18647392|-0.0034522787|   0.06354984|  0.21221074|   0.5488989|-0.020699196|   0.28567713|-0.031446993|  -0.5387211|  0.09810647| -0.13629417|  -0.8595232| -0.31880397|   0.4702739| -0.13210025|  0.24824512|  0.43244562|-0.054928612| -0.15810251|  -0.7328631|  0.36866456| -0.42868572|  -0.7038009| -0.19138637|-0.099721745|-0.017770246| -0.13094017|  -0.8903065|  0.02135396|  -0.2543551|  0.20521834|  0.19034505|   0.5358298| -0.54972845| -0.38355383|  0.08814479| -0.10693845|   0.7779139|  0.07001716|  0.63653386|   0.39632115|   -0.353134|  -0.05075743|  0.06338932|  -0.4378869|  0.48567736|-0.121075474|  -0.5713327|   -0.4998181|-0.024131179|  0.53759605| -0.77779746|  -0.6338816| -0.08637774|  -0.13843876| -0.27573705| -0.48628756|   -1.095351|  -0.2744386| -0.58165264| -0.88650787| -0.22301884|   -0.397459|   0.3962814|   0.21415703|  0.72779083| -0.48719916| -0.00828168|   0.7765679|  0.35895973|  0.07602427|  0.03388405|  0.10324477| 0.022261832| -0.39169964| -0.22461839|   0.4705717|  -0.3023124|  0.42446724| -0.25455898|   0.6119281|  0.06474054| 0.047299806| -0.45001256|\n",
            "+-----+---------+-------------+------------+------------+-----------+-----------+-----------+------------+------------+------------+-------------+------------+------------+-------------+-------------+------------+-------------+------------+-------------+-------------+------------+------------+------------+-------------+------------+------------+------------+------------+------------+------------+------------+------------+------------+------------+------------+------------+------------+------------+------------+------------+------------+------------+------------+------------+------------+------------+------------+------------+------------+------------+------------+------------+------------+------------+------------+------------+------------+-------------+------------+-------------+------------+------------+------------+------------+------------+-------------+------------+------------+------------+------------+------------+-------------+------------+------------+------------+------------+------------+------------+------------+------------+------------+-------------+------------+------------+------------+------------+------------+------------+------------+------------+------------+------------+------------+------------+------------+------------+------------+------------+------------+------------+------------+\n",
            "only showing top 20 rows\n",
            "\n"
          ]
        }
      ]
    },
    {
      "cell_type": "code",
      "source": [
        "# Setup features\n",
        "vector_assembler = VectorAssembler(inputCols=train.columns[2:], outputCol='features') \\\n",
        "                          .setHandleInvalid(\"skip\")                 "
      ],
      "metadata": {
        "id": "IyYnfiC44eQp"
      },
      "execution_count": 34,
      "outputs": []
    },
    {
      "cell_type": "code",
      "source": [
        "lr = LogisticRegression(featuresCol='features',\n",
        "                        labelCol='label',\n",
        "                        maxIter=150, \n",
        "                        regParam=0.3, \n",
        "                        elasticNetParam=0.8)\n",
        "#lr.setWeightCol(\"weight\")"
      ],
      "metadata": {
        "id": "tdabECsB3scc"
      },
      "execution_count": 35,
      "outputs": []
    },
    {
      "cell_type": "code",
      "source": [
        "pipeline = Pipeline(stages=[vector_assembler, lr])\n",
        "bert_pipeline = pipeline.fit(train)\n",
        "bert_pipeline.save(DRIVE_FOLDER+\"bert_model2\")\n",
        "bert_predictions = bert_pipeline.transform(test)"
      ],
      "metadata": {
        "id": "mtVOYLu13wdl"
      },
      "execution_count": 36,
      "outputs": []
    },
    {
      "cell_type": "code",
      "source": [
        "bert_predictions.show(5)"
      ],
      "metadata": {
        "colab": {
          "base_uri": "https://localhost:8080/"
        },
        "id": "-UrO2nY49nrI",
        "outputId": "d0a92715-074c-459b-f762-3e45eb8a4ae2"
      },
      "execution_count": 37,
      "outputs": [
        {
          "output_type": "stream",
          "name": "stdout",
          "text": [
            "+-----+---------+------------+-----------+-----------+-----------+------------+------------+-----------+-----------+-----------+-----------+------------+------------+------------+------------+------------+------------+------------+------------+------------+------------+------------+------------+------------+------------+------------+------------+------------+------------+------------+------------+------------+------------+------------+------------+-------------+------------+------------+------------+------------+------------+------------+------------+------------+------------+------------+------------+------------+------------+------------+------------+------------+------------+------------+------------+------------+------------+------------+------------+------------+------------+------------+------------+------------+------------+------------+------------+------------+------------+------------+------------+------------+------------+------------+------------+------------+------------+------------+------------+------------+------------+------------+------------+------------+------------+------------+------------+------------+------------+------------+------------+------------+------------+------------+------------+------------+------------+------------+------------+------------+------------+--------------------+--------------------+--------------------+----------+\n",
            "|label|   weigth| features[0]|features[1]|features[2]|features[3]| features[4]| features[5]|features[6]|features[7]|features[8]|features[9]|features[10]|features[11]|features[12]|features[13]|features[14]|features[15]|features[16]|features[17]|features[18]|features[19]|features[20]|features[21]|features[22]|features[23]|features[24]|features[25]|features[26]|features[27]|features[28]|features[29]|features[30]|features[31]|features[32]|features[33]| features[34]|features[35]|features[36]|features[37]|features[38]|features[39]|features[40]|features[41]|features[42]|features[43]|features[44]|features[45]|features[46]|features[47]|features[48]|features[49]|features[50]|features[51]|features[52]|features[53]|features[54]|features[55]|features[56]|features[57]|features[58]|features[59]|features[60]|features[61]|features[62]|features[63]|features[64]|features[65]|features[66]|features[67]|features[68]|features[69]|features[70]|features[71]|features[72]|features[73]|features[74]|features[75]|features[76]|features[77]|features[78]|features[79]|features[80]|features[81]|features[82]|features[83]|features[84]|features[85]|features[86]|features[87]|features[88]|features[89]|features[90]|features[91]|features[92]|features[93]|features[94]|features[95]|features[96]|features[97]|features[98]|features[99]|            features|       rawPrediction|         probability|prediction|\n",
            "+-----+---------+------------+-----------+-----------+-----------+------------+------------+-----------+-----------+-----------+-----------+------------+------------+------------+------------+------------+------------+------------+------------+------------+------------+------------+------------+------------+------------+------------+------------+------------+------------+------------+------------+------------+------------+------------+------------+-------------+------------+------------+------------+------------+------------+------------+------------+------------+------------+------------+------------+------------+------------+------------+------------+------------+------------+------------+------------+------------+------------+------------+------------+------------+------------+------------+------------+------------+------------+------------+------------+------------+------------+------------+------------+------------+------------+------------+------------+------------+------------+------------+------------+------------+------------+------------+------------+------------+------------+------------+------------+------------+------------+------------+------------+------------+------------+------------+------------+------------+------------+------------+------------+------------+------------+--------------------+--------------------+--------------------+----------+\n",
            "|  0.0|0.7087924|   0.9392738|0.095582455| 0.45225173| -0.6102149| 0.034642793|-0.010251682| 0.08261418| -0.5851499| -0.1676625|  0.2818131| -0.10709734|  0.41842216| -0.72145164|   -0.526004|  0.21941814|  0.08910567| -0.46478143| -0.13984653|-0.003711285|   0.5828115|  0.17842233| -0.03250184| -0.14743504| -0.08247228| -0.60332656| -0.18164751|  -0.3542638|  0.42163825|  0.37744266|  0.48498178|  0.52110654| -0.67051256|  0.23670991|   0.8723473|   0.06428689|   0.3805428|  0.19934034|  -0.7290117| -0.41031754|7.8238966E-4|  0.19475995|    0.251741|   0.4017596| -0.37932342|-0.012506306|  0.08367898| 3.734231E-5|  0.42477703| 0.052108034| -0.29069558|  0.32932028|  0.16935392| -0.20915091| -0.07162949| -0.41235477|   0.4701894|  0.19004823| -0.87841827|    0.323259|-0.037271865|   0.8406836| 0.026203692|   0.1856024|  -0.8635881|  0.40210003| -0.34968147| 0.058484454| -0.74414444| -0.11023179| -0.93373936|  -0.1394413| -0.34700292| -0.12985618|  -0.5117957|  0.07147243|  0.40346324|  -0.4201414| -0.53604203| 0.036424104| -0.43477404|  0.34770256|   0.8754077| -0.43091202|   0.5289948|  0.63633484|   0.1720852|  0.34686553| -0.23166142|  0.16806075|-0.011369911| -0.33184597|  0.09711371|  0.68883175| -0.29878852|   0.9338296|  -0.4255937|  0.20705682|  0.42477432|  0.17783806| -0.42005378|[0.93927377462387...|[0.86201988312510...|[0.70308249299433...|       0.0|\n",
            "|  0.0|0.7087924|    0.970668| 0.33161592| 0.61090547|-0.58719015|  0.38880125| 0.112406716| 0.03375288|-0.19308297| -0.7028552|-0.09128624|   -0.673944| -0.12724622| -0.24641414| -0.56698143|  -0.5237286|  -0.5430905|  -0.4054945| -0.69371694|    0.364957|  0.41652593|  0.22439197| 0.019538276| -0.14236158| 0.075352624| -0.44137266|  -0.8022087| -0.03023312| 0.087724246|   0.0845314|  0.36712557| -0.02000539|  0.17488988|  -0.3916318|   0.3552212|  0.062342156|  0.13716573|-0.065085836| -0.52155924|  0.39721683| -0.15753296|  0.27219108|     0.68926| -0.21787468|-0.074763924|-0.044876635|   0.8201903|  -0.2601915| -0.20833275|  0.38717777| -0.21514173| -0.95164484|   0.4431605|  0.43123227| -0.17092429|  0.04913043| -0.03496892|  0.45844162| -0.42965037|  -0.1468505|   0.6613563|  0.20425905|  0.12987772|  -0.1622795| -0.64790976|  0.25382343| -0.40136346| -0.14908357|  0.18063904|  0.39125925| -0.44263166|  0.13731246| -0.35520014|  0.42201665|  -0.3747839|    0.488353| -0.26979345|  -0.7950321|  0.08223351| 0.103379205| -0.44968373| -0.11784286|  0.53289014|0.0031634793|   1.0542015|  0.24486102|   0.5984345|-0.010807022| -0.67143244|  0.02514109|  -0.4523686| -0.19221184|  0.44107395|  0.34553158|  -0.1805478|  0.24848436| 0.068593904| -0.07191788|  0.42747924|  0.33214858| -0.53296584|[0.97066801786422...|[0.86201988312510...|[0.70308249299433...|       0.0|\n",
            "|  0.0|0.7087924| 0.007996083| 0.21159238| 0.41168803|-0.50595486|-0.028588638| -0.09543829| 0.15625744| -0.5393482|-0.20216851|-0.24996834| -0.71061987|  0.50974756| -0.04817111|  0.06767517| -0.18848942|  0.16281962| -0.29384887|  -0.2870884|  0.36188856|  0.78365886|  0.03297926| -0.48426163|  0.08932778|-0.094634235|  0.08669543|  0.06362327| -0.36871672| -0.19950834|-0.111953065|  0.14555626| -0.22002405| -0.33407837| -0.34908804|0.0028291289|-0.0057551116| -0.63684934| -0.24374378| -0.26722285|   0.5076312| -0.22462256|-0.120222025| -0.09522625| -0.07341859|  -0.4529933| -0.11991429|   0.2881674|   0.5236716|   1.0801345| 0.023853544|   -0.689112|  -0.2936781|  0.28654906|  -0.1595486|  0.30697262|4.7583785E-4|  0.24333206| -0.10739774| -0.32430935|-0.037372798|   0.2730972| -0.19548915|-0.120113626|   -0.513397| -0.45984238|  0.09839074|-0.009477496|  0.29115713|  -0.6988437| -0.14236826| -0.09171581|  0.20061351|-0.025353499| -0.18737479| -0.33595455|   0.4182857|  0.17345566| -0.13460425|  0.25865918| -0.24167491|  -0.5500528|  -0.1825589|   1.4365503|  -0.2174755|  -0.5993414| 0.014723945| -0.40710732|   0.6395558| -0.19446658|  0.25181285|-0.015302145| -0.11610116|  0.61622417|-0.021486059| -0.36861715|  0.21123558|   0.2893192|-0.018506322| -0.35319304|  0.25409436| -0.11575921|[0.00799608323723...|[0.86201988312510...|[0.70308249299433...|       0.0|\n",
            "|  0.0|0.7087924|0.0069955103| -0.6576442| 0.19975555| -0.5402134| 0.115871966|-0.036894463| 0.03459411|-0.68177444|-0.31189063| -0.6748348| -0.24828106|  0.15156387| -0.27001208|   0.6091209| -0.49351767|  0.14311239| -0.31288272|  0.27483118|  0.21592888|   0.5191018|  0.55783266| -0.08541914| 0.061038822|   0.5121282| -0.17923479|  -0.5634554| -0.21296868| -0.93132216|  0.36415106|   0.6290173|   0.3395363| 0.019230638|    0.393798|  0.23442867|   -0.6130392|  -0.5321678| -0.10581189| -0.51574117| -0.47554818| -0.39050257|  -0.2674478|   0.3006234|  -0.5978485| 0.030400397|-0.033197522|  0.70672816|  0.02001619| -0.04404515|   0.7397172| -0.57256097| -0.07926817| 0.012414563|  -1.1097533| 0.102906995|  0.41467568|   0.2768252|  0.11191939| -0.23047054|  0.32891676|  0.52747715|  0.05514104|  0.33556983|-0.085321866| -0.84858733| 0.007726698| -0.39739692|   0.7617448| -0.28469303| -0.39591575| -0.70395136|  0.27539042|  0.11530534| -0.27448267|  -1.0105312| 0.028534591|  -1.0944449|  -0.5329059| -0.17032288| -0.40871757|   0.0884732|   0.6546068|  0.48291954| -0.36866733|  0.17096996| 0.041766338| -0.02142942|  0.31275737|  0.44926563|   0.6301231| -0.18760598|  0.21087205|  0.03647905|   0.3724327| -0.35807544|  0.22456121| -0.03988239|   0.5184164|   0.2921816|  0.95077527| -0.47846988|[0.00699551030993...|[0.86201988312510...|[0.70308249299433...|       0.0|\n",
            "|  0.0|0.7087924| -0.07563027| 0.23082031|0.001729101|-0.19681625|  0.31130806|  0.16698977|-0.22499536| -0.4286721|  0.3931881| 0.03737049|  0.21583873|  0.30891994|   -0.524759|  -0.6580829|  0.40158808|  0.16837224| -0.24949302| -0.14466771| -0.15382674|  0.13741976|  0.18195401|  -0.4038456| 0.121311426| -0.16541305| -0.49662495|  0.13292761|  -0.2561307| 0.093860626|  0.11860964|  0.28172794| -0.10915841|  -0.5271871|  -0.3679645|  0.18672228|  -0.96905804| -0.42070997| 0.009764988| -0.21575609|  -0.6286496| -0.10644376| -0.24329066|  0.21972819|  0.02413625| -0.54385805| -0.08580047|  0.52664536|   0.5264126|   1.0586907| 0.057119593| -0.83857155|   0.3510827|  0.20018698|   -0.074359|  0.47853452|-0.047656342|  0.32717672|  -0.4818994|   -0.082133|  0.21588661| -0.07877335|-0.057792887| 0.023795124|  -0.2820966| -0.59637994| -0.08370486| -0.61084783|  0.02938746| -0.17304642| -0.07888258| -0.08372232|  0.20973296| 0.032241233|     0.27705| -0.48059595|-0.011739153|  0.29503846|  -0.3698027| -0.32580096|     -0.5603|  0.53514344|   0.4153381|  0.60618323| -0.04423812|  0.16380674| 0.021824487| 0.009114038|  -0.4545817| -0.06935536|  0.28490177| -0.20562059| -0.12388414| -0.22094731|  0.19003843| 0.004090227|  0.21170016|  -0.2765408|  0.06264847| 0.047103625|   0.6247217|    0.251694|[-0.0756302699446...|[0.86201988312510...|[0.70308249299433...|       0.0|\n",
            "+-----+---------+------------+-----------+-----------+-----------+------------+------------+-----------+-----------+-----------+-----------+------------+------------+------------+------------+------------+------------+------------+------------+------------+------------+------------+------------+------------+------------+------------+------------+------------+------------+------------+------------+------------+------------+------------+------------+-------------+------------+------------+------------+------------+------------+------------+------------+------------+------------+------------+------------+------------+------------+------------+------------+------------+------------+------------+------------+------------+------------+------------+------------+------------+------------+------------+------------+------------+------------+------------+------------+------------+------------+------------+------------+------------+------------+------------+------------+------------+------------+------------+------------+------------+------------+------------+------------+------------+------------+------------+------------+------------+------------+------------+------------+------------+------------+------------+------------+------------+------------+------------+------------+------------+------------+--------------------+--------------------+--------------------+----------+\n",
            "only showing top 5 rows\n",
            "\n"
          ]
        }
      ]
    },
    {
      "cell_type": "code",
      "source": [
        "save = bert_predictions.select('label', 'prediction')\n",
        "save.cache()\n",
        "save.show(5)"
      ],
      "metadata": {
        "id": "6VBiZG1l5OS6"
      },
      "execution_count": null,
      "outputs": []
    },
    {
      "cell_type": "code",
      "source": [
        "save.write.parquet(\"/content/bert_pred\")"
      ],
      "metadata": {
        "id": "CQLapT_-SYEj"
      },
      "execution_count": null,
      "outputs": []
    },
    {
      "cell_type": "code",
      "source": [
        "y_pred = bert_predictions.select('prediction').toPandas()\n",
        "y_true = test.select('label').toPandas()\n",
        "clf_bert = classification_report(y_true=y_true, y_pred=y_pred, zero_division=0)\n",
        "print(clf_bert)"
      ],
      "metadata": {
        "id": "Wx3GQ13Pu-34"
      },
      "execution_count": null,
      "outputs": []
    },
    {
      "cell_type": "code",
      "source": [
        "paramGrid = ParamGridBuilder()\\\n",
        "             .addGrid(lr.regParam, [0.01, 0.1, 0.5, 1.0, 2.0])\\\n",
        "             .addGrid(lr.elasticNetParam, [0.0, 0.25, 0.5, 0.75, 1.0])\\\n",
        "             .addGrid(lr.maxIter, [1, 5, 10, 20, 50])\\\n",
        "             .build()\n",
        "\n",
        "crossval = CrossValidator(estimator=bert_pipeline,\n",
        "                          estimatorParamMaps=paramGrid,\n",
        "                          evaluator=BinaryClassificationEvaluator(),\n",
        "                          numFolds=2)  # use 3+ folds in practice\n",
        "\n",
        "# Run cross-validation, and choose the best set of parameters.\n",
        "cvModel = crossval.fit(train)"
      ],
      "metadata": {
        "id": "xTa3cvqVldbO"
      },
      "execution_count": null,
      "outputs": []
    }
  ]
}