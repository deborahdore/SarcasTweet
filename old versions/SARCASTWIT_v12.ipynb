{
  "nbformat": 4,
  "nbformat_minor": 0,
  "metadata": {
    "colab": {
      "name": "SARCASTWIT_v12.ipynb",
      "provenance": [],
      "collapsed_sections": [
        "DokjWUCvcIkQ"
      ],
      "toc_visible": true
    },
    "kernelspec": {
      "name": "python3",
      "display_name": "Python 3"
    },
    "language_info": {
      "name": "python"
    },
    "accelerator": "TPU",
    "widgets": {
      "application/vnd.jupyter.widget-state+json": {
        "b07c273707164af19a40a98e9efe869d": {
          "model_module": "@jupyter-widgets/controls",
          "model_name": "HBoxModel",
          "model_module_version": "1.5.0",
          "state": {
            "_dom_classes": [],
            "_model_module": "@jupyter-widgets/controls",
            "_model_module_version": "1.5.0",
            "_model_name": "HBoxModel",
            "_view_count": null,
            "_view_module": "@jupyter-widgets/controls",
            "_view_module_version": "1.5.0",
            "_view_name": "HBoxView",
            "box_style": "",
            "children": [
              "IPY_MODEL_bb2bccd03c134dc996d318c4e2d2d218",
              "IPY_MODEL_012b440a79b846cd905ff514d85b2025"
            ],
            "layout": "IPY_MODEL_e21af864bbbe42249fb3d88a889c7aad"
          }
        },
        "bb2bccd03c134dc996d318c4e2d2d218": {
          "model_module": "@jupyter-widgets/controls",
          "model_name": "ButtonModel",
          "model_module_version": "1.5.0",
          "state": {
            "_dom_classes": [],
            "_model_module": "@jupyter-widgets/controls",
            "_model_module_version": "1.5.0",
            "_model_name": "ButtonModel",
            "_view_count": null,
            "_view_module": "@jupyter-widgets/controls",
            "_view_module_version": "1.5.0",
            "_view_name": "ButtonView",
            "button_style": "info",
            "description": "Yes",
            "disabled": false,
            "icon": "",
            "layout": "IPY_MODEL_c37bd5196530489a9d5d8e47820a6992",
            "style": "IPY_MODEL_e8a87eff04cd492b82d9a7c6a69d15bd",
            "tooltip": ""
          }
        },
        "012b440a79b846cd905ff514d85b2025": {
          "model_module": "@jupyter-widgets/controls",
          "model_name": "ButtonModel",
          "model_module_version": "1.5.0",
          "state": {
            "_dom_classes": [],
            "_model_module": "@jupyter-widgets/controls",
            "_model_module_version": "1.5.0",
            "_model_name": "ButtonModel",
            "_view_count": null,
            "_view_module": "@jupyter-widgets/controls",
            "_view_module_version": "1.5.0",
            "_view_name": "ButtonView",
            "button_style": "info",
            "description": "No",
            "disabled": false,
            "icon": "",
            "layout": "IPY_MODEL_6fba691932f74badba707f9faf6d72e1",
            "style": "IPY_MODEL_bb0dd0088ede4444b3ec5ab50bd4e2d7",
            "tooltip": ""
          }
        },
        "e21af864bbbe42249fb3d88a889c7aad": {
          "model_module": "@jupyter-widgets/base",
          "model_name": "LayoutModel",
          "model_module_version": "1.2.0",
          "state": {
            "_model_module": "@jupyter-widgets/base",
            "_model_module_version": "1.2.0",
            "_model_name": "LayoutModel",
            "_view_count": null,
            "_view_module": "@jupyter-widgets/base",
            "_view_module_version": "1.2.0",
            "_view_name": "LayoutView",
            "align_content": null,
            "align_items": null,
            "align_self": null,
            "border": null,
            "bottom": null,
            "display": null,
            "flex": null,
            "flex_flow": null,
            "grid_area": null,
            "grid_auto_columns": null,
            "grid_auto_flow": null,
            "grid_auto_rows": null,
            "grid_column": null,
            "grid_gap": null,
            "grid_row": null,
            "grid_template_areas": null,
            "grid_template_columns": null,
            "grid_template_rows": null,
            "height": null,
            "justify_content": null,
            "justify_items": null,
            "left": null,
            "margin": null,
            "max_height": null,
            "max_width": null,
            "min_height": null,
            "min_width": null,
            "object_fit": null,
            "object_position": null,
            "order": null,
            "overflow": null,
            "overflow_x": null,
            "overflow_y": null,
            "padding": null,
            "right": null,
            "top": null,
            "visibility": null,
            "width": null
          }
        },
        "c37bd5196530489a9d5d8e47820a6992": {
          "model_module": "@jupyter-widgets/base",
          "model_name": "LayoutModel",
          "model_module_version": "1.2.0",
          "state": {
            "_model_module": "@jupyter-widgets/base",
            "_model_module_version": "1.2.0",
            "_model_name": "LayoutModel",
            "_view_count": null,
            "_view_module": "@jupyter-widgets/base",
            "_view_module_version": "1.2.0",
            "_view_name": "LayoutView",
            "align_content": null,
            "align_items": null,
            "align_self": null,
            "border": null,
            "bottom": null,
            "display": null,
            "flex": null,
            "flex_flow": null,
            "grid_area": null,
            "grid_auto_columns": null,
            "grid_auto_flow": null,
            "grid_auto_rows": null,
            "grid_column": null,
            "grid_gap": null,
            "grid_row": null,
            "grid_template_areas": null,
            "grid_template_columns": null,
            "grid_template_rows": null,
            "height": "50px",
            "justify_content": null,
            "justify_items": null,
            "left": null,
            "margin": null,
            "max_height": null,
            "max_width": null,
            "min_height": null,
            "min_width": null,
            "object_fit": null,
            "object_position": null,
            "order": null,
            "overflow": null,
            "overflow_x": null,
            "overflow_y": null,
            "padding": null,
            "right": null,
            "top": null,
            "visibility": null,
            "width": "150px"
          }
        },
        "e8a87eff04cd492b82d9a7c6a69d15bd": {
          "model_module": "@jupyter-widgets/controls",
          "model_name": "ButtonStyleModel",
          "model_module_version": "1.5.0",
          "state": {
            "_model_module": "@jupyter-widgets/controls",
            "_model_module_version": "1.5.0",
            "_model_name": "ButtonStyleModel",
            "_view_count": null,
            "_view_module": "@jupyter-widgets/base",
            "_view_module_version": "1.2.0",
            "_view_name": "StyleView",
            "button_color": null,
            "font_weight": ""
          }
        },
        "6fba691932f74badba707f9faf6d72e1": {
          "model_module": "@jupyter-widgets/base",
          "model_name": "LayoutModel",
          "model_module_version": "1.2.0",
          "state": {
            "_model_module": "@jupyter-widgets/base",
            "_model_module_version": "1.2.0",
            "_model_name": "LayoutModel",
            "_view_count": null,
            "_view_module": "@jupyter-widgets/base",
            "_view_module_version": "1.2.0",
            "_view_name": "LayoutView",
            "align_content": null,
            "align_items": null,
            "align_self": null,
            "border": null,
            "bottom": null,
            "display": null,
            "flex": null,
            "flex_flow": null,
            "grid_area": null,
            "grid_auto_columns": null,
            "grid_auto_flow": null,
            "grid_auto_rows": null,
            "grid_column": null,
            "grid_gap": null,
            "grid_row": null,
            "grid_template_areas": null,
            "grid_template_columns": null,
            "grid_template_rows": null,
            "height": "50px",
            "justify_content": null,
            "justify_items": null,
            "left": null,
            "margin": null,
            "max_height": null,
            "max_width": null,
            "min_height": null,
            "min_width": null,
            "object_fit": null,
            "object_position": null,
            "order": null,
            "overflow": null,
            "overflow_x": null,
            "overflow_y": null,
            "padding": null,
            "right": null,
            "top": null,
            "visibility": null,
            "width": "150px"
          }
        },
        "bb0dd0088ede4444b3ec5ab50bd4e2d7": {
          "model_module": "@jupyter-widgets/controls",
          "model_name": "ButtonStyleModel",
          "model_module_version": "1.5.0",
          "state": {
            "_model_module": "@jupyter-widgets/controls",
            "_model_module_version": "1.5.0",
            "_model_name": "ButtonStyleModel",
            "_view_count": null,
            "_view_module": "@jupyter-widgets/base",
            "_view_module_version": "1.2.0",
            "_view_name": "StyleView",
            "button_color": null,
            "font_weight": ""
          }
        }
      }
    }
  },
  "cells": [
    {
      "cell_type": "markdown",
      "source": [
        "# 1. **Define dependencies and constrains**"
      ],
      "metadata": {
        "id": "IfcrKr5Na8A_"
      }
    },
    {
      "cell_type": "markdown",
      "source": [
        "In order to download tweet from Twitter, first one must create an account and apply for **developer priviledges**. The application will grant the developer basic access the the [Twitter API](https://developer.twitter.com/en/docs/twitter-api) which are not enough because it only allows the download of tweet of the last 7 days. Therefore, I've applied to the [Premium plan](https://developer.twitter.com/en/support/twitter-api/premium) which allows the download of 25k of tweets per month along with the use _full archive_ and the _30 days_ search API but with limited amout of request per month."
      ],
      "metadata": {
        "id": "TdELnf08cHP2"
      }
    },
    {
      "cell_type": "code",
      "execution_count": 1,
      "metadata": {
        "id": "ImtN6rXUazit"
      },
      "outputs": [],
      "source": [
        "COLAB_DIR = \"/content/\"\n",
        "\n",
        "RANDOM_SEED = 42\n",
        "\n",
        "# File with Twitter project credentials\n",
        "CREDENTIALS = COLAB_DIR+'credentials.yaml'\n",
        "CREDENTIALS_KEY = 'search_tweets_30_day_dev'\n",
        "\n",
        "# csv file where tweet downloaded will be saved\n",
        "DATASET = COLAB_DIR+'dataset.csv'\n",
        "DATASET_ANNOTATED = COLAB_DIR+'dataset_annotated.csv'\n",
        "SENTIPOLIC = COLAB_DIR+'sentipolic.csv'\n",
        "\n",
        "# result of data processing\n",
        "DATASET_PROCESSED = COLAB_DIR+\"result_processed\""
      ]
    },
    {
      "cell_type": "code",
      "source": [
        "!python --version"
      ],
      "metadata": {
        "colab": {
          "base_uri": "https://localhost:8080/"
        },
        "id": "y0sYKlPLLjvx",
        "outputId": "2f610d84-012a-49f7-81d7-7c286840a54c"
      },
      "execution_count": 2,
      "outputs": [
        {
          "output_type": "stream",
          "name": "stdout",
          "text": [
            "Python 3.7.13\n"
          ]
        }
      ]
    },
    {
      "cell_type": "markdown",
      "source": [
        "### install libraries"
      ],
      "metadata": {
        "id": "bdKPmsLJTYA6"
      }
    },
    {
      "cell_type": "code",
      "source": [
        "!pip install stop-words"
      ],
      "metadata": {
        "colab": {
          "base_uri": "https://localhost:8080/"
        },
        "id": "z0NxpbGi44TS",
        "outputId": "b2e63b67-8e2e-405a-b065-db0bc3fa56f2"
      },
      "execution_count": 3,
      "outputs": [
        {
          "output_type": "stream",
          "name": "stdout",
          "text": [
            "Looking in indexes: https://pypi.org/simple, https://us-python.pkg.dev/colab-wheels/public/simple/\n",
            "Collecting stop-words\n",
            "  Downloading stop-words-2018.7.23.tar.gz (31 kB)\n",
            "Building wheels for collected packages: stop-words\n",
            "  Building wheel for stop-words (setup.py) ... \u001b[?25l\u001b[?25hdone\n",
            "  Created wheel for stop-words: filename=stop_words-2018.7.23-py3-none-any.whl size=32911 sha256=8e2f5f65fb81b4a9e73ddc438cc7d91d4df28f94ac90bb3c8afb4f0ea65c0b85\n",
            "  Stored in directory: /root/.cache/pip/wheels/fb/86/b2/277b10b1ce9f73ce15059bf6975d4547cc4ec3feeb651978e9\n",
            "Successfully built stop-words\n",
            "Installing collected packages: stop-words\n",
            "Successfully installed stop-words-2018.7.23\n"
          ]
        }
      ]
    },
    {
      "cell_type": "code",
      "source": [
        "!apt-get install libenchant1c2a\n",
        "!pip install pyenchant\n",
        "!apt-get install hunspell-it"
      ],
      "metadata": {
        "colab": {
          "base_uri": "https://localhost:8080/"
        },
        "id": "lRdt8lR_QBTm",
        "outputId": "dc34aa2e-47d1-4d62-dab7-d98c4cc71dce"
      },
      "execution_count": 4,
      "outputs": [
        {
          "output_type": "stream",
          "name": "stdout",
          "text": [
            "Reading package lists... Done\n",
            "Building dependency tree       \n",
            "Reading state information... Done\n",
            "The following package was automatically installed and is no longer required:\n",
            "  libnvidia-common-460\n",
            "Use 'apt autoremove' to remove it.\n",
            "The following additional packages will be installed:\n",
            "  aspell aspell-en dictionaries-common emacsen-common enchant hunspell-en-us\n",
            "  libaspell15 libhunspell-1.6-0 libtext-iconv-perl\n",
            "Suggested packages:\n",
            "  aspell-doc spellutils wordlist hunspell openoffice.org-hunspell\n",
            "  | openoffice.org-core libenchant-voikko\n",
            "The following NEW packages will be installed:\n",
            "  aspell aspell-en dictionaries-common emacsen-common enchant hunspell-en-us\n",
            "  libaspell15 libenchant1c2a libhunspell-1.6-0 libtext-iconv-perl\n",
            "0 upgraded, 10 newly installed, 0 to remove and 42 not upgraded.\n",
            "Need to get 1,312 kB of archives.\n",
            "After this operation, 5,353 kB of additional disk space will be used.\n",
            "Get:1 http://archive.ubuntu.com/ubuntu bionic/main amd64 libtext-iconv-perl amd64 1.7-5build6 [13.0 kB]\n",
            "Get:2 http://archive.ubuntu.com/ubuntu bionic-updates/main amd64 libaspell15 amd64 0.60.7~20110707-4ubuntu0.2 [310 kB]\n",
            "Get:3 http://archive.ubuntu.com/ubuntu bionic/main amd64 emacsen-common all 2.0.8 [17.6 kB]\n",
            "Get:4 http://archive.ubuntu.com/ubuntu bionic/main amd64 dictionaries-common all 1.27.2 [186 kB]\n",
            "Get:5 http://archive.ubuntu.com/ubuntu bionic-updates/main amd64 aspell amd64 0.60.7~20110707-4ubuntu0.2 [87.7 kB]\n",
            "Get:6 http://archive.ubuntu.com/ubuntu bionic/main amd64 aspell-en all 2017.08.24-0-0.1 [298 kB]\n",
            "Get:7 http://archive.ubuntu.com/ubuntu bionic/main amd64 hunspell-en-us all 1:2017.08.24 [168 kB]\n",
            "Get:8 http://archive.ubuntu.com/ubuntu bionic/main amd64 libhunspell-1.6-0 amd64 1.6.2-1 [154 kB]\n",
            "Get:9 http://archive.ubuntu.com/ubuntu bionic/main amd64 libenchant1c2a amd64 1.6.0-11.1 [64.4 kB]\n",
            "Get:10 http://archive.ubuntu.com/ubuntu bionic/main amd64 enchant amd64 1.6.0-11.1 [12.2 kB]\n",
            "Fetched 1,312 kB in 0s (3,358 kB/s)\n",
            "Preconfiguring packages ...\n",
            "Selecting previously unselected package libtext-iconv-perl.\n",
            "(Reading database ... 155629 files and directories currently installed.)\n",
            "Preparing to unpack .../0-libtext-iconv-perl_1.7-5build6_amd64.deb ...\n",
            "Unpacking libtext-iconv-perl (1.7-5build6) ...\n",
            "Selecting previously unselected package libaspell15:amd64.\n",
            "Preparing to unpack .../1-libaspell15_0.60.7~20110707-4ubuntu0.2_amd64.deb ...\n",
            "Unpacking libaspell15:amd64 (0.60.7~20110707-4ubuntu0.2) ...\n",
            "Selecting previously unselected package emacsen-common.\n",
            "Preparing to unpack .../2-emacsen-common_2.0.8_all.deb ...\n",
            "Unpacking emacsen-common (2.0.8) ...\n",
            "Selecting previously unselected package dictionaries-common.\n",
            "Preparing to unpack .../3-dictionaries-common_1.27.2_all.deb ...\n",
            "Adding 'diversion of /usr/share/dict/words to /usr/share/dict/words.pre-dictionaries-common by dictionaries-common'\n",
            "Unpacking dictionaries-common (1.27.2) ...\n",
            "Selecting previously unselected package aspell.\n",
            "Preparing to unpack .../4-aspell_0.60.7~20110707-4ubuntu0.2_amd64.deb ...\n",
            "Unpacking aspell (0.60.7~20110707-4ubuntu0.2) ...\n",
            "Selecting previously unselected package aspell-en.\n",
            "Preparing to unpack .../5-aspell-en_2017.08.24-0-0.1_all.deb ...\n",
            "Unpacking aspell-en (2017.08.24-0-0.1) ...\n",
            "Selecting previously unselected package hunspell-en-us.\n",
            "Preparing to unpack .../6-hunspell-en-us_1%3a2017.08.24_all.deb ...\n",
            "Unpacking hunspell-en-us (1:2017.08.24) ...\n",
            "Selecting previously unselected package libhunspell-1.6-0:amd64.\n",
            "Preparing to unpack .../7-libhunspell-1.6-0_1.6.2-1_amd64.deb ...\n",
            "Unpacking libhunspell-1.6-0:amd64 (1.6.2-1) ...\n",
            "Selecting previously unselected package libenchant1c2a:amd64.\n",
            "Preparing to unpack .../8-libenchant1c2a_1.6.0-11.1_amd64.deb ...\n",
            "Unpacking libenchant1c2a:amd64 (1.6.0-11.1) ...\n",
            "Selecting previously unselected package enchant.\n",
            "Preparing to unpack .../9-enchant_1.6.0-11.1_amd64.deb ...\n",
            "Unpacking enchant (1.6.0-11.1) ...\n",
            "Setting up libhunspell-1.6-0:amd64 (1.6.2-1) ...\n",
            "Setting up libaspell15:amd64 (0.60.7~20110707-4ubuntu0.2) ...\n",
            "Setting up emacsen-common (2.0.8) ...\n",
            "Setting up libtext-iconv-perl (1.7-5build6) ...\n",
            "Setting up dictionaries-common (1.27.2) ...\n",
            "Setting up aspell (0.60.7~20110707-4ubuntu0.2) ...\n",
            "Setting up hunspell-en-us (1:2017.08.24) ...\n",
            "Setting up libenchant1c2a:amd64 (1.6.0-11.1) ...\n",
            "Setting up aspell-en (2017.08.24-0-0.1) ...\n",
            "Setting up enchant (1.6.0-11.1) ...\n",
            "Processing triggers for libc-bin (2.27-3ubuntu1.3) ...\n",
            "/sbin/ldconfig.real: /usr/local/lib/python3.7/dist-packages/ideep4py/lib/libmkldnn.so.0 is not a symbolic link\n",
            "\n",
            "Processing triggers for man-db (2.8.3-2ubuntu0.1) ...\n",
            "Processing triggers for dictionaries-common (1.27.2) ...\n",
            "aspell-autobuildhash: processing: en [en-common].\n",
            "aspell-autobuildhash: processing: en [en-variant_0].\n",
            "aspell-autobuildhash: processing: en [en-variant_1].\n",
            "aspell-autobuildhash: processing: en [en-variant_2].\n",
            "aspell-autobuildhash: processing: en [en-w_accents-only].\n",
            "aspell-autobuildhash: processing: en [en-wo_accents-only].\n",
            "aspell-autobuildhash: processing: en [en_AU-variant_0].\n",
            "aspell-autobuildhash: processing: en [en_AU-variant_1].\n",
            "aspell-autobuildhash: processing: en [en_AU-w_accents-only].\n",
            "aspell-autobuildhash: processing: en [en_AU-wo_accents-only].\n",
            "aspell-autobuildhash: processing: en [en_CA-variant_0].\n",
            "aspell-autobuildhash: processing: en [en_CA-variant_1].\n",
            "aspell-autobuildhash: processing: en [en_CA-w_accents-only].\n",
            "aspell-autobuildhash: processing: en [en_CA-wo_accents-only].\n",
            "aspell-autobuildhash: processing: en [en_GB-ise-w_accents-only].\n",
            "aspell-autobuildhash: processing: en [en_GB-ise-wo_accents-only].\n",
            "aspell-autobuildhash: processing: en [en_GB-ize-w_accents-only].\n",
            "aspell-autobuildhash: processing: en [en_GB-ize-wo_accents-only].\n",
            "aspell-autobuildhash: processing: en [en_GB-variant_0].\n",
            "aspell-autobuildhash: processing: en [en_GB-variant_1].\n",
            "aspell-autobuildhash: processing: en [en_US-w_accents-only].\n",
            "aspell-autobuildhash: processing: en [en_US-wo_accents-only].\n",
            "Looking in indexes: https://pypi.org/simple, https://us-python.pkg.dev/colab-wheels/public/simple/\n",
            "Collecting pyenchant\n",
            "  Downloading pyenchant-3.2.2-py3-none-any.whl (55 kB)\n",
            "\u001b[K     |████████████████████████████████| 55 kB 2.2 MB/s \n",
            "\u001b[?25hInstalling collected packages: pyenchant\n",
            "Successfully installed pyenchant-3.2.2\n",
            "Reading package lists... Done\n",
            "Building dependency tree       \n",
            "Reading state information... Done\n",
            "The following package was automatically installed and is no longer required:\n",
            "  libnvidia-common-460\n",
            "Use 'apt autoremove' to remove it.\n",
            "Suggested packages:\n",
            "  hunspell libreoffice-writer\n",
            "The following NEW packages will be installed:\n",
            "  hunspell-it\n",
            "0 upgraded, 1 newly installed, 0 to remove and 42 not upgraded.\n",
            "Need to get 340 kB of archives.\n",
            "After this operation, 1,752 kB of additional disk space will be used.\n",
            "Get:1 http://archive.ubuntu.com/ubuntu bionic/main amd64 hunspell-it all 1:6.0.3-3 [340 kB]\n",
            "Fetched 340 kB in 0s (1,222 kB/s)\n",
            "Selecting previously unselected package hunspell-it.\n",
            "(Reading database ... 156043 files and directories currently installed.)\n",
            "Preparing to unpack .../hunspell-it_1%3a6.0.3-3_all.deb ...\n",
            "Unpacking hunspell-it (1:6.0.3-3) ...\n",
            "Setting up hunspell-it (1:6.0.3-3) ...\n"
          ]
        }
      ]
    },
    {
      "cell_type": "code",
      "source": [
        "!apt-get install openjdk-8-jdk-headless -qq > /dev/null\n",
        "!wget -q https://downloads.apache.org/spark/spark-2.4.8/spark-2.4.8-bin-hadoop2.7.tgz\n",
        "!tar xf spark-2.4.8-bin-hadoop2.7.tgz\n",
        "!pip install -q findspark"
      ],
      "metadata": {
        "id": "rF7hhURdQB9v"
      },
      "execution_count": 5,
      "outputs": []
    },
    {
      "cell_type": "code",
      "source": [
        "!update-alternatives --set java /usr/lib/jvm/java-8-openjdk-amd64/jre/bin/java\n",
        "!java -version"
      ],
      "metadata": {
        "colab": {
          "base_uri": "https://localhost:8080/"
        },
        "id": "08GbgJr6MgmM",
        "outputId": "2e3aa8bd-72b2-4ca2-f407-bcfdb04b407d"
      },
      "execution_count": 6,
      "outputs": [
        {
          "output_type": "stream",
          "name": "stdout",
          "text": [
            "update-alternatives: using /usr/lib/jvm/java-8-openjdk-amd64/jre/bin/java to provide /usr/bin/java (java) in manual mode\n",
            "openjdk version \"1.8.0_312\"\n",
            "OpenJDK Runtime Environment (build 1.8.0_312-8u312-b07-0ubuntu1~18.04-b07)\n",
            "OpenJDK 64-Bit Server VM (build 25.312-b07, mixed mode)\n"
          ]
        }
      ]
    },
    {
      "cell_type": "code",
      "source": [
        "import os\n",
        "os.environ[\"JAVA_HOME\"] = \"/usr/lib/jvm/java-8-openjdk-amd64\"\n",
        "os.environ['ARROW_PRE_0_15_IPC_FORMAT'] = '1'"
      ],
      "metadata": {
        "id": "dVTyQPmzDff1"
      },
      "execution_count": 7,
      "outputs": []
    },
    {
      "cell_type": "code",
      "source": [
        "!pip install pyspark==3.1.2\n",
        "!pip install spark-nlp==3.4.4"
      ],
      "metadata": {
        "colab": {
          "base_uri": "https://localhost:8080/"
        },
        "id": "CvmO7zGx6v_1",
        "outputId": "f5fae117-4535-4411-dfbb-62b6e1545456"
      },
      "execution_count": 8,
      "outputs": [
        {
          "output_type": "stream",
          "name": "stdout",
          "text": [
            "Looking in indexes: https://pypi.org/simple, https://us-python.pkg.dev/colab-wheels/public/simple/\n",
            "Collecting pyspark==3.1.2\n",
            "  Downloading pyspark-3.1.2.tar.gz (212.4 MB)\n",
            "\u001b[K     |████████████████████████████████| 212.4 MB 62 kB/s \n",
            "\u001b[?25hCollecting py4j==0.10.9\n",
            "  Downloading py4j-0.10.9-py2.py3-none-any.whl (198 kB)\n",
            "\u001b[K     |████████████████████████████████| 198 kB 67.4 MB/s \n",
            "\u001b[?25hBuilding wheels for collected packages: pyspark\n",
            "  Building wheel for pyspark (setup.py) ... \u001b[?25l\u001b[?25hdone\n",
            "  Created wheel for pyspark: filename=pyspark-3.1.2-py2.py3-none-any.whl size=212880769 sha256=4a0ab1c046e0b21ec6ca9128733a833caab093fac3207eea4d7cea50f7a40cb1\n",
            "  Stored in directory: /root/.cache/pip/wheels/a5/0a/c1/9561f6fecb759579a7d863dcd846daaa95f598744e71b02c77\n",
            "Successfully built pyspark\n",
            "Installing collected packages: py4j, pyspark\n",
            "Successfully installed py4j-0.10.9 pyspark-3.1.2\n",
            "Looking in indexes: https://pypi.org/simple, https://us-python.pkg.dev/colab-wheels/public/simple/\n",
            "Collecting spark-nlp==3.4.4\n",
            "  Downloading spark_nlp-3.4.4-py2.py3-none-any.whl (145 kB)\n",
            "\u001b[K     |████████████████████████████████| 145 kB 5.0 MB/s \n",
            "\u001b[?25hInstalling collected packages: spark-nlp\n",
            "Successfully installed spark-nlp-3.4.4\n"
          ]
        }
      ]
    },
    {
      "cell_type": "code",
      "source": [
        "!pip install sparktorch"
      ],
      "metadata": {
        "id": "riiFxATzw3gl",
        "outputId": "0f5d3776-ef2e-4a0a-ffb6-4879e333b4fb",
        "colab": {
          "base_uri": "https://localhost:8080/"
        }
      },
      "execution_count": 9,
      "outputs": [
        {
          "output_type": "stream",
          "name": "stdout",
          "text": [
            "Looking in indexes: https://pypi.org/simple, https://us-python.pkg.dev/colab-wheels/public/simple/\n",
            "Collecting sparktorch\n",
            "  Downloading sparktorch-0.1.2.tar.gz (21 kB)\n",
            "Requirement already satisfied: torch in /usr/local/lib/python3.7/dist-packages (from sparktorch) (1.11.0+cu113)\n",
            "Requirement already satisfied: flask in /usr/local/lib/python3.7/dist-packages (from sparktorch) (1.1.4)\n",
            "Requirement already satisfied: requests in /usr/local/lib/python3.7/dist-packages (from sparktorch) (2.23.0)\n",
            "Requirement already satisfied: dill in /usr/local/lib/python3.7/dist-packages (from sparktorch) (0.3.5.1)\n",
            "Requirement already satisfied: Jinja2<3.0,>=2.10.1 in /usr/local/lib/python3.7/dist-packages (from flask->sparktorch) (2.11.3)\n",
            "Requirement already satisfied: itsdangerous<2.0,>=0.24 in /usr/local/lib/python3.7/dist-packages (from flask->sparktorch) (1.1.0)\n",
            "Requirement already satisfied: click<8.0,>=5.1 in /usr/local/lib/python3.7/dist-packages (from flask->sparktorch) (7.1.2)\n",
            "Requirement already satisfied: Werkzeug<2.0,>=0.15 in /usr/local/lib/python3.7/dist-packages (from flask->sparktorch) (1.0.1)\n",
            "Requirement already satisfied: MarkupSafe>=0.23 in /usr/local/lib/python3.7/dist-packages (from Jinja2<3.0,>=2.10.1->flask->sparktorch) (2.0.1)\n",
            "Requirement already satisfied: chardet<4,>=3.0.2 in /usr/local/lib/python3.7/dist-packages (from requests->sparktorch) (3.0.4)\n",
            "Requirement already satisfied: certifi>=2017.4.17 in /usr/local/lib/python3.7/dist-packages (from requests->sparktorch) (2022.5.18.1)\n",
            "Requirement already satisfied: idna<3,>=2.5 in /usr/local/lib/python3.7/dist-packages (from requests->sparktorch) (2.10)\n",
            "Requirement already satisfied: urllib3!=1.25.0,!=1.25.1,<1.26,>=1.21.1 in /usr/local/lib/python3.7/dist-packages (from requests->sparktorch) (1.24.3)\n",
            "Requirement already satisfied: typing-extensions in /usr/local/lib/python3.7/dist-packages (from torch->sparktorch) (4.2.0)\n",
            "Building wheels for collected packages: sparktorch\n",
            "  Building wheel for sparktorch (setup.py) ... \u001b[?25l\u001b[?25hdone\n",
            "  Created wheel for sparktorch: filename=sparktorch-0.1.2-py3-none-any.whl size=24596 sha256=cf7d5914c2eefc67478ded58aaad412271792116d7b7fd0c98eaab50295e79b1\n",
            "  Stored in directory: /root/.cache/pip/wheels/67/d4/a2/a288b918877e28698fc8ff8cb1d8290713bd84abcb80715d47\n",
            "Successfully built sparktorch\n",
            "Installing collected packages: sparktorch\n",
            "Successfully installed sparktorch-0.1.2\n"
          ]
        }
      ]
    },
    {
      "cell_type": "code",
      "source": [
        "!pip install ekphrasis"
      ],
      "metadata": {
        "colab": {
          "base_uri": "https://localhost:8080/"
        },
        "id": "rcZteKOWjOzv",
        "outputId": "cec50934-da3c-44b9-9708-0aee346f20b2"
      },
      "execution_count": 10,
      "outputs": [
        {
          "output_type": "stream",
          "name": "stdout",
          "text": [
            "Looking in indexes: https://pypi.org/simple, https://us-python.pkg.dev/colab-wheels/public/simple/\n",
            "Collecting ekphrasis\n",
            "  Downloading ekphrasis-0.5.4-py3-none-any.whl (83 kB)\n",
            "\u001b[K     |████████████████████████████████| 83 kB 1.4 MB/s \n",
            "\u001b[?25hRequirement already satisfied: nltk in /usr/local/lib/python3.7/dist-packages (from ekphrasis) (3.2.5)\n",
            "Collecting colorama\n",
            "  Downloading colorama-0.4.4-py2.py3-none-any.whl (16 kB)\n",
            "Collecting ujson\n",
            "  Downloading ujson-5.3.0-cp37-cp37m-manylinux_2_17_x86_64.manylinux2014_x86_64.whl (45 kB)\n",
            "\u001b[K     |████████████████████████████████| 45 kB 2.7 MB/s \n",
            "\u001b[?25hRequirement already satisfied: termcolor in /usr/local/lib/python3.7/dist-packages (from ekphrasis) (1.1.0)\n",
            "Requirement already satisfied: matplotlib in /usr/local/lib/python3.7/dist-packages (from ekphrasis) (3.2.2)\n",
            "Collecting ftfy\n",
            "  Downloading ftfy-6.1.1-py3-none-any.whl (53 kB)\n",
            "\u001b[K     |████████████████████████████████| 53 kB 1.6 MB/s \n",
            "\u001b[?25hRequirement already satisfied: numpy in /usr/local/lib/python3.7/dist-packages (from ekphrasis) (1.21.6)\n",
            "Requirement already satisfied: tqdm in /usr/local/lib/python3.7/dist-packages (from ekphrasis) (4.64.0)\n",
            "Requirement already satisfied: wcwidth>=0.2.5 in /usr/local/lib/python3.7/dist-packages (from ftfy->ekphrasis) (0.2.5)\n",
            "Requirement already satisfied: cycler>=0.10 in /usr/local/lib/python3.7/dist-packages (from matplotlib->ekphrasis) (0.11.0)\n",
            "Requirement already satisfied: kiwisolver>=1.0.1 in /usr/local/lib/python3.7/dist-packages (from matplotlib->ekphrasis) (1.4.2)\n",
            "Requirement already satisfied: python-dateutil>=2.1 in /usr/local/lib/python3.7/dist-packages (from matplotlib->ekphrasis) (2.8.2)\n",
            "Requirement already satisfied: pyparsing!=2.0.4,!=2.1.2,!=2.1.6,>=2.0.1 in /usr/local/lib/python3.7/dist-packages (from matplotlib->ekphrasis) (3.0.9)\n",
            "Requirement already satisfied: typing-extensions in /usr/local/lib/python3.7/dist-packages (from kiwisolver>=1.0.1->matplotlib->ekphrasis) (4.2.0)\n",
            "Requirement already satisfied: six>=1.5 in /usr/local/lib/python3.7/dist-packages (from python-dateutil>=2.1->matplotlib->ekphrasis) (1.15.0)\n",
            "Installing collected packages: ujson, ftfy, colorama, ekphrasis\n",
            "Successfully installed colorama-0.4.4 ekphrasis-0.5.4 ftfy-6.1.1 ujson-5.3.0\n"
          ]
        }
      ]
    },
    {
      "cell_type": "markdown",
      "source": [
        "### PySpark configurations"
      ],
      "metadata": {
        "id": "VdfBlXxLTgxU"
      }
    },
    {
      "cell_type": "code",
      "source": [
        "# pyspark packages\n",
        "from pyspark import *\n",
        "from pyspark.sql import *\n",
        "from pyspark.sql.types import *\n",
        "from pyspark.sql.functions import *\n",
        "from pyspark import SparkContext, SparkConf\n",
        "from pyspark.sql import DataFrame\n",
        "from pyspark.ml.feature import VectorAssembler, SQLTransformer, Normalizer\n",
        "from pyspark.sql.functions import udf, col, lower, trim, regexp_replace, transform\n",
        "\n",
        "import sparknlp"
      ],
      "metadata": {
        "id": "V-dnnL8JS90g"
      },
      "execution_count": 11,
      "outputs": []
    },
    {
      "cell_type": "code",
      "source": [
        "import findspark\n",
        "findspark.init()"
      ],
      "metadata": {
        "id": "OJzJeXfRMCPb"
      },
      "execution_count": 12,
      "outputs": []
    },
    {
      "cell_type": "code",
      "source": [
        "spark = SparkSession.builder \\\n",
        "    .appName(\"Spark NLP\")\\\n",
        "    .master(\"local[4]\")\\\n",
        "    .config('spark.executor.memory', '16G')\\\n",
        "    .config(\"spark.driver.memory\",\"50G\")\\\n",
        "    .config(\"spark.driver.cores\", \"10\")\\\n",
        "    .config(\"spark.driver.maxResultSize\", \"10G\") \\\n",
        "    .config(\"spark.kryoserializer.buffer.max\", \"2000M\")\\\n",
        "    .config(\"spark.jars.packages\", \"com.johnsnowlabs.nlp:spark-nlp_2.12:3.4.4\")\\\n",
        "    .getOrCreate()\n",
        "\n",
        "print(\"Spark NLP version\", sparknlp.version())\n",
        "print(\"Apache Spark version:\", spark.version)"
      ],
      "metadata": {
        "id": "mkCNpht6bvLp",
        "colab": {
          "base_uri": "https://localhost:8080/"
        },
        "outputId": "1a416105-d188-4122-a195-19f5f980aece"
      },
      "execution_count": 13,
      "outputs": [
        {
          "output_type": "stream",
          "name": "stdout",
          "text": [
            "Spark NLP version 3.4.4\n",
            "Apache Spark version: 3.1.2\n"
          ]
        }
      ]
    },
    {
      "cell_type": "code",
      "source": [
        "sc = spark.sparkContext\n",
        "type(sc)"
      ],
      "metadata": {
        "id": "HYCtzalg-rGm",
        "colab": {
          "base_uri": "https://localhost:8080/"
        },
        "outputId": "68138402-e1bb-46da-c0bb-85b88e2808d5"
      },
      "execution_count": 14,
      "outputs": [
        {
          "output_type": "execute_result",
          "data": {
            "text/plain": [
              "pyspark.context.SparkContext"
            ]
          },
          "metadata": {},
          "execution_count": 14
        }
      ]
    },
    {
      "cell_type": "code",
      "source": [
        "! cd ~/.ivy2/cache/com.johnsnowlabs.nlp/spark-nlp_2.12/jars && ls -lt"
      ],
      "metadata": {
        "id": "0yAIKiS36-3J",
        "colab": {
          "base_uri": "https://localhost:8080/"
        },
        "outputId": "8748d0db-8124-40c9-ca3c-9ac75695405b"
      },
      "execution_count": 15,
      "outputs": [
        {
          "output_type": "stream",
          "name": "stdout",
          "text": [
            "total 38952\n",
            "-rw-r--r-- 1 root root 39885074 May  5 15:16 spark-nlp_2.12-3.4.4.jar\n"
          ]
        }
      ]
    },
    {
      "cell_type": "markdown",
      "source": [
        "## Download Files from GitHub"
      ],
      "metadata": {
        "id": "DokjWUCvcIkQ"
      }
    },
    {
      "cell_type": "code",
      "source": [
        "!wget https://github.com/deborahdore/italian-sarcastic-tweet-classification/raw/main/dataset/dataset.csv\n",
        "!wget https://github.com/deborahdore/italian-sarcastic-tweet-classification/raw/main/dataset/other/sentipolic.csv\n",
        "!wget https://raw.githubusercontent.com/deborahdore/italian-sarcastic-tweet-classification/main/credentials/credentials.yaml\n",
        "!wget https://raw.githubusercontent.com/deborahdore/italian-sarcastic-tweet-classification/main/dataset/dataset_annotated.csv"
      ],
      "metadata": {
        "id": "EENgh8yncNzS",
        "colab": {
          "base_uri": "https://localhost:8080/"
        },
        "outputId": "a2baad82-08a5-41b4-f289-6c61effb1dc8"
      },
      "execution_count": 16,
      "outputs": [
        {
          "output_type": "stream",
          "name": "stdout",
          "text": [
            "--2022-05-26 15:21:00--  https://github.com/deborahdore/italian-sarcastic-tweet-classification/raw/main/dataset/dataset.csv\n",
            "Resolving github.com (github.com)... 140.82.113.3\n",
            "Connecting to github.com (github.com)|140.82.113.3|:443... connected.\n",
            "HTTP request sent, awaiting response... 302 Found\n",
            "Location: https://raw.githubusercontent.com/deborahdore/italian-sarcastic-tweet-classification/main/dataset/dataset.csv [following]\n",
            "--2022-05-26 15:21:00--  https://raw.githubusercontent.com/deborahdore/italian-sarcastic-tweet-classification/main/dataset/dataset.csv\n",
            "Resolving raw.githubusercontent.com (raw.githubusercontent.com)... 185.199.109.133, 185.199.110.133, 185.199.111.133, ...\n",
            "Connecting to raw.githubusercontent.com (raw.githubusercontent.com)|185.199.109.133|:443... connected.\n",
            "HTTP request sent, awaiting response... 200 OK\n",
            "Length: 1797205 (1.7M) [text/plain]\n",
            "Saving to: ‘dataset.csv’\n",
            "\n",
            "dataset.csv         100%[===================>]   1.71M  --.-KB/s    in 0.06s   \n",
            "\n",
            "2022-05-26 15:21:01 (31.0 MB/s) - ‘dataset.csv’ saved [1797205/1797205]\n",
            "\n",
            "--2022-05-26 15:21:01--  https://github.com/deborahdore/italian-sarcastic-tweet-classification/raw/main/dataset/other/sentipolic.csv\n",
            "Resolving github.com (github.com)... 140.82.113.4\n",
            "Connecting to github.com (github.com)|140.82.113.4|:443... connected.\n",
            "HTTP request sent, awaiting response... 302 Found\n",
            "Location: https://raw.githubusercontent.com/deborahdore/italian-sarcastic-tweet-classification/main/dataset/other/sentipolic.csv [following]\n",
            "--2022-05-26 15:21:01--  https://raw.githubusercontent.com/deborahdore/italian-sarcastic-tweet-classification/main/dataset/other/sentipolic.csv\n",
            "Resolving raw.githubusercontent.com (raw.githubusercontent.com)... 185.199.109.133, 185.199.110.133, 185.199.111.133, ...\n",
            "Connecting to raw.githubusercontent.com (raw.githubusercontent.com)|185.199.109.133|:443... connected.\n",
            "HTTP request sent, awaiting response... 200 OK\n",
            "Length: 1356686 (1.3M) [text/plain]\n",
            "Saving to: ‘sentipolic.csv’\n",
            "\n",
            "sentipolic.csv      100%[===================>]   1.29M  --.-KB/s    in 0.05s   \n",
            "\n",
            "2022-05-26 15:21:01 (24.2 MB/s) - ‘sentipolic.csv’ saved [1356686/1356686]\n",
            "\n",
            "--2022-05-26 15:21:02--  https://raw.githubusercontent.com/deborahdore/italian-sarcastic-tweet-classification/main/credentials/credentials.yaml\n",
            "Resolving raw.githubusercontent.com (raw.githubusercontent.com)... 185.199.109.133, 185.199.110.133, 185.199.111.133, ...\n",
            "Connecting to raw.githubusercontent.com (raw.githubusercontent.com)|185.199.109.133|:443... connected.\n",
            "HTTP request sent, awaiting response... 200 OK\n",
            "Length: 237 [text/plain]\n",
            "Saving to: ‘credentials.yaml’\n",
            "\n",
            "credentials.yaml    100%[===================>]     237  --.-KB/s    in 0s      \n",
            "\n",
            "2022-05-26 15:21:02 (15.3 MB/s) - ‘credentials.yaml’ saved [237/237]\n",
            "\n",
            "--2022-05-26 15:21:02--  https://raw.githubusercontent.com/deborahdore/italian-sarcastic-tweet-classification/main/dataset/dataset_annotated.csv\n",
            "Resolving raw.githubusercontent.com (raw.githubusercontent.com)... 185.199.109.133, 185.199.110.133, 185.199.111.133, ...\n",
            "Connecting to raw.githubusercontent.com (raw.githubusercontent.com)|185.199.109.133|:443... connected.\n",
            "HTTP request sent, awaiting response... 200 OK\n",
            "Length: 931783 (910K) [text/plain]\n",
            "Saving to: ‘dataset_annotated.csv’\n",
            "\n",
            "dataset_annotated.c 100%[===================>] 909.94K  --.-KB/s    in 0.05s   \n",
            "\n",
            "2022-05-26 15:21:02 (19.5 MB/s) - ‘dataset_annotated.csv’ saved [931783/931783]\n",
            "\n"
          ]
        }
      ]
    },
    {
      "cell_type": "code",
      "source": [
        "# italian dictionary for lemmatization\n",
        "!wget https://raw.githubusercontent.com/michmech/lemmatization-lists/master/lemmatization-it.txt"
      ],
      "metadata": {
        "id": "5v7zGUIlnl4Q",
        "colab": {
          "base_uri": "https://localhost:8080/"
        },
        "outputId": "150b8292-a984-4a85-e9d1-8606e8226f3c"
      },
      "execution_count": 17,
      "outputs": [
        {
          "output_type": "stream",
          "name": "stdout",
          "text": [
            "--2022-05-26 15:21:02--  https://raw.githubusercontent.com/michmech/lemmatization-lists/master/lemmatization-it.txt\n",
            "Resolving raw.githubusercontent.com (raw.githubusercontent.com)... 185.199.109.133, 185.199.110.133, 185.199.111.133, ...\n",
            "Connecting to raw.githubusercontent.com (raw.githubusercontent.com)|185.199.109.133|:443... connected.\n",
            "HTTP request sent, awaiting response... 200 OK\n",
            "Length: 7917510 (7.5M) [text/plain]\n",
            "Saving to: ‘lemmatization-it.txt’\n",
            "\n",
            "lemmatization-it.tx 100%[===================>]   7.55M  --.-KB/s    in 0.08s   \n",
            "\n",
            "2022-05-26 15:21:02 (91.5 MB/s) - ‘lemmatization-it.txt’ saved [7917510/7917510]\n",
            "\n"
          ]
        }
      ]
    },
    {
      "cell_type": "markdown",
      "source": [
        "# 2. **Retrieve Tweet**\n",
        "\n",
        "\n",
        "> Following, some code cell will be annotated with *%% script false* in order to avoid their execution. Those cell concern the download of the tweets from Twitter. Even if this may not sound dangerous, I've finished the request at my disposal. Therefore, calling the Twitter API will produce an error. Also, please don't run them otherwise the output of the cell will be lost.\n",
        "\n"
      ],
      "metadata": {
        "id": "5wh23uCQcxfP"
      }
    },
    {
      "cell_type": "code",
      "source": [
        "# useful imports\n",
        "import numpy as np\n",
        "import matplotlib.pyplot as plt\n",
        "import seaborn as sns\n",
        "%matplotlib inline\n",
        "import requests\n",
        "import json\n",
        "import yaml\n",
        "import csv\n",
        "import pdb\n",
        "import pandas as pd"
      ],
      "metadata": {
        "id": "cynI3DutEnEP"
      },
      "execution_count": 18,
      "outputs": []
    },
    {
      "cell_type": "markdown",
      "source": [
        "- First we must retrieve and validate the credentials that we will need to access the Twitter API. I've store the bearer token in a yaml file: *credentials.yaml*\n",
        "\n",
        "\n",
        "\n"
      ],
      "metadata": {
        "id": "gt6JZtFie0Py"
      }
    },
    {
      "cell_type": "code",
      "source": [
        "def handle_credentials(credentials, key):\n",
        "  with open(credentials, \"r\") as stream:\n",
        "    try:\n",
        "        credentials = yaml.safe_load(stream)\n",
        "        return credentials[key]\n",
        "    except yaml.YAMLError as exc:\n",
        "        print(exc)"
      ],
      "metadata": {
        "id": "qOoIg7uZc2bM"
      },
      "execution_count": 19,
      "outputs": []
    },
    {
      "cell_type": "code",
      "source": [
        "credentials = handle_credentials(CREDENTIALS, CREDENTIALS_KEY)\n",
        "endpoint = credentials['endpoint'] # we will use this endpoint to search for the tweet\n",
        "print(endpoint)"
      ],
      "metadata": {
        "id": "i_UEONFUfOt2",
        "colab": {
          "base_uri": "https://localhost:8080/"
        },
        "outputId": "dd57e085-2d94-4c5c-843e-9fcf1a5cf250"
      },
      "execution_count": 20,
      "outputs": [
        {
          "output_type": "stream",
          "name": "stdout",
          "text": [
            "https://api.twitter.com/1.1/tweets/search/30day/dev1.json\n"
          ]
        }
      ]
    },
    {
      "cell_type": "markdown",
      "source": [
        "- Second we must create the header for the request"
      ],
      "metadata": {
        "id": "J-RByZFOf9iQ"
      }
    },
    {
      "cell_type": "code",
      "source": [
        "def handle_headers(credentials:dict):\n",
        "  headers = {\n",
        "    'Content-Type': 'application/json',\n",
        "    'Authorization': f'Bearer {credentials[\"bearer_token\"]}'\n",
        "  }\n",
        "  return headers"
      ],
      "metadata": {
        "id": "5OYEqkb2fW7U"
      },
      "execution_count": 21,
      "outputs": []
    },
    {
      "cell_type": "code",
      "source": [
        "headers = handle_headers(credentials)\n",
        "headers"
      ],
      "metadata": {
        "id": "vfRm7V29gCJq",
        "colab": {
          "base_uri": "https://localhost:8080/"
        },
        "outputId": "23fce7e5-ad36-4043-aa38-bbf71b7988e3"
      },
      "execution_count": 22,
      "outputs": [
        {
          "output_type": "execute_result",
          "data": {
            "text/plain": [
              "{'Authorization': 'Bearer None', 'Content-Type': 'application/json'}"
            ]
          },
          "metadata": {},
          "execution_count": 22
        }
      ]
    },
    {
      "cell_type": "markdown",
      "source": [
        "- Another parameter of the request is the query. The query determines which tweet will be returned in the response. In our case, we have 2 types of queries: the one that searches for sarcastic tweets and the one that returns non-sarcastic tweets"
      ],
      "metadata": {
        "id": "9yp2tFf9gOsg"
      }
    },
    {
      "cell_type": "markdown",
      "source": [
        "For the query about sarcastic tweet I've chosen some keyword that, in my opion, are used to express sarcasm and/or irony (sarcasm is a sub-type of irony):\n",
        "\n",
        "\n",
        "1. sarcasmo (with or without #)\n",
        "2. ironia (with or without #)\n",
        "3. \"*ridiamo per non piangere*\"\n",
        "4. #coincidenze (.. io non credo) is mostly used to express sarcasm\n",
        "5. \"*qualquadra non cosa*\"\n",
        "\n",
        "Many studies also suggest that sarcasm can be found in tweet related to politics. Therefore, these seems very good starting point:\n",
        "1. monti, draghi, berlusconi (known italian prime minister)\n",
        "2. governo\n",
        "3. premier\n",
        "\n",
        "\n",
        "For non-sarcastic tweet, I've excluded all the possibile word that may refer to sarcasm.\n",
        "\n",
        "The list of operator used can be found in the [Twitter API documentation](https://developer.twitter.com/en/docs/twitter-api/enterprise/rules-and-filtering/operators-by-product)."
      ],
      "metadata": {
        "id": "jL_QG_G5Ew4o"
      }
    },
    {
      "cell_type": "code",
      "source": [
        "sarcasm_query = '(#sarcasmo OR sarcasmo OR #ironia OR ironia OR \"ridiamo per non piangere\" \\\n",
        "                  OR #coincidenze OR \"qualquadra non cosa\" OR draghi OR monti OR berlusconi \\\n",
        "                  OR governo OR premier) lang:it -has:media'\n",
        "\n",
        "non_sarcasm_query = '-\"ridiamo per non piangere\" -sarcasmo -ironia -\"qualquadra non cosa\" lang:it -has:media'"
      ],
      "metadata": {
        "id": "B4Qan_sigKsq"
      },
      "execution_count": 23,
      "outputs": []
    },
    {
      "cell_type": "markdown",
      "source": [
        "- Now we can define the function that will handle the request and the dataframe where tweet will be stored.\n",
        "\n",
        "\n",
        "> Other parameters that we need in order to process the request are:\n",
        "- *max_result_per_page* : the maximum number of tweets per call \n",
        "- *next_token* : a token that if passed to the request will return the next page of results\n",
        "- I've defined a parameter *max_num_of_request* that will stop the call once that we've reached the desidered amount of calls. This must be done because the request at our disposal are not illimited. So we must be careful to the number of the request that we do\n",
        "\n",
        "\n"
      ],
      "metadata": {
        "id": "1AItsWZphAXa"
      }
    },
    {
      "cell_type": "code",
      "source": [
        "def handle_request(endpoint, headers, query, max_result_per_page, next_token = None):\n",
        "  \n",
        "  if next_token is not None:\n",
        "    payload = json.dumps({\n",
        "      \"maxResults\": max_result_per_page,\n",
        "      \"query\": query,\n",
        "      \"next\": next_token\n",
        "    })\n",
        "  else:\n",
        "    payload = json.dumps({\n",
        "      \"maxResults\": max_result_per_page,\n",
        "      \"query\": query,\n",
        "    })\n",
        "  \n",
        "  response = requests.post(endpoint, headers=headers, data=payload)\n",
        "\n",
        "  return response.text"
      ],
      "metadata": {
        "id": "OVmgNDDch8Se"
      },
      "execution_count": 24,
      "outputs": []
    },
    {
      "cell_type": "code",
      "source": [
        "def extract_tweet(response, label):\n",
        "  tweets = []\n",
        "  json_response = json.loads(response)\n",
        "  \n",
        "  if 'results' in response:\n",
        "    results = json_response[\"results\"]\n",
        "\n",
        "    for tweet in results:\n",
        "      # is tweet a retweet?\n",
        "      if 'retweeted_status' in tweet:\n",
        "        if tweet['retweeted_status']['truncated']:\n",
        "          text = tweet['retweeted_status']['extended_tweet']['full_text']\n",
        "        else:\n",
        "          text = tweet['retweeted_status']['text']\n",
        "      else:\n",
        "        if tweet['truncated']:\n",
        "          text = tweet['extended_tweet']['full_text']\n",
        "        else:\n",
        "          text = tweet['text']\n",
        "        \n",
        "      text = text.replace('\"', \"'\")\n",
        "      data = Tweet(tweet[\"id\"], f\"{text}\", label)\n",
        "      \n",
        "      tweets.append(data)\n",
        "\n",
        "  else:\n",
        "    print(\"Request went wrong\")\n",
        "    print(response)\n",
        "\n",
        "  return tweets"
      ],
      "metadata": {
        "id": "1gNdo7Bnijtz"
      },
      "execution_count": 25,
      "outputs": []
    },
    {
      "cell_type": "code",
      "source": [
        "def download_tweet(endpoint, \n",
        "                   headers, \n",
        "                   query, \n",
        "                   label,\n",
        "                   max_result_per_page,\n",
        "                   tweet_list,\n",
        "                   next_token = None, \n",
        "                   max_num_of_request = 20):\n",
        "\n",
        "  if max_num_of_request <= 0:\n",
        "    return tweet_list\n",
        "\n",
        "  response = handle_request(endpoint, headers, query, max_result_per_page, next_token)\n",
        "\n",
        "  tweet_list.extend(extract_tweet(response, label))\n",
        "\n",
        "  try:\n",
        "      next_token = json.loads(response)['next']\n",
        "  except:\n",
        "      next_token = None\n",
        "\n",
        "  if next_token is not None:\n",
        "      return download_tweet(endpoint, headers, query, label, max_result_per_page,\n",
        "                   tweet_list, next_token, max_num_of_request - 1)\n",
        "  else:\n",
        "      return tweet_list"
      ],
      "metadata": {
        "id": "oHbiTTbNg7x4"
      },
      "execution_count": 26,
      "outputs": []
    },
    {
      "cell_type": "code",
      "source": [
        "# define tweet\n",
        "Tweet = Row(\"id\", \"text\", \"sarcastic\")"
      ],
      "metadata": {
        "id": "yUW4eUSoyq08"
      },
      "execution_count": 27,
      "outputs": []
    },
    {
      "cell_type": "code",
      "source": [
        "tweets = []"
      ],
      "metadata": {
        "id": "nnd9wSFdmzTs"
      },
      "execution_count": 28,
      "outputs": []
    },
    {
      "cell_type": "code",
      "source": [
        "%%script false\n",
        "\n",
        "# download sarcastic tweet\n",
        "tweets = download_tweet(endpoint, \n",
        "                   headers, \n",
        "                   sarcasm_query, \n",
        "                   \"Yes\",\n",
        "                   100,\n",
        "                   [],\n",
        "                   next_token = None, \n",
        "                   max_num_of_request = 40)"
      ],
      "metadata": {
        "id": "wqphEQDcwHHr"
      },
      "execution_count": 29,
      "outputs": []
    },
    {
      "cell_type": "code",
      "source": [
        "%%script false\n",
        "\n",
        "# download non-sarcastic tweet\n",
        "tweets.extend(\n",
        "    download_tweet(endpoint, \n",
        "                   headers, \n",
        "                   non_sarcasm_query, \n",
        "                   \"No\",\n",
        "                   100,\n",
        "                   [],\n",
        "                   next_token = None, \n",
        "                   max_num_of_request = 40))"
      ],
      "metadata": {
        "id": "rLUvtri88LyI"
      },
      "execution_count": 30,
      "outputs": []
    },
    {
      "cell_type": "code",
      "source": [
        "%%script false\n",
        "# create DataFrame\n",
        "df = spark.createDataFrame(tweets)"
      ],
      "metadata": {
        "id": "RZeSJmGt5FOG"
      },
      "execution_count": 31,
      "outputs": []
    },
    {
      "cell_type": "code",
      "source": [
        "%%script false\n",
        "df.show(10, truncate=False)"
      ],
      "metadata": {
        "id": "nmS3eNL075po"
      },
      "execution_count": 32,
      "outputs": []
    },
    {
      "cell_type": "code",
      "source": [
        "%%script false\n",
        "\n",
        "# create file\n",
        "if not os.path.exists(DATASET):\n",
        "  os.mknod(DATASET)\n",
        "\n",
        "# save tweets\n",
        "df.toPandas().to_csv(DATASET, header=True, index=False) "
      ],
      "metadata": {
        "id": "PgAKUhbDmrmU"
      },
      "execution_count": 33,
      "outputs": []
    },
    {
      "cell_type": "code",
      "source": [
        "%%script false\n",
        "del df"
      ],
      "metadata": {
        "id": "ScVj8BVQgljy"
      },
      "execution_count": 34,
      "outputs": []
    },
    {
      "cell_type": "markdown",
      "source": [
        "# 3. **Annotate Tweet**"
      ],
      "metadata": {
        "id": "29_DCW9URUjb"
      }
    },
    {
      "cell_type": "code",
      "source": [
        "# python widgets\n",
        "from ipywidgets import Button\n",
        "import asyncio\n",
        "from IPython.display import display, clear_output\n",
        "import ipywidgets as widgets\n",
        "from ipywidgets import HBox, Layout\n",
        "import time as t"
      ],
      "metadata": {
        "id": "SXY6DWppEFJP"
      },
      "execution_count": 35,
      "outputs": []
    },
    {
      "cell_type": "markdown",
      "source": [
        "When we download tweet using an hashtag, we are not 100% sure of what we downloaded is correct. We must analyze - at least - the majority of the tweet to understand if what we have labelled is correct. There here's a little tool to help us with that."
      ],
      "metadata": {
        "id": "xrDr46suRbeP"
      }
    },
    {
      "cell_type": "code",
      "source": [
        "Tweet = Row(\"id\", \"text\", \"sarcastic\")\n",
        "\n",
        "schema = StructType([StructField(\"id\", StringType(), True)\\\n",
        "                   ,StructField(\"text\", StringType(), True)\\\n",
        "                   ,StructField(\"sarcastic\", StringType(), True)])\n",
        "\n",
        "df = spark.createDataFrame(pd.read_csv(DATASET), schema=schema)\n",
        "df.show(10)"
      ],
      "metadata": {
        "id": "8hS8XFLNRa2q",
        "colab": {
          "base_uri": "https://localhost:8080/"
        },
        "outputId": "01b7e760-aa7e-4ddb-df10-149034b68041"
      },
      "execution_count": 36,
      "outputs": [
        {
          "output_type": "stream",
          "name": "stdout",
          "text": [
            "+-------------------+--------------------+---------+\n",
            "|                 id|                text|sarcastic|\n",
            "+-------------------+--------------------+---------+\n",
            "|1524034279151489025|@AlienoGentile C’...|       No|\n",
            "|1524034279122034690|@NaremFox @RickyT...|       No|\n",
            "|1524034278983704581|Sempre al fine di...|       No|\n",
            "|1524034278870372354|E Comunque quest'...|       No|\n",
            "|1524034278828425218|Comunque a me Alb...|       No|\n",
            "|1524034278719475712|che bella persona...|       No|\n",
            "|1524034278589411328|oddio io quando h...|       No|\n",
            "|1524034278559993857|@carlopitocchi La...|       No|\n",
            "|1524034278140616708|Oh nooo solo 400 ...|       No|\n",
            "|1524034278031609856|@WillSorareSmith ...|       No|\n",
            "+-------------------+--------------------+---------+\n",
            "only showing top 10 rows\n",
            "\n"
          ]
        }
      ]
    },
    {
      "cell_type": "code",
      "source": [
        "def count_label(df, numeric=False):\n",
        "  label_yes = 1 if numeric else \"Yes\"\n",
        "  label_no = 0 if numeric else \"No\"\n",
        "  return df.groupBy(\"sarcastic\").agg(\n",
        "      count(when(col(\"sarcastic\") == label_yes, 1)),\n",
        "      count(when(col(\"sarcastic\") == label_no, 1)))"
      ],
      "metadata": {
        "id": "g-2CxhPEb59B"
      },
      "execution_count": 37,
      "outputs": []
    },
    {
      "cell_type": "code",
      "source": [
        "# count tweet\n",
        "print(f'Total number of tweet retrieved {df.count()}')"
      ],
      "metadata": {
        "id": "UWC7f6AHbzKA",
        "colab": {
          "base_uri": "https://localhost:8080/"
        },
        "outputId": "ad8f6778-b3f6-4ecb-8159-f1c892945088"
      },
      "execution_count": 38,
      "outputs": [
        {
          "output_type": "stream",
          "name": "stdout",
          "text": [
            "Total number of tweet retrieved 11800\n"
          ]
        }
      ]
    },
    {
      "cell_type": "code",
      "source": [
        "# we want first to drop duplicates\n",
        "\n",
        "print(\"Count before drop:\")\n",
        "count_label(df).show()\n",
        "\n",
        "count_before_drop = df.count()\n",
        "df = df.dropDuplicates([\"text\"])\n",
        "print(f\"Distinct count: {str(df.count())} \\n\")\n",
        "\n",
        "print(\"Count after drop:\")\n",
        "count_label(df).show()"
      ],
      "metadata": {
        "id": "gciiYKT7R148",
        "colab": {
          "base_uri": "https://localhost:8080/"
        },
        "outputId": "69e69eb7-aa71-4a96-948e-7e6d7f90be99"
      },
      "execution_count": 39,
      "outputs": [
        {
          "output_type": "stream",
          "name": "stdout",
          "text": [
            "Count before drop:\n",
            "+---------+---------------------------------------------+--------------------------------------------+\n",
            "|sarcastic|count(CASE WHEN (sarcastic = Yes) THEN 1 END)|count(CASE WHEN (sarcastic = No) THEN 1 END)|\n",
            "+---------+---------------------------------------------+--------------------------------------------+\n",
            "|       No|                                            0|                                        7800|\n",
            "|      Yes|                                         4000|                                           0|\n",
            "+---------+---------------------------------------------+--------------------------------------------+\n",
            "\n",
            "Distinct count: 9290 \n",
            "\n",
            "Count after drop:\n",
            "+---------+---------------------------------------------+--------------------------------------------+\n",
            "|sarcastic|count(CASE WHEN (sarcastic = Yes) THEN 1 END)|count(CASE WHEN (sarcastic = No) THEN 1 END)|\n",
            "+---------+---------------------------------------------+--------------------------------------------+\n",
            "|       No|                                            0|                                        7304|\n",
            "|      Yes|                                         1986|                                           0|\n",
            "+---------+---------------------------------------------+--------------------------------------------+\n",
            "\n"
          ]
        }
      ]
    },
    {
      "cell_type": "code",
      "source": [
        "print(f'dropped {count_before_drop-df.count()} columns')\n",
        "print(f'total count: {df.count()}')"
      ],
      "metadata": {
        "id": "q3WedH78qpMX",
        "colab": {
          "base_uri": "https://localhost:8080/"
        },
        "outputId": "294b4429-779d-481e-fec0-bd2f289872be"
      },
      "execution_count": 40,
      "outputs": [
        {
          "output_type": "stream",
          "name": "stdout",
          "text": [
            "dropped 2510 columns\n",
            "total count: 9290\n"
          ]
        }
      ]
    },
    {
      "cell_type": "code",
      "source": [
        "# visually \n",
        "data = count_label(df).collect()\n",
        "\n",
        "labels = ['sarcastic', 'non sarcastic']\n",
        "colors = sns.color_palette('pastel')[0:5]\n",
        "\n",
        "plt.pie([int(data[1][1]), int(data[0][2])], labels = labels, colors = colors, autopct='%.0f%%')\n",
        "plt.show()"
      ],
      "metadata": {
        "id": "idZSd7XIVbXS",
        "colab": {
          "base_uri": "https://localhost:8080/",
          "height": 248
        },
        "outputId": "a93a0c7d-0d8b-412f-b348-c06683f73f4a"
      },
      "execution_count": 41,
      "outputs": [
        {
          "output_type": "display_data",
          "data": {
            "text/plain": [
              "<Figure size 432x288 with 1 Axes>"
            ],
            "image/png": "[encoded data removed]"
          },
          "metadata": {}
        }
      ]
    },
    {
      "cell_type": "code",
      "source": [
        "tweets_annotated = []"
      ],
      "metadata": {
        "id": "t4hgqk7qs9mZ"
      },
      "execution_count": 42,
      "outputs": []
    },
    {
      "cell_type": "code",
      "source": [
        "def wait_for_change(widget1, widget2): \n",
        "    future = asyncio.Future()\n",
        "    def getvalue(change):\n",
        "        future.set_result(change.description)\n",
        "        widget1.on_click(getvalue, remove=True)\n",
        "        widget2.on_click(getvalue, remove=True) \n",
        "    widget1.on_click(getvalue)\n",
        "    widget2.on_click(getvalue)\n",
        "    return future\n",
        "\n",
        "async def f(df):\n",
        "  df_pandas = df.toPandas()\n",
        "  for index, row in df_pandas.iterrows():\n",
        "    print(f'Is this tweet sarcastic? \\n {row.text} \\n', flush=True)\n",
        "\n",
        "    x = await wait_for_change(sarcastic,non_sarcastic)\n",
        "    \n",
        "    if x == \"Yes\":\n",
        "      print(\"Tagged \", row.id, \"with sarcastic \\n\")\n",
        "      data = Tweet(row.id, row.text, \"Yes\")\n",
        "      tweets_annotated.append(data)\n",
        "    else:\n",
        "      print(\"Tagged \", row.id, \"with non-sarcastic \\n\")\n",
        "      data = Tweet(row.id, row.text, \"No\")      \n",
        "      tweets_annotated.append(data)\n",
        "\n",
        "    clear_output()\n",
        "    display(HBox([sarcastic,non_sarcastic]))"
      ],
      "metadata": {
        "id": "T3QQC7zoSvmO"
      },
      "execution_count": 43,
      "outputs": []
    },
    {
      "cell_type": "markdown",
      "source": [
        "Before going forward, we want to ask ourselves *How can know if a tweet is sarcastic or not?*\n",
        "\n",
        "*In Harry Potter and the Half Blood Prince, there is a scene where Harry is leaving the Weasley house and Mrs. Weasley says: “Promise me you will look after yourself…stay out of trouble….” Harry responds: “I always do Mrs. Weasley. I like a quiet life, you know me.” Anyone familiar with Harry Potter knows that his life is far from quiet, and so he must not really mean what he is saying. In fact, Harry is being sarcastic.*\n",
        "\n",
        "[source](https://kids.frontiersin.org/articles/10.3389/frym.2018.00056)\n",
        "\n",
        "Sarcasm is the use of words that say the opposite of what you really mean, often as a joke and with a tone of voice that shows this. It is often used to mock or critize someone, express disapproval or as a defence mechanism.\n",
        "\n",
        "For example:\n",
        "> *Noi invece ce la caviamo con un grado in meno ai termosifoni d'inverno e spegnendo i condizionatori d'estate. Non è fantastico? (#Draghi è un cialtrone sesquipedale, nel caso aveste ancora qualche dubbio)*\n",
        "\n",
        "Here we can imagine the sarcastic tone of the writer. He's obviously criticising the Italian prime minister, Mario Draghi, when, during an interview, he said that we must make sacrifices like lowering the grade of the radiator in order to cope with the possibility of not having the gas from Russia anymore. Obviously, this won't be enough. *Isn't this great?*\n",
        "\n",
        "Sometimes it's difficult also for a human person to understand sarcasm therefore I don't expect the following dataset to be 100% free from bias."
      ],
      "metadata": {
        "id": "8Kyh9cjvkoZN"
      }
    },
    {
      "cell_type": "code",
      "source": [
        "# tool used for annotation: it displays each tweet and the user has to click \"Yes\" \n",
        "# if the tweet was sarcastic, \"No\" otherwise\n",
        "\n",
        "sarcastic=Button(description=\"Yes\", button_style='info', layout=Layout(width='150px', height='50px'))\n",
        "non_sarcastic=Button(description=\"No\", button_style='info', layout=Layout(width='150px', height='50px'))\n",
        "\n",
        "asyncio.create_task(f(df))\n",
        "t.sleep(2)\n",
        "display(HBox([sarcastic,non_sarcastic]))"
      ],
      "metadata": {
        "id": "NJM-MObHrwWp",
        "colab": {
          "base_uri": "https://localhost:8080/",
          "height": 71,
          "referenced_widgets": [
            "b07c273707164af19a40a98e9efe869d",
            "bb2bccd03c134dc996d318c4e2d2d218",
            "012b440a79b846cd905ff514d85b2025",
            "e21af864bbbe42249fb3d88a889c7aad",
            "c37bd5196530489a9d5d8e47820a6992",
            "e8a87eff04cd492b82d9a7c6a69d15bd",
            "6fba691932f74badba707f9faf6d72e1",
            "bb0dd0088ede4444b3ec5ab50bd4e2d7"
          ]
        },
        "outputId": "0d6d2967-81f0-465e-b177-7a9e099f08cb"
      },
      "execution_count": 44,
      "outputs": [
        {
          "output_type": "display_data",
          "data": {
            "text/plain": [
              "HBox(children=(Button(button_style='info', description='Yes', layout=Layout(height='50px', width='150px'), sty…"
            ],
            "application/vnd.jupyter.widget-view+json": {
              "version_major": 2,
              "version_minor": 0,
              "model_id": "b07c273707164af19a40a98e9efe869d"
            }
          },
          "metadata": {}
        }
      ]
    },
    {
      "cell_type": "code",
      "source": [
        "%%script false\n",
        "print(tweets_annotated)"
      ],
      "metadata": {
        "id": "XvlYa09uXPRs"
      },
      "execution_count": 45,
      "outputs": []
    },
    {
      "cell_type": "code",
      "source": [
        "%%script false\n",
        "df_annotated = spark.createDataFrame(tweets_annotated)\n",
        "df_annotated.tail(5)"
      ],
      "metadata": {
        "id": "5oOAAGZFsYKo"
      },
      "execution_count": 46,
      "outputs": []
    },
    {
      "cell_type": "code",
      "source": [
        "%%script false\n",
        "if not os.path.exists(DATASET_ANNOTATED):\n",
        "  os.mknod(DATASET_ANNOTATED)\n",
        "\n",
        "# save tweets\n",
        "df_annotated.toPandas().to_csv(DATASET_ANNOTATED, header=True, index=False)\n",
        "del df_annotated"
      ],
      "metadata": {
        "id": "ClMe-OHFXrDf"
      },
      "execution_count": 47,
      "outputs": []
    },
    {
      "cell_type": "code",
      "source": [
        "del df"
      ],
      "metadata": {
        "id": "e3AyKHHqgxE-"
      },
      "execution_count": 48,
      "outputs": []
    },
    {
      "cell_type": "markdown",
      "source": [
        "# 4. **Extend Dataset**"
      ],
      "metadata": {
        "id": "daSEOScGUKJo"
      }
    },
    {
      "cell_type": "code",
      "source": [
        "schema = StructType([StructField(\"id\", StringType(), True)\\\n",
        "                   ,StructField(\"text\", StringType(), True)\\\n",
        "                   ,StructField(\"sarcastic\", StringType(), True)])\n",
        "\n",
        "df_annotated = spark.createDataFrame(pd.read_csv(DATASET_ANNOTATED), schema=schema)"
      ],
      "metadata": {
        "id": "W4g8iOQTxneE"
      },
      "execution_count": 49,
      "outputs": []
    },
    {
      "cell_type": "code",
      "source": [
        "print(f\"Annotated tweets: {df_annotated.count()}\")"
      ],
      "metadata": {
        "id": "K421QQz1sfyt",
        "colab": {
          "base_uri": "https://localhost:8080/"
        },
        "outputId": "aa31b1b4-43a9-472d-b600-54b806bec7ba"
      },
      "execution_count": 50,
      "outputs": [
        {
          "output_type": "stream",
          "name": "stdout",
          "text": [
            "Annotated tweets: 5480\n"
          ]
        }
      ]
    },
    {
      "cell_type": "markdown",
      "source": [
        "As we can see from the code below, we lost multiple *tweet*.\n",
        "First of all, multiple tweets classified as sarcastic were not sarcastic. Also, I've dropped every tweet that contained only one word, that wasn't actually in italian or \n",
        "that had no sense."
      ],
      "metadata": {
        "id": "M_awlh0kq3nB"
      }
    },
    {
      "cell_type": "code",
      "source": [
        "count_label(df_annotated).show()"
      ],
      "metadata": {
        "id": "k6k_llNRpKCE",
        "colab": {
          "base_uri": "https://localhost:8080/"
        },
        "outputId": "dbbefc89-8441-41fb-e164-8acc463b8df7"
      },
      "execution_count": 51,
      "outputs": [
        {
          "output_type": "stream",
          "name": "stdout",
          "text": [
            "+---------+---------------------------------------------+--------------------------------------------+\n",
            "|sarcastic|count(CASE WHEN (sarcastic = Yes) THEN 1 END)|count(CASE WHEN (sarcastic = No) THEN 1 END)|\n",
            "+---------+---------------------------------------------+--------------------------------------------+\n",
            "|       No|                                            0|                                        4629|\n",
            "|      Yes|                                          830|                                           0|\n",
            "|      NaN|                                            0|                                           0|\n",
            "+---------+---------------------------------------------+--------------------------------------------+\n",
            "\n"
          ]
        }
      ]
    },
    {
      "cell_type": "markdown",
      "source": [
        "However, we can integrate we some external Dataset such as: [SENTIPOLIC](http://www.di.unito.it/~tutreeb/sentipolc-evalita16/index.html) from the challenge EVALITA2016 which contains several italian tweet already classified."
      ],
      "metadata": {
        "id": "UeH_4XijrNc3"
      }
    },
    {
      "cell_type": "code",
      "source": [
        "df_sentipolic = spark.createDataFrame(pd.read_csv(SENTIPOLIC))"
      ],
      "metadata": {
        "id": "B2eVp6uIw9kO"
      },
      "execution_count": 52,
      "outputs": []
    },
    {
      "cell_type": "code",
      "source": [
        "df_sentipolic.show(10)"
      ],
      "metadata": {
        "id": "qld5kvU0yDBS",
        "colab": {
          "base_uri": "https://localhost:8080/"
        },
        "outputId": "1a47e545-8e4b-42df-8181-5ee5c93bdd52"
      },
      "execution_count": 53,
      "outputs": [
        {
          "output_type": "stream",
          "name": "stdout",
          "text": [
            "+------------------+----+----+----+---+----+----+---+--------------------+\n",
            "|         idtwitter|subj|opos|oneg|iro|lpos|lneg|top|                text|\n",
            "+------------------+----+----+----+---+----+----+---+--------------------+\n",
            "|122449983151669248|   1|   0|   1|  0|   0|   1|  1|Intanto la partit...|\n",
            "|125485104863780865|   1|   0|   1|  0|   0|   1|  1|False illusioni, ...|\n",
            "|125513454315507712|   1|   0|   1|  0|   0|   1|  1|False illusioni, ...|\n",
            "|125524238290522113|   1|   0|   1|  0|   0|   1|  1|Mario Monti: Berl...|\n",
            "|125527933224886272|   1|   0|   1|  0|   0|   1|  1|Mario Monti: Berl...|\n",
            "|125530285164072961|   1|   1|   1|  0|   1|   1|  1|False illusioni, ...|\n",
            "|125533343482789889|   1|   0|   1|  0|   0|   1|  1|L'attacco di Mari...|\n",
            "|125633929217708032|   1|   1|   0|  0|   1|   0|  1|Mario Monti sul C...|\n",
            "|125642756147265536|   1|   0|   1|  0|   0|   1|  1|Le 5 sgradevoli r...|\n",
            "|125692702145785856|   1|   0|   1|  0|   0|   1|  1|False illusioni, ...|\n",
            "+------------------+----+----+----+---+----+----+---+--------------------+\n",
            "only showing top 10 rows\n",
            "\n"
          ]
        }
      ]
    },
    {
      "cell_type": "code",
      "source": [
        "# we will extract only the tweets which are ironic since we have plenty non-ironic\n",
        "df_sentipolic = df_sentipolic.filter(col(\"iro\")==1)"
      ],
      "metadata": {
        "id": "0LMvvrxNyFlS"
      },
      "execution_count": 54,
      "outputs": []
    },
    {
      "cell_type": "code",
      "source": [
        "print(f\"Ironic tweet retrieved: {df_sentipolic.count()}\")"
      ],
      "metadata": {
        "id": "lN-MoSRiyQ37",
        "colab": {
          "base_uri": "https://localhost:8080/"
        },
        "outputId": "f81df933-ab57-4147-cbd3-ff2ae8ceee2a"
      },
      "execution_count": 55,
      "outputs": [
        {
          "output_type": "stream",
          "name": "stdout",
          "text": [
            "Ironic tweet retrieved: 1103\n"
          ]
        }
      ]
    },
    {
      "cell_type": "code",
      "source": [
        "df_sentipolic = df_sentipolic.withColumnRenamed(\"idTwitter\", \"id\")\\\n",
        "                              .withColumnRenamed(\"iro\", \"sarcastic\")\\\n",
        "                              .select(\"id\", \"text\", \"sarcastic\")"
      ],
      "metadata": {
        "id": "CmzhGiatyZxd"
      },
      "execution_count": 56,
      "outputs": []
    },
    {
      "cell_type": "code",
      "source": [
        "df_sentipolic.show(10)"
      ],
      "metadata": {
        "id": "PrDm7Oz_zbDx",
        "colab": {
          "base_uri": "https://localhost:8080/"
        },
        "outputId": "790cc356-fd69-49be-b9f4-703443755e87"
      },
      "execution_count": 57,
      "outputs": [
        {
          "output_type": "stream",
          "name": "stdout",
          "text": [
            "+------------------+--------------------+---------+\n",
            "|                id|                text|sarcastic|\n",
            "+------------------+--------------------+---------+\n",
            "|125695266887184384|Mario Monti: c'è ...|        1|\n",
            "|125838624670490624|Ma a quanta gente...|        1|\n",
            "|127137847491821568|#la7 ma perche' M...|        1|\n",
            "|129143970163990528|Mario Monti è con...|        1|\n",
            "|131426878245437440|Ma quanto ce vuol...|        1|\n",
            "|133822129773879297|Mario Monti a cap...|        1|\n",
            "|133831591234502656| Mario Monti for ...|        1|\n",
            "|133849038243110912|[News] Mario Mont...|        1|\n",
            "|133954931982991360|cmq Mario Monti è...|        1|\n",
            "|134335814531416064| Napolitano: \"Bis...|        1|\n",
            "+------------------+--------------------+---------+\n",
            "only showing top 10 rows\n",
            "\n"
          ]
        }
      ]
    },
    {
      "cell_type": "code",
      "source": [
        "# now we want to join the two dataset. However we must use the same label for both.\n",
        "# Therefore if the tweet is sarcastic, the label will be 1, 0 otherwise.\n",
        "\n",
        "\n",
        "df_annotated = df_annotated.withColumn(\"sarcastic\", \n",
        "                                         when(df_annotated.sarcastic == \"Yes\", 1)\n",
        "                                         .when(df_annotated.sarcastic == \"No\", 0)                                    \n",
        "                                         .otherwise(df_annotated.sarcastic))"
      ],
      "metadata": {
        "id": "9J2Ekp4317OU"
      },
      "execution_count": 58,
      "outputs": []
    },
    {
      "cell_type": "code",
      "source": [
        "df_annotated.show()"
      ],
      "metadata": {
        "id": "MEk2bAHu2XwA",
        "colab": {
          "base_uri": "https://localhost:8080/"
        },
        "outputId": "2d7a46dd-e266-4965-ac8c-1806fe956492"
      },
      "execution_count": 59,
      "outputs": [
        {
          "output_type": "stream",
          "name": "stdout",
          "text": [
            "+-------------------+--------------------+---------+\n",
            "|                 id|                text|sarcastic|\n",
            "+-------------------+--------------------+---------+\n",
            "|1524033834416754689|#'Tu sei un gioca...|        0|\n",
            "|1524034020417294337|#10maggio In occa...|        0|\n",
            "|1524034242963034112|#9maggio Zelensky...|        0|\n",
            "|1524034526908981250|#A SCUOLA DI GIUS...|        1|\n",
            "|1524034207923814401|#A1 - Ginevra -&g...|        0|\n",
            "|1524034530579030018|#A1 - Zurigo -&gt...|        0|\n",
            "|1524034404850581504|#APRILIA: TENTATO...|        0|\n",
            "|1524034635012968448|#Agricoltura, Ocm...|        0|\n",
            "|1524034097424777216|#Algeria: colloqu...|        0|\n",
            "|1524034794635603972|#Alpini pensate c...|        1|\n",
            "|1524034897383505921|#Amici21\n",
            "Il mondo...|        0|\n",
            "|1524034689366953984|#Amici21\n",
            "Riassunt...|        0|\n",
            "|1524034761940946952|#Amici21 che tene...|        0|\n",
            "|1523988570867961856|#Armi #Ucraina Fr...|        1|\n",
            "|1524001659290017794|#Armi, #gas e nuo...|        1|\n",
            "|1524033774102720512|#Aron è una creat...|        0|\n",
            "|1524033888124874752|#Bergamo L'Ammini...|        0|\n",
            "|1524033892935733248|#Bergamo Tutto su...|        0|\n",
            "|1524034781201190915|#Bergamo potrebbe...|        0|\n",
            "|1523993624861626368|#Biden e #Draghi ...|        1|\n",
            "+-------------------+--------------------+---------+\n",
            "only showing top 20 rows\n",
            "\n"
          ]
        }
      ]
    },
    {
      "cell_type": "code",
      "source": [
        "# concatenate DataFrames\n",
        "df_complete = df_annotated.union(df_sentipolic)"
      ],
      "metadata": {
        "id": "m5YwEtQkj-ry"
      },
      "execution_count": 60,
      "outputs": []
    },
    {
      "cell_type": "code",
      "source": [
        "df_complete.cache()\n",
        "print(f'Now we have a total of {df_complete.count()} tweets')"
      ],
      "metadata": {
        "id": "DGDmh6_d3Csy",
        "colab": {
          "base_uri": "https://localhost:8080/"
        },
        "outputId": "fd7edf49-6196-4afc-f5b2-57a8906c175a"
      },
      "execution_count": 61,
      "outputs": [
        {
          "output_type": "stream",
          "name": "stdout",
          "text": [
            "Now we have a total of 6583 tweets\n"
          ]
        }
      ]
    },
    {
      "cell_type": "code",
      "source": [
        "df_complete.show(5)"
      ],
      "metadata": {
        "id": "vRXyeqRH2nUU",
        "colab": {
          "base_uri": "https://localhost:8080/"
        },
        "outputId": "0428a04f-ff01-4bb9-aca0-05603f1902d1"
      },
      "execution_count": 62,
      "outputs": [
        {
          "output_type": "stream",
          "name": "stdout",
          "text": [
            "+-------------------+--------------------+---------+\n",
            "|                 id|                text|sarcastic|\n",
            "+-------------------+--------------------+---------+\n",
            "|1524033834416754689|#'Tu sei un gioca...|        0|\n",
            "|1524034020417294337|#10maggio In occa...|        0|\n",
            "|1524034242963034112|#9maggio Zelensky...|        0|\n",
            "|1524034526908981250|#A SCUOLA DI GIUS...|        1|\n",
            "|1524034207923814401|#A1 - Ginevra -&g...|        0|\n",
            "+-------------------+--------------------+---------+\n",
            "only showing top 5 rows\n",
            "\n"
          ]
        }
      ]
    },
    {
      "cell_type": "code",
      "source": [
        "count_label(df_complete, numeric=True).show()"
      ],
      "metadata": {
        "id": "e89JUhcA3IkL",
        "colab": {
          "base_uri": "https://localhost:8080/"
        },
        "outputId": "a6625334-fc46-427c-c059-d49a175480cb"
      },
      "execution_count": 63,
      "outputs": [
        {
          "output_type": "stream",
          "name": "stdout",
          "text": [
            "+---------+-------------------------------------------+-------------------------------------------+\n",
            "|sarcastic|count(CASE WHEN (sarcastic = 1) THEN 1 END)|count(CASE WHEN (sarcastic = 0) THEN 1 END)|\n",
            "+---------+-------------------------------------------+-------------------------------------------+\n",
            "|        0|                                          0|                                       4629|\n",
            "|      NaN|                                          0|                                          0|\n",
            "|        1|                                       1933|                                          0|\n",
            "+---------+-------------------------------------------+-------------------------------------------+\n",
            "\n"
          ]
        }
      ]
    },
    {
      "cell_type": "code",
      "source": [
        "del df_annotated\n",
        "del df_sentipolic"
      ],
      "metadata": {
        "id": "Tay9-2mmha8X"
      },
      "execution_count": 64,
      "outputs": []
    },
    {
      "cell_type": "code",
      "source": [
        "import gc\n",
        "gc.collect()"
      ],
      "metadata": {
        "colab": {
          "base_uri": "https://localhost:8080/"
        },
        "id": "E35Bg2RFqSG8",
        "outputId": "86de602b-1674-4c27-d345-38b384095d00"
      },
      "execution_count": 65,
      "outputs": [
        {
          "output_type": "execute_result",
          "data": {
            "text/plain": [
              "2253"
            ]
          },
          "metadata": {},
          "execution_count": 65
        }
      ]
    },
    {
      "cell_type": "markdown",
      "source": [
        "The dataset is still unbalanced, but better than before."
      ],
      "metadata": {
        "id": "Ap6Pm9b13WEL"
      }
    },
    {
      "cell_type": "markdown",
      "source": [
        "# 5. **Data Processing**"
      ],
      "metadata": {
        "id": "pDQJOzR4-Ncl"
      }
    },
    {
      "cell_type": "code",
      "source": [
        "import enchant\n",
        "from enchant.checker import SpellChecker"
      ],
      "metadata": {
        "id": "v95f3Q1LiqWP"
      },
      "execution_count": 66,
      "outputs": []
    },
    {
      "cell_type": "code",
      "source": [
        "from ekphrasis.classes.preprocessor import TextPreProcessor\n",
        "from ekphrasis.classes.tokenizer import SocialTokenizer\n",
        "from ekphrasis.dicts.emoticons import emoticons"
      ],
      "metadata": {
        "id": "AFs_VT0XjKF9"
      },
      "execution_count": 67,
      "outputs": []
    },
    {
      "cell_type": "markdown",
      "source": [
        "First we want to clean tweet: remove hashtag, links, emoji, whitespaces, mentions. When annotating the tweets, I've also noticed that many of them contained spelling errors. It is recommended to adjust those tweets before the model training."
      ],
      "metadata": {
        "id": "lGGkaFhE360S"
      }
    },
    {
      "cell_type": "code",
      "source": [
        "broker = enchant.Broker()\n",
        "broker.describe()\n",
        "broker.list_languages()"
      ],
      "metadata": {
        "colab": {
          "base_uri": "https://localhost:8080/"
        },
        "id": "fMZk9zDMiwQq",
        "outputId": "fbcb6ab7-5420-456a-bd9c-468298f4c141"
      },
      "execution_count": 68,
      "outputs": [
        {
          "output_type": "execute_result",
          "data": {
            "text/plain": [
              "['en_US', 'it_IT', 'it_CH', 'en', 'en_AU', 'en_CA', 'en_GB']"
            ]
          },
          "metadata": {},
          "execution_count": 68
        }
      ]
    },
    {
      "cell_type": "code",
      "source": [
        "@udf(\"string\")\n",
        "def spell_checker(text):\n",
        "  checker = SpellChecker(\"it_IT\", text)\n",
        "  for err in checker:\n",
        "    if len(err.suggest())>0:\n",
        "      sug = err.suggest()[0]\n",
        "      err.replace(sug)\n",
        "  return checker.get_text()"
      ],
      "metadata": {
        "id": "xf6fnqpqixZd"
      },
      "execution_count": 69,
      "outputs": []
    },
    {
      "cell_type": "code",
      "source": [
        "def clean_text(dataframe):\n",
        "  print(\"Clean Text steps:\")\n",
        "\n",
        "  print(\"1. To lowercase\")\n",
        "  df_lowercase = dataframe.withColumn('text', lower(col('text')))\n",
        "\n",
        "  print(\"2. Remove links\")\n",
        "  df_links = df_lowercase.withColumn('text', regexp_replace('text', r'http\\S+', ''))\n",
        "  \n",
        "  print(\"3. Remove unwanted symbols\")\n",
        "  df_symbol = df_links.withColumn('text', regexp_replace('text', '\\n', ''))\n",
        "\n",
        "  print(\"4. Remove digits\")\n",
        "  df_digit = df_symbol.withColumn('text', regexp_replace('text', r'[0-9]{5,}', ''))\n",
        "\n",
        "  print(\"5. Remove whitespaces\")\n",
        "  df_whitespaces = df_digit.withColumn('text', trim(col('text')))\\\n",
        "                            .withColumn('text', regexp_replace(col(\"text\"), \" +\", \" \"))\n",
        "\n",
        "  return df_whitespaces"
      ],
      "metadata": {
        "id": "7qqKq2qYiOMS"
      },
      "execution_count": 70,
      "outputs": []
    },
    {
      "cell_type": "code",
      "source": [
        "# exclude columns with NaN\n",
        "df_nan = df_complete.filter(~col('sarcastic').contains('NaN'))\\\n",
        "                    .filter(~col('text').contains('NaN'))"
      ],
      "metadata": {
        "id": "74wXNywLjv3i"
      },
      "execution_count": 71,
      "outputs": []
    },
    {
      "cell_type": "code",
      "source": [
        "df_clean_text = clean_text(df_nan)"
      ],
      "metadata": {
        "colab": {
          "base_uri": "https://localhost:8080/"
        },
        "id": "AqhO4Z-_kKP7",
        "outputId": "855fa5c4-e336-4677-b9bd-3d01c6d74b2f"
      },
      "execution_count": 72,
      "outputs": [
        {
          "output_type": "stream",
          "name": "stdout",
          "text": [
            "Clean Text steps:\n",
            "1. To lowercase\n",
            "2. Remove links\n",
            "3. Remove unwanted symbols\n",
            "4. Remove digits\n",
            "5. Remove whitespaces\n"
          ]
        }
      ]
    },
    {
      "cell_type": "code",
      "source": [
        "df_clean_text.show(15, truncate=False)"
      ],
      "metadata": {
        "colab": {
          "base_uri": "https://localhost:8080/"
        },
        "id": "TsWyHIXBtN_R",
        "outputId": "5572da07-bbb3-4122-cfcd-8ee73f396d14"
      },
      "execution_count": 73,
      "outputs": [
        {
          "output_type": "stream",
          "name": "stdout",
          "text": [
            "+-------------------+------------------------------------------------------------------------------------------------------------------------------------------------------------------------------------------------------------------------------------------------------------+---------+\n",
            "|id                 |text                                                                                                                                                                                                                                                        |sarcastic|\n",
            "+-------------------+------------------------------------------------------------------------------------------------------------------------------------------------------------------------------------------------------------------------------------------------------------+---------+\n",
            "|1524033834416754689|#'tu sei un giocatore incredibile, abbracciami', l'emozionante discorso di un bambino al compagno -#dibattito #attualità_e_società #la7 #politica                                                                                                           |0        |\n",
            "|1524034020417294337|#10maggio in occasione della ix giornata dell’amicizia tra copti e cattolici, messaggio inviato oggi da #papafrancesco a tawadros ii. leggi 👇                                                                                                              |0        |\n",
            "|1524034242963034112|#9maggio zelensky? nato? crimea? pace? ha detto...no...ha risposto...no......grazie a @valigiablu per il servizio reso alla chiarezza dei fatti...                                                                                                          |0        |\n",
            "|1524034526908981250|#a scuola di giuseppe conte devi venire                                                                                                                                                                                                                     |1        |\n",
            "|1524034207923814401|#a1 - ginevra -&gt; losanna - tra raccordo di ecublens e losanna-crissier problemi di traffico, veicolo in avaria                                                                                                                                           |0        |\n",
            "|1524034530579030018|#a1 - zurigo -&gt; berna - tra raccordo di luterbach e kriegstetten colonna, lavori di costruzione                                                                                                                                                          |0        |\n",
            "|1524034404850581504|#aprilia: tentato furto al tabacchi                                                                                                                                                                                                                         |0        |\n",
            "|1524034635012968448|#agricoltura, ocm #vino. @toniscilla: «bando da 13 milioni per la qualità dei vigneti». - #sicilia                                                                                                                                                          |0        |\n",
            "|1524034097424777216|#algeria: colloqui tra #lavrov, il presidente e il ministro degli esteri algerino                                                                                                                                                                           |0        |\n",
            "|1524034794635603972|#alpini pensate che si puo' essere molesti anche senza essere ubriachi. in molti lo sappiamo, chi dice il contrario mi pare propio di no                                                                                                                    |1        |\n",
            "|1524034897383505921|#amici21il mondo ha bisogno di più persone come albe                                                                                                                                                                                                        |0        |\n",
            "|1524034689366953984|#amici21riassunto:- serena incontra la nonna- la nonna di serena è un po' bimba della cele- michele incontra i genitori- albe incontra finalmente teddy                                                                                                     |0        |\n",
            "|1524034761940946952|#amici21 che tenerezza i genitori di michele si vede che hanno sofferto tanto la lontananza da lui fin da bambino,i sacrifici di una famiglia umile, il rapporto sempre a distanza ma nei loro occhi c'è così tanto orgoglio nel vederlo felice e realizzato|0        |\n",
            "|1523988570867961856|#armi #ucraina fratoianni a @skytg24 : grave che #draghi non sia tornato in parlamento.#stopwar                                                                                                                                                             |1        |\n",
            "|1524001659290017794|#armi, #gas e nuove #sanzioni alla #russia. questi i temi sul tavolo nell’incontro con #biden di oggi di #draghi #10maggio                                                                                                                                  |1        |\n",
            "+-------------------+------------------------------------------------------------------------------------------------------------------------------------------------------------------------------------------------------------------------------------------------------------+---------+\n",
            "only showing top 15 rows\n",
            "\n"
          ]
        }
      ]
    },
    {
      "cell_type": "code",
      "source": [
        "# correct spelling TODO\n",
        "df_spell = df_clean_text#.withColumn('text', spell_checker(col('text')))"
      ],
      "metadata": {
        "id": "z4teocLszWNr"
      },
      "execution_count": 74,
      "outputs": []
    },
    {
      "cell_type": "code",
      "source": [
        "df_spell.cache()\n",
        "df_spell.show(5)"
      ],
      "metadata": {
        "colab": {
          "base_uri": "https://localhost:8080/"
        },
        "id": "5rmfhYjLzdXg",
        "outputId": "7561ab93-52c4-4011-8413-9da6d4bee1af"
      },
      "execution_count": 75,
      "outputs": [
        {
          "output_type": "stream",
          "name": "stdout",
          "text": [
            "+-------------------+--------------------+---------+\n",
            "|                 id|                text|sarcastic|\n",
            "+-------------------+--------------------+---------+\n",
            "|1524033834416754689|#'tu sei un gioca...|        0|\n",
            "|1524034020417294337|#10maggio in occa...|        0|\n",
            "|1524034242963034112|#9maggio zelensky...|        0|\n",
            "|1524034526908981250|#a scuola di gius...|        1|\n",
            "|1524034207923814401|#a1 - ginevra -&g...|        0|\n",
            "+-------------------+--------------------+---------+\n",
            "only showing top 5 rows\n",
            "\n"
          ]
        }
      ]
    },
    {
      "cell_type": "code",
      "source": [
        "text_processor = TextPreProcessor(\n",
        "    normalize=['url', 'email', 'percent', 'money', 'phone', 'user',\n",
        "        'time', 'date', 'number'],\n",
        "    annotate={\"hashtag\", \"allcaps\", \"elongated\", \"repeated\",\n",
        "        'emphasis', 'censored'},\n",
        "    fix_html=True,\n",
        "    segmenter=\"twitter\", \n",
        "    corrector=\"twitter\", \n",
        "    unpack_hashtags=True,\n",
        "    unpack_contractions=True,\n",
        "    spell_correct_elong=False,\n",
        "    tokenizer=SocialTokenizer(lowercase=True).tokenize,\n",
        "    dicts=[emoticons]\n",
        ")"
      ],
      "metadata": {
        "colab": {
          "base_uri": "https://localhost:8080/"
        },
        "id": "FYDKyqJYjTEU",
        "outputId": "06176af7-cad4-4359-878b-fd9bf5a68bf9"
      },
      "execution_count": 76,
      "outputs": [
        {
          "output_type": "stream",
          "name": "stdout",
          "text": [
            "Word statistics files not found!\n",
            "Downloading... "
          ]
        },
        {
          "output_type": "stream",
          "name": "stderr",
          "text": [
            "/usr/local/lib/python3.7/dist-packages/ekphrasis/classes/tokenizer.py:225: FutureWarning: Possible nested set at position 2190\n",
            "  self.tok = re.compile(r\"({})\".format(\"|\".join(pipeline)))\n"
          ]
        },
        {
          "output_type": "stream",
          "name": "stdout",
          "text": [
            "done!\n",
            "Unpacking... done!\n",
            "Reading twitter - 1grams ...\n",
            "generating cache file for faster loading...\n",
            "reading ngrams /root/.ekphrasis/stats/twitter/counts_1grams.txt\n",
            "Reading twitter - 2grams ...\n",
            "generating cache file for faster loading...\n",
            "reading ngrams /root/.ekphrasis/stats/twitter/counts_2grams.txt\n",
            "Reading twitter - 1grams ...\n"
          ]
        },
        {
          "output_type": "stream",
          "name": "stderr",
          "text": [
            "/usr/local/lib/python3.7/dist-packages/ekphrasis/classes/exmanager.py:14: FutureWarning: Possible nested set at position 42\n",
            "  regexes = {k.lower(): re.compile(self.expressions[k]) for k, v in\n"
          ]
        }
      ]
    },
    {
      "cell_type": "code",
      "source": [
        "@udf(\"string\")\n",
        "def tweet_processor(s):\n",
        "  return \" \".join(text_processor.pre_process_doc(s))"
      ],
      "metadata": {
        "id": "Ya68_fsyjV6r"
      },
      "execution_count": 77,
      "outputs": []
    },
    {
      "cell_type": "code",
      "source": [
        "# using to annotate text\n",
        "df_process = df_spell.withColumn('text', tweet_processor(col('text')))"
      ],
      "metadata": {
        "id": "TYA176YKzo30"
      },
      "execution_count": 78,
      "outputs": []
    },
    {
      "cell_type": "code",
      "source": [
        "df_process.cache()\n",
        "df_process.show(5)"
      ],
      "metadata": {
        "colab": {
          "base_uri": "https://localhost:8080/"
        },
        "id": "Z-YJ4PCCz2SZ",
        "outputId": "3effc443-2bf3-4d26-990a-348b3fb80177"
      },
      "execution_count": 79,
      "outputs": [
        {
          "output_type": "stream",
          "name": "stdout",
          "text": [
            "+-------------------+--------------------+---------+\n",
            "|                 id|                text|sarcastic|\n",
            "+-------------------+--------------------+---------+\n",
            "|1524033834416754689|# ' tu sei un gio...|        0|\n",
            "|1524034020417294337|<hashtag> 1 0 mag...|        0|\n",
            "|1524034242963034112|<hashtag> 9 maggi...|        0|\n",
            "|1524034526908981250|<hashtag> a </has...|        1|\n",
            "|1524034207923814401|<hashtag> a1 </ha...|        0|\n",
            "+-------------------+--------------------+---------+\n",
            "only showing top 5 rows\n",
            "\n"
          ]
        }
      ]
    },
    {
      "cell_type": "markdown",
      "source": [
        "# 6. **Feature Engineering**"
      ],
      "metadata": {
        "id": "p-cnH0NX7Xup"
      }
    },
    {
      "cell_type": "code",
      "source": [
        "# libraries for feature engineering\n",
        "from sparknlp.base import *\n",
        "from sparknlp.annotator import *\n",
        "from sparknlp.common import *\n",
        "from sparknlp.annotator import Tokenizer\n",
        "from pyspark.ml.functions import vector_to_array\n",
        "from stop_words import get_stop_words"
      ],
      "metadata": {
        "id": "WNmH5S8BD-m_"
      },
      "execution_count": 80,
      "outputs": []
    },
    {
      "cell_type": "code",
      "source": [
        "print(\"Starting feature engineering, constructing pipeline..\")"
      ],
      "metadata": {
        "id": "OjDEMuzht4po",
        "colab": {
          "base_uri": "https://localhost:8080/"
        },
        "outputId": "18728f7c-3130-4154-ffcc-6f7036fb45b1"
      },
      "execution_count": 81,
      "outputs": [
        {
          "output_type": "stream",
          "name": "stdout",
          "text": [
            "Starting feature engineering, constructing pipeline..\n"
          ]
        }
      ]
    },
    {
      "cell_type": "code",
      "source": [
        "stop_words = get_stop_words('it')"
      ],
      "metadata": {
        "id": "JgyZwFsm49f9"
      },
      "execution_count": 82,
      "outputs": []
    },
    {
      "cell_type": "code",
      "source": [
        "document_assembler = DocumentAssembler()\\\n",
        "                        .setInputCol('text')\\\n",
        "                        .setOutputCol('document')\\\n",
        "                        .setCleanupMode(\"shrink\")\n",
        "\n",
        "tokenizer = sparknlp.annotator.Tokenizer()\\\n",
        "                    .setInputCols([\"document\"])\\\n",
        "                    .setOutputCol(\"token\")\n",
        "\n",
        "lemmatizer = Lemmatizer()\\\n",
        "     .setInputCols(['token'])\\\n",
        "     .setOutputCol('lemma')\\\n",
        "     .setDictionary(\"lemmatization-it.txt\", \"->\", \"\\t\")\n",
        "\n",
        "stopwords_cleaner = StopWordsCleaner() \\\n",
        "                .setInputCols([\"lemma\"]) \\\n",
        "                .setOutputCol(\"clean_lemma\") \\\n",
        "                .setCaseSensitive(False)\\\n",
        "                .setStopWords(stop_words)\n",
        "\n",
        "finisher = Finisher()\\\n",
        "                  .setInputCols(\"clean_lemma\")\\\n",
        "                  .setOutputCols(\"pipeline_result\")\\\n",
        "                  .setCleanAnnotations(False)\\\n",
        "                  .setOutputAsArray(True)"
      ],
      "metadata": {
        "id": "WGJ6c4YZjhi4"
      },
      "execution_count": 83,
      "outputs": []
    },
    {
      "cell_type": "code",
      "source": [
        "nlpPipeline = Pipeline(stages=[document_assembler,\n",
        "                               tokenizer,\n",
        "                               lemmatizer,\n",
        "                               stopwords_cleaner,\n",
        "                               finisher\n",
        "                               ])"
      ],
      "metadata": {
        "id": "nc557jkAZc0W"
      },
      "execution_count": 84,
      "outputs": []
    },
    {
      "cell_type": "code",
      "source": [
        "%%time\n",
        "df_fitted = nlpPipeline.fit(df_process).transform(df_process)\\\n",
        "                      .select(['text', 'sarcastic', 'document', 'clean_lemma'])"
      ],
      "metadata": {
        "id": "yFO3xWIiE42O",
        "colab": {
          "base_uri": "https://localhost:8080/"
        },
        "outputId": "0aa095c8-1e68-485e-952e-3b283e608279"
      },
      "execution_count": 85,
      "outputs": [
        {
          "output_type": "stream",
          "name": "stdout",
          "text": [
            "CPU times: user 130 ms, sys: 18.2 ms, total: 148 ms\n",
            "Wall time: 2.21 s\n"
          ]
        }
      ]
    },
    {
      "cell_type": "code",
      "source": [
        "df_fitted.cache()\n",
        "df_fitted.show()"
      ],
      "metadata": {
        "id": "xbO31EzPE-mx",
        "colab": {
          "base_uri": "https://localhost:8080/"
        },
        "outputId": "da1a9a6e-28fd-4de1-a5f0-9cc8f9f3f3ab"
      },
      "execution_count": 86,
      "outputs": [
        {
          "output_type": "stream",
          "name": "stdout",
          "text": [
            "+--------------------+---------+--------------------+--------------------+\n",
            "|                text|sarcastic|            document|         clean_lemma|\n",
            "+--------------------+---------+--------------------+--------------------+\n",
            "|# ' tu sei un gio...|        0|[{document, 0, 23...|[{token, 0, 0, #,...|\n",
            "|<hashtag> 1 0 mag...|        0|[{document, 0, 18...|[{token, 0, 8, <h...|\n",
            "|<hashtag> 9 maggi...|        0|[{document, 0, 21...|[{token, 0, 8, <h...|\n",
            "|<hashtag> a </has...|        1|[{document, 0, 58...|[{token, 0, 8, <h...|\n",
            "|<hashtag> a1 </ha...|        0|[{document, 0, 13...|[{token, 0, 8, <h...|\n",
            "|<hashtag> a1 </ha...|        0|[{document, 0, 11...|[{token, 0, 8, <h...|\n",
            "|<hashtag> aprilia...|        0|[{document, 0, 55...|[{token, 0, 8, <h...|\n",
            "|<hashtag> agri co...|        0|[{document, 0, 16...|[{token, 0, 8, <h...|\n",
            "|<hashtag> algeria...|        0|[{document, 0, 12...|[{token, 0, 8, <h...|\n",
            "|<hashtag> alpin i...|        1|[{document, 0, 15...|[{token, 0, 8, <h...|\n",
            "|<hashtag> amici21...|        0|[{document, 0, 71...|[{token, 0, 8, <h...|\n",
            "|<hashtag> amici21...|        0|[{document, 0, 17...|[{token, 0, 8, <h...|\n",
            "|<hashtag> amici21...|        0|[{document, 0, 27...|[{token, 0, 8, <h...|\n",
            "|<hashtag> arm i <...|        1|[{document, 0, 17...|[{token, 0, 8, <h...|\n",
            "|<hashtag> arm i <...|        1|[{document, 0, 27...|[{token, 0, 8, <h...|\n",
            "|<hashtag> aron </...|        0|[{document, 0, 26...|[{token, 0, 8, <h...|\n",
            "|<hashtag> bergamo...|        0|[{document, 0, 12...|[{token, 0, 8, <h...|\n",
            "|<hashtag> bergamo...|        0|[{document, 0, 12...|[{token, 0, 8, <h...|\n",
            "|<hashtag> bergamo...|        0|[{document, 0, 28...|[{token, 0, 8, <h...|\n",
            "|<hashtag> biden <...|        1|[{document, 0, 11...|[{token, 0, 8, <h...|\n",
            "+--------------------+---------+--------------------+--------------------+\n",
            "only showing top 20 rows\n",
            "\n"
          ]
        }
      ]
    },
    {
      "cell_type": "markdown",
      "source": [
        "# Training the model"
      ],
      "metadata": {
        "id": "z9_kRE1T7MUj"
      }
    },
    {
      "cell_type": "code",
      "source": [
        "import torch\n",
        "import torch.nn as nn\n",
        "import torch.nn.functional as F\n",
        "import torch.optim as optim\n",
        "\n",
        "\n",
        "from sparktorch import serialize_torch_obj, SparkTorch\n",
        "\n",
        "\n",
        "from pyspark.ml.feature import VectorAssembler\n",
        "from pyspark.sql.functions import udf\n",
        "from pyspark.ml.feature import Word2Vec\n",
        "from pyspark.ml.pipeline import Pipeline\n",
        "\n",
        "from sklearn.metrics import classification_report"
      ],
      "metadata": {
        "id": "n3enicPJ7ZLl"
      },
      "execution_count": 18,
      "outputs": []
    },
    {
      "cell_type": "markdown",
      "source": [
        "## Word embedding"
      ],
      "metadata": {
        "id": "KUJPIdPx7bc3"
      }
    },
    {
      "cell_type": "code",
      "source": [
        "embeddings = Word2VecApproach() \\\n",
        "    .setInputCols([\"clean_lemma\"]) \\\n",
        "    .setOutputCol(\"embeddings\")\\\n",
        "    .setVectorSize(100)\n",
        "\n",
        "embeddingsSentence = SentenceEmbeddings() \\\n",
        "    .setInputCols([\"document\", \"embeddings\"]) \\\n",
        "    .setOutputCol(\"sentence_embeddings\") \\\n",
        "    .setPoolingStrategy(\"AVERAGE\")\n",
        "\n",
        "embeddingsFinisher = EmbeddingsFinisher() \\\n",
        "   .setInputCols(\"sentence_embeddings\") \\\n",
        "   .setOutputCols(\"finished_sentence_embeddings\") \\\n",
        "   .setOutputAsVector(True) \\\n",
        "   .setCleanAnnotations(False)"
      ],
      "metadata": {
        "id": "oZe8_74sCM0J"
      },
      "execution_count": 88,
      "outputs": []
    },
    {
      "cell_type": "code",
      "source": [
        "pipeline = Pipeline(stages=[embeddings, embeddingsSentence, embeddingsFinisher])"
      ],
      "metadata": {
        "id": "OU3-thn_7OBb"
      },
      "execution_count": 89,
      "outputs": []
    },
    {
      "cell_type": "code",
      "source": [
        "df_embeddings = pipeline.fit(df_fitted).transform(df_fitted)"
      ],
      "metadata": {
        "id": "5YAyhcC_7qmn"
      },
      "execution_count": 90,
      "outputs": []
    },
    {
      "cell_type": "code",
      "source": [
        "df_embeddings.cache()\n",
        "df_embeddings.select('finished_sentence_embeddings').show(15, truncate=False)"
      ],
      "metadata": {
        "colab": {
          "base_uri": "https://localhost:8080/"
        },
        "id": "rgvZO5UMMrzF",
        "outputId": "b99c907a-1c82-4084-c2b5-b13b0b3f006d"
      },
      "execution_count": 91,
      "outputs": [
        {
          "output_type": "stream",
          "name": "stdout",
          "text": [
            "+-------------------------------------------------------------------------------------------------------------------------------------------------------------------------------------------------------------------------------------------------------------------------------------------------------------------------------------------------------------------------------------------------------------------------------------------------------------------------------------------------------------------------------------------------------------------------------------------------------------------------------------------------------------------------------------------------------------------------------------------------------------------------------------------------------------------------------------------------------------------------------------------------------------------------------------------------------------------------------------------------------------------------------------------------------------------------------------------------------------------------------------------------------------------------------------------------------------------------------------------------------------------------------------------------------------------------------------------------------------------------------------------------------------------------------------------------------------------------------------------------------------------------------------------------------------------------------------------------------------------------------------------------------------------------------------------------------------------------------------------------------------------------------------------------------------------------------------------------------------------------------------------------------------------------------------------------------------------------------------------------------------------------------------------------------------------------------------------------------------------------------------------------------------------------------------------------------------------+\n",
            "|finished_sentence_embeddings                                                                                                                                                                                                                                                                                                                                                                                                                                                                                                                                                                                                                                                                                                                                                                                                                                                                                                                                                                                                                                                                                                                                                                                                                                                                                                                                                                                                                                                                                                                                                                                                                                                                                                                                                                                                                                                                                                                                                                                                                                                                                                                                                                                       |\n",
            "+-------------------------------------------------------------------------------------------------------------------------------------------------------------------------------------------------------------------------------------------------------------------------------------------------------------------------------------------------------------------------------------------------------------------------------------------------------------------------------------------------------------------------------------------------------------------------------------------------------------------------------------------------------------------------------------------------------------------------------------------------------------------------------------------------------------------------------------------------------------------------------------------------------------------------------------------------------------------------------------------------------------------------------------------------------------------------------------------------------------------------------------------------------------------------------------------------------------------------------------------------------------------------------------------------------------------------------------------------------------------------------------------------------------------------------------------------------------------------------------------------------------------------------------------------------------------------------------------------------------------------------------------------------------------------------------------------------------------------------------------------------------------------------------------------------------------------------------------------------------------------------------------------------------------------------------------------------------------------------------------------------------------------------------------------------------------------------------------------------------------------------------------------------------------------------------------------------------------+\n",
            "|[[0.20265929400920868,-0.12436224520206451,-0.09439777582883835,-0.007906755432486534,0.020799711346626282,-0.001965058036148548,0.11077921837568283,0.0660829171538353,0.14213472604751587,0.11430919915437698,0.16484123468399048,0.05609801039099693,0.08562888950109482,-0.07416141778230667,-0.05348929017782211,0.05053845793008804,-0.056549910455942154,-0.02153749391436577,-0.07113192975521088,-0.014229356311261654,-0.08759773522615433,-0.03823043033480644,0.006509888917207718,0.011880655772984028,0.1675616353750229,0.05206410214304924,-0.08809461444616318,-0.019396720454096794,0.015195226296782494,0.17887938022613525,-0.054108455777168274,0.043646179139614105,-0.01811382733285427,0.09665645658969879,-0.04989326372742653,0.03427395597100258,-0.10955145210027695,-0.04139905422925949,-0.09639840573072433,-0.015638921409845352,0.017236236482858658,-0.16996555030345917,-0.10013230890035629,0.06588663905858994,-0.0827358216047287,-8.581948932260275E-4,0.11300491541624069,0.032310597598552704,-0.026616204530000687,0.012169537134468555,-0.08534354716539383,0.006694304756820202,-0.1520814299583435,0.041847776621580124,0.12417218834161758,0.050007183104753494,-0.07235512137413025,0.044297777116298676,0.08919835090637207,0.07752964645624161,-0.006260446272790432,-0.0022847894579172134,0.11334751546382904,-0.08961770683526993,0.08965897560119629,-0.025394024327397346,-0.05276734009385109,-0.13589876890182495,0.014436017721891403,0.1292518526315689,0.005746055394411087,0.023948490619659424,-0.031013110652565956,0.015261944383382797,0.08587926626205444,-0.030874980613589287,0.028928320854902267,0.03887034207582474,0.12223273515701294,-0.02314990758895874,0.05294224992394447,0.006351027637720108,0.04887530207633972,0.11826930940151215,0.04156896099448204,-0.0908362939953804,0.012652051635086536,0.034607041627168655,-0.04610668867826462,0.0740756019949913,0.06477097421884537,-0.12959842383861542,-0.052571944892406464,-0.005952474661171436,-0.0326705239713192,0.006469938904047012,0.020376602187752724,-0.09191332757472992,-0.05895565450191498,0.05124755576252937]]                                                   |\n",
            "|[[0.09781643748283386,-0.07783772796392441,-0.029090993106365204,-0.02190619707107544,2.1094191470183432E-4,-0.013175043277442455,0.04797160252928734,0.04069307819008827,0.07126663625240326,0.06087420880794525,0.05901044234633446,0.03296896442770958,0.04675837978720665,-0.052069760859012604,-0.042524147778749466,0.018410557880997658,-0.037982162088155746,-0.012104448862373829,0.004682488273829222,-0.029962485656142235,-0.03510928526520729,-0.011622645892202854,-0.0013495194725692272,1.745346889947541E-5,0.0980972871184349,0.02063385210931301,-0.041561760008335114,-0.008425730280578136,0.015375923365354538,0.10075248777866364,-0.04928108677268028,0.017222614958882332,-0.018534662202000618,0.05307989940047264,-0.030978988856077194,0.047077737748622894,-0.05562784522771835,-0.02471841871738434,-0.03296886384487152,-0.026244061067700386,0.01352669857442379,-0.06382515281438828,-0.06595402956008911,0.04510802775621414,-0.0548526756465435,-0.011343446560204029,0.04809129238128662,0.03686719015240669,-0.004090048838406801,0.007541141007095575,-0.05147610232234001,0.03288907930254936,-0.07966405153274536,0.017701979726552963,0.053126607090234756,0.022511757910251617,-0.04434278979897499,0.02739311009645462,0.015743624418973923,0.0422830693423748,0.006802252493798733,0.0014046533033251762,0.06935713440179825,-0.05703142657876015,0.05228281021118164,-0.015513734892010689,-0.04099446162581444,-0.06222449615597725,0.03674553707242012,0.07355790585279465,-0.004041288048028946,-0.014974748715758324,-0.0014897036598995328,-0.0019032354466617107,0.03743875399231911,0.009822067804634571,0.021761173382401466,0.02685445547103882,0.04141673445701599,-0.017580848187208176,0.03498139604926109,-0.015989096835255623,0.022881662473082542,0.06956307590007782,0.013619213365018368,-0.061689507216215134,0.030027661472558975,0.010587790980935097,-0.015302220359444618,0.050091080367565155,0.028863148763775826,-0.06806302070617676,0.002300520893186331,0.005330677144229412,-0.006434876937419176,-0.011151143349707127,0.01462402381002903,-0.06355488300323486,-0.025273526087403297,0.043247926980257034]]                           |\n",
            "|[[0.10721888393163681,-0.02263646200299263,-0.05557294934988022,-0.013340061530470848,-0.059263117611408234,-0.05461234226822853,-0.018679849803447723,0.09716734290122986,0.10713164508342743,-0.009898052550852299,0.0642940104007721,0.020961185917258263,-0.0318119190633297,-0.07041765004396439,0.02336517535150051,-0.02071112021803856,-0.02157995104789734,-0.11766711622476578,0.07207535207271576,0.0427304282784462,0.025329209864139557,-0.014432028867304325,0.06893420219421387,0.007319186814129353,0.08543591946363449,-0.008996402844786644,-0.011659692041575909,-0.03165685385465622,0.02795904502272606,0.09907495230436325,0.038265347480773926,-0.022740652784705162,0.02726147323846817,0.09877772629261017,-0.02578710950911045,-0.019356364384293556,-0.09364334493875504,0.0108578996732831,-0.048590414226055145,-0.0018541011959314346,0.07218590378761292,-0.023063236847519875,-0.004943242762237787,0.05393608286976814,-0.06628437340259552,-0.02600640244781971,0.025640495121479034,-0.05749755725264549,-0.03589705750346184,0.02230030670762062,-0.013646671548485756,-0.014760871417820454,0.01264165062457323,0.017746422439813614,0.053820859640836716,0.014783693477511406,-0.015575881116092205,0.013525901362299919,-0.022570516914129257,-0.010880915448069572,-0.016597669571638107,0.00908095482736826,0.057297054678201675,-0.028381211683154106,0.04969073086977005,-0.05608031898736954,-0.009038456715643406,-0.004195961635559797,0.1065811961889267,-0.0033536353148519993,0.054903287440538406,0.012929284945130348,-0.01667901873588562,0.0012904427712783217,-0.013549849390983582,-0.04053441435098648,-0.034253671765327454,-0.03420678898692131,0.0323638990521431,0.007963639684021473,0.0711057186126709,0.02168145589530468,0.02922125533223152,0.044331684708595276,-0.0035952855832874775,-0.029550643637776375,0.05915656313300133,6.413689698092639E-4,0.03829330578446388,-0.005695359781384468,-0.05133306607604027,-0.033937256783246994,-0.0625990480184555,0.0531928613781929,-0.0035783543717116117,-0.03714924305677414,-0.03695022687315941,-0.04302913323044777,-0.01965872198343277,0.04649322107434273]]                               |\n",
            "|[[0.11156986653804779,-0.11184696108102798,-0.06634283810853958,-0.0552043616771698,0.033552296459674835,-0.028303738683462143,0.05395837500691414,0.03383339196443558,0.09282119572162628,0.0885627269744873,0.05151462182402611,0.05417894944548607,0.013603417202830315,-0.051696449518203735,-0.061900101602077484,0.0479966439306736,-0.043615370988845825,0.012461468577384949,0.02700165845453739,-0.03933558613061905,-0.06809203326702118,-0.02858397178351879,-0.016107212752103806,0.00947334710508585,0.1766689568758011,0.02468203566968441,-0.061916012316942215,0.002924983622506261,-0.022331373766064644,0.15909506380558014,-0.10975690186023712,-0.005692136939615011,-0.027216404676437378,0.014204752631485462,-0.04887961968779564,0.07006257027387619,-0.08304254710674286,-0.05193737521767616,-0.056515224277973175,-0.03499957174062729,-0.05593951791524887,-0.08871401101350784,-0.08394277840852737,0.04881234094500542,-0.08071622997522354,-0.011574620380997658,0.04129121080040932,0.03396553173661232,0.014030223712325096,0.02409384772181511,-0.052442584186792374,0.07310889661312103,-0.12525568902492523,0.05387617275118828,0.019192686304450035,0.03659709915518761,-0.030293041840195656,0.01728985272347927,0.03475320711731911,0.06506852805614471,-0.04036768153309822,-0.003139814594760537,0.08131172508001328,-0.0628083273768425,0.031869202852249146,-0.012060518376529217,-0.03229862079024315,-0.042078398168087006,0.018356313928961754,0.07388985902070999,-0.007684079464524984,0.026861105114221573,0.01857035793364048,0.014433941803872585,0.0292960274964571,-0.003858149517327547,0.018099470064044,-0.033862944692373276,0.057588882744312286,-0.01896204985678196,0.04992867633700371,-0.039795465767383575,0.0322701521217823,0.08826809376478195,0.019301192834973335,-0.04331012815237045,0.0577094666659832,-0.034429218620061874,0.015970101580023766,0.0899653434753418,0.064454086124897,-0.05412878468632698,0.030508210882544518,0.04183593764901161,0.012137372978031635,-0.06927531957626343,-0.006450483109802008,-0.07612999528646469,-0.04756812006235123,0.03961903974413872]]                                                        |\n",
            "|[[0.05857882276177406,-0.03922175243496895,0.0034134211018681526,-0.018016651272773743,0.016664456576108932,0.004187665414065123,0.06619302928447723,0.006061200983822346,0.02208051085472107,0.038855284452438354,0.07909756153821945,0.005705760791897774,0.08751890808343887,-0.03946514055132866,-0.01824202574789524,-0.012229446321725845,-0.029323572292923927,-0.010536995716392994,-0.016697444021701813,-0.01894303783774376,-0.01342783123254776,-0.027630094438791275,-0.019349314272403717,-0.040932293981313705,0.052933819591999054,0.008960627019405365,-0.016113396733999252,-0.03344377502799034,0.002915036166086793,0.01925511471927166,0.025754453614354134,0.06585504859685898,0.015343109145760536,0.0842476412653923,-0.014381843619048595,0.04351693391799927,-0.03169683739542961,-0.012061143293976784,-0.008804505690932274,-0.0462069995701313,0.06564339995384216,-0.05804182216525078,-0.03500770032405853,0.0023921113461256027,-0.007837769575417042,-0.01245306245982647,0.06033356487751007,0.027977610006928444,-0.015249459072947502,-0.029532987624406815,-0.07461292296648026,0.013027478009462357,-0.05688414350152016,-0.0035320904571563005,0.050414398312568665,0.015546557493507862,-0.03704516962170601,0.01843583770096302,0.02327786386013031,0.06236480548977852,0.024849476292729378,0.016231611371040344,0.0519615039229393,-0.045364171266555786,0.0438103973865509,-0.01690218225121498,-0.051165055483579636,-0.08032939583063126,0.007560656405985355,0.06965157389640808,0.008806251920759678,-0.037474919110536575,-0.021266793832182884,0.014121470972895622,0.06382085382938385,0.035948965698480606,0.027610477060079575,0.07735955715179443,0.012076370418071747,0.011680168099701405,0.0034705125726759434,0.02014881744980812,0.03688793256878853,0.06549176573753357,0.02961258590221405,-0.03804042935371399,-0.0078447125852108,0.014181891456246376,-0.010289634577929974,0.0055832150392234325,-0.003190519055351615,-0.1037764698266983,-0.04429672285914421,-0.03776666522026062,-0.009315814822912216,0.015044517815113068,0.045915842056274414,-0.06569227576255798,-0.0050495583564043045,0.026827197521924973]]                           |\n",
            "|[[0.06936492770910263,-0.0492851622402668,-0.004058890510350466,-0.021822083741426468,0.01617373526096344,8.854675106704235E-4,0.06973881274461746,0.011477088555693626,0.03071538731455803,0.04507613927125931,0.08267153054475784,0.01122248824685812,0.08523119240999222,-0.04374678060412407,-0.023821460083127022,-0.007984540425240993,-0.03415892273187637,-0.009844356216490269,-0.015017709694802761,-0.023805415257811546,-0.02210123836994171,-0.026805194094777107,-0.0187233779579401,-0.03902992233633995,0.06555911898612976,0.012331252917647362,-0.020028239116072655,-0.03271402046084404,0.0020518957171589136,0.03378629684448242,0.01283806748688221,0.06029599905014038,0.009903345257043839,0.08360288292169571,-0.017867272719740868,0.046433184295892715,-0.03824719414114952,-0.016647573560476303,-0.014820468612015247,-0.04499748721718788,0.05945366248488426,-0.06530801206827164,-0.04137364774942398,0.009899917989969254,-0.013628358021378517,-0.01372698787599802,0.06250980496406555,0.031160607933998108,-0.012171744368970394,-0.027160469442605972,-0.07404372841119766,0.0196845605969429,-0.06445722281932831,0.0037568402476608753,0.05306714400649071,0.01775229722261429,-0.039147041738033295,0.0200203787535429,0.02331073209643364,0.06539028137922287,0.019273001700639725,0.013496322557330132,0.05797802284359932,-0.05096687003970146,0.0462711937725544,-0.01738572120666504,-0.05005360394716263,-0.08049266785383224,0.008626032620668411,0.07459907978773117,0.009740486741065979,-0.03380244970321655,-0.017617391422390938,0.012366753071546555,0.061629652976989746,0.032933309674263,0.02996760420501232,0.0693080723285675,0.017382532358169556,0.008055680431425571,0.00740168709307909,0.015205925330519676,0.03763426095247269,0.07268811762332916,0.027693144977092743,-0.043087877333164215,8.674482523929328E-5,0.013712999410927296,-0.011159656569361687,0.014781003817915916,0.005560769699513912,-0.1041361540555954,-0.03911080211400986,-0.032818540930747986,-0.007176668383181095,0.009545319713652134,0.04246489703655243,-0.06911963224411011,-0.010239524766802788,0.03113582916557789]]                                             |\n",
            "|[[0.1210792064666748,-0.11481260508298874,-0.07379245012998581,-0.03575937822461128,-0.011557161808013916,-0.008202563039958477,0.06590040773153305,0.05405058711767197,0.08451475948095322,0.06435725092887878,0.1051257774233818,0.057499658316373825,0.05921563506126404,-0.05082298070192337,-0.0743471011519432,0.05389022082090378,-0.0698455423116684,0.02989393100142479,-0.023142609745264053,-0.05949326232075691,-0.07775861769914627,-0.02100030705332756,-0.004716827999800444,-0.012955275364220142,0.17337359488010406,0.03117729350924492,-0.06415662914514542,-0.03650883585214615,-0.0036223120987415314,0.13737937808036804,-0.06896623224020004,0.02225608564913273,-0.054019663482904434,0.07654904574155807,-0.0625017061829567,0.07194076478481293,-0.09294451028108597,-0.054623667150735855,-0.061013929545879364,0.003961995244026184,0.011693158186972141,-0.13269270956516266,-0.07267995178699493,0.04344891756772995,-0.06184842810034752,-0.039418064057826996,0.04855864495038986,0.03480466082692146,0.002705829916521907,-0.006542835850268602,-0.049981627613306046,0.04199643060564995,-0.1459982842206955,0.08269315958023071,0.047860000282526016,0.04255105182528496,-0.07865922898054123,0.026359962299466133,0.02893473021686077,0.08591561019420624,-0.023796189576387405,-0.011723862029612064,0.09354981034994125,-0.11084891110658646,0.09446883946657181,-0.003128193784505129,-0.05627646669745445,-0.06648661196231842,-0.004203838296234608,0.09565351158380508,-0.01508402917534113,0.005970123689621687,0.013573731295764446,0.02380715310573578,0.054501358419656754,0.003072811756283045,0.03735293820500374,-0.01824205555021763,0.10322103649377823,-0.012606329284608364,0.01050305925309658,-0.002733811968937516,0.032099638134241104,0.14201824367046356,0.01017465628683567,-0.07796408236026764,0.015736591070890427,-0.013246112503111362,-0.026925435289740562,0.0654478520154953,0.08768831193447113,-0.10512559115886688,-0.041609857231378555,0.022409144788980484,0.006078808568418026,-0.04535098001360893,0.034836914390325546,-0.09202034771442413,-0.053380679339170456,0.06086104363203049]]                                               |\n",
            "|[[0.11619381606578827,-0.09275592118501663,-0.0514586977660656,-0.02908853255212307,-0.0315820649266243,-0.013281452469527721,0.06260458379983902,0.05583598464727402,0.09398484975099564,0.05343370512127876,0.10229417681694031,0.03928017616271973,0.06501411646604538,-0.0681188702583313,-0.053663309663534164,0.01870419643819332,-0.060750607401132584,-0.012300286442041397,0.005551428999751806,-0.034186821430921555,-0.05255217105150223,-0.029783105477690697,0.004167178645730019,-0.04284505918622017,0.15314969420433044,0.021403610706329346,-0.05972122773528099,-0.05043648183345795,0.014374063350260258,0.11488872766494751,-0.016396574676036835,0.03487933427095413,-0.018106235191226006,0.1107540875673294,-0.03929055854678154,0.07483336329460144,-0.0956791490316391,-0.029314560815691948,-0.04488785192370415,-0.017042817547917366,0.06258843094110489,-0.10329702496528625,-0.06441082805395126,0.0356852151453495,-0.0524347685277462,-0.04321156069636345,0.05951046943664551,0.028678052127361298,-0.015521419234573841,-0.021552076563239098,-0.061759643256664276,0.03205414116382599,-0.11283387988805771,0.05246783792972565,0.0623023547232151,0.03309793025255203,-0.06611819565296173,0.03628537803888321,0.012468285858631134,0.07159067690372467,-0.017550278455018997,-0.0024092248640954494,0.09219837933778763,-0.10754501074552536,0.10032634437084198,-0.022206857800483704,-0.06255903840065002,-0.07147779315710068,0.03098207712173462,0.08172553777694702,0.0043355803936719894,-0.02126021683216095,0.00958605669438839,0.024545466527342796,0.056254807859659195,0.012300168164074421,0.027065716683864594,0.011961439624428749,0.07274481654167175,7.507260306738317E-4,0.020331749692559242,0.005462253000587225,0.034075308591127396,0.12594488263130188,0.009656879119575024,-0.0867464616894722,0.01733473129570484,-0.01723106950521469,-0.005866800434887409,0.030090486630797386,0.04801267012953758,-0.11874692887067795,-0.0475691594183445,0.00857915636152029,0.0012748908484354615,-0.03681235760450363,0.026956407353281975,-0.09903063625097275,-0.036531347781419754,0.060044027864933014]]                                                  |\n",
            "|[[0.13733449578285217,-0.12950609624385834,-0.07415591180324554,-0.035516634583473206,0.001223431434482336,-0.01229826733469963,0.06811346858739853,0.06427118182182312,0.08591541647911072,0.08407066762447357,0.11903365701436996,0.059752583503723145,0.060423094779253006,-0.06472887098789215,-0.07342792302370071,0.05620149150490761,-0.08075375854969025,0.020330511033535004,-0.016514454036951065,-0.061421170830726624,-0.0830761268734932,-0.01546431053429842,0.0017019613878801465,9.36846190597862E-4,0.1842576116323471,0.02629120461642742,-0.07241734862327576,-0.032122861593961716,-0.008339867927134037,0.15021561086177826,-0.08792682737112045,0.020994853228330612,-0.05459839105606079,0.07613493502140045,-0.06716502457857132,0.06657513976097107,-0.10659147053956985,-0.05460085719823837,-0.0633845254778862,-0.007099259179085493,0.0043671270832419395,-0.1364017128944397,-0.0839194506406784,0.05562712624669075,-0.07725124806165695,-0.03975135460495949,0.06013500317931175,0.03149121627211571,0.0055921366438269615,0.00264928862452507,-0.061885472387075424,0.048042699694633484,-0.15524080395698547,0.08728455752134323,0.05977994203567505,0.04162958636879921,-0.08395839482545853,0.024335820227861404,0.03077246993780136,0.09346910566091537,-0.013733685947954655,-0.007338919211179018,0.1110842153429985,-0.0997193232178688,0.08390367031097412,-0.013373191468417645,-0.05535261332988739,-0.07859349995851517,0.005997135303914547,0.10635626316070557,-0.007262148428708315,0.01551892701536417,0.010671224445104599,0.011794735677540302,0.04452454298734665,0.00617207819595933,0.04987593740224838,-0.00732332793995738,0.10455357283353806,-0.022901497781276703,0.03034134954214096,-0.009415050968527794,0.03650917857885361,0.1454702466726303,0.017351867631077766,-0.07119826227426529,0.03529869765043259,-0.0090265441685915,-0.024053918197751045,0.0863553136587143,0.09070462733507156,-0.09886997193098068,-0.04149483144283295,0.034012794494628906,0.007226080633699894,-0.039923422038555145,0.030278446152806282,-0.0984201431274414,-0.05284455791115761,0.06458617001771927]]                                                          |\n",
            "|[[0.03353200852870941,-0.05363765358924866,-0.007472698111087084,-0.0030405623838305473,-0.002520246896892786,-0.02772320806980133,0.016370564699172974,0.017715534195303917,0.03765136003494263,0.04117463156580925,0.020352192223072052,0.004661221988499165,0.01840229704976082,-0.04229395464062691,-0.026181524619460106,0.016957303509116173,-0.04401286318898201,-0.00416457699611783,0.023921169340610504,-0.026656651869416237,-0.008830267935991287,-0.00700269965454936,0.02418244443833828,6.666278350166976E-4,0.07688726484775543,-0.006414573639631271,-0.028763003647327423,-0.023098422214388847,6.489637889899313E-4,0.07337649166584015,-0.029995279386639595,0.012643132358789444,-0.027859654277563095,0.05608592927455902,-0.02565808966755867,0.009826160036027431,-0.062247276306152344,-0.0025896946899592876,-0.02870824560523033,-0.033617570996284485,0.022369295358657837,-0.027279095724225044,-0.026662927120923996,0.039550621062517166,-0.037295326590538025,-0.024436617270112038,0.01811031997203827,-0.016796143725514412,0.021201441064476967,-0.010417548008263111,-0.03361313045024872,0.02381902188062668,-0.05390872806310654,0.0121199581772089,0.030767086893320084,0.020608769729733467,-0.015112724155187607,0.019252099096775055,0.012155359610915184,0.04424992576241493,0.02272874489426613,0.004483459517359734,0.05369872227311134,-0.006661826744675636,0.015838155522942543,-0.031893759965896606,-0.013630484230816364,-0.054031673818826675,0.03376069664955139,0.013033674098551273,0.013298475183546543,8.653059485368431E-4,0.032693520188331604,-0.01588360220193863,2.819681540131569E-4,-2.4554331321269274E-4,0.005861831363290548,0.01397983729839325,0.02140398509800434,-0.007824797183275223,0.03469713032245636,0.012235554866492748,0.017982492223381996,0.03164004161953926,0.005391497164964676,-0.014652671292424202,0.021233048290014267,-0.03206438571214676,0.010266510769724846,0.05556414648890495,0.023813005536794662,-0.0313403382897377,-0.019533967599272728,0.04170781373977661,0.014346357434988022,-0.011676929891109467,-0.001050810795277357,-0.04933083802461624,-0.010569230653345585,0.008422382175922394]]                |\n",
            "|[[0.07501716911792755,-0.12849664688110352,-0.033440686762332916,-0.04384232312440872,0.015903649851679802,-0.02668420970439911,0.04013445973396301,0.05174307897686958,0.07958138734102249,0.08709592372179031,0.05273028835654259,0.05703357979655266,0.03806324675679207,-0.04637132212519646,-0.08436527103185654,0.06244594231247902,-0.061388224363327026,0.03193604201078415,0.04481540247797966,-0.07734668999910355,-0.04318005591630936,-0.02469351515173912,-9.712906903587282E-4,0.018608158454298973,0.19269926846027374,0.016817128285765648,-0.05445000156760216,0.006989579182118177,-0.038002949208021164,0.16340646147727966,-0.11400693655014038,3.45621258020401E-4,-0.07745053619146347,0.03181447833776474,-0.0810776874423027,0.09571146965026855,-0.07118283957242966,-0.045595500618219376,-0.04037436842918396,-0.0519721694290638,-0.04130812734365463,-0.05997974053025246,-0.09500119835138321,0.0699053630232811,-0.09235995262861252,-0.02545987442135811,0.031221577897667885,0.032916001975536346,0.020648295059800148,0.020013932138681412,-0.07837631553411484,0.08249161392450333,-0.14060883224010468,0.06527688354253769,0.024602074176073074,0.05247911438345909,-0.04254188761115074,0.014565099962055683,0.031712815165519714,0.08717972785234451,-0.006550676189363003,-0.0013724466552957892,0.09730718284845352,-0.06753811240196228,0.06381390988826752,-0.018415668979287148,-0.0457611083984375,-0.07315189391374588,0.04468706622719765,0.07572122663259506,-0.013842319138348103,0.00851681362837553,0.024276087060570717,-0.01601511798799038,0.04834293946623802,0.02429504320025444,0.03755678981542587,0.00251974374987185,0.05179827660322189,-0.04410044103860855,0.05185279622673988,-0.04262315109372139,0.038566865026950836,0.09318805485963821,0.02153780683875084,-0.0489291213452816,0.06216907128691673,-0.027551310136914253,-0.0031592529267072678,0.10531796514987946,0.07719267159700394,-0.049828823655843735,0.04251326993107796,0.04582201689481735,0.003591133514419198,-0.0677337497472763,0.02045520581305027,-0.09209022670984268,-0.023035649210214615,0.055450815707445145]]                                                           |\n",
            "|[[0.054114002734422684,-0.04066077619791031,0.00815768726170063,0.005873514339327812,0.018380971625447273,0.0019635737407952547,0.06725309044122696,-0.002614009892567992,0.04738753288984299,0.05956901237368584,0.04979299008846283,-0.002797584282234311,0.08043087273836136,-0.03036324493587017,-0.03584384173154831,0.005097768269479275,-0.021837027743458748,-0.004237304907292128,-0.025737334042787552,-0.019892482087016106,-0.01577729545533657,-0.024449706077575684,-0.012604812160134315,-0.023131055757403374,0.05142732709646225,0.01964937523007393,-0.02855302393436432,-0.01150244940072298,0.016454940661787987,0.06295608729124069,-0.003441961482167244,0.054168976843357086,-0.003396121319383383,0.07755332440137863,-0.02254505641758442,0.02096305415034294,-0.012941944412887096,-0.00483627337962389,-0.022684622555971146,-0.05217672884464264,0.04458821937441826,-0.03999781236052513,-0.04102744907140732,0.032079488039016724,-0.02241808921098709,0.010776967741549015,0.050016023218631744,0.023899760097265244,-0.014293976128101349,-0.013023261912167072,-0.0758713036775589,6.29859569016844E-4,-0.06064891442656517,-0.03579520806670189,0.07654810696840286,0.028588898479938507,-0.012844876386225224,0.03295852988958359,0.04990476742386818,0.050246309489011765,0.04104721173644066,0.012139154598116875,0.05302651226520538,-0.03297750651836395,0.0468091256916523,-0.029404714703559875,-0.043645840138196945,-0.09948749840259552,0.021087191998958588,0.06492087244987488,-0.002249850193038583,-0.030461948364973068,-0.010626647621393204,-0.004577488172799349,0.06915831565856934,0.015056132338941097,0.0033673944417387247,0.09734590351581573,0.013904428109526634,-0.0016462040366604924,0.022030169144272804,0.019306086003780365,0.034648068249225616,0.020274687558412552,0.035957884043455124,-0.05556539073586464,-0.016728155314922333,0.03464147448539734,-0.028689172118902206,0.017233433201909065,0.007834987714886665,-0.08731047809123993,-0.01011422649025917,-0.03372401371598244,-0.02742372453212738,0.03286029398441315,0.033842310309410095,-0.06630036979913712,-0.011975971050560474,0.0062616909854114056]]                        |\n",
            "|[[0.021285127848386765,-0.037470050156116486,0.012599709443747997,-8.22107307612896E-4,0.011634777300059795,-0.031047385185956955,0.013207913376390934,-0.01299989689141512,0.017579343169927597,0.04956883192062378,-0.0026223394088447094,-0.014086279086768627,0.016348032280802727,-0.03548429533839226,-0.01855302043259144,0.011011367663741112,-0.032188866287469864,-0.008390679024159908,0.03324110433459282,-0.016431929543614388,-6.607650429941714E-4,3.9645921788178384E-4,0.005205673165619373,-0.002080213511362672,0.04417923092842102,-0.02146320417523384,-0.023060336709022522,-0.005214392207562923,4.1344176861457527E-4,0.053411535918712616,-0.03944510594010353,0.012057319283485413,-0.007207905407994986,0.024675637483596802,-0.006186208687722683,0.014538535848259926,-0.02886173129081726,0.005496399011462927,-0.008599278517067432,-0.04088784009218216,0.0030142799951136112,0.008113515563309193,-0.023929685354232788,0.034569837152957916,-0.033286239951848984,-0.001635866123251617,0.008516986854374409,-9.884421015158296E-4,0.021741053089499474,0.009378486312925816,-0.03621651604771614,0.035016704350709915,-0.03671684488654137,-0.0074573480524122715,0.025591854006052017,0.0041385008953511715,-0.0012118036393076181,0.014437742531299591,0.0015184187795966864,0.02499580755829811,0.030448067933321,0.01465749554336071,0.04219666123390198,0.005156484432518482,-0.00885369535535574,-0.03283708915114403,-0.01186858769506216,-0.034384407103061676,0.039508018642663956,0.02592659369111061,0.011363670229911804,-0.005424256902188063,0.023227538913488388,-0.015482294373214245,-0.00978214293718338,0.011269054375588894,0.005482041742652655,0.03390099108219147,-0.002585307229310274,-0.01338957343250513,0.039522647857666016,-0.010825038887560368,0.017072219401597977,-0.005441135726869106,0.0107364347204566,-0.01412987057119608,0.024402188137173653,-0.013840729370713234,0.014764287509024143,0.04809626564383507,0.016064073890447617,-0.007919716648757458,0.010374873876571655,0.029273392632603645,0.005450835917145014,-4.0425965562462807E-4,-0.007432953920215368,-0.041182342916727066,-0.005768861621618271,-0.002121854340657592]]|\n",
            "|[[0.257001668214798,-0.17056448757648468,-0.1386181116104126,-0.060338836163282394,0.0066352239809930325,-0.001120779081247747,0.11298195272684097,0.13492439687252045,0.19210702180862427,0.11431757360696793,0.18911346793174744,0.11926037073135376,0.07623742520809174,-0.08741902559995651,-0.08942290395498276,0.06594093888998032,-0.06100553646683693,-0.015444153919816017,-0.04577367380261421,-0.048781655728816986,-0.1189274936914444,-0.03742532432079315,6.243870302569121E-5,0.029872829094529152,0.2547898590564728,0.08354827761650085,-0.09980896860361099,0.0016118036583065987,0.009381089359521866,0.2433556616306305,-0.11920085549354553,0.00470160786062479,-0.04579699784517288,0.0864085704088211,-0.09505893290042877,0.07849825918674469,-0.131595641374588,-0.08269255608320236,-0.10880354791879654,0.0038063363172113895,-0.01358121633529663,-0.2156365066766739,-0.14197324216365814,0.08982814103364944,-0.12674908339977264,-0.020730087533593178,0.11509182304143906,0.06565658003091812,-0.04373198002576828,0.03851940855383873,-0.09044621139764786,0.035954054445028305,-0.1899302750825882,0.08931108564138412,0.11215315759181976,0.07640223950147629,-0.10486005246639252,0.043647509068250656,0.07087718695402145,0.09046848863363266,-0.0478266179561615,-0.020771456882357597,0.141112819314003,-0.15964631736278534,0.14568303525447845,-0.007241935934871435,-0.07887115329504013,-0.11056820303201675,0.02505296841263771,0.16514872014522552,-0.016905639320611954,0.023330606520175934,-0.03853251785039902,0.020116010680794716,0.09955553710460663,-0.022200265899300575,0.04679473862051964,-0.015855085104703903,0.15276126563549042,-0.034003209322690964,0.06467362493276596,-0.02260458841919899,0.052741941064596176,0.19919656217098236,0.03931036964058876,-0.12545420229434967,0.06127327308058739,0.0479450449347496,-0.05307803675532341,0.08609651774168015,0.089315265417099,-0.15180377662181854,-0.020205562934279442,-9.398077381774783E-4,-0.02565748617053032,-0.04777010157704353,0.028934510424733162,-0.11548759788274765,-0.07970043271780014,0.1108868345618248]]                                                                     |\n",
            "|[[0.2543678283691406,-0.19481584429740906,-0.119590625166893,-0.07693830877542496,0.028791990131139755,-0.01557102706283331,0.12474077939987183,0.1281980574131012,0.1763405054807663,0.13752199709415436,0.1748436987400055,0.11964911967515945,0.08790934085845947,-0.1027253270149231,-0.09763390570878983,0.0697849914431572,-0.07662712037563324,-0.001233360031619668,-0.020123859867453575,-0.07360640913248062,-0.10951627045869827,-0.0382034033536911,-0.008499172516167164,0.037663720548152924,0.2707134485244751,0.07039665430784225,-0.09946945309638977,0.004467185586690903,0.0037605769466608763,0.2576713562011719,-0.1384381353855133,0.017911333590745926,-0.06260380148887634,0.08098980039358139,-0.09604287147521973,0.1053324043750763,-0.14620263874530792,-0.087904192507267,-0.10149181634187698,-0.026791885495185852,-0.02964673563838005,-0.2050090730190277,-0.16653236746788025,0.08997177332639694,-0.14546489715576172,-0.02875678986310959,0.12202265858650208,0.08105101436376572,-0.014580568298697472,0.03801257535815239,-0.10721469670534134,0.07327254861593246,-0.21490159630775452,0.09177184104919434,0.09769652783870697,0.07493921369314194,-0.10909783840179443,0.04238629713654518,0.06456384807825089,0.1128702163696289,-0.030812742188572884,-0.014377289451658726,0.15496867895126343,-0.1423761248588562,0.12122543156147003,-0.002485885750502348,-0.0878453403711319,-0.12801827490329742,0.04414589703083038,0.17862273752689362,-0.021222373470664024,0.015417570248246193,-0.023121163249015808,0.013710225000977516,0.10014959424734116,-0.0022603708785027266,0.06472168117761612,0.0029018577188253403,0.1355491429567337,-0.04601940140128136,0.0714050754904747,-0.032765116542577744,0.0639137327671051,0.2007729560136795,0.041069675236940384,-0.11507218331098557,0.0831822007894516,0.017855171114206314,-0.04336121678352356,0.13093237578868866,0.08493095636367798,-0.1522909700870514,0.0036578974686563015,0.016109498217701912,-0.016047261655330658,-0.06243693456053734,0.03631996363401413,-0.13611820340156555,-0.07484717667102814,0.1120055541396141]]                                                                             |\n",
            "+-------------------------------------------------------------------------------------------------------------------------------------------------------------------------------------------------------------------------------------------------------------------------------------------------------------------------------------------------------------------------------------------------------------------------------------------------------------------------------------------------------------------------------------------------------------------------------------------------------------------------------------------------------------------------------------------------------------------------------------------------------------------------------------------------------------------------------------------------------------------------------------------------------------------------------------------------------------------------------------------------------------------------------------------------------------------------------------------------------------------------------------------------------------------------------------------------------------------------------------------------------------------------------------------------------------------------------------------------------------------------------------------------------------------------------------------------------------------------------------------------------------------------------------------------------------------------------------------------------------------------------------------------------------------------------------------------------------------------------------------------------------------------------------------------------------------------------------------------------------------------------------------------------------------------------------------------------------------------------------------------------------------------------------------------------------------------------------------------------------------------------------------------------------------------------------------------------------------+\n",
            "only showing top 15 rows\n",
            "\n"
          ]
        }
      ]
    },
    {
      "cell_type": "code",
      "source": [
        "vector_length = embeddings.getVectorSize()\n",
        "vocabulary_dim = 300\n",
        "\n",
        "print(f'Embeddings dimension is set to {vector_length}')"
      ],
      "metadata": {
        "colab": {
          "base_uri": "https://localhost:8080/"
        },
        "id": "UHR7Hbf28XO_",
        "outputId": "1e024fba-bead-4f74-e1de-8cd18af9b93c"
      },
      "execution_count": 92,
      "outputs": [
        {
          "output_type": "stream",
          "name": "stdout",
          "text": [
            "Embeddings dimension is set to 100\n"
          ]
        }
      ]
    },
    {
      "cell_type": "code",
      "source": [
        "result_df = df_embeddings.select(col('sarcastic').alias('label'),explode(df_embeddings.finished_sentence_embeddings).alias('features'))\\\n",
        "                          .withColumn(\"features\", vector_to_array(\"features\"))"
      ],
      "metadata": {
        "id": "kUjg6Ke6DtAx"
      },
      "execution_count": 93,
      "outputs": []
    },
    {
      "cell_type": "code",
      "source": [
        "result_df.show(5, truncate=False)"
      ],
      "metadata": {
        "colab": {
          "base_uri": "https://localhost:8080/"
        },
        "id": "RtpJg38tD64I",
        "outputId": "84528b5b-4531-4ac7-cd40-44acbb7ce9fc"
      },
      "execution_count": 94,
      "outputs": [
        {
          "output_type": "stream",
          "name": "stdout",
          "text": [
            "+-----+-----------------------------------------------------------------------------------------------------------------------------------------------------------------------------------------------------------------------------------------------------------------------------------------------------------------------------------------------------------------------------------------------------------------------------------------------------------------------------------------------------------------------------------------------------------------------------------------------------------------------------------------------------------------------------------------------------------------------------------------------------------------------------------------------------------------------------------------------------------------------------------------------------------------------------------------------------------------------------------------------------------------------------------------------------------------------------------------------------------------------------------------------------------------------------------------------------------------------------------------------------------------------------------------------------------------------------------------------------------------------------------------------------------------------------------------------------------------------------------------------------------------------------------------------------------------------------------------------------------------------------------------------------------------------------------------------------------------------------------------------------------------------------------------------------------------------------------------------------------------------------------------------------------------------------------------------------------------------------------------------------------------------------------------------------------------------------------------------------------------------------------------------------------------------------------------------------------------------------------------------------------------------------------------+\n",
            "|label|features                                                                                                                                                                                                                                                                                                                                                                                                                                                                                                                                                                                                                                                                                                                                                                                                                                                                                                                                                                                                                                                                                                                                                                                                                                                                                                                                                                                                                                                                                                                                                                                                                                                                                                                                                                                                                                                                                                                                                                                                                                                                                                                                                                                                                                                                                 |\n",
            "+-----+-----------------------------------------------------------------------------------------------------------------------------------------------------------------------------------------------------------------------------------------------------------------------------------------------------------------------------------------------------------------------------------------------------------------------------------------------------------------------------------------------------------------------------------------------------------------------------------------------------------------------------------------------------------------------------------------------------------------------------------------------------------------------------------------------------------------------------------------------------------------------------------------------------------------------------------------------------------------------------------------------------------------------------------------------------------------------------------------------------------------------------------------------------------------------------------------------------------------------------------------------------------------------------------------------------------------------------------------------------------------------------------------------------------------------------------------------------------------------------------------------------------------------------------------------------------------------------------------------------------------------------------------------------------------------------------------------------------------------------------------------------------------------------------------------------------------------------------------------------------------------------------------------------------------------------------------------------------------------------------------------------------------------------------------------------------------------------------------------------------------------------------------------------------------------------------------------------------------------------------------------------------------------------------------+\n",
            "|0    |[0.20265929400920868, -0.12436224520206451, -0.09439777582883835, -0.007906755432486534, 0.020799711346626282, -0.001965058036148548, 0.11077921837568283, 0.0660829171538353, 0.14213472604751587, 0.11430919915437698, 0.16484123468399048, 0.05609801039099693, 0.08562888950109482, -0.07416141778230667, -0.05348929017782211, 0.05053845793008804, -0.056549910455942154, -0.02153749391436577, -0.07113192975521088, -0.014229356311261654, -0.08759773522615433, -0.03823043033480644, 0.006509888917207718, 0.011880655772984028, 0.1675616353750229, 0.05206410214304924, -0.08809461444616318, -0.019396720454096794, 0.015195226296782494, 0.17887938022613525, -0.054108455777168274, 0.043646179139614105, -0.01811382733285427, 0.09665645658969879, -0.04989326372742653, 0.03427395597100258, -0.10955145210027695, -0.04139905422925949, -0.09639840573072433, -0.015638921409845352, 0.017236236482858658, -0.16996555030345917, -0.10013230890035629, 0.06588663905858994, -0.0827358216047287, -8.581948932260275E-4, 0.11300491541624069, 0.032310597598552704, -0.026616204530000687, 0.012169537134468555, -0.08534354716539383, 0.006694304756820202, -0.1520814299583435, 0.041847776621580124, 0.12417218834161758, 0.050007183104753494, -0.07235512137413025, 0.044297777116298676, 0.08919835090637207, 0.07752964645624161, -0.006260446272790432, -0.0022847894579172134, 0.11334751546382904, -0.08961770683526993, 0.08965897560119629, -0.025394024327397346, -0.05276734009385109, -0.13589876890182495, 0.014436017721891403, 0.1292518526315689, 0.005746055394411087, 0.023948490619659424, -0.031013110652565956, 0.015261944383382797, 0.08587926626205444, -0.030874980613589287, 0.028928320854902267, 0.03887034207582474, 0.12223273515701294, -0.02314990758895874, 0.05294224992394447, 0.006351027637720108, 0.04887530207633972, 0.11826930940151215, 0.04156896099448204, -0.0908362939953804, 0.012652051635086536, 0.034607041627168655, -0.04610668867826462, 0.0740756019949913, 0.06477097421884537, -0.12959842383861542, -0.052571944892406464, -0.005952474661171436, -0.0326705239713192, 0.006469938904047012, 0.020376602187752724, -0.09191332757472992, -0.05895565450191498, 0.05124755576252937]                        |\n",
            "|0    |[0.09781643748283386, -0.07783772796392441, -0.029090993106365204, -0.02190619707107544, 2.1094191470183432E-4, -0.013175043277442455, 0.04797160252928734, 0.04069307819008827, 0.07126663625240326, 0.06087420880794525, 0.05901044234633446, 0.03296896442770958, 0.04675837978720665, -0.052069760859012604, -0.042524147778749466, 0.018410557880997658, -0.037982162088155746, -0.012104448862373829, 0.004682488273829222, -0.029962485656142235, -0.03510928526520729, -0.011622645892202854, -0.0013495194725692272, 1.745346889947541E-5, 0.0980972871184349, 0.02063385210931301, -0.041561760008335114, -0.008425730280578136, 0.015375923365354538, 0.10075248777866364, -0.04928108677268028, 0.017222614958882332, -0.018534662202000618, 0.05307989940047264, -0.030978988856077194, 0.047077737748622894, -0.05562784522771835, -0.02471841871738434, -0.03296886384487152, -0.026244061067700386, 0.01352669857442379, -0.06382515281438828, -0.06595402956008911, 0.04510802775621414, -0.0548526756465435, -0.011343446560204029, 0.04809129238128662, 0.03686719015240669, -0.004090048838406801, 0.007541141007095575, -0.05147610232234001, 0.03288907930254936, -0.07966405153274536, 0.017701979726552963, 0.053126607090234756, 0.022511757910251617, -0.04434278979897499, 0.02739311009645462, 0.015743624418973923, 0.0422830693423748, 0.006802252493798733, 0.0014046533033251762, 0.06935713440179825, -0.05703142657876015, 0.05228281021118164, -0.015513734892010689, -0.04099446162581444, -0.06222449615597725, 0.03674553707242012, 0.07355790585279465, -0.004041288048028946, -0.014974748715758324, -0.0014897036598995328, -0.0019032354466617107, 0.03743875399231911, 0.009822067804634571, 0.021761173382401466, 0.02685445547103882, 0.04141673445701599, -0.017580848187208176, 0.03498139604926109, -0.015989096835255623, 0.022881662473082542, 0.06956307590007782, 0.013619213365018368, -0.061689507216215134, 0.030027661472558975, 0.010587790980935097, -0.015302220359444618, 0.050091080367565155, 0.028863148763775826, -0.06806302070617676, 0.002300520893186331, 0.005330677144229412, -0.006434876937419176, -0.011151143349707127, 0.01462402381002903, -0.06355488300323486, -0.025273526087403297, 0.043247926980257034]|\n",
            "|0    |[0.10721888393163681, -0.02263646200299263, -0.05557294934988022, -0.013340061530470848, -0.059263117611408234, -0.05461234226822853, -0.018679849803447723, 0.09716734290122986, 0.10713164508342743, -0.009898052550852299, 0.0642940104007721, 0.020961185917258263, -0.0318119190633297, -0.07041765004396439, 0.02336517535150051, -0.02071112021803856, -0.02157995104789734, -0.11766711622476578, 0.07207535207271576, 0.0427304282784462, 0.025329209864139557, -0.014432028867304325, 0.06893420219421387, 0.007319186814129353, 0.08543591946363449, -0.008996402844786644, -0.011659692041575909, -0.03165685385465622, 0.02795904502272606, 0.09907495230436325, 0.038265347480773926, -0.022740652784705162, 0.02726147323846817, 0.09877772629261017, -0.02578710950911045, -0.019356364384293556, -0.09364334493875504, 0.0108578996732831, -0.048590414226055145, -0.0018541011959314346, 0.07218590378761292, -0.023063236847519875, -0.004943242762237787, 0.05393608286976814, -0.06628437340259552, -0.02600640244781971, 0.025640495121479034, -0.05749755725264549, -0.03589705750346184, 0.02230030670762062, -0.013646671548485756, -0.014760871417820454, 0.01264165062457323, 0.017746422439813614, 0.053820859640836716, 0.014783693477511406, -0.015575881116092205, 0.013525901362299919, -0.022570516914129257, -0.010880915448069572, -0.016597669571638107, 0.00908095482736826, 0.057297054678201675, -0.028381211683154106, 0.04969073086977005, -0.05608031898736954, -0.009038456715643406, -0.004195961635559797, 0.1065811961889267, -0.0033536353148519993, 0.054903287440538406, 0.012929284945130348, -0.01667901873588562, 0.0012904427712783217, -0.013549849390983582, -0.04053441435098648, -0.034253671765327454, -0.03420678898692131, 0.0323638990521431, 0.007963639684021473, 0.0711057186126709, 0.02168145589530468, 0.02922125533223152, 0.044331684708595276, -0.0035952855832874775, -0.029550643637776375, 0.05915656313300133, 6.413689698092639E-4, 0.03829330578446388, -0.005695359781384468, -0.05133306607604027, -0.033937256783246994, -0.0625990480184555, 0.0531928613781929, -0.0035783543717116117, -0.03714924305677414, -0.03695022687315941, -0.04302913323044777, -0.01965872198343277, 0.04649322107434273]    |\n",
            "|1    |[0.11156986653804779, -0.11184696108102798, -0.06634283810853958, -0.0552043616771698, 0.033552296459674835, -0.028303738683462143, 0.05395837500691414, 0.03383339196443558, 0.09282119572162628, 0.0885627269744873, 0.05151462182402611, 0.05417894944548607, 0.013603417202830315, -0.051696449518203735, -0.061900101602077484, 0.0479966439306736, -0.043615370988845825, 0.012461468577384949, 0.02700165845453739, -0.03933558613061905, -0.06809203326702118, -0.02858397178351879, -0.016107212752103806, 0.00947334710508585, 0.1766689568758011, 0.02468203566968441, -0.061916012316942215, 0.002924983622506261, -0.022331373766064644, 0.15909506380558014, -0.10975690186023712, -0.005692136939615011, -0.027216404676437378, 0.014204752631485462, -0.04887961968779564, 0.07006257027387619, -0.08304254710674286, -0.05193737521767616, -0.056515224277973175, -0.03499957174062729, -0.05593951791524887, -0.08871401101350784, -0.08394277840852737, 0.04881234094500542, -0.08071622997522354, -0.011574620380997658, 0.04129121080040932, 0.03396553173661232, 0.014030223712325096, 0.02409384772181511, -0.052442584186792374, 0.07310889661312103, -0.12525568902492523, 0.05387617275118828, 0.019192686304450035, 0.03659709915518761, -0.030293041840195656, 0.01728985272347927, 0.03475320711731911, 0.06506852805614471, -0.04036768153309822, -0.003139814594760537, 0.08131172508001328, -0.0628083273768425, 0.031869202852249146, -0.012060518376529217, -0.03229862079024315, -0.042078398168087006, 0.018356313928961754, 0.07388985902070999, -0.007684079464524984, 0.026861105114221573, 0.01857035793364048, 0.014433941803872585, 0.0292960274964571, -0.003858149517327547, 0.018099470064044, -0.033862944692373276, 0.057588882744312286, -0.01896204985678196, 0.04992867633700371, -0.039795465767383575, 0.0322701521217823, 0.08826809376478195, 0.019301192834973335, -0.04331012815237045, 0.0577094666659832, -0.034429218620061874, 0.015970101580023766, 0.0899653434753418, 0.064454086124897, -0.05412878468632698, 0.030508210882544518, 0.04183593764901161, 0.012137372978031635, -0.06927531957626343, -0.006450483109802008, -0.07612999528646469, -0.04756812006235123, 0.03961903974413872]                             |\n",
            "|0    |[0.05857882276177406, -0.03922175243496895, 0.0034134211018681526, -0.018016651272773743, 0.016664456576108932, 0.004187665414065123, 0.06619302928447723, 0.006061200983822346, 0.02208051085472107, 0.038855284452438354, 0.07909756153821945, 0.005705760791897774, 0.08751890808343887, -0.03946514055132866, -0.01824202574789524, -0.012229446321725845, -0.029323572292923927, -0.010536995716392994, -0.016697444021701813, -0.01894303783774376, -0.01342783123254776, -0.027630094438791275, -0.019349314272403717, -0.040932293981313705, 0.052933819591999054, 0.008960627019405365, -0.016113396733999252, -0.03344377502799034, 0.002915036166086793, 0.01925511471927166, 0.025754453614354134, 0.06585504859685898, 0.015343109145760536, 0.0842476412653923, -0.014381843619048595, 0.04351693391799927, -0.03169683739542961, -0.012061143293976784, -0.008804505690932274, -0.0462069995701313, 0.06564339995384216, -0.05804182216525078, -0.03500770032405853, 0.0023921113461256027, -0.007837769575417042, -0.01245306245982647, 0.06033356487751007, 0.027977610006928444, -0.015249459072947502, -0.029532987624406815, -0.07461292296648026, 0.013027478009462357, -0.05688414350152016, -0.0035320904571563005, 0.050414398312568665, 0.015546557493507862, -0.03704516962170601, 0.01843583770096302, 0.02327786386013031, 0.06236480548977852, 0.024849476292729378, 0.016231611371040344, 0.0519615039229393, -0.045364171266555786, 0.0438103973865509, -0.01690218225121498, -0.051165055483579636, -0.08032939583063126, 0.007560656405985355, 0.06965157389640808, 0.008806251920759678, -0.037474919110536575, -0.021266793832182884, 0.014121470972895622, 0.06382085382938385, 0.035948965698480606, 0.027610477060079575, 0.07735955715179443, 0.012076370418071747, 0.011680168099701405, 0.0034705125726759434, 0.02014881744980812, 0.03688793256878853, 0.06549176573753357, 0.02961258590221405, -0.03804042935371399, -0.0078447125852108, 0.014181891456246376, -0.010289634577929974, 0.0055832150392234325, -0.003190519055351615, -0.1037764698266983, -0.04429672285914421, -0.03776666522026062, -0.009315814822912216, 0.015044517815113068, 0.045915842056274414, -0.06569227576255798, -0.0050495583564043045, 0.026827197521924973]|\n",
            "+-----+-----------------------------------------------------------------------------------------------------------------------------------------------------------------------------------------------------------------------------------------------------------------------------------------------------------------------------------------------------------------------------------------------------------------------------------------------------------------------------------------------------------------------------------------------------------------------------------------------------------------------------------------------------------------------------------------------------------------------------------------------------------------------------------------------------------------------------------------------------------------------------------------------------------------------------------------------------------------------------------------------------------------------------------------------------------------------------------------------------------------------------------------------------------------------------------------------------------------------------------------------------------------------------------------------------------------------------------------------------------------------------------------------------------------------------------------------------------------------------------------------------------------------------------------------------------------------------------------------------------------------------------------------------------------------------------------------------------------------------------------------------------------------------------------------------------------------------------------------------------------------------------------------------------------------------------------------------------------------------------------------------------------------------------------------------------------------------------------------------------------------------------------------------------------------------------------------------------------------------------------------------------------------------------------+\n",
            "only showing top 5 rows\n",
            "\n"
          ]
        }
      ]
    },
    {
      "cell_type": "code",
      "source": [
        "df_expr = result_df.select(['label']+[expr('features[' + str(x) + ']') for x in range(vector_length)])\n",
        "df_expr.printSchema()"
      ],
      "metadata": {
        "colab": {
          "base_uri": "https://localhost:8080/"
        },
        "id": "Hu4FQolGEyVE",
        "outputId": "15ad4b42-975d-4e0b-d527-e0c208ade4c6"
      },
      "execution_count": 95,
      "outputs": [
        {
          "output_type": "stream",
          "name": "stdout",
          "text": [
            "root\n",
            " |-- label: string (nullable = true)\n",
            " |-- features[0]: double (nullable = true)\n",
            " |-- features[1]: double (nullable = true)\n",
            " |-- features[2]: double (nullable = true)\n",
            " |-- features[3]: double (nullable = true)\n",
            " |-- features[4]: double (nullable = true)\n",
            " |-- features[5]: double (nullable = true)\n",
            " |-- features[6]: double (nullable = true)\n",
            " |-- features[7]: double (nullable = true)\n",
            " |-- features[8]: double (nullable = true)\n",
            " |-- features[9]: double (nullable = true)\n",
            " |-- features[10]: double (nullable = true)\n",
            " |-- features[11]: double (nullable = true)\n",
            " |-- features[12]: double (nullable = true)\n",
            " |-- features[13]: double (nullable = true)\n",
            " |-- features[14]: double (nullable = true)\n",
            " |-- features[15]: double (nullable = true)\n",
            " |-- features[16]: double (nullable = true)\n",
            " |-- features[17]: double (nullable = true)\n",
            " |-- features[18]: double (nullable = true)\n",
            " |-- features[19]: double (nullable = true)\n",
            " |-- features[20]: double (nullable = true)\n",
            " |-- features[21]: double (nullable = true)\n",
            " |-- features[22]: double (nullable = true)\n",
            " |-- features[23]: double (nullable = true)\n",
            " |-- features[24]: double (nullable = true)\n",
            " |-- features[25]: double (nullable = true)\n",
            " |-- features[26]: double (nullable = true)\n",
            " |-- features[27]: double (nullable = true)\n",
            " |-- features[28]: double (nullable = true)\n",
            " |-- features[29]: double (nullable = true)\n",
            " |-- features[30]: double (nullable = true)\n",
            " |-- features[31]: double (nullable = true)\n",
            " |-- features[32]: double (nullable = true)\n",
            " |-- features[33]: double (nullable = true)\n",
            " |-- features[34]: double (nullable = true)\n",
            " |-- features[35]: double (nullable = true)\n",
            " |-- features[36]: double (nullable = true)\n",
            " |-- features[37]: double (nullable = true)\n",
            " |-- features[38]: double (nullable = true)\n",
            " |-- features[39]: double (nullable = true)\n",
            " |-- features[40]: double (nullable = true)\n",
            " |-- features[41]: double (nullable = true)\n",
            " |-- features[42]: double (nullable = true)\n",
            " |-- features[43]: double (nullable = true)\n",
            " |-- features[44]: double (nullable = true)\n",
            " |-- features[45]: double (nullable = true)\n",
            " |-- features[46]: double (nullable = true)\n",
            " |-- features[47]: double (nullable = true)\n",
            " |-- features[48]: double (nullable = true)\n",
            " |-- features[49]: double (nullable = true)\n",
            " |-- features[50]: double (nullable = true)\n",
            " |-- features[51]: double (nullable = true)\n",
            " |-- features[52]: double (nullable = true)\n",
            " |-- features[53]: double (nullable = true)\n",
            " |-- features[54]: double (nullable = true)\n",
            " |-- features[55]: double (nullable = true)\n",
            " |-- features[56]: double (nullable = true)\n",
            " |-- features[57]: double (nullable = true)\n",
            " |-- features[58]: double (nullable = true)\n",
            " |-- features[59]: double (nullable = true)\n",
            " |-- features[60]: double (nullable = true)\n",
            " |-- features[61]: double (nullable = true)\n",
            " |-- features[62]: double (nullable = true)\n",
            " |-- features[63]: double (nullable = true)\n",
            " |-- features[64]: double (nullable = true)\n",
            " |-- features[65]: double (nullable = true)\n",
            " |-- features[66]: double (nullable = true)\n",
            " |-- features[67]: double (nullable = true)\n",
            " |-- features[68]: double (nullable = true)\n",
            " |-- features[69]: double (nullable = true)\n",
            " |-- features[70]: double (nullable = true)\n",
            " |-- features[71]: double (nullable = true)\n",
            " |-- features[72]: double (nullable = true)\n",
            " |-- features[73]: double (nullable = true)\n",
            " |-- features[74]: double (nullable = true)\n",
            " |-- features[75]: double (nullable = true)\n",
            " |-- features[76]: double (nullable = true)\n",
            " |-- features[77]: double (nullable = true)\n",
            " |-- features[78]: double (nullable = true)\n",
            " |-- features[79]: double (nullable = true)\n",
            " |-- features[80]: double (nullable = true)\n",
            " |-- features[81]: double (nullable = true)\n",
            " |-- features[82]: double (nullable = true)\n",
            " |-- features[83]: double (nullable = true)\n",
            " |-- features[84]: double (nullable = true)\n",
            " |-- features[85]: double (nullable = true)\n",
            " |-- features[86]: double (nullable = true)\n",
            " |-- features[87]: double (nullable = true)\n",
            " |-- features[88]: double (nullable = true)\n",
            " |-- features[89]: double (nullable = true)\n",
            " |-- features[90]: double (nullable = true)\n",
            " |-- features[91]: double (nullable = true)\n",
            " |-- features[92]: double (nullable = true)\n",
            " |-- features[93]: double (nullable = true)\n",
            " |-- features[94]: double (nullable = true)\n",
            " |-- features[95]: double (nullable = true)\n",
            " |-- features[96]: double (nullable = true)\n",
            " |-- features[97]: double (nullable = true)\n",
            " |-- features[98]: double (nullable = true)\n",
            " |-- features[99]: double (nullable = true)\n",
            "\n"
          ]
        }
      ]
    },
    {
      "cell_type": "code",
      "source": [
        "df_expr.write.option(\"header\", True).csv(DATASET_PROCESSED)"
      ],
      "metadata": {
        "id": "oDJ34BF48c3Y"
      },
      "execution_count": 96,
      "outputs": []
    },
    {
      "cell_type": "code",
      "source": [
        "df_fitted.unpersist()\n",
        "df_process.unpersist()\n",
        "df_spell.unpersist()\n",
        "\n",
        "del df_expr\n",
        "del result_df\n",
        "del df_embeddings\n",
        "del df_process\n",
        "del df_fitted\n",
        "\n",
        "gc.collect()"
      ],
      "metadata": {
        "id": "od1ByyK1P4Vd"
      },
      "execution_count": null,
      "outputs": []
    },
    {
      "cell_type": "markdown",
      "source": [
        "## Simple NN model"
      ],
      "metadata": {
        "id": "9gLctfNsUPEM"
      }
    },
    {
      "cell_type": "code",
      "source": [
        "df_read = spark.read.option('header', True).csv(DATASET_PROCESSED)\n",
        "\n",
        "for col_name in df_read.columns:\n",
        "  df_read = df_read.withColumn(col_name, col(col_name).cast(FloatType()))\n",
        "\n",
        "train, test = df_read.randomSplit([0.7,0.3])"
      ],
      "metadata": {
        "id": "gQpqC2xWVwgQ"
      },
      "execution_count": 23,
      "outputs": []
    },
    {
      "cell_type": "code",
      "source": [
        "train.printSchema()"
      ],
      "metadata": {
        "colab": {
          "base_uri": "https://localhost:8080/"
        },
        "id": "nBzH721SV4r3",
        "outputId": "63161e5a-cdd5-4662-b592-a544e64aef46"
      },
      "execution_count": 24,
      "outputs": [
        {
          "output_type": "stream",
          "name": "stdout",
          "text": [
            "root\n",
            " |-- label: float (nullable = true)\n",
            " |-- features[0]: float (nullable = true)\n",
            " |-- features[1]: float (nullable = true)\n",
            " |-- features[2]: float (nullable = true)\n",
            " |-- features[3]: float (nullable = true)\n",
            " |-- features[4]: float (nullable = true)\n",
            " |-- features[5]: float (nullable = true)\n",
            " |-- features[6]: float (nullable = true)\n",
            " |-- features[7]: float (nullable = true)\n",
            " |-- features[8]: float (nullable = true)\n",
            " |-- features[9]: float (nullable = true)\n",
            " |-- features[10]: float (nullable = true)\n",
            " |-- features[11]: float (nullable = true)\n",
            " |-- features[12]: float (nullable = true)\n",
            " |-- features[13]: float (nullable = true)\n",
            " |-- features[14]: float (nullable = true)\n",
            " |-- features[15]: float (nullable = true)\n",
            " |-- features[16]: float (nullable = true)\n",
            " |-- features[17]: float (nullable = true)\n",
            " |-- features[18]: float (nullable = true)\n",
            " |-- features[19]: float (nullable = true)\n",
            " |-- features[20]: float (nullable = true)\n",
            " |-- features[21]: float (nullable = true)\n",
            " |-- features[22]: float (nullable = true)\n",
            " |-- features[23]: float (nullable = true)\n",
            " |-- features[24]: float (nullable = true)\n",
            " |-- features[25]: float (nullable = true)\n",
            " |-- features[26]: float (nullable = true)\n",
            " |-- features[27]: float (nullable = true)\n",
            " |-- features[28]: float (nullable = true)\n",
            " |-- features[29]: float (nullable = true)\n",
            " |-- features[30]: float (nullable = true)\n",
            " |-- features[31]: float (nullable = true)\n",
            " |-- features[32]: float (nullable = true)\n",
            " |-- features[33]: float (nullable = true)\n",
            " |-- features[34]: float (nullable = true)\n",
            " |-- features[35]: float (nullable = true)\n",
            " |-- features[36]: float (nullable = true)\n",
            " |-- features[37]: float (nullable = true)\n",
            " |-- features[38]: float (nullable = true)\n",
            " |-- features[39]: float (nullable = true)\n",
            " |-- features[40]: float (nullable = true)\n",
            " |-- features[41]: float (nullable = true)\n",
            " |-- features[42]: float (nullable = true)\n",
            " |-- features[43]: float (nullable = true)\n",
            " |-- features[44]: float (nullable = true)\n",
            " |-- features[45]: float (nullable = true)\n",
            " |-- features[46]: float (nullable = true)\n",
            " |-- features[47]: float (nullable = true)\n",
            " |-- features[48]: float (nullable = true)\n",
            " |-- features[49]: float (nullable = true)\n",
            " |-- features[50]: float (nullable = true)\n",
            " |-- features[51]: float (nullable = true)\n",
            " |-- features[52]: float (nullable = true)\n",
            " |-- features[53]: float (nullable = true)\n",
            " |-- features[54]: float (nullable = true)\n",
            " |-- features[55]: float (nullable = true)\n",
            " |-- features[56]: float (nullable = true)\n",
            " |-- features[57]: float (nullable = true)\n",
            " |-- features[58]: float (nullable = true)\n",
            " |-- features[59]: float (nullable = true)\n",
            " |-- features[60]: float (nullable = true)\n",
            " |-- features[61]: float (nullable = true)\n",
            " |-- features[62]: float (nullable = true)\n",
            " |-- features[63]: float (nullable = true)\n",
            " |-- features[64]: float (nullable = true)\n",
            " |-- features[65]: float (nullable = true)\n",
            " |-- features[66]: float (nullable = true)\n",
            " |-- features[67]: float (nullable = true)\n",
            " |-- features[68]: float (nullable = true)\n",
            " |-- features[69]: float (nullable = true)\n",
            " |-- features[70]: float (nullable = true)\n",
            " |-- features[71]: float (nullable = true)\n",
            " |-- features[72]: float (nullable = true)\n",
            " |-- features[73]: float (nullable = true)\n",
            " |-- features[74]: float (nullable = true)\n",
            " |-- features[75]: float (nullable = true)\n",
            " |-- features[76]: float (nullable = true)\n",
            " |-- features[77]: float (nullable = true)\n",
            " |-- features[78]: float (nullable = true)\n",
            " |-- features[79]: float (nullable = true)\n",
            " |-- features[80]: float (nullable = true)\n",
            " |-- features[81]: float (nullable = true)\n",
            " |-- features[82]: float (nullable = true)\n",
            " |-- features[83]: float (nullable = true)\n",
            " |-- features[84]: float (nullable = true)\n",
            " |-- features[85]: float (nullable = true)\n",
            " |-- features[86]: float (nullable = true)\n",
            " |-- features[87]: float (nullable = true)\n",
            " |-- features[88]: float (nullable = true)\n",
            " |-- features[89]: float (nullable = true)\n",
            " |-- features[90]: float (nullable = true)\n",
            " |-- features[91]: float (nullable = true)\n",
            " |-- features[92]: float (nullable = true)\n",
            " |-- features[93]: float (nullable = true)\n",
            " |-- features[94]: float (nullable = true)\n",
            " |-- features[95]: float (nullable = true)\n",
            " |-- features[96]: float (nullable = true)\n",
            " |-- features[97]: float (nullable = true)\n",
            " |-- features[98]: float (nullable = true)\n",
            " |-- features[99]: float (nullable = true)\n",
            "\n"
          ]
        }
      ]
    },
    {
      "cell_type": "code",
      "source": [
        "network = nn.Sequential(\n",
        "    nn.Linear(100, 75),\n",
        "    nn.ReLU(),\n",
        "    nn.Linear(75, 50),\n",
        "    nn.ReLU(),\n",
        "    nn.Linear(50, 25),\n",
        "    nn.ReLU(),\n",
        "    nn.Linear(25, 2),\n",
        "    nn.Softmax(dim=1)\n",
        ")\n",
        "\n",
        "print(network)"
      ],
      "metadata": {
        "colab": {
          "base_uri": "https://localhost:8080/"
        },
        "id": "TU4GQrVp1V4G",
        "outputId": "91df8922-82dc-469b-ea5c-e7a6b534a4dd"
      },
      "execution_count": 41,
      "outputs": [
        {
          "output_type": "stream",
          "name": "stdout",
          "text": [
            "Sequential(\n",
            "  (0): Linear(in_features=100, out_features=75, bias=True)\n",
            "  (1): ReLU()\n",
            "  (2): Linear(in_features=75, out_features=50, bias=True)\n",
            "  (3): ReLU()\n",
            "  (4): Linear(in_features=50, out_features=25, bias=True)\n",
            "  (5): ReLU()\n",
            "  (6): Linear(in_features=25, out_features=2, bias=True)\n",
            "  (7): Softmax(dim=1)\n",
            ")\n"
          ]
        }
      ]
    },
    {
      "cell_type": "code",
      "source": [
        "# Build the pytorch object\n",
        "torch_obj = serialize_torch_obj(\n",
        "    model=network,\n",
        "    criterion=nn.CrossEntropyLoss(),\n",
        "    optimizer=torch.optim.Adam,\n",
        "    lr=0.0001\n",
        ")\n",
        "\n",
        "# Setup features\n",
        "vector_assembler = VectorAssembler(inputCols=train.columns[1:], outputCol='features') \\\n",
        "                          .setHandleInvalid(\"skip\")\n",
        "\n",
        "# Create a SparkTorch Model with torch distributed. Barrier execution is on by default for this mode.\n",
        "spark_model = SparkTorch(\n",
        "    inputCol='features',\n",
        "    labelCol='label',\n",
        "    predictionCol='predictions',\n",
        "    torchObj=torch_obj,\n",
        "    iters=2,\n",
        "    verbose=1\n",
        ")\n",
        "\n",
        "# Can be used in a pipeline and saved.\n",
        "predictions = Pipeline(stages=[vector_assembler, spark_model]).fit(train).transform(test)\n",
        "predictions.select(['label','predictions']).show(10)"
      ],
      "metadata": {
        "id": "YMHNm_XvQHky",
        "colab": {
          "base_uri": "https://localhost:8080/"
        },
        "outputId": "b3fb0ba6-5108-4cba-df6e-b5397d747f13"
      },
      "execution_count": 44,
      "outputs": [
        {
          "output_type": "stream",
          "name": "stdout",
          "text": [
            "+-----+-----------+\n",
            "|label|predictions|\n",
            "+-----+-----------+\n",
            "|  0.0|        1.0|\n",
            "|  0.0|        1.0|\n",
            "|  0.0|        1.0|\n",
            "|  0.0|        1.0|\n",
            "|  0.0|        1.0|\n",
            "|  0.0|        1.0|\n",
            "|  0.0|        1.0|\n",
            "|  0.0|        1.0|\n",
            "|  0.0|        1.0|\n",
            "|  0.0|        1.0|\n",
            "+-----+-----------+\n",
            "only showing top 10 rows\n",
            "\n"
          ]
        }
      ]
    },
    {
      "cell_type": "code",
      "source": [
        "y_pred = predictions.select('predictions').toPandas()\n",
        "y_true = test.select('label').toPandas()\n",
        "print(classification_report(y_true=y_true, y_pred=y_pred, zero_division=0))"
      ],
      "metadata": {
        "colab": {
          "base_uri": "https://localhost:8080/"
        },
        "id": "0vUBCymj9DDh",
        "outputId": "ce326a2f-ece2-43a3-b353-80ecfb929558"
      },
      "execution_count": 46,
      "outputs": [
        {
          "output_type": "stream",
          "name": "stdout",
          "text": [
            "              precision    recall  f1-score   support\n",
            "\n",
            "         0.0       0.00      0.00      0.00       977\n",
            "         1.0       0.35      1.00      0.51       515\n",
            "\n",
            "    accuracy                           0.35      1492\n",
            "   macro avg       0.17      0.50      0.26      1492\n",
            "weighted avg       0.12      0.35      0.18      1492\n",
            "\n"
          ]
        }
      ]
    }
  ]
}